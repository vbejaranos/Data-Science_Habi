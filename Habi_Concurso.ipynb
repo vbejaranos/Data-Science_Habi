{
  "nbformat": 4,
  "nbformat_minor": 0,
  "metadata": {
    "colab": {
      "name": "Habi_Concurso.ipynb",
      "provenance": [],
      "collapsed_sections": [
        "h1_pskSjQEhX",
        "TsQkUM00n-tH"
      ],
      "toc_visible": true,
      "include_colab_link": true
    },
    "kernelspec": {
      "display_name": "Python 3",
      "name": "python3"
    }
  },
  "cells": [
    {
      "cell_type": "markdown",
      "metadata": {
        "id": "view-in-github",
        "colab_type": "text"
      },
      "source": [
        "<a href=\"https://colab.research.google.com/github/vbejaranos/Data-Science_Habi/blob/main/Habi_Concurso.ipynb\" target=\"_parent\"><img src=\"https://colab.research.google.com/assets/colab-badge.svg\" alt=\"Open In Colab\"/></a>"
      ]
    },
    {
      "cell_type": "markdown",
      "metadata": {
        "id": "hfdawDZnGRUN"
      },
      "source": [
        "# **EL ALGORITMO ES CORRECTO**\n",
        "\n",
        "*Objetivo*:\n",
        "\n",
        "Teniendo como insumo las bases de datos entregadas por la empresa Habi, se quiere construir, modelar y predecir el precio de oferta (asking price) que Habi debe dar al inmueble que desea adquirir.\n",
        "\n",
        "***Integrantes***\n",
        "\n",
        "*Estadísticas Universidad Nacional de Colombia*\n",
        "- Sara Lucia Acosta, slacostap@unal.edu.co\n",
        "- Valeria Bejarano Salcedo, vbejaranos@unal.edu.co\n",
        "- Laura Camila Cruz, laccruzpa@unal.edu.co"
      ]
    },
    {
      "cell_type": "markdown",
      "metadata": {
        "id": "h1_pskSjQEhX"
      },
      "source": [
        "## Modulos y librerias\n",
        "\n",
        "\n"
      ]
    },
    {
      "cell_type": "code",
      "metadata": {
        "id": "IhfH_kRmSqaB"
      },
      "source": [
        "#!pip install geopandas\n",
        "#!pip install pyshp"
      ],
      "execution_count": null,
      "outputs": []
    },
    {
      "cell_type": "code",
      "metadata": {
        "id": "wU_5ln9bPylc"
      },
      "source": [
        "from IPython.core.interactiveshell import InteractiveShell\n",
        "InteractiveShell.ast_node_interactivity = \"last_expr\"\n",
        "# Trabajo con tablas y arreglos ==================================================================================#\n",
        "import pandas as pd\n",
        "import numpy as np\n",
        "from math import sqrt\n",
        "# Librerias para graficos ========================================================================================#\n",
        "import matplotlib as plt\n",
        "from matplotlib.pylab import rcParams\n",
        "import plotly.express as px\n",
        "import plotly.graph_objects as go\n",
        "import plotly.figure_factory as ff\n",
        "from plotly.subplots import make_subplots\n",
        "from scipy import stats\n",
        "def _color_red_or_green(val):\n",
        "    color = 'red' if np.abs(val) < 0.4 else 'green'\n",
        "    return 'color: %s' % color\n",
        "# Librerias para georeferencia ===================================================================================#\n",
        "#https://geopandas.org/docs/user_guide/set_operations.html\n",
        "#from shapely.geometry import Polygon\n",
        "#import shapefile\n",
        "#import fiona\n",
        "# Librerias para el modelamiento =================================================================================#\n",
        "import sklearn as skl\n",
        "from sklearn.linear_model import LinearRegression # Regresión lineal\n",
        "from sklearn.svm import SVR # Support Vector Regression\n",
        "from sklearn.neural_network import MLPRegressor # Redes Neuronales\n",
        "from sklearn.datasets import make_regression # Redes Neuronales\n",
        "from sklearn.impute import KNNImputer # Imputacion knn\n",
        "# Librerías para validación de modelos ===========================================================================#\n",
        "from sklearn.metrics import mean_squared_error\n",
        "from sklearn.model_selection import GridSearchCV\n",
        "def starMV(x): return 0.0001 if x<1 else x\n",
        "from sklearn.model_selection import cross_val_score\n",
        "#Guardar resultados ===============================================================================================# \n",
        "import joblib\n",
        "import os\n",
        "#from google.colab import files\n",
        "#uploaded = files.upload()"
      ],
      "execution_count": null,
      "outputs": []
    },
    {
      "cell_type": "markdown",
      "metadata": {
        "id": "V2ap2-mrke4K"
      },
      "source": [
        "## Conexión Google Drive con Colab \n",
        "\n",
        "Para una mejor gestión de los datos. Al correr el código es necesario entrar al link, dar los permisos que solicitan, copiar el código, pegar en la celda vacía y dar enter. Así solo es necesario compartir una carpeta de datos (shp)"
      ]
    },
    {
      "cell_type": "code",
      "metadata": {
        "id": "lCblwxF1ScB0",
        "colab": {
          "base_uri": "https://localhost:8080/"
        },
        "outputId": "539d76ca-b413-4a49-fa20-0450f74f50ef"
      },
      "source": [
        "from google.colab import drive\n",
        "drive.mount(\"/content/gdrive\")"
      ],
      "execution_count": null,
      "outputs": [
        {
          "output_type": "stream",
          "text": [
            "Mounted at /content/gdrive\n"
          ],
          "name": "stdout"
        }
      ]
    },
    {
      "cell_type": "markdown",
      "metadata": {
        "id": "o9wDFJ-6IxcV"
      },
      "source": [
        "# Completar la base de datos\n",
        "\n",
        "Sabemos que uno de los mejores insumos para el modelamiento son los datos de buena calidad, luego bajo la filosofia de *garbage in, garbage out* se realiza una recopilación y procesamiento de la información de otras [fuentes](https://mapas.bogota.gov.co/) que nos brindan otro tipo de información necesaria dentro de este negocio inmobiliario."
      ]
    },
    {
      "cell_type": "markdown",
      "metadata": {
        "id": "pImvq62CF-w8"
      },
      "source": [
        "## Datos de catastro\n",
        "\n",
        "Se obtuvieron las bases de datos correspondientes a [estrato](https://mapas.bogota.gov.co/?l=22935&e=-74.12749288197958,4.696505266929589,-73.96269796010482,4.789654789240459,4686&b=7256#) y [avaluo](https://mapas.bogota.gov.co/?l=10462&e=-74.15372037610308,4.633364461430024,-74.0713229151657,4.674812311999409,4686&b=7256#) de la base catastral de Bogotá, con ello se cruzan por medio de la libreria geopandas con la latitud y longitud de cada inmueble dadas por Habi."
      ]
    },
    {
      "cell_type": "code",
      "metadata": {
        "id": "MPMgt0ZJ9yxV"
      },
      "source": [
        "#import geopandas\n",
        "#data = pd.read_csv('/content/gdrive/MyDrive/shp/train_data.csv')\n",
        "#points = data[['id','latitud', 'longitud']]\n",
        "#catastro = geopandas.read_file('/content/gdrive/MyDrive/shp/Valor_Ref_M.shp')\n",
        "#catastroM = geopandas.read_file('/content/gdrive/MyDrive/shp/ManzanaEstratificacion.shp')"
      ],
      "execution_count": null,
      "outputs": []
    },
    {
      "cell_type": "code",
      "metadata": {
        "id": "z02xwEvS-obz"
      },
      "source": [
        "#catastro[['id2']]= catastro.index\n",
        "#catastroM[['id3']]= catastroM.index\n",
        "#gdf = geopandas.GeoDataFrame({ 'geometry':geopandas.points_from_xy(points.longitud, points.latitud), \n",
        "#                             'id': points.id})\n",
        "#catastro['ANO2'] = [i[0:4] for i in catastro.ANO]\n",
        "#catastro2 = catastro[catastro.ANO2 == '2020']\n",
        "#catastroM['FECHA_CAPT2'] = [i[0:4] for i in catastroM.FECHA_CAPT]\n",
        "#catastroM2 = catastroM[catastroM.FECHA_CAPT2 == '2017']\n",
        "#poly = geopandas.GeoDataFrame({'geometry':catastro2['geometry'],\n",
        "#                              'id2': catastro2.id2 })\n",
        "#poly2 = geopandas.GeoDataFrame({'geometry':catastroM2['geometry'],\n",
        "#                              'id3': catastroM2.id3 })"
      ],
      "execution_count": null,
      "outputs": []
    },
    {
      "cell_type": "code",
      "metadata": {
        "id": "a-5maLIN-j3H"
      },
      "source": [
        "#res_intersection = geopandas.overlay(gdf, poly, how='intersection')\n",
        "#res_intersection2 = geopandas.overlay(res_intersection, poly2, how='intersection')\n",
        "#res_intersection3 = res_intersection2[['id', 'id2', 'id3']]\n",
        "#join = res_intersection3.merge(catastro2, on='id2', how='left')\n",
        "#join = join.merge(catastroM2, on='id3', how='left')\n",
        "#exportar = data.merge(join, on ='id', how= 'left')\n",
        "#exportar.to_csv('/content/gdrive/MyDrive/shp/train_dataV02.csv')"
      ],
      "execution_count": null,
      "outputs": []
    },
    {
      "cell_type": "markdown",
      "metadata": {
        "id": "lPYlP_A8kj36"
      },
      "source": [
        "### Bases de datos completada por valor catastral\n",
        "Una vez se realiza la intersección con los multipoligonos dados por catastro se obtienen las bases V02, a continuación se realizan la imputación de valores faltantes."
      ]
    },
    {
      "cell_type": "code",
      "metadata": {
        "id": "Swj8MSIGB2A8"
      },
      "source": [
        "data_train = pd.read_csv('/content/gdrive/MyDrive/shp/train_dataV02.csv')\n",
        "data_test = pd.read_csv('/content/gdrive/MyDrive/shp/test_dataV02.csv')\n",
        "data_train[['tipo_data']]= \"train\"\n",
        "data_test[['tipo_data']] = \"test\"\n",
        "data_train = data_train.drop(['Unnamed: 0'],axis = 1)\n",
        "data_test = data_test.drop(['Unnamed: 0'],axis = 1)\n",
        "consol = data_train.append(data_test)"
      ],
      "execution_count": null,
      "outputs": []
    },
    {
      "cell_type": "code",
      "metadata": {
        "colab": {
          "base_uri": "https://localhost:8080/"
        },
        "id": "yN-USV9ODu-t",
        "outputId": "93237ab4-a58e-45bb-8c12-6aa29b1ad878"
      },
      "source": [
        "consol.columns"
      ],
      "execution_count": null,
      "outputs": [
        {
          "output_type": "execute_result",
          "data": {
            "text/plain": [
              "Index(['id', 'area', 'ascensor', 'balcon', 'banos', 'banoservicio',\n",
              "       'conjuntocerrado', 'cuartoservicio', 'deposito', 'estrato', 'estudio',\n",
              "       'garajes', 'gimnasio', 'habitaciones', 'halldealcobas',\n",
              "       'parqueaderovisitantes', 'piscina', 'piso', 'porteria', 'remodelado',\n",
              "       'saloncomunal', 'terraza', 'tiempodeconstruido', 'vigilancia', 'vista',\n",
              "       'zonalavanderia', 'valoradministracion', 'valorventa', 'tipoinmueble',\n",
              "       'tiponegocio', 'latitud', 'longitud', 'id2', 'id3', 'MANCODIGO',\n",
              "       'V_REF', 'ANO', 'SHAPE_AREA', 'SHAPE_LEN', 'geometry_x', 'ANO2',\n",
              "       'CODIGO_MAN', 'ESTRATO', 'CODIGO_ZON', 'CODIGO_CRI', 'NORMATIVA',\n",
              "       'ACTO_ADMIN', 'NUMERO_ACT', 'FECHA_ACTO', 'ESCALA_CAP', 'FECHA_CAPT',\n",
              "       'RESPONSABL', 'SHAPE_Leng', 'SHAPE_Area', 'geometry_y', 'FECHA_CAPT2',\n",
              "       'tipo_data'],\n",
              "      dtype='object')"
            ]
          },
          "metadata": {
            "tags": []
          },
          "execution_count": 7
        }
      ]
    },
    {
      "cell_type": "markdown",
      "metadata": {
        "id": "eDxe-dPskNJr"
      },
      "source": [
        "## Imputación de datos\n",
        "\n"
      ]
    },
    {
      "cell_type": "markdown",
      "metadata": {
        "id": "7S-cRlXdrP52"
      },
      "source": [
        "Se completan los valores faltantes mediante los siguientes criterios:\n",
        "1. Las siguientes variables que tienen valores faltantes se completan con 0, pues usualmente son los que el propietario tiene más en cuenta y si no se encuentran en la base, lo más seguro es que no se encuentren en el inmueble.\n",
        "- Baño de servicio\n",
        "- Ascensor\n",
        "- Balcon\n",
        "- Cuarto de servicio\n",
        "- Gimnasio\n",
        "- Piscina \n",
        "- Terraza \n",
        "- Remodelado\n",
        "2. Para las siguientes variables se usa imputación de datos via knn (k-nearest-neighbors) para k = 5, mediante las variables de latitud y longitud, es decir, solo por localización del inmueble, pues es bastante usual que las construcciones aledañas contengan la misma arquitectura como decía Juan Sebastian en la conferencia *Uso de la ciencia de datos en la resolución de problemas del sector real*.\n",
        "- Area\n",
        "- Baños \n",
        "- Estrato \n",
        "- Garajes \n",
        "- Habitaciones \n",
        "- Piso \n",
        "- Salon comunal \n",
        "- Vigilancia \n",
        "- Parqueadero visitantes\n",
        "- Valor administracion\n",
        "- V_REF\n",
        "3. Otras variables dummys, se condicionaron sobre el tipo de inmueble o conjunto para completar 0 o 1 o bien utilizar knn. Esto ya que variables como el pertenecer a un conjunto cerrado o ser un apartamento limita la aparición de estas variables.\n",
        "- Deposito: apto = 0, casa = 1\n",
        "- Estudio: apto = 0, casa = 1\n",
        "- Porteria: conjunto cerrado = 1, no cerrado = 0\n",
        "- Zona lavanderia: casas = 1,apto = knn\n",
        "- Hall de alcobas: habitaciones>1 = knn,habitaciones<=1 = 0"
      ]
    },
    {
      "cell_type": "markdown",
      "metadata": {
        "id": "km0M1IP-JF_e"
      },
      "source": [
        "### Completar faltantes"
      ]
    },
    {
      "cell_type": "code",
      "metadata": {
        "id": "AiZzbR50Ywfb"
      },
      "source": [
        "consol[['banoservicio', 'ascensor', 'balcon', 'cuartoservicio', 'gimnasio', 'piscina', 'terraza', 'remodelado']] = consol[['banoservicio', 'ascensor', 'balcon', 'cuartoservicio', 'gimnasio', 'piscina', 'terraza', 'remodelado']].fillna(0)"
      ],
      "execution_count": null,
      "outputs": []
    },
    {
      "cell_type": "code",
      "metadata": {
        "id": "6ZVWO4pVe1Yh"
      },
      "source": [
        "consol['tiponegocio'] = consol['tiponegocio'].str.lower()"
      ],
      "execution_count": null,
      "outputs": []
    },
    {
      "cell_type": "code",
      "metadata": {
        "id": "gQKOKPsrfCCB",
        "colab": {
          "base_uri": "https://localhost:8080/"
        },
        "outputId": "83a995de-e718-44f2-f866-a93c6956ca2d"
      },
      "source": [
        "consol['tiempodeconstruido'] = consol['tiempodeconstruido'].replace('ntre 0 y 5 años', 'Entre 0 y 5 años')\n",
        "consol['tiempodeconstruido'].unique()"
      ],
      "execution_count": null,
      "outputs": [
        {
          "output_type": "execute_result",
          "data": {
            "text/plain": [
              "array([nan, 'Entre 10 y 20 años', 'Entre 0 y 5 años', 'Entre 5 y 10 años',\n",
              "       'Más de 20 años', '1 a 8 años', '16 a 30 años', '9 a 15 años',\n",
              "       'Más de 30 años', 'Menos de 1 año', 'Remodelado'], dtype=object)"
            ]
          },
          "metadata": {
            "tags": []
          },
          "execution_count": 10
        }
      ]
    },
    {
      "cell_type": "code",
      "metadata": {
        "id": "_bRnG_mKZAot"
      },
      "source": [
        "apto = consol[consol.tipoinmueble=='Apartamento']\n",
        "casa = consol[consol.tipoinmueble=='Casa']"
      ],
      "execution_count": null,
      "outputs": []
    },
    {
      "cell_type": "code",
      "metadata": {
        "id": "yJ-XtpzmdXu7"
      },
      "source": [
        "apto[['deposito', 'estudio']] = apto[['deposito', 'estudio']].fillna(0)\n",
        "casa[['deposito', 'estudio']]= casa[['deposito', 'estudio']].fillna(1)\n",
        "casa[['zonalavanderia']]= casa[['zonalavanderia']].fillna(1)"
      ],
      "execution_count": null,
      "outputs": []
    },
    {
      "cell_type": "code",
      "metadata": {
        "id": "yHhslYv9d-lO"
      },
      "source": [
        "consol = apto.append(casa)"
      ],
      "execution_count": null,
      "outputs": []
    },
    {
      "cell_type": "code",
      "metadata": {
        "id": "HuMnlpEkeJOx"
      },
      "source": [
        "cerrado = consol[consol.conjuntocerrado==1]\n",
        "no_cerrado = consol[consol.conjuntocerrado==0]"
      ],
      "execution_count": null,
      "outputs": []
    },
    {
      "cell_type": "code",
      "metadata": {
        "id": "sBjeiOLaeUeH"
      },
      "source": [
        "cerrado['porteria'] = cerrado['porteria'].fillna(1)\n",
        "no_cerrado['porteria'] = no_cerrado['porteria'].fillna(0)\n",
        "cerrado['saloncomunal'] = cerrado['saloncomunal'].fillna(1)"
      ],
      "execution_count": null,
      "outputs": []
    },
    {
      "cell_type": "code",
      "metadata": {
        "id": "mdO2Be3VeizR"
      },
      "source": [
        "consol= cerrado.append(no_cerrado)"
      ],
      "execution_count": null,
      "outputs": []
    },
    {
      "cell_type": "code",
      "metadata": {
        "id": "ySyRcI-Zb_Ka"
      },
      "source": [
        "consol.loc[consol['valoradministracion']<10000, 'valoradministracion'] = float(\"NaN\")"
      ],
      "execution_count": null,
      "outputs": []
    },
    {
      "cell_type": "code",
      "metadata": {
        "id": "YpaGmzIVAVG4"
      },
      "source": [
        "train = consol[consol.tipo_data==\"train\"]\n",
        "test = consol[consol.tipo_data==\"test\"]"
      ],
      "execution_count": null,
      "outputs": []
    },
    {
      "cell_type": "code",
      "metadata": {
        "id": "bylQ0Vaef2tO"
      },
      "source": [
        "train.to_csv('/content/gdrive/MyDrive/shp/train_dataV03.csv')\n",
        "test.to_csv('/content/gdrive/MyDrive/shp/test_dataV03.csv')"
      ],
      "execution_count": null,
      "outputs": []
    },
    {
      "cell_type": "markdown",
      "metadata": {
        "id": "VPdCQLNDkURI"
      },
      "source": [
        "### Imputación via knn"
      ]
    },
    {
      "cell_type": "markdown",
      "metadata": {
        "id": "KBlbtxfoEAYC"
      },
      "source": [
        "Podemos ver la implementación de la metodología [aquí](https://medium.com/@kyawsawhtoon/a-guide-to-knn-imputation-95e2dc496e)"
      ]
    },
    {
      "cell_type": "code",
      "metadata": {
        "id": "MCsAbPkVXYfV"
      },
      "source": [
        "data_train = pd.read_csv('/content/gdrive/MyDrive/shp/train_dataV03.csv')\n",
        "data_test = pd.read_csv('/content/gdrive/MyDrive/shp/test_dataV03.csv')\n",
        "data_train = data_train.drop(['Unnamed: 0'],axis = 1)\n",
        "data_test = data_test.drop(['Unnamed: 0'],axis = 1)"
      ],
      "execution_count": null,
      "outputs": []
    },
    {
      "cell_type": "code",
      "metadata": {
        "id": "7VmKTSBZ8yHM"
      },
      "source": [
        "from sklearn.impute import KNNImputer\n",
        "imputer = KNNImputer(n_neighbors = 5)"
      ],
      "execution_count": null,
      "outputs": []
    },
    {
      "cell_type": "code",
      "metadata": {
        "id": "GlDjeE319wbd"
      },
      "source": [
        "consol1 = data_train.append(data_test)"
      ],
      "execution_count": null,
      "outputs": []
    },
    {
      "cell_type": "code",
      "metadata": {
        "id": "6flNuoVR_hdc"
      },
      "source": [
        "area = consol1.loc[:,['area','longitud','latitud']].values\n",
        "df_area = pd.DataFrame(imputer.fit_transform(area),columns = [[ 'area','longitud','latitud']])"
      ],
      "execution_count": null,
      "outputs": []
    },
    {
      "cell_type": "code",
      "metadata": {
        "id": "1Y9kr1vCDyPg"
      },
      "source": [
        "banos = consol1.loc[:,['banos','longitud','latitud']].values\n",
        "df_banos = pd.DataFrame(imputer.fit_transform(banos),columns = [[ 'banos','longitud','latitud']])\n",
        "df_banos.loc[:, ['banos']] = np.round(df_banos.loc[:, ['banos']] )"
      ],
      "execution_count": null,
      "outputs": []
    },
    {
      "cell_type": "code",
      "metadata": {
        "id": "vOMRJkj0EHgL"
      },
      "source": [
        "estrato = consol1.loc[:,['estrato','longitud','latitud']].values\n",
        "df_estrato = pd.DataFrame(imputer.fit_transform(estrato),columns = [[ 'estrato','longitud','latitud']])\n",
        "df_estrato.loc[:, ['estrato']] = np.round(df_estrato.loc[:, ['estrato']] )"
      ],
      "execution_count": null,
      "outputs": []
    },
    {
      "cell_type": "code",
      "metadata": {
        "id": "spp08WLtFaaD"
      },
      "source": [
        "garajes = consol1.loc[:,['garajes','longitud','latitud']].values\n",
        "df_garajes = pd.DataFrame(imputer.fit_transform(garajes),columns = [[ 'garajes','longitud','latitud']])\n",
        "df_garajes.loc[:, ['garajes']] = np.round(df_garajes.loc[:, ['garajes']] )"
      ],
      "execution_count": null,
      "outputs": []
    },
    {
      "cell_type": "code",
      "metadata": {
        "id": "75QV7n1uJOp7"
      },
      "source": [
        "piso = consol1.loc[:,['piso','longitud','latitud']].values\n",
        "df_piso = pd.DataFrame(imputer.fit_transform(piso),columns = [[ 'piso','longitud','latitud']])\n",
        "df_piso.loc[:, ['piso']] = np.round(df_piso.loc[:, ['piso']] )"
      ],
      "execution_count": null,
      "outputs": []
    },
    {
      "cell_type": "code",
      "metadata": {
        "id": "unsjdCTBN47S"
      },
      "source": [
        "habitaciones = consol1.loc[:,['habitaciones','longitud','latitud']].values\n",
        "df_habitaciones = pd.DataFrame(imputer.fit_transform(habitaciones),columns = [[ 'habitaciones','longitud','latitud']])\n",
        "df_habitaciones.loc[:, ['habitaciones']] = np.round(df_habitaciones.loc[:, ['habitaciones']] )"
      ],
      "execution_count": null,
      "outputs": []
    },
    {
      "cell_type": "code",
      "metadata": {
        "id": "wkJmO5YqOMQI"
      },
      "source": [
        "saloncomunal = consol1.loc[:,['saloncomunal','longitud','latitud']].values\n",
        "df_saloncomunal = pd.DataFrame(imputer.fit_transform(saloncomunal),columns = [[ 'saloncomunal','longitud','latitud']])\n",
        "df_saloncomunal.loc[:, ['saloncomunal']] = np.round(df_saloncomunal.loc[:, ['saloncomunal']] )"
      ],
      "execution_count": null,
      "outputs": []
    },
    {
      "cell_type": "code",
      "metadata": {
        "id": "VbL72DTKOiky"
      },
      "source": [
        "vigilancia = consol1.loc[:,['vigilancia','longitud','latitud']].values\n",
        "df_vigilancia = pd.DataFrame(imputer.fit_transform(vigilancia),columns = [[ 'vigilancia','longitud','latitud']])\n",
        "df_vigilancia.loc[:, ['vigilancia']] = np.round(df_vigilancia.loc[:, ['vigilancia']] )"
      ],
      "execution_count": null,
      "outputs": []
    },
    {
      "cell_type": "code",
      "metadata": {
        "id": "hABe-5heCm5g"
      },
      "source": [
        "zonalavanderia = consol1.loc[:,['zonalavanderia','longitud','latitud']].values\n",
        "df_zonalavanderia = pd.DataFrame(imputer.fit_transform(zonalavanderia),columns = [[ 'zonalavanderia','longitud','latitud']])\n",
        "df_zonalavanderia.loc[:, ['zonalavanderia']] = np.round(df_zonalavanderia.loc[:, ['zonalavanderia']] )"
      ],
      "execution_count": null,
      "outputs": []
    },
    {
      "cell_type": "code",
      "metadata": {
        "id": "C21GCmTfO-YA"
      },
      "source": [
        "habi_menor_1 = consol1.loc[consol1.loc[ : , 'habitaciones'] <= 1]\n",
        "habi_mayor_1 = consol1.loc[consol1.loc[ : , 'habitaciones']  > 1]"
      ],
      "execution_count": null,
      "outputs": []
    },
    {
      "cell_type": "code",
      "metadata": {
        "id": "_56zrILfPHtw"
      },
      "source": [
        "habi_menor_1[['halldealcobas']] = habi_menor_1[['halldealcobas']].fillna(0)\n",
        "consol1= habi_menor_1.append(habi_mayor_1)"
      ],
      "execution_count": null,
      "outputs": []
    },
    {
      "cell_type": "code",
      "metadata": {
        "id": "syUEWaFPL0wy"
      },
      "source": [
        "halldealcobas = consol1.loc[: , ['halldealcobas','longitud','latitud']].values\n",
        "df_halldealcobas = pd.DataFrame(imputer.fit_transform(halldealcobas),columns = [[ 'halldealcobas','longitud','latitud']])\n",
        "df_halldealcobas.loc[:, ['halldealcobas']] = np.round(df_halldealcobas.loc[:, ['halldealcobas']] )"
      ],
      "execution_count": null,
      "outputs": []
    },
    {
      "cell_type": "code",
      "metadata": {
        "id": "0igM1-rEExTI"
      },
      "source": [
        "parqueaderovisitantes = consol1.loc[: , ['parqueaderovisitantes','longitud','latitud']].values\n",
        "df_parqueaderovisitantes = pd.DataFrame(imputer.fit_transform(parqueaderovisitantes),columns = [[ 'parqueaderovisitantes','longitud','latitud']])\n",
        "df_parqueaderovisitantes.loc[:, ['parqueaderovisitantes']] = np.round(df_parqueaderovisitantes.loc[:, ['parqueaderovisitantes']] )"
      ],
      "execution_count": null,
      "outputs": []
    },
    {
      "cell_type": "code",
      "metadata": {
        "id": "A1soV764aOCW"
      },
      "source": [
        "valoradministracion = consol1.loc[: , ['valoradministracion','longitud','latitud']].values\n",
        "df_valoradministracion = pd.DataFrame(imputer.fit_transform(valoradministracion),columns = [[ 'valoradministracion','longitud','latitud']])\n",
        "df_valoradministracion.loc[:, ['valoradministracion']] = np.round(df_valoradministracion.loc[:, ['valoradministracion']] )"
      ],
      "execution_count": null,
      "outputs": []
    },
    {
      "cell_type": "code",
      "metadata": {
        "id": "c_4eUDv8xhfv"
      },
      "source": [
        "valorref = consol1.loc[: , ['V_REF','longitud','latitud']].values\n",
        "df_valorref = pd.DataFrame(imputer.fit_transform(valorref),columns = [[ 'V_REF','longitud','latitud']])\n",
        "df_valorref.loc[:, ['V_REF']] = np.round(df_valorref.loc[:, ['V_REF']] )"
      ],
      "execution_count": null,
      "outputs": []
    },
    {
      "cell_type": "code",
      "metadata": {
        "id": "kFEpI2trlbhZ",
        "colab": {
          "base_uri": "https://localhost:8080/"
        },
        "outputId": "88fc25af-a50e-4c1f-be2a-cf54438ac4f6"
      },
      "source": [
        "consol1['tiempodeconstruido'].unique()"
      ],
      "execution_count": null,
      "outputs": [
        {
          "output_type": "execute_result",
          "data": {
            "text/plain": [
              "array(['Entre 0 y 5 años', 'Entre 10 y 20 años', '1 a 8 años',\n",
              "       'Menos de 1 año', '16 a 30 años', '9 a 15 años',\n",
              "       'Entre 5 y 10 años', nan, 'Más de 30 años', 'Más de 20 años',\n",
              "       'Remodelado'], dtype=object)"
            ]
          },
          "metadata": {
            "tags": []
          },
          "execution_count": 101
        }
      ]
    },
    {
      "cell_type": "markdown",
      "metadata": {
        "id": "3bPELX9lrkou"
      },
      "source": [
        "Realizamos la siguiente codificación:\n",
        "* Menos de 1 año -- 1\n",
        "* Entre 0 y 5 años como --  2\n",
        "* Enre 1 - 8 años grupo -- 3\n",
        "* Entre 5 y 10 años -- 4\n",
        "* 9 a 15 años  -- 5\n",
        "* Entre 10 y 20 años -- 6\n",
        "* 16 a 30 años' -- 7\n",
        "* Más de 20 años -- 8\n",
        "* Más de 30 años  -- 9\n",
        "*Remodelado -- 10"
      ]
    },
    {
      "cell_type": "code",
      "metadata": {
        "id": "3AbR5Z3Nlerg",
        "colab": {
          "base_uri": "https://localhost:8080/"
        },
        "outputId": "ec4967fc-0f3b-4976-d166-10ddc6c77a0c"
      },
      "source": [
        "consol1['tiempodeconstruido'] = consol1['tiempodeconstruido'].replace( 'Menos de 1 año',1)\n",
        "consol1['tiempodeconstruido'] = consol1['tiempodeconstruido'].replace( 'Entre 0 y 5 años',2)\n",
        "consol1['tiempodeconstruido'] = consol1['tiempodeconstruido'].replace( '1 a 8 años',3)\n",
        "consol1['tiempodeconstruido'] = consol1['tiempodeconstruido'].replace( 'Entre 5 y 10 años',4)\n",
        "consol1['tiempodeconstruido'] = consol1['tiempodeconstruido'].replace( '9 a 15 años',5)\n",
        "consol1['tiempodeconstruido'] = consol1['tiempodeconstruido'].replace( 'Entre 10 y 20 años',6)\n",
        "consol1['tiempodeconstruido'] = consol1['tiempodeconstruido'].replace( '16 a 30 años',7)\n",
        "consol1['tiempodeconstruido'] = consol1['tiempodeconstruido'].replace( 'Más de 20 años',8)\n",
        "consol1['tiempodeconstruido'] = consol1['tiempodeconstruido'].replace( 'Más de 30 años',9)\n",
        "consol1['tiempodeconstruido'] = consol1['tiempodeconstruido'].replace( 'Remodelado',10)\n",
        "\n",
        "consol1['tiempodeconstruido'].unique()"
      ],
      "execution_count": null,
      "outputs": [
        {
          "output_type": "execute_result",
          "data": {
            "text/plain": [
              "array([ 2.,  6.,  3.,  1.,  7.,  5.,  4., nan,  9.,  8., 10.])"
            ]
          },
          "metadata": {
            "tags": []
          },
          "execution_count": 102
        }
      ]
    },
    {
      "cell_type": "markdown",
      "metadata": {
        "id": "3onlk45Cr-N3"
      },
      "source": [
        "Se cambio \n",
        "* Exterior -- 1\n",
        "* Interior -- 2"
      ]
    },
    {
      "cell_type": "code",
      "metadata": {
        "id": "bBPzCz_aslO-"
      },
      "source": [
        "consol1['vista'] = consol1['vista'].replace( 'Exterior',1)\n",
        "consol1['vista'] = consol1['vista'].replace( 'Interior',2)"
      ],
      "execution_count": null,
      "outputs": []
    },
    {
      "cell_type": "code",
      "metadata": {
        "id": "uHEc9WufljwP"
      },
      "source": [
        "tiempodeconstruido = consol1.loc[:,['tiempodeconstruido','longitud','latitud']].values\n",
        "df_tiempodeconstruido = pd.DataFrame(imputer.fit_transform(tiempodeconstruido),columns = [[ 'tiempodeconstruido','longitud','latitud']])\n",
        "df_tiempodeconstruido.loc[:, ['tiempodeconstruido']] = np.round(df_tiempodeconstruido.loc[:, ['tiempodeconstruido']] )"
      ],
      "execution_count": null,
      "outputs": []
    },
    {
      "cell_type": "code",
      "metadata": {
        "id": "7DYqB-0Ls5Zw"
      },
      "source": [
        "vista = consol1.loc[:,['vista','longitud','latitud']].values\n",
        "df_vista = pd.DataFrame(imputer.fit_transform(vista),columns = [[ 'vista','longitud','latitud']])\n",
        "df_vista.loc[:, ['vista']] = np.round(df_vista.loc[:, ['vista']] )"
      ],
      "execution_count": null,
      "outputs": []
    },
    {
      "cell_type": "code",
      "metadata": {
        "id": "VGi1oUt8Bm8v"
      },
      "source": [
        "consol1[['area']]       = df_area[['area']]\n",
        "consol1[['banos']]    = df_banos[['banos']]\n",
        "consol1[['estrato']]   = df_estrato[['estrato']]\n",
        "consol1[['garajes']]   = df_garajes[['garajes']]\n",
        "consol1[['habitaciones']] = df_habitaciones[['habitaciones']]\n",
        "consol1[['piso']] = df_piso[['piso']]\n",
        "consol1[['saloncomunal']] = df_saloncomunal[['saloncomunal']]\n",
        "consol1[['vigilancia']] = df_vigilancia[['vigilancia']]\n",
        "consol1[['zonalavanderia']] = df_zonalavanderia[['zonalavanderia']]\n",
        "consol1[['halldealcobas']] = df_halldealcobas[['halldealcobas']]\n",
        "consol1[['parqueaderovisitantes']] = df_parqueaderovisitantes[['parqueaderovisitantes']]\n",
        "consol1[['valoradministracion']] = df_valoradministracion[['valoradministracion']]\n",
        "consol1[['V_REF']] = df_valorref[['V_REF']]\n",
        "consol1[['tiempodeconstruido']] = df_tiempodeconstruido[['tiempodeconstruido']]\n",
        "consol1[['vista']] = df_vista[['vista']]"
      ],
      "execution_count": null,
      "outputs": []
    },
    {
      "cell_type": "code",
      "metadata": {
        "id": "crqF9uFtqDlz",
        "colab": {
          "base_uri": "https://localhost:8080/"
        },
        "outputId": "9be876f8-f28d-4adf-d0f3-560d0edcf90d"
      },
      "source": [
        "consol1['tiempodeconstruido'] = consol1['tiempodeconstruido'].replace(1, 'Menos de 1 año')\n",
        "consol1['tiempodeconstruido'] = consol1['tiempodeconstruido'].replace( 2,'Entre 0 y 5 años')\n",
        "consol1['tiempodeconstruido'] = consol1['tiempodeconstruido'].replace( 3,'1 a 8 años')\n",
        "consol1['tiempodeconstruido'] = consol1['tiempodeconstruido'].replace(4, 'Entre 5 y 10 años')\n",
        "consol1['tiempodeconstruido'] = consol1['tiempodeconstruido'].replace(5, '9 a 15 años')\n",
        "consol1['tiempodeconstruido'] = consol1['tiempodeconstruido'].replace(6, 'Entre 10 y 20 años')\n",
        "consol1['tiempodeconstruido'] = consol1['tiempodeconstruido'].replace( 7,'16 a 30 años')\n",
        "consol1['tiempodeconstruido'] = consol1['tiempodeconstruido'].replace(8, 'Más de 20 años')\n",
        "consol1['tiempodeconstruido'] = consol1['tiempodeconstruido'].replace( 9,'Más de 30 años')\n",
        "consol1['tiempodeconstruido'] = consol1['tiempodeconstruido'].replace(10, 'Remodelado')\n",
        "\n",
        "consol1['tiempodeconstruido'].unique()"
      ],
      "execution_count": null,
      "outputs": [
        {
          "output_type": "execute_result",
          "data": {
            "text/plain": [
              "array(['1 a 8 años', 'Entre 10 y 20 años', '16 a 30 años', '9 a 15 años',\n",
              "       'Menos de 1 año', 'Entre 0 y 5 años', 'Entre 5 y 10 años',\n",
              "       'Más de 20 años', 'Remodelado', 'Más de 30 años', nan],\n",
              "      dtype=object)"
            ]
          },
          "metadata": {
            "tags": []
          },
          "execution_count": 105
        }
      ]
    },
    {
      "cell_type": "code",
      "metadata": {
        "id": "AseJxMZEvVzn",
        "colab": {
          "base_uri": "https://localhost:8080/"
        },
        "outputId": "8a08b18b-f30a-443c-dabd-5f8e930e7600"
      },
      "source": [
        "consol1['vista'] = consol1['vista'].replace(1, 'Exterior')\n",
        "consol1['vista'] = consol1['vista'].replace( 2,'Interior')"
      ],
      "execution_count": null,
      "outputs": [
        {
          "output_type": "execute_result",
          "data": {
            "text/plain": [
              "id                         0\n",
              "area                       0\n",
              "ascensor                   0\n",
              "balcon                     0\n",
              "banos                      0\n",
              "banoservicio               0\n",
              "conjuntocerrado            0\n",
              "cuartoservicio             0\n",
              "deposito                   0\n",
              "estrato                    0\n",
              "estudio                    0\n",
              "garajes                    0\n",
              "gimnasio                   0\n",
              "habitaciones               0\n",
              "halldealcobas            704\n",
              "parqueaderovisitantes    704\n",
              "piscina                    0\n",
              "piso                       0\n",
              "porteria                   0\n",
              "remodelado                 0\n",
              "saloncomunal               0\n",
              "terraza                    0\n",
              "tiempodeconstruido       704\n",
              "vigilancia                 0\n",
              "vista                    704\n",
              "zonalavanderia             0\n",
              "valoradministracion      704\n",
              "valorventa                 0\n",
              "tipoinmueble               0\n",
              "tiponegocio              770\n",
              "latitud                    0\n",
              "longitud                   0\n",
              "V_REF                    704\n",
              "tipo_data                  0\n",
              "dtype: int64"
            ]
          },
          "metadata": {
            "tags": []
          },
          "execution_count": 108
        }
      ]
    },
    {
      "cell_type": "code",
      "metadata": {
        "id": "A7MnhgZzEfjJ"
      },
      "source": [
        "train1 = consol1[consol1.tipo_data==\"train\"]\n",
        "test1 = consol1[consol1.tipo_data==\"test\"]"
      ],
      "execution_count": null,
      "outputs": []
    },
    {
      "cell_type": "code",
      "metadata": {
        "id": "taFlCv5-E9b2"
      },
      "source": [
        "train1.to_csv('/content/gdrive/MyDrive/shp/train_dataV04.csv')\n",
        "test1.to_csv('/content/gdrive/MyDrive/shp/test_dataV04.csv')"
      ],
      "execution_count": null,
      "outputs": []
    },
    {
      "cell_type": "markdown",
      "metadata": {
        "id": "TsQkUM00n-tH"
      },
      "source": [
        "## Datos finales "
      ]
    },
    {
      "cell_type": "code",
      "metadata": {
        "id": "snRmmoMrEk-I"
      },
      "source": [
        "data_train = pd.read_csv('/content/gdrive/MyDrive/shp/train_dataV04.csv')\n",
        "data_test = pd.read_csv('/content/gdrive/MyDrive/shp/test_dataV04.csv')\n",
        "data_train = data_train.drop(['Unnamed: 0'],axis = 1)\n",
        "data_test = data_test.drop(['Unnamed: 0'],axis = 1)\n",
        "data_train[['tipo_data']]= \"train\"\n",
        "data_test[['tipo_data']] = \"test\"\n",
        "consolF = data_train.append(data_test)"
      ],
      "execution_count": null,
      "outputs": []
    },
    {
      "cell_type": "code",
      "metadata": {
        "colab": {
          "base_uri": "https://localhost:8080/",
          "height": 728
        },
        "id": "0pX0EhvkomY-",
        "outputId": "d8efada9-8fe3-4276-f94f-89a1921680b3"
      },
      "source": [
        "consolF[['y']] = consolF[['V_REF']] - consolF[['valorventa']]\n"
      ],
      "execution_count": null,
      "outputs": [
        {
          "output_type": "execute_result",
          "data": {
            "text/html": [
              "<div>\n",
              "<style scoped>\n",
              "    .dataframe tbody tr th:only-of-type {\n",
              "        vertical-align: middle;\n",
              "    }\n",
              "\n",
              "    .dataframe tbody tr th {\n",
              "        vertical-align: top;\n",
              "    }\n",
              "\n",
              "    .dataframe thead th {\n",
              "        text-align: right;\n",
              "    }\n",
              "</style>\n",
              "<table border=\"1\" class=\"dataframe\">\n",
              "  <thead>\n",
              "    <tr style=\"text-align: right;\">\n",
              "      <th></th>\n",
              "      <th>Unnamed: 0</th>\n",
              "      <th>Unnamed: 0.1</th>\n",
              "      <th>Unnamed: 0.1.1</th>\n",
              "      <th>Unnamed: 0.1.1.1</th>\n",
              "      <th>id</th>\n",
              "      <th>area</th>\n",
              "      <th>ascensor</th>\n",
              "      <th>balcon</th>\n",
              "      <th>banos</th>\n",
              "      <th>banoservicio</th>\n",
              "      <th>conjuntocerrado</th>\n",
              "      <th>cuartoservicio</th>\n",
              "      <th>deposito</th>\n",
              "      <th>estrato</th>\n",
              "      <th>estudio</th>\n",
              "      <th>garajes</th>\n",
              "      <th>gimnasio</th>\n",
              "      <th>habitaciones</th>\n",
              "      <th>halldealcobas</th>\n",
              "      <th>parqueaderovisitantes</th>\n",
              "      <th>piscina</th>\n",
              "      <th>piso</th>\n",
              "      <th>porteria</th>\n",
              "      <th>remodelado</th>\n",
              "      <th>saloncomunal</th>\n",
              "      <th>terraza</th>\n",
              "      <th>tiempodeconstruido</th>\n",
              "      <th>vigilancia</th>\n",
              "      <th>vista</th>\n",
              "      <th>zonalavanderia</th>\n",
              "      <th>valoradministracion</th>\n",
              "      <th>valorventa</th>\n",
              "      <th>tipoinmueble</th>\n",
              "      <th>tiponegocio</th>\n",
              "      <th>latitud</th>\n",
              "      <th>longitud</th>\n",
              "      <th>id2</th>\n",
              "      <th>MANCODIGO</th>\n",
              "      <th>V_REF</th>\n",
              "      <th>ANO</th>\n",
              "      <th>SHAPE_AREA</th>\n",
              "      <th>SHAPE_LEN</th>\n",
              "      <th>geometry</th>\n",
              "      <th>Ano2</th>\n",
              "      <th>tipo_data</th>\n",
              "    </tr>\n",
              "  </thead>\n",
              "  <tbody>\n",
              "    <tr>\n",
              "      <th>0</th>\n",
              "      <td>0</td>\n",
              "      <td>0</td>\n",
              "      <td>335</td>\n",
              "      <td>335</td>\n",
              "      <td>363085</td>\n",
              "      <td>795394273.2</td>\n",
              "      <td>0.0</td>\n",
              "      <td>0.0</td>\n",
              "      <td>1.0</td>\n",
              "      <td>0.0</td>\n",
              "      <td>1</td>\n",
              "      <td>0.0</td>\n",
              "      <td>0.0</td>\n",
              "      <td>2.0</td>\n",
              "      <td>0.0</td>\n",
              "      <td>0.6</td>\n",
              "      <td>0.0</td>\n",
              "      <td>2.0</td>\n",
              "      <td>0.0</td>\n",
              "      <td>1.0</td>\n",
              "      <td>0.0</td>\n",
              "      <td>5.0</td>\n",
              "      <td>1.0</td>\n",
              "      <td>0.0</td>\n",
              "      <td>1.0</td>\n",
              "      <td>0.0</td>\n",
              "      <td>Entre 0 y 5 años</td>\n",
              "      <td>1.0</td>\n",
              "      <td>NaN</td>\n",
              "      <td>1.0</td>\n",
              "      <td>55000.0</td>\n",
              "      <td>1.160000e+08</td>\n",
              "      <td>Apartamento</td>\n",
              "      <td>venta</td>\n",
              "      <td>4.651098</td>\n",
              "      <td>-74.168666</td>\n",
              "      <td>380234.0</td>\n",
              "      <td>6518014.0</td>\n",
              "      <td>1850000.0</td>\n",
              "      <td>2020-01-01</td>\n",
              "      <td>1.935570e-06</td>\n",
              "      <td>0.005504</td>\n",
              "      <td>POLYGON ((-74.168539409 4.650990077000017, -74...</td>\n",
              "      <td>2020.0</td>\n",
              "      <td>train</td>\n",
              "    </tr>\n",
              "    <tr>\n",
              "      <th>1</th>\n",
              "      <td>1</td>\n",
              "      <td>1</td>\n",
              "      <td>1387</td>\n",
              "      <td>1387</td>\n",
              "      <td>378687</td>\n",
              "      <td>0.0</td>\n",
              "      <td>1.0</td>\n",
              "      <td>0.0</td>\n",
              "      <td>0.0</td>\n",
              "      <td>0.0</td>\n",
              "      <td>1</td>\n",
              "      <td>1.0</td>\n",
              "      <td>0.0</td>\n",
              "      <td>6.0</td>\n",
              "      <td>1.0</td>\n",
              "      <td>0.0</td>\n",
              "      <td>0.0</td>\n",
              "      <td>4.0</td>\n",
              "      <td>0.0</td>\n",
              "      <td>1.0</td>\n",
              "      <td>0.0</td>\n",
              "      <td>1.0</td>\n",
              "      <td>1.0</td>\n",
              "      <td>0.0</td>\n",
              "      <td>1.0</td>\n",
              "      <td>0.0</td>\n",
              "      <td>Entre 10 y 20 años</td>\n",
              "      <td>1.0</td>\n",
              "      <td>Exterior</td>\n",
              "      <td>1.0</td>\n",
              "      <td>745200.0</td>\n",
              "      <td>1.590000e+09</td>\n",
              "      <td>Apartamento</td>\n",
              "      <td>venta</td>\n",
              "      <td>4.690135</td>\n",
              "      <td>-74.049683</td>\n",
              "      <td>NaN</td>\n",
              "      <td>NaN</td>\n",
              "      <td>NaN</td>\n",
              "      <td>NaN</td>\n",
              "      <td>NaN</td>\n",
              "      <td>NaN</td>\n",
              "      <td>NaN</td>\n",
              "      <td>NaN</td>\n",
              "      <td>train</td>\n",
              "    </tr>\n",
              "    <tr>\n",
              "      <th>2</th>\n",
              "      <td>2</td>\n",
              "      <td>2</td>\n",
              "      <td>1392</td>\n",
              "      <td>1392</td>\n",
              "      <td>213992</td>\n",
              "      <td>345.0</td>\n",
              "      <td>0.0</td>\n",
              "      <td>0.0</td>\n",
              "      <td>0.0</td>\n",
              "      <td>0.0</td>\n",
              "      <td>1</td>\n",
              "      <td>0.0</td>\n",
              "      <td>0.0</td>\n",
              "      <td>6.0</td>\n",
              "      <td>1.0</td>\n",
              "      <td>2.0</td>\n",
              "      <td>1.0</td>\n",
              "      <td>3.0</td>\n",
              "      <td>1.0</td>\n",
              "      <td>1.0</td>\n",
              "      <td>0.0</td>\n",
              "      <td>4.0</td>\n",
              "      <td>1.0</td>\n",
              "      <td>1.0</td>\n",
              "      <td>1.0</td>\n",
              "      <td>0.0</td>\n",
              "      <td>Entre 10 y 20 años</td>\n",
              "      <td>1.0</td>\n",
              "      <td>NaN</td>\n",
              "      <td>1.0</td>\n",
              "      <td>1187000.0</td>\n",
              "      <td>1.800000e+09</td>\n",
              "      <td>Apartamento</td>\n",
              "      <td>venta</td>\n",
              "      <td>4.697660</td>\n",
              "      <td>-74.052653</td>\n",
              "      <td>NaN</td>\n",
              "      <td>NaN</td>\n",
              "      <td>NaN</td>\n",
              "      <td>NaN</td>\n",
              "      <td>NaN</td>\n",
              "      <td>NaN</td>\n",
              "      <td>NaN</td>\n",
              "      <td>NaN</td>\n",
              "      <td>train</td>\n",
              "    </tr>\n",
              "    <tr>\n",
              "      <th>3</th>\n",
              "      <td>3</td>\n",
              "      <td>3</td>\n",
              "      <td>1401</td>\n",
              "      <td>1401</td>\n",
              "      <td>452566</td>\n",
              "      <td>80.0</td>\n",
              "      <td>0.0</td>\n",
              "      <td>0.0</td>\n",
              "      <td>0.0</td>\n",
              "      <td>0.0</td>\n",
              "      <td>1</td>\n",
              "      <td>0.0</td>\n",
              "      <td>0.0</td>\n",
              "      <td>4.0</td>\n",
              "      <td>1.0</td>\n",
              "      <td>1.0</td>\n",
              "      <td>0.0</td>\n",
              "      <td>3.0</td>\n",
              "      <td>0.0</td>\n",
              "      <td>1.0</td>\n",
              "      <td>0.0</td>\n",
              "      <td>4.0</td>\n",
              "      <td>1.0</td>\n",
              "      <td>0.0</td>\n",
              "      <td>1.0</td>\n",
              "      <td>0.0</td>\n",
              "      <td>Entre 0 y 5 años</td>\n",
              "      <td>1.0</td>\n",
              "      <td>NaN</td>\n",
              "      <td>1.0</td>\n",
              "      <td>190000.0</td>\n",
              "      <td>3.400000e+08</td>\n",
              "      <td>Apartamento</td>\n",
              "      <td>venta</td>\n",
              "      <td>4.731135</td>\n",
              "      <td>-74.054373</td>\n",
              "      <td>352340.0</td>\n",
              "      <td>9104021.0</td>\n",
              "      <td>2900000.0</td>\n",
              "      <td>2020-01-01</td>\n",
              "      <td>3.127788e-06</td>\n",
              "      <td>0.013924</td>\n",
              "      <td>POLYGON ((-74.05485601800001 4.731215995000014...</td>\n",
              "      <td>2020.0</td>\n",
              "      <td>train</td>\n",
              "    </tr>\n",
              "    <tr>\n",
              "      <th>4</th>\n",
              "      <td>4</td>\n",
              "      <td>4</td>\n",
              "      <td>1477</td>\n",
              "      <td>1477</td>\n",
              "      <td>676220</td>\n",
              "      <td>87.0</td>\n",
              "      <td>0.0</td>\n",
              "      <td>0.0</td>\n",
              "      <td>0.0</td>\n",
              "      <td>0.0</td>\n",
              "      <td>1</td>\n",
              "      <td>0.0</td>\n",
              "      <td>0.0</td>\n",
              "      <td>4.0</td>\n",
              "      <td>1.0</td>\n",
              "      <td>1.0</td>\n",
              "      <td>1.0</td>\n",
              "      <td>0.0</td>\n",
              "      <td>0.0</td>\n",
              "      <td>1.0</td>\n",
              "      <td>1.0</td>\n",
              "      <td>9.0</td>\n",
              "      <td>1.0</td>\n",
              "      <td>0.0</td>\n",
              "      <td>1.0</td>\n",
              "      <td>0.0</td>\n",
              "      <td>1 a 8 años</td>\n",
              "      <td>1.0</td>\n",
              "      <td>NaN</td>\n",
              "      <td>1.0</td>\n",
              "      <td>200000.0</td>\n",
              "      <td>4.200000e+08</td>\n",
              "      <td>Apartamento</td>\n",
              "      <td>venta</td>\n",
              "      <td>4.642000</td>\n",
              "      <td>-74.113998</td>\n",
              "      <td>394636.0</td>\n",
              "      <td>6306002.0</td>\n",
              "      <td>2000000.0</td>\n",
              "      <td>2020-01-01</td>\n",
              "      <td>8.635009e-06</td>\n",
              "      <td>0.015905</td>\n",
              "      <td>POLYGON ((-74.11382247699999 4.643146832000014...</td>\n",
              "      <td>2020.0</td>\n",
              "      <td>train</td>\n",
              "    </tr>\n",
              "    <tr>\n",
              "      <th>...</th>\n",
              "      <td>...</td>\n",
              "      <td>...</td>\n",
              "      <td>...</td>\n",
              "      <td>...</td>\n",
              "      <td>...</td>\n",
              "      <td>...</td>\n",
              "      <td>...</td>\n",
              "      <td>...</td>\n",
              "      <td>...</td>\n",
              "      <td>...</td>\n",
              "      <td>...</td>\n",
              "      <td>...</td>\n",
              "      <td>...</td>\n",
              "      <td>...</td>\n",
              "      <td>...</td>\n",
              "      <td>...</td>\n",
              "      <td>...</td>\n",
              "      <td>...</td>\n",
              "      <td>...</td>\n",
              "      <td>...</td>\n",
              "      <td>...</td>\n",
              "      <td>...</td>\n",
              "      <td>...</td>\n",
              "      <td>...</td>\n",
              "      <td>...</td>\n",
              "      <td>...</td>\n",
              "      <td>...</td>\n",
              "      <td>...</td>\n",
              "      <td>...</td>\n",
              "      <td>...</td>\n",
              "      <td>...</td>\n",
              "      <td>...</td>\n",
              "      <td>...</td>\n",
              "      <td>...</td>\n",
              "      <td>...</td>\n",
              "      <td>...</td>\n",
              "      <td>...</td>\n",
              "      <td>...</td>\n",
              "      <td>...</td>\n",
              "      <td>...</td>\n",
              "      <td>...</td>\n",
              "      <td>...</td>\n",
              "      <td>...</td>\n",
              "      <td>...</td>\n",
              "      <td>...</td>\n",
              "    </tr>\n",
              "    <tr>\n",
              "      <th>48</th>\n",
              "      <td>48</td>\n",
              "      <td>48</td>\n",
              "      <td>48</td>\n",
              "      <td>48</td>\n",
              "      <td>726088</td>\n",
              "      <td>48.0</td>\n",
              "      <td>0.0</td>\n",
              "      <td>0.0</td>\n",
              "      <td>2.0</td>\n",
              "      <td>0.0</td>\n",
              "      <td>0</td>\n",
              "      <td>1.0</td>\n",
              "      <td>1.0</td>\n",
              "      <td>3.0</td>\n",
              "      <td>1.0</td>\n",
              "      <td>1.0</td>\n",
              "      <td>0.0</td>\n",
              "      <td>2.0</td>\n",
              "      <td>0.0</td>\n",
              "      <td>1.0</td>\n",
              "      <td>0.0</td>\n",
              "      <td>1.0</td>\n",
              "      <td>0.0</td>\n",
              "      <td>0.0</td>\n",
              "      <td>1.0</td>\n",
              "      <td>0.0</td>\n",
              "      <td>Más de 20 años</td>\n",
              "      <td>1.0</td>\n",
              "      <td>NaN</td>\n",
              "      <td>1.0</td>\n",
              "      <td>222287100.0</td>\n",
              "      <td>7.990000e+08</td>\n",
              "      <td>Casa</td>\n",
              "      <td>venta</td>\n",
              "      <td>4.737032</td>\n",
              "      <td>-74.038290</td>\n",
              "      <td>NaN</td>\n",
              "      <td>NaN</td>\n",
              "      <td>NaN</td>\n",
              "      <td>NaN</td>\n",
              "      <td>NaN</td>\n",
              "      <td>NaN</td>\n",
              "      <td>NaN</td>\n",
              "      <td>NaN</td>\n",
              "      <td>test</td>\n",
              "    </tr>\n",
              "    <tr>\n",
              "      <th>49</th>\n",
              "      <td>49</td>\n",
              "      <td>49</td>\n",
              "      <td>49</td>\n",
              "      <td>49</td>\n",
              "      <td>752156</td>\n",
              "      <td>65.0</td>\n",
              "      <td>0.0</td>\n",
              "      <td>0.0</td>\n",
              "      <td>2.0</td>\n",
              "      <td>0.0</td>\n",
              "      <td>0</td>\n",
              "      <td>1.0</td>\n",
              "      <td>1.0</td>\n",
              "      <td>3.0</td>\n",
              "      <td>1.0</td>\n",
              "      <td>1.0</td>\n",
              "      <td>0.0</td>\n",
              "      <td>3.0</td>\n",
              "      <td>0.0</td>\n",
              "      <td>1.0</td>\n",
              "      <td>0.0</td>\n",
              "      <td>12.0</td>\n",
              "      <td>0.0</td>\n",
              "      <td>0.0</td>\n",
              "      <td>1.0</td>\n",
              "      <td>0.0</td>\n",
              "      <td>Más de 20 años</td>\n",
              "      <td>1.0</td>\n",
              "      <td>NaN</td>\n",
              "      <td>1.0</td>\n",
              "      <td>150000.0</td>\n",
              "      <td>7.490000e+08</td>\n",
              "      <td>Casa</td>\n",
              "      <td>venta</td>\n",
              "      <td>4.735844</td>\n",
              "      <td>-74.038440</td>\n",
              "      <td>355194.0</td>\n",
              "      <td>8517015.0</td>\n",
              "      <td>2900000.0</td>\n",
              "      <td>2020-01-01</td>\n",
              "      <td>1.910642e-06</td>\n",
              "      <td>0.005839</td>\n",
              "      <td>POLYGON ((-74.03668588800002 4.735051208000016...</td>\n",
              "      <td>2020.0</td>\n",
              "      <td>test</td>\n",
              "    </tr>\n",
              "    <tr>\n",
              "      <th>50</th>\n",
              "      <td>50</td>\n",
              "      <td>50</td>\n",
              "      <td>50</td>\n",
              "      <td>50</td>\n",
              "      <td>1055205</td>\n",
              "      <td>63.0</td>\n",
              "      <td>0.0</td>\n",
              "      <td>0.0</td>\n",
              "      <td>2.0</td>\n",
              "      <td>0.0</td>\n",
              "      <td>0</td>\n",
              "      <td>1.0</td>\n",
              "      <td>1.0</td>\n",
              "      <td>3.0</td>\n",
              "      <td>1.0</td>\n",
              "      <td>1.0</td>\n",
              "      <td>0.0</td>\n",
              "      <td>3.0</td>\n",
              "      <td>0.0</td>\n",
              "      <td>1.0</td>\n",
              "      <td>0.0</td>\n",
              "      <td>2.0</td>\n",
              "      <td>0.0</td>\n",
              "      <td>0.0</td>\n",
              "      <td>1.0</td>\n",
              "      <td>0.0</td>\n",
              "      <td>Más de 20 años</td>\n",
              "      <td>1.0</td>\n",
              "      <td>NaN</td>\n",
              "      <td>1.0</td>\n",
              "      <td>118000.0</td>\n",
              "      <td>7.490000e+08</td>\n",
              "      <td>Casa</td>\n",
              "      <td>venta</td>\n",
              "      <td>4.736058</td>\n",
              "      <td>-74.040634</td>\n",
              "      <td>390616.0</td>\n",
              "      <td>8519050.0</td>\n",
              "      <td>2400000.0</td>\n",
              "      <td>2020-01-01</td>\n",
              "      <td>5.794660e-07</td>\n",
              "      <td>0.003272</td>\n",
              "      <td>POLYGON ((-74.04008913899997 4.735252899999978...</td>\n",
              "      <td>2020.0</td>\n",
              "      <td>test</td>\n",
              "    </tr>\n",
              "    <tr>\n",
              "      <th>51</th>\n",
              "      <td>51</td>\n",
              "      <td>51</td>\n",
              "      <td>51</td>\n",
              "      <td>51</td>\n",
              "      <td>1289402</td>\n",
              "      <td>53.0</td>\n",
              "      <td>0.0</td>\n",
              "      <td>0.0</td>\n",
              "      <td>2.0</td>\n",
              "      <td>0.0</td>\n",
              "      <td>0</td>\n",
              "      <td>1.0</td>\n",
              "      <td>1.0</td>\n",
              "      <td>2.0</td>\n",
              "      <td>1.0</td>\n",
              "      <td>1.0</td>\n",
              "      <td>0.0</td>\n",
              "      <td>3.0</td>\n",
              "      <td>0.0</td>\n",
              "      <td>1.0</td>\n",
              "      <td>0.0</td>\n",
              "      <td>12.0</td>\n",
              "      <td>0.0</td>\n",
              "      <td>0.0</td>\n",
              "      <td>1.0</td>\n",
              "      <td>0.0</td>\n",
              "      <td>Más de 20 años</td>\n",
              "      <td>1.0</td>\n",
              "      <td>NaN</td>\n",
              "      <td>1.0</td>\n",
              "      <td>70000.0</td>\n",
              "      <td>6.990000e+08</td>\n",
              "      <td>Casa</td>\n",
              "      <td>venta</td>\n",
              "      <td>4.737620</td>\n",
              "      <td>-74.040190</td>\n",
              "      <td>349138.0</td>\n",
              "      <td>8519048.0</td>\n",
              "      <td>2400000.0</td>\n",
              "      <td>2020-01-01</td>\n",
              "      <td>3.883588e-07</td>\n",
              "      <td>0.002686</td>\n",
              "      <td>POLYGON ((-74.03964318099997 4.737262713999996...</td>\n",
              "      <td>2020.0</td>\n",
              "      <td>test</td>\n",
              "    </tr>\n",
              "    <tr>\n",
              "      <th>52</th>\n",
              "      <td>52</td>\n",
              "      <td>52</td>\n",
              "      <td>52</td>\n",
              "      <td>52</td>\n",
              "      <td>372796</td>\n",
              "      <td>54.0</td>\n",
              "      <td>0.0</td>\n",
              "      <td>0.0</td>\n",
              "      <td>2.0</td>\n",
              "      <td>0.0</td>\n",
              "      <td>0</td>\n",
              "      <td>1.0</td>\n",
              "      <td>1.0</td>\n",
              "      <td>2.0</td>\n",
              "      <td>1.0</td>\n",
              "      <td>0.2</td>\n",
              "      <td>0.0</td>\n",
              "      <td>3.0</td>\n",
              "      <td>0.0</td>\n",
              "      <td>1.0</td>\n",
              "      <td>0.0</td>\n",
              "      <td>4.0</td>\n",
              "      <td>0.0</td>\n",
              "      <td>0.0</td>\n",
              "      <td>1.0</td>\n",
              "      <td>1.0</td>\n",
              "      <td>Entre 10 y 20 años</td>\n",
              "      <td>1.0</td>\n",
              "      <td>Exterior</td>\n",
              "      <td>1.0</td>\n",
              "      <td>67000.0</td>\n",
              "      <td>9.300000e+08</td>\n",
              "      <td>Casa</td>\n",
              "      <td>venta</td>\n",
              "      <td>4.702654</td>\n",
              "      <td>-74.058466</td>\n",
              "      <td>355349.0</td>\n",
              "      <td>9111033.0</td>\n",
              "      <td>2500000.0</td>\n",
              "      <td>2020-01-01</td>\n",
              "      <td>5.965419e-07</td>\n",
              "      <td>0.003821</td>\n",
              "      <td>POLYGON ((-74.057449314 4.702284960999975, -74...</td>\n",
              "      <td>2020.0</td>\n",
              "      <td>test</td>\n",
              "    </tr>\n",
              "  </tbody>\n",
              "</table>\n",
              "<p>244543 rows × 45 columns</p>\n",
              "</div>"
            ],
            "text/plain": [
              "    Unnamed: 0  Unnamed: 0.1  ...    Ano2  tipo_data\n",
              "0            0             0  ...  2020.0      train\n",
              "1            1             1  ...     NaN      train\n",
              "2            2             2  ...     NaN      train\n",
              "3            3             3  ...  2020.0      train\n",
              "4            4             4  ...  2020.0      train\n",
              "..         ...           ...  ...     ...        ...\n",
              "48          48            48  ...     NaN       test\n",
              "49          49            49  ...  2020.0       test\n",
              "50          50            50  ...  2020.0       test\n",
              "51          51            51  ...  2020.0       test\n",
              "52          52            52  ...  2020.0       test\n",
              "\n",
              "[244543 rows x 45 columns]"
            ]
          },
          "metadata": {
            "tags": []
          },
          "execution_count": 14
        }
      ]
    },
    {
      "cell_type": "markdown",
      "metadata": {
        "id": "PyVBXLdiKE3y"
      },
      "source": [
        "# Estadísticas descriptivas"
      ]
    },
    {
      "cell_type": "markdown",
      "metadata": {
        "id": "wM_aNq0gkZEP"
      },
      "source": [
        "## Correlaciones lineales entre las variables"
      ]
    },
    {
      "cell_type": "code",
      "metadata": {
        "id": "Vflil8YV2Dn8"
      },
      "source": [
        "# Gráfica interactiva de las diferentes variables en la tabla data\n",
        "df = consolF\n",
        "fig = go.Figure()\n",
        "fig.add_trace(go.Scatter(x = df.id,y = df[df.columns[0]],visible = True))\n",
        "updatemenu = []\n",
        "buttons = []\n",
        "for col in df.columns:\n",
        "    buttons.append(dict(method = 'restyle',label = col,visible = True, \n",
        "                        args = [{'y':[df[col]],'x':[df.id],'type':'scatter'}, [0]],))\n",
        "updatemenu = []\n",
        "your_menu = dict()\n",
        "updatemenu.append(your_menu)\n",
        "updatemenu[0]['buttons'] = buttons\n",
        "updatemenu[0]['direction'] = 'down'\n",
        "updatemenu[0]['x'] = 0.7\n",
        "updatemenu[0]['y'] = 1.15\n",
        "updatemenu[0]['showactive'] = True\n",
        "fig.update_layout(showlegend = False,updatemenus = updatemenu)\n",
        "fig.update_layout(yaxis = dict(showexponent = 'all',exponentformat = 'e'))\n",
        "fig.update_layout(xaxis_title = '', yaxis_title = '',template = 'plotly_white')\n",
        "fig.show()"
      ],
      "execution_count": null,
      "outputs": []
    },
    {
      "cell_type": "markdown",
      "metadata": {
        "id": "2reWRxjT2ICK"
      },
      "source": [
        ""
      ]
    },
    {
      "cell_type": "code",
      "metadata": {
        "id": "lEXeOF4q2IiI"
      },
      "source": [
        "#Calcular correlación entre variables\n",
        "df = data_train[data_train.id != data_test.id]\n",
        "correlation_Pearson = df.corr(method='pearson')\n",
        "i = np.argsort(correlation_Pearson.iloc[0,:]).values\n",
        "correlation_Pearson = df.iloc[:,i].corr(method='pearson')\n",
        "correlation_Kendall = df.iloc[:,i].corr(method='kendall')\n",
        "correlation_Spearman = df.iloc[:,i].corr(method='spearman')"
      ],
      "execution_count": null,
      "outputs": []
    },
    {
      "cell_type": "code",
      "metadata": {
        "id": "LT-kYY4m2OvN"
      },
      "source": [
        "fig = go.Figure()\n",
        "fig.add_trace(go.Heatmap(z=correlation_Pearson.values,\n",
        "                         x=np.arange(0,correlation_Pearson.shape[0]),\n",
        "                         y=correlation_Pearson.columns,hoverongaps = False))\n",
        "updatemenu = []\n",
        "buttons = []\n",
        "buttons.append(dict(method = 'restyle',label = \"Correlación de pearson\",visible = True, \n",
        "                        args = [{'z':[correlation_Pearson.values],\n",
        "                                 'x':[np.arange(0,correlation_Pearson.shape[0])],\n",
        "                                 'y':[correlation_Pearson.columns],\n",
        "                                 'type':'heatmap'}, [0]],))\n",
        "buttons.append(dict(method = 'restyle',label = \"Correlación de kendall\",visible = True, \n",
        "                        args = [{'z':[correlation_Kendall.values],\n",
        "                                 'x':[np.arange(0,correlation_Kendall.shape[0])],\n",
        "                                 'y':[correlation_Kendall.columns],\n",
        "                                 'type':'heatmap'}, [0]],))\n",
        "buttons.append(dict(method = 'restyle',label = \"Correlación de spearman\",visible = True, \n",
        "                        args = [{'z':[correlation_Spearman.values],\n",
        "                                 'x':[np.arange(0,correlation_Spearman.shape[0])],\n",
        "                                 'y':[correlation_Spearman.columns],\n",
        "                                 'type':'heatmap'}, [0]],))\n",
        "updatemenu = []\n",
        "your_menu = dict()\n",
        "updatemenu.append(your_menu)\n",
        "updatemenu[0]['buttons'] = buttons\n",
        "updatemenu[0]['direction'] = 'down'\n",
        "updatemenu[0]['x'] = 0.7\n",
        "updatemenu[0]['y'] = 1.15\n",
        "updatemenu[0]['showactive'] = True\n",
        "fig.update_xaxes(side=\"top\")\n",
        "fig.update_layout(\n",
        "    showlegend = False,\n",
        "    height=500,width = 1000,\n",
        "    updatemenus = updatemenu,\n",
        "    xaxis = dict(\n",
        "        tickmode = 'array',\n",
        "        tickvals = np.arange(0,correlation_Pearson.shape[0]),\n",
        "        ticktext = np.arange(0,correlation_Pearson.shape[0])[::-1]\n",
        "    ),\n",
        "    legend_orientation=\"h\"\n",
        ")\n",
        "fig.show()"
      ],
      "execution_count": null,
      "outputs": []
    },
    {
      "cell_type": "code",
      "metadata": {
        "id": "avz8q3mW2RX0"
      },
      "source": [
        "correlations_Tab = pd.DataFrame({'Pearson':correlation_Pearson['y'].values[::-1],\n",
        "                                'Kendall':correlation_Kendall['y'].values[::-1],\n",
        "                                'Spearman':correlation_Spearman['y'].values[::-1]})\n",
        "correlations_Tab.index = correlation_Pearson.index[::-1]\n",
        "# Tabla de resultados ordenados de acuerdo a la correlación de Pearson\n",
        "## Marcamos de color verde aquellas correlaciones mayores a 0.4\n",
        "correlations_Tab.style.applymap(_color_red_or_green)"
      ],
      "execution_count": null,
      "outputs": []
    },
    {
      "cell_type": "markdown",
      "metadata": {
        "id": "Sf3YxI6EKNQU"
      },
      "source": [
        "# Modelamiento"
      ]
    },
    {
      "cell_type": "markdown",
      "metadata": {
        "id": "NfogcRIv2Wcw"
      },
      "source": [
        "## Validación cruzada"
      ]
    },
    {
      "cell_type": "markdown",
      "metadata": {
        "id": "G4Wv_okj4Ylr"
      },
      "source": [
        "El método de validación cruzada es usado para seleccionar el modelo que mejor se ajuste a los datos. Consiste en dividir los datos en $K$ conjuntos de entrenamiento y de prueba: los modelos propuestos serán ajustados a cada subconjunto de entrenamento y se evaluará su calidad de ajuste con el subconjunto de prueba, de acuerdo a una medida de error o función  de perdida se determina qué modelo se desempeña mejor.\n",
        "\n",
        "Nordhausen, K. (2014). An Introduction to Statistical Learning—with Applications in R by Gareth James, Daniela Witten, Trevor Hastie & Robert Tibshirani."
      ]
    },
    {
      "cell_type": "code",
      "metadata": {
        "id": "asp9sUjy2WsY"
      },
      "source": [
        "Ny = int(data_train.shape[0]) \n",
        "Nk = int(data_train.shape[0]/2)"
      ],
      "execution_count": null,
      "outputs": []
    },
    {
      "cell_type": "code",
      "metadata": {
        "id": "JVDn36qy2XUv"
      },
      "source": [
        "# Función para validaciones con parámetros: n (cantidad de datos),min_n (tamaños de lotes)\n",
        "def split(n,min_n = 3):\n",
        "     cc = min_n\n",
        "     min = 0\n",
        "     while cc != n:\n",
        "       idx = np.arange(0,cc, dtype=int)\n",
        "       if (not Rolling):idx = np.arange(min,cc, dtype=int)\n",
        "       if (cc == n):break\n",
        "       idy = np.arange(cc,cc + 1, dtype=int)\n",
        "       if (not Rolling):idy = np.arange(cc,n, dtype=int)\n",
        "       cc = cc + 1\n",
        "       min = min + 1\n",
        "       yield idx, idy\n",
        "for train, test in split(min_n = Nk,n = Ny):\n",
        "    print(\"%s %s\" % (train, test))"
      ],
      "execution_count": null,
      "outputs": []
    },
    {
      "cell_type": "markdown",
      "metadata": {
        "id": "ToQ3QyJM2goF"
      },
      "source": [
        "## Calibración hiperparámetros"
      ]
    },
    {
      "cell_type": "markdown",
      "metadata": {
        "id": "csyNKeIi431R"
      },
      "source": [
        "Los modelos que vamos a considerar son: Regresión lineal con penalización Lasso, regresor del árbol de decisión (Random Forest), máquina de vectores de soporte de regresión (SVR) y una red Neuronal MLP (Multi Layer Perceptron). Cada uno de ellos tiene hiperparámetros que deben ser encontrados, se usará el método de validación cruzada con ese fin.\n",
        "\n",
        "Para encontrar los hiperparametros óptimos de un modelo, se compara el modelo con diferentes valores de hiperparametros, es decir, se ajustan distintos modelos de la misma clase que serán comparados entre sí, teniendo como criterio la medida de perdida:  error absoluto medio porcentual (MAPE).\n",
        "\n",
        "El calculo funciona de la siguiente manera: se define una grilla de valores que podrian tomar los hiperparametros  y una particion de los datos en conjuntos entrenamiento-validación (definidos anteriormente en  kfold) que por ejemplo podria ser: $C_{train} = [3\\ 4\\ 5\\ 6\\ 7\\ 8\\ 9]$ y $C_{test} = [10\\ 11\\ 12\\ 13]$ .\n",
        "\n",
        "A continuación, con esta grilla de valores se ajusta el modelo para cada hiperparametro propuesto (modelos a comparar) con los datos en  $C_{train}$ para luego encontrar las predicciones de la variable respuesta $\\hat{Y}_{C_{test}}$ sobre el conjunto test y compararlas con las reales $Y_{C_{test}}$ mediante la medida de error. \n",
        "\n",
        "$$\\mathrm{MAPE}=\\frac{1}{|C_{test}|} \\sum_{i \\in C_{test}}\\left|\\frac{\\hat{Y}_{i}-Y_{i}}{Y_{i}}\\right|$$\n",
        "\n",
        "Esta busqueda se realiza mediante la funcion **GridSearchCV** que implementa un método de \"ajuste\" optimizando mediante la búsqueda de cuadrícula validada cruzada sobre una cuadrícula de parámetros dada.\n",
        "\n",
        "Para dar un poco de precisión al procedimiento y optimizarlo se realiza una búsqueda en dos faces. En la primera fase buscamos en el intervalo $[a,b]$ con saltos de mayor tamaño donde encontramos un valor optimo $j_1$, luego en la segunda fase se refina la busqueda al rededor del valor encontrado: en $[a,J_1 + mv*j_1]$."
      ]
    },
    {
      "cell_type": "code",
      "metadata": {
        "id": "Nlc-uPNQ7Lrn"
      },
      "source": [
        "score = "
      ],
      "execution_count": null,
      "outputs": []
    },
    {
      "cell_type": "markdown",
      "metadata": {
        "id": "FQmO3-2t3eNY"
      },
      "source": [
        "### Regresión Lasso"
      ]
    },
    {
      "cell_type": "markdown",
      "metadata": {
        "id": "foJOTItb7gvl"
      },
      "source": [
        "Se intenta penalizar la magnitud en valor absoluto de los **p** coeficientes del vector de parámetros, esta penalización se hace sobre la función de costo.\n",
        "$$Lasso(\\pmb{\\beta})=\\underbrace{\\frac{1}{n}\\sum_{i=1}^n(Y_i-\\pmb{X}_i\\pmb{\\beta})^2}_{MSE(\\beta)}+\\color{red}{\\alpha||\\pmb{\\beta}_i||_1}$$\n",
        "Lo que equivale a minimizar:\n",
        "$$Lasso(\\pmb{\\beta})=\\underbrace{\\frac{1}{n}\\sum_{i=1}^n(Y_i-\\pmb{X}_i\\pmb{\\beta})^2}_{MSE(\\beta)}+\\alpha\\sum_{i=1}^p|\\pmb{\\beta}_i|$$ \n",
        "\n",
        "$\\lambda$: coeficiente de penalidad. \n",
        "\n",
        "Si $\\lambda$ es lo suficiente elevado, algunos de los coeficientes pueden llegar a reducirse hasta exactamente 0. Si $\\lambda=0$ se obtiene la solución de minimos cuadrados.\n",
        "\n",
        "\n",
        "*La estimación de $\\hat{\\pmb{\\beta}}_{Lasso}$ no tiene una forma cerrada, para su estimación se requieren métodos númericos*"
      ]
    },
    {
      "cell_type": "code",
      "metadata": {
        "id": "09O_UCR03di8"
      },
      "source": [
        "model=skl.linear_model.Lasso(max_iter = 10000)\n",
        "# Creamos una lista con los parámetros y la grilla de valores a probar\n",
        "params = {'alpha': np.arange(start=0.0001, stop=1, step=0.01)}\n",
        "# coeficiente de penalidad (Lambda)\n",
        "kfold = split(min_n = Nk,n = Ny)\n",
        "grid = GridSearchCV(model, params, cv = kfold, scoring=score)\n",
        "grid.fit(data_base['X']['rescaled'], data_base['Y']['rescaled'][:,0])\n",
        "par_1 = grid.best_params_['alpha']\n",
        "params['alpha'] = np.arange(start = starMV(par_1 - 0.5), stop = par_1 + 0.5, step = 0.001)\n",
        "kfold = split(min_n = Nk,n = Ny)\n",
        "grid = GridSearchCV(model, params, cv=kfold, scoring=score)\n",
        "grid.fit(data_base['X']['rescaled'], data_base['Y']['rescaled'][:,0])\n",
        "grids['Lasso' + score] = grid.best_params_\n",
        "print (score, grid.best_params_)"
      ],
      "execution_count": null,
      "outputs": []
    },
    {
      "cell_type": "markdown",
      "metadata": {
        "id": "bZt4DCKD3h30"
      },
      "source": [
        "### Random Forest"
      ]
    },
    {
      "cell_type": "markdown",
      "metadata": {
        "id": "wf4DaNbK8K6W"
      },
      "source": [
        "Se puede ver en la [guia del usuario](https://scikit-learn.org/stable/modules/tree.html#tree) lo necesario para este modelo, a grandes rasgos se tiene que:\n",
        "\n",
        "Dados los vectores de entrenamiento $x_i \\in \\mathbb{R}^p, i=1,...,n$ y un vector $y \\in \\mathbb{R}^n$, un árbol de decisión divide el espacio de forma recursiva de manera que las muestras con valor similar en $y_i$ se agrupen.\n",
        "Los datos en el nodo $m$ representados por $Q$, para cada candidato $\\theta=(j,t_m)$ que consiste en una caracteristica $j$ y en un umbral $t_m$ que particiona los datos así:\n",
        "\n",
        "$$Q_{left}(\\theta) = {(x, y) | x_j <= t_m}\\\\Q_{right}(\\theta) = Q \\setminus Q_{left}(\\theta)$$\n",
        "\n",
        "La impureza en $m$ se calcula utilizando una función de impureza $H()$\n",
        "\n",
        "$$G(Q, \\theta) = \\frac{n_{left}}{N_m} H(Q_{left}(\\theta))\n",
        "+ \\frac{n_{right}}{N_m} H(Q_{right}(\\theta))$$\n",
        "\n",
        "Que pueden ser \n",
        "\n",
        "Error absoluto medio:\n",
        "$$median(y)_m = \\underset{i \\in N_m}{\\mathrm{median}}(y_i)$$\n",
        "$$H(X_m) = \\frac{1}{N_m} \\sum_{i \\in N_m} |y_i - median(y)_m|$$\n",
        "\n",
        "Seleccione los parámetros que minimizan la impureza.\n",
        "\n",
        "$$\\theta^* = \\operatorname{argmin}_\\theta  G(Q, \\theta)$$\n",
        "\n",
        "Itere para subconjuntos $Q_{left}(\\theta^*)$ y $Q_{right}(\\theta^*)$ hasta alcanzar la profundidad maxima permitida ($\\texttt{max}\\_\\texttt{depht}$)."
      ]
    },
    {
      "cell_type": "code",
      "metadata": {
        "id": "tE6A5DLt3mdQ"
      },
      "source": [
        "from sklearn.tree import DecisionTreeRegressor\n",
        "params = {'max_depth': np.round(np.arange(start=1, stop=5, step=1),0)} # La profundidad máxima del árbol\n",
        "model_DT = DecisionTreeRegressor(splitter= 'best',min_samples_leaf=2,random_state=7)\n",
        "for score in scoring:\n",
        "  kfold = split(min_n = Nk,n = Ny)\n",
        "  grid = GridSearchCV(model_DT, params, cv=kfold,  scoring=score)\n",
        "  grid.fit(data_base['X']['rescaled'], data_base['Y']['rescaled'][:,0])\n",
        "  grids['DecisionTree' + score] = grid.best_params_\n",
        "  print(score, grid.best_params_)"
      ],
      "execution_count": null,
      "outputs": []
    },
    {
      "cell_type": "markdown",
      "metadata": {
        "id": "mzfGKdCp6v49"
      },
      "source": [
        "### Support Vector Regression (SVR)"
      ]
    },
    {
      "cell_type": "markdown",
      "metadata": {
        "id": "Xgz73ayy7ulW"
      },
      "source": [
        "Podemos ir a la [guía de usuario](https://scikit-learn.org/stable/modules/svm.html#svm-regression) para detallar lo necesario del modelo, a grandes rasgos se tiene que:\n",
        "\n",
        "El problema dual es\n",
        "$$\\min_{\\alpha, \\alpha^*} \\frac{1}{2} (\\alpha - \\alpha^*)^T Q (\\alpha - \\alpha^*) + \\varepsilon \\mathbf{1}^T (\\alpha + \\alpha^*) - y^T (\\alpha - \\alpha^*)$$\n",
        "sujeto a $$\\mathbf{1}^T (\\alpha - \\alpha^*) = 0$$\n",
        "$$ 0 \\leq \\alpha_i, \\alpha_i^* \\leq C, i=1, ..., n$$\n",
        " \n",
        "donde $\\mathbf{1}$ es el vector de unos, $Q$ es una matriz semidefinida positiva $n$ por $n$, $Q_{ij}=K(x_i,x_j)=\\phi(x_i)^T\\phi(x_j)$ es el núcleo. Aquí los vectores de entrenamiento se mapean implícitamente en un espacio dimensional más alto por la función $\\phi$.\n",
        "\n",
        "La predicción es:\n",
        "$$\\sum_{i \\in SV}(\\alpha_i - \\alpha_i^*) K(x_i, x) + b$$\n",
        "\n",
        "Se puede acceder a estos parámetros a través de los atributos $\\texttt{dual}\\_\\texttt{coef}\\_$ que contiene la diferencia $\\alpha_i-\\alpha_i^*$, $\\texttt{support}\\_\\texttt{vectors}\\_$ que contiene los vectores de soporte y $\\texttt{intercept}\\_$ que contiene el término independiente $b$."
      ]
    },
    {
      "cell_type": "code",
      "metadata": {
        "id": "otFFmmXl2hHS"
      },
      "source": [
        "params_i={}\n",
        "  iter_max=10000\n",
        "  param = [{'kernel': ['rbf'], #Los hiperparámetros para este kernel son gamma y C\n",
        "            'gamma':np.arange(start=0.0001, stop=10, step=2),\n",
        "            'C':np.arange(start=0.0001, stop=5, step=1),},\n",
        "          {'kernel': ['poly'], #Los hiperparámetros para este kernerl son gammas, coef0 (intercepto), degree (grados polinomio) y C\n",
        "            'gamma': np.arange(start=0.0001, stop=10, step=2),\n",
        "            'coef0': np.arange(start=0.0001, stop=5, step=1), \n",
        "            'degree': (2, 3 , 4),\n",
        "            'C':np.arange(start=0.0001, stop=5, step=1),},\n",
        "          {'kernel': ['sigmoid'], #Los hiperparámetros para este kernel son coef0 (intercepto), C y gamma\n",
        "          'coef0':np.arange(start=0.0001, stop=5, step=1),\n",
        "          'C':np.arange(start=0.0001, stop=5, step=1),\n",
        "          'gamma':np.arange(start=0.0001, stop=10, step=2)}]\n",
        "  model_svm = SVR(max_iter = iter_max,epsilon = 0.01)\n",
        "  for score in scoring:\n",
        "    kfold = split(min_n = Nk,n = Ny)\n",
        "    grid_i = GridSearchCV(model_svm, param, cv=kfold, scoring=score)\n",
        "    grid_i.fit(data_train[vars], data_train['y'][:,0])\n",
        "    par_1 =  grid_i.best_params_['gamma']\n",
        "    params_i['gamma'] = np.arange(start=starMV(par_1 - 0.1*10), stop=par_1 + 0.1*10, step=0.1)\n",
        "    par_2 =  grid_i.best_params_['C']\n",
        "    params_i['C'] = np.arange(start=starMV(par_2 - 0.1*10), stop=par_2 + 0.1*10, step=0.1)\n",
        "    model_svm = SVR(max_iter=iter_max,epsilon = 0.01,kernel='rbf')\n",
        "    kernel_i = grid_i.best_params_['kernel']\n",
        "    if kernel_i == 'sigmoid':\n",
        "      par_3 =  grid_i.best_params_['coef0']\n",
        "      params_i['coef0'] = np.arange(start=starMV(par_3 - 0.1*10), stop=par_3 + 0.1*10, step=0.1)\n",
        "      model_svm = SVR(max_iter=iter_max,epsilon = 0.01,kernel='sigmoid')\n",
        "    if kernel_i == 'poly':\n",
        "      par_3 =  grid_i.best_params_['coef0']\n",
        "      params_i['coef0'] = np.arange(start=starMV(par_3 - 0.1*10), stop=par_3 + 0.1*10, step=0.1)\n",
        "      degree_i = grid_i.best_params_['degree']\n",
        "      model_svm = SVR(max_iter=iter_max,epsilon = 0.01,kernel='poly',degree=degree_i)\n",
        "    kfold = split(min_n = Nk,n = Ny)\n",
        "    grid_i = GridSearchCV(model_svm, params_i, cv=kfold, scoring=score)\n",
        "    grid_i.fit(data_train[vars], data_train['y'][:,0])\n",
        "    grids['SVM' + score] = grid_i.best_params_\n",
        "    grids['SVM' + score]['kernel'] = kernel_i\n",
        "    if kernel_i == 'poly':\n",
        "      grids['SVM' + score]['degree'] = degree_i\n",
        "    print (score, grids['SVM' + score])"
      ],
      "execution_count": null,
      "outputs": []
    },
    {
      "cell_type": "markdown",
      "metadata": {
        "id": "HblHxqRv2mFR"
      },
      "source": [
        "### Multi Layer Perceptron (MLP)"
      ]
    },
    {
      "cell_type": "markdown",
      "metadata": {
        "id": "aS-IvKIs8vzs"
      },
      "source": [
        "Las redes neuronales artificiales (ANN) son una clase de\n",
        "modelos utilizados para tareas de clasificación y regresión no\n",
        "lineal que están motivadas por el cálculo neuronal biológico.\n",
        "\n",
        "Cada componente $x_i$ de la entrada se multiplica por un peso correspondiente $w_i$, se añade un sesgo y se aplica una función de activación. Los pesos  y sesgos son la información utilizada por la red neuronal para resolver un problema. Estos parámetros deben aprenderse (ajustarse) en el paso de entrenamiento.\n",
        "\n",
        "Una red **MLP** constituye uno de los modelos más comunes por su condición como aproximador universal de funciones, estas redes utilizan más de una capa \n",
        "oculta de neuronas.\n",
        "\n",
        "De modo que en cada capa j se hará transformaciones lineales del vector de entrada $\\vec{x}=(x_1,...,x_N)^T$, se añade un sesgo  y a partir de la función de activación se obtiene un vector de salida $\\vec{y}$:\n",
        "\\begin{equation*}\n",
        "    \\vec{y}=\\Phi^{(j)} \\left(W^{(j)}\\vec{x}+\\vec{b}^{(j)}\\right)\n",
        "\\end{equation*}\n",
        " Este $\\vec{y}$ será el vector de entrada a la siguiente capa oculta o el resultado en caso de ser la última capa."
      ]
    },
    {
      "cell_type": "code",
      "metadata": {
        "id": "35xUDUKl2mcX"
      },
      "source": [
        "paramMLP = {'solver':['adam'],\n",
        "          'activation':['logistic','tanh','relu'],\n",
        "          'hidden_layer_sizes': [(2),(4),(8),(2,4),(4,3),(4,8),(8,2),(4,3,2)],\n",
        "          'alpha': [0.01,0.001,0.0001,0.00001],\n",
        "          'learning_rate_init':[0.001,0.01,0.0001,0.1],\n",
        "          'beta_1':[0.3,0.6,0.9,0.99,0.999],\n",
        "          'beta_2':[0.3,0.6,0.9,0.99,0.999]}\n",
        "  modelMLP= MLPRegressor(batch_size='auto',verbose=False,shuffle=False,max_iter=1000,random_state=7,validation_fraction=0)\n",
        "  best_params=[]\n",
        "  for score in scoring:\n",
        "    kfold = split(min_n = Nk,n = Ny)\n",
        "    gridMLP = GridSearchCV(modelMLP, paramMLP, cv=kfold, scoring=score,n_jobs=-1)\n",
        "    gridMLP.fit(data_train[vars], data_base['y'][:,0])\n",
        "    best= score, gridMLP.best_params_\n",
        "    best_params.append(best)\n",
        "    grids['MLP' + score] = gridMLP.best_params_\n",
        "    print(score, gridMLP.best_params_)"
      ],
      "execution_count": null,
      "outputs": []
    },
    {
      "cell_type": "code",
      "metadata": {
        "id": "_Ui1MOU52pVc"
      },
      "source": [
        "#Descomentar para guardar nueva grilla\n",
        "saved = joblib.dump(grids, os.path.join('/content/gdrive/MyDrive/shp/Grids Habi.joblib'))\n",
        "#Carga los parámetros elegidos para ahorrar tiempo de ejecución\n",
        "#grids = joblib.load('Grids Habi.joblib')"
      ],
      "execution_count": null,
      "outputs": []
    },
    {
      "cell_type": "markdown",
      "metadata": {
        "id": "NkVMRuc22vV4"
      },
      "source": [
        "## Modelos finales"
      ]
    },
    {
      "cell_type": "code",
      "metadata": {
        "id": "UvlR0ox62wEs"
      },
      "source": [
        " #Función para iniciazar todos los modelos a competir\n",
        "def inicializarModelos(criterio):\n",
        "  modelos = []\n",
        "  grids_i = grids\n",
        "  ## Modelo SVR final del script sin modificar\n",
        "  if grids_i['SVM' + criterio]['kernel'] == 'poly':\n",
        "    modelos.append(('SVM', SVR(max_iter=1000,kernel = 'poly',\n",
        "                               coef0 =  grids_i['SVM' + criterio]['coef0'],\n",
        "                               gamma = grids_i['SVM' + criterio]['gamma'],\n",
        "                               C = grids_i['SVM' + criterio]['C'],\n",
        "                               degree = grids_i['SVM' + criterio]['degree'],\n",
        "                                 epsilon = 0.001)))\n",
        "  if grids_i['SVM' + criterio]['kernel'] =='rbf':\n",
        "    modelos.append(('SVM', SVR(max_iter=1000,kernel = 'rbf',\n",
        "                               gamma = grids_i['SVM' + criterio]['gamma'],\n",
        "                               C = grids_i['SVM' + criterio]['C'],\n",
        "                               epsilon = 0.001)))\n",
        "  if grids_i['SVM' + criterio]['kernel'] =='sigmoid':\n",
        "    modelos.append(('SVM', SVR(max_iter = 1000,kernel = 'sigmoid',\n",
        "                               coef0 = grids_i['SVM' + criterio]['coef0'],\n",
        "                                 gamma = grids_i['SVM' + criterio]['gamma'],\n",
        "                                 C = grids_i['SVM' + criterio]['C'],\n",
        "                                 epsilon = 0.001)))\n",
        "  modelos.append(('MLP',skl.neural_network.MLPRegressor(hidden_layer_sizes = grids_i['MLP' + criterio]['hidden_layer_sizes'],\n",
        "                                                          activation = grids_i['MLP' + criterio]['activation'],\n",
        "                                                          solver = grids_i['MLP' + criterio]['solver'],\n",
        "                                                          alpha = grids_i['MLP' + criterio]['alpha'],\n",
        "                                                          beta_1 = grids_i['MLP' + criterio]['beta_1'],\n",
        "                                                          beta_2 = grids_i['MLP' + criterio]['beta_2'],\n",
        "                                                          learning_rate_init = grids_i['MLP' + criterio]['learning_rate_init'],\n",
        "                                                          verbose = False,random_state = 7,\n",
        "                                                          validation_fraction = 0,shuffle = False,max_iter = 1000)))\n",
        "  return modelos"
      ],
      "execution_count": null,
      "outputs": []
    },
    {
      "cell_type": "code",
      "metadata": {
        "id": "dPoaWSjN2z7_"
      },
      "source": [
        "# Iniciamos los modelos\n",
        "Modelos = {}\n",
        "for j in scoring:\n",
        "  Modelos[j] = inicializarModelos(criterio = j)\n",
        "Resultados = {} # Lista para guardar predicciones y medidas de ajuste\n",
        "for j in scoring:\n",
        "  Resultados[j] = {}\n",
        "  results_cv = []\n",
        "  names_cv = []\n",
        "  predictions = {}\n",
        "  for name, modelo in Modelos[j]:\n",
        "    # Calculamos las medidas de perdida\n",
        "    kfold = split(min_n = 7,n = 14)\n",
        "    cv = cross_val_score(modelo,data_train[vars], data_base['y'][:,0],\n",
        "                         cv = kfold, scoring = j)\n",
        "    # Ajustamos cada modelo\n",
        "    modelo.fit(data_train[vars][:],\n",
        "              data_train['y'][:,0])\n",
        "    # Realizamos las predicciones\n",
        "    predictions[name] = modelo.predict(data_train['ypred'])\n",
        "    results_cv.append(cv)\n",
        "    names_cv.append(np.repeat(name,cv.shape[0]))\n",
        "  Resultados[j]['predictions'] = predictions\n",
        "  Resultados[j]['cv'] = {}\n",
        "  Resultados[j]['cv']['value'] = results_cv\n",
        "  Resultados[j]['cv']['names'] = names_cv"
      ],
      "execution_count": null,
      "outputs": []
    },
    {
      "cell_type": "code",
      "metadata": {
        "id": "O4p_-zvl22fG"
      },
      "source": [
        "# Modelos para el promedio\n",
        "Modelos_promedio = ['Lasso','ElasticNet','SVM','MLP','DecisionTree']"
      ],
      "execution_count": null,
      "outputs": []
    },
    {
      "cell_type": "code",
      "metadata": {
        "id": "Opw0nlmE25O0"
      },
      "source": [
        "for j in scoring:\n",
        "  predictions = Resultados[j]['predictions']\n",
        "  scalerY = data_base['Y']['scaler']\n",
        "  dfResModels =  pd.DataFrame({'Lasso':INVT(predictions['Lasso'],scalerY),\n",
        "                            'ElasticNet':INVT(predictions['ElasticNet'],scalerY),\n",
        "                            'SVM':INVT(predictions['SVM'],scalerY),\n",
        "                            'MLP':INVT(predictions['MLP'],scalerY),\n",
        "                            'DecisionTree':INVT(predictions['DecisionTree'],scalerY)})\n",
        "  dfResModels['medias'] = np.nan\n",
        "  dfResModels['medias'][Ny:]=dfResModels[Modelos_promedio][Ny:].mean(axis=1)\n",
        "  dfResModels['Real']=Y.values[Y.index<= prediction_data[1]]\n",
        "  dfResModels.index = X.index[Y.index<= prediction_data[1]]\n",
        "  Resultados[j]['dataframe'] = dfResModels"
      ],
      "execution_count": null,
      "outputs": []
    },
    {
      "cell_type": "markdown",
      "metadata": {
        "id": "DUMlBG1m28Q_"
      },
      "source": [
        ""
      ]
    },
    {
      "cell_type": "code",
      "metadata": {
        "id": "6Z6giiyL28qR"
      },
      "source": [
        "# Graficar resultado de la proyección\n",
        "df = Resultados[scoring[0]]['dataframe']\n",
        "fig = go.Figure()\n",
        "for i in df.columns:\n",
        "  fig.add_scatter(x=df.index, y=df[i],mode='lines',name=i)\n",
        "fig.update_layout(title_text=\"Predicciones modelos\")\n",
        "fig.update_layout(yaxis = dict(showexponent = 'all',exponentformat = 'e'))\n",
        "fig.update_layout(xaxis_title = XLABEL, yaxis_title = YLABEL,template = \"plotly_white\")\n",
        "fig.show()"
      ],
      "execution_count": null,
      "outputs": []
    },
    {
      "cell_type": "code",
      "metadata": {
        "id": "Wwto5itf3Ax-"
      },
      "source": [
        "sc = scoring[0]\n",
        "df = pd.DataFrame({'values': np.reshape(np.array(Resultados[sc]['cv']['value']),-1),\n",
        "                   'model': np.reshape(np.array(Resultados[sc]['cv']['names']),-1)})\n",
        "fig = go.Figure()\n",
        "fig.add_trace(go.Box(y = df['values'],x = df['model'],boxpoints = 'all',boxmean=True))\n",
        "fig.update_layout(boxmode='group',template = \"plotly_white\",title_text=\"Cv \" + sc)\n",
        "fig.show()"
      ],
      "execution_count": null,
      "outputs": []
    },
    {
      "cell_type": "markdown",
      "metadata": {
        "id": "RErVwqZe3EmV"
      },
      "source": [
        ""
      ]
    },
    {
      "cell_type": "code",
      "metadata": {
        "id": "bJaYLyzb3E4N"
      },
      "source": [
        "df.groupby('model').mean().sort_values('values',ascending=False).T"
      ],
      "execution_count": null,
      "outputs": []
    },
    {
      "cell_type": "markdown",
      "metadata": {
        "id": "LDsWKpNP3FY_"
      },
      "source": [
        ""
      ]
    },
    {
      "cell_type": "code",
      "metadata": {
        "id": "pJLNDxqW3FuK"
      },
      "source": [
        "models=Resultados[scoring[0]]['dataframe'].columns\n",
        "MSE=[]\n",
        "for i in models[:-2]:\n",
        "  aux=mean_squared_error(data_base['Y']['rescaled'],Resultados[scoring[0]]['predictions'][i][:Ny])\n",
        "  MSE.append(aux)\n",
        "b=pd.DataFrame({'MSE':MSE},index=models[:-2]) \n",
        "b.sort_values('MSE',ascending=True).T"
      ],
      "execution_count": null,
      "outputs": []
    }
  ]
}