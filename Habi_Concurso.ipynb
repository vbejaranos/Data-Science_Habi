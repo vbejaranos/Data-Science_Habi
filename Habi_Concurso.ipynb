{
  "nbformat": 4,
  "nbformat_minor": 0,
  "metadata": {
    "accelerator": "GPU",
    "colab": {
      "name": "Habi_Concurso.ipynb",
      "provenance": [],
      "collapsed_sections": [
        "pImvq62CF-w8",
        "eDxe-dPskNJr"
      ],
      "toc_visible": true,
      "include_colab_link": true
    },
    "kernelspec": {
      "display_name": "Python 3",
      "name": "python3"
    }
  },
  "cells": [
    {
      "cell_type": "markdown",
      "metadata": {
        "id": "view-in-github",
        "colab_type": "text"
      },
      "source": [
        "<a href=\"https://colab.research.google.com/github/vbejaranos/Data-Science_Habi/blob/main/Habi_Concurso.ipynb\" target=\"_parent\"><img src=\"https://colab.research.google.com/assets/colab-badge.svg\" alt=\"Open In Colab\"/></a>"
      ]
    },
    {
      "cell_type": "markdown",
      "metadata": {
        "id": "hfdawDZnGRUN"
      },
      "source": [
        "# **EL ALGORITMO ES CORRECTO**\n",
        "\n",
        "*Objetivo*:\n",
        "\n",
        "Teniendo como insumo las bases de datos entregadas por la empresa Habi, se quiere construir, modelar y predecir el precio de oferta (asking price) que Habi debe dar al inmueble que desea adquirir.\n",
        "\n",
        "***Integrantes***\n",
        "\n",
        "*Estadísticas Universidad Nacional de Colombia*\n",
        "- Sara Lucia Acosta, slacostap@unal.edu.co\n",
        "- Valeria Bejarano Salcedo, vbejaranos@unal.edu.co\n",
        "- Laura Camila Cruz, laccruzpa@unal.edu.co"
      ]
    },
    {
      "cell_type": "markdown",
      "metadata": {
        "id": "h1_pskSjQEhX"
      },
      "source": [
        "## Modulos y librerias\n",
        "\n",
        "\n"
      ]
    },
    {
      "cell_type": "code",
      "metadata": {
        "id": "IhfH_kRmSqaB"
      },
      "source": [
        "#!pip install geopandas\n",
        "#!pip install pyshp"
      ],
      "execution_count": null,
      "outputs": []
    },
    {
      "cell_type": "code",
      "metadata": {
        "id": "wU_5ln9bPylc"
      },
      "source": [
        "from IPython.core.interactiveshell import InteractiveShell\n",
        "InteractiveShell.ast_node_interactivity = \"last_expr\"\n",
        "# Trabajo con tablas y arreglos ==================================================================================#\n",
        "import pandas as pd\n",
        "import numpy as np\n",
        "from math import sqrt\n",
        "# Librerias para graficos ========================================================================================#\n",
        "import matplotlib as plt\n",
        "from matplotlib.pylab import rcParams\n",
        "import plotly.express as px\n",
        "import plotly.graph_objects as go\n",
        "import plotly.figure_factory as ff\n",
        "from plotly.subplots import make_subplots\n",
        "from scipy import stats\n",
        "def _color_red_or_green(val):\n",
        "    color = 'red' if np.abs(val) < 0.4 else 'green'\n",
        "    return 'color: %s' % color\n",
        "# Librerias para georeferencia ===================================================================================#\n",
        "#https://geopandas.org/docs/user_guide/set_operations.html\n",
        "#from shapely.geometry import Polygon\n",
        "#import shapefile\n",
        "#import fiona\n",
        "# Librerias para el modelamiento =================================================================================#\n",
        "#DNN\n",
        "from keras.models import Sequential\n",
        "from keras.layers import Dense\n",
        "from sklearn.model_selection import train_test_split\n",
        "import torch\n",
        "from keras import metrics\n",
        "from sklearn.preprocessing import MinMaxScaler\n",
        "from tensorflow.keras import layers\n",
        "import sklearn as skl\n",
        "from sklearn.impute import KNNImputer # Imputacion knn\n",
        "# Librerías para validación de modelos ===========================================================================#\n",
        "from sklearn.metrics import mean_squared_error\n",
        "from sklearn.model_selection import GridSearchCV\n",
        "def starMV(x): return 0.0001 if x<1 else x\n",
        "from sklearn.model_selection import cross_val_score"
      ],
      "execution_count": 1,
      "outputs": []
    },
    {
      "cell_type": "code",
      "metadata": {
        "id": "qU_6knyY3gzt",
        "colab": {
          "base_uri": "https://localhost:8080/"
        },
        "outputId": "e1d78ffb-efff-4157-b074-df1c20148d8e"
      },
      "source": [
        "%tensorflow_version 2.x   # Para garantizar que la versión 2.x sea importada\n",
        "import tensorflow as tf\n",
        "nombre_gpu = tf.test.gpu_device_name()\n",
        "if nombre_gpu != '/device:GPU:0':\n",
        "  raise SystemError('GPU no encontrada')\n",
        "print('GPU encontrada: {}'.format(nombre_gpu))"
      ],
      "execution_count": 2,
      "outputs": [
        {
          "output_type": "stream",
          "text": [
            "`%tensorflow_version` only switches the major version: 1.x or 2.x.\n",
            "You set: `2.x   # Para garantizar que la versión 2.x sea importada`. This will be interpreted as: `2.x`.\n",
            "\n",
            "\n",
            "TensorFlow is already loaded. Please restart the runtime to change versions.\n",
            "GPU encontrada: /device:GPU:0\n"
          ],
          "name": "stdout"
        }
      ]
    },
    {
      "cell_type": "markdown",
      "metadata": {
        "id": "V2ap2-mrke4K"
      },
      "source": [
        "## Conexión Google Drive con Colab \n",
        "\n",
        "Para una mejor gestión de los datos. Al correr el código es necesario entrar al link, dar los permisos que solicitan, copiar el código, pegar en la celda vacía y dar enter. Así solo es necesario compartir una carpeta de datos (shp)"
      ]
    },
    {
      "cell_type": "code",
      "metadata": {
        "colab": {
          "base_uri": "https://localhost:8080/"
        },
        "id": "lCblwxF1ScB0",
        "outputId": "8a71a382-9c5d-40cd-f558-cb20546dfdd0"
      },
      "source": [
        "from google.colab import drive\n",
        "drive.mount(\"/content/gdrive\")"
      ],
      "execution_count": 3,
      "outputs": [
        {
          "output_type": "stream",
          "text": [
            "Mounted at /content/gdrive\n"
          ],
          "name": "stdout"
        }
      ]
    },
    {
      "cell_type": "markdown",
      "metadata": {
        "id": "o9wDFJ-6IxcV"
      },
      "source": [
        "# Completar la base de datos\n",
        "\n",
        "Sabemos que uno de los mejores insumos para el modelamiento son los datos de buena calidad, luego bajo la filosofia de *garbage in, garbage out* se realiza una recopilación y procesamiento de la información de otras [fuentes](https://mapas.bogota.gov.co/) que nos brindan otro tipo de información necesaria dentro de este negocio inmobiliario."
      ]
    },
    {
      "cell_type": "markdown",
      "metadata": {
        "id": "pImvq62CF-w8"
      },
      "source": [
        "## Datos de catastro\n",
        "\n",
        "Se obtuvo la base de datos correspondiente al [avaluo](https://mapas.bogota.gov.co/?l=10462&e=-74.15372037610308,4.633364461430024,-74.0713229151657,4.674812311999409,4686&b=7256#) de la base catastral de Bogotá, con ello se cruzan por medio de la libreria geopandas con la latitud y longitud de cada inmueble dadas por Habi."
      ]
    },
    {
      "cell_type": "code",
      "metadata": {
        "id": "MPMgt0ZJ9yxV"
      },
      "source": [
        "#import geopandas\n",
        "#data = pd.read_csv('/content/gdrive/MyDrive/shp/train_data.csv')\n",
        "#points = data[['id','latitud', 'longitud']]\n",
        "#catastro = geopandas.read_file('/content/gdrive/MyDrive/shp/Valor_Ref_M.shp')"
      ],
      "execution_count": null,
      "outputs": []
    },
    {
      "cell_type": "code",
      "metadata": {
        "id": "z02xwEvS-obz"
      },
      "source": [
        "#catastro[['id2']]= catastro.index\n",
        "#gdf = geopandas.GeoDataFrame({ 'geometry':geopandas.points_from_xy(points.longitud, points.latitud), \n",
        "#                             'id': points.id})\n",
        "#catastro['ANO2'] = [i[0:4] for i in catastro.ANO]\n",
        "#catastro2 = catastro[catastro.ANO2 == '2020']\n",
        "#poly = geopandas.GeoDataFrame({'geometry':catastro2['geometry'],\n",
        "#                              'id2': catastro2.id2 })"
      ],
      "execution_count": null,
      "outputs": []
    },
    {
      "cell_type": "code",
      "metadata": {
        "id": "a-5maLIN-j3H"
      },
      "source": [
        "#res_intersection = geopandas.overlay(gdf, poly, how='intersection')\n",
        "#res_intersection2 = res_intersection[['id', 'id2']]\n",
        "#join = res_intersection2.merge(catastro2, on='id2', how='left')\n",
        "#exportar = data.merge(join, on ='id', how= 'left')\n",
        "#exportar.to_csv('/content/gdrive/MyDrive/shp/train_dataV02.csv')"
      ],
      "execution_count": null,
      "outputs": []
    },
    {
      "cell_type": "markdown",
      "metadata": {
        "id": "lPYlP_A8kj36"
      },
      "source": [
        "### Bases de datos completada por valor catastral\n",
        "Una vez se realiza la intersección con los multipoligonos dados por catastro se obtienen las bases V02, a continuación se realizan la imputación de valores faltantes."
      ]
    },
    {
      "cell_type": "code",
      "metadata": {
        "id": "Swj8MSIGB2A8"
      },
      "source": [
        "data_train = pd.read_csv('/content/gdrive/MyDrive/shp/train_dataV02.csv')\n",
        "data_test = pd.read_csv('/content/gdrive/MyDrive/shp/test_dataV02.csv')\n",
        "data_train[['tipo_data']]= \"train\"\n",
        "data_test[['tipo_data']] = \"test\"\n",
        "data_train = data_train.drop(['Unnamed: 0'],axis = 1)\n",
        "data_test = data_test.drop(['Unnamed: 0'],axis = 1)\n",
        "consol = data_train.append(data_test)"
      ],
      "execution_count": null,
      "outputs": []
    },
    {
      "cell_type": "code",
      "metadata": {
        "id": "yN-USV9ODu-t"
      },
      "source": [
        "consol.columns"
      ],
      "execution_count": null,
      "outputs": []
    },
    {
      "cell_type": "markdown",
      "metadata": {
        "id": "eDxe-dPskNJr"
      },
      "source": [
        "## Imputación de datos\n",
        "\n"
      ]
    },
    {
      "cell_type": "markdown",
      "metadata": {
        "id": "7S-cRlXdrP52"
      },
      "source": [
        "Se completan los valores faltantes mediante los siguientes criterios:\n",
        "1. Las siguientes variables que tienen valores faltantes se completan con 0, pues usualmente son los que el propietario tiene más en cuenta y si no se encuentran en la base, lo más seguro es que no se encuentren en el inmueble.\n",
        "- Baño de servicio\n",
        "- Ascensor\n",
        "- Balcon\n",
        "- Cuarto de servicio\n",
        "- Gimnasio\n",
        "- Piscina \n",
        "- Terraza \n",
        "- Remodelado\n",
        "2. Para las siguientes variables se usa imputación de datos via knn (k-nearest-neighbors) para k = 5, mediante las variables de latitud y longitud, es decir, solo por localización del inmueble, pues es bastante usual que las construcciones aledañas contengan la misma arquitectura como decía Juan Sebastian en la conferencia *Uso de la ciencia de datos en la resolución de problemas del sector real*.\n",
        "- Area\n",
        "- Baños \n",
        "- Estrato \n",
        "- Garajes \n",
        "- Habitaciones \n",
        "- Piso \n",
        "- Salon comunal \n",
        "- Vigilancia \n",
        "- Parqueadero visitantes\n",
        "- Valor administracion\n",
        "- V_REF\n",
        "3. Otras variables dummys, se condicionaron sobre el tipo de inmueble o conjunto para completar 0 o 1 o bien utilizar knn. Esto ya que variables como el pertenecer a un conjunto cerrado o ser un apartamento limita la aparición de estas variables.\n",
        "- Deposito: apto = 0, casa = 1\n",
        "- Estudio: apto = 0, casa = 1\n",
        "- Porteria: conjunto cerrado = 1, no cerrado = 0\n",
        "- Zona lavanderia: casas = 1,apto = knn\n",
        "- Hall de alcobas: habitaciones>1 = knn,habitaciones<=1 = 0"
      ]
    },
    {
      "cell_type": "markdown",
      "metadata": {
        "id": "km0M1IP-JF_e"
      },
      "source": [
        "### Completar faltantes"
      ]
    },
    {
      "cell_type": "code",
      "metadata": {
        "id": "AiZzbR50Ywfb"
      },
      "source": [
        "consol[['banoservicio', 'ascensor', 'balcon', 'cuartoservicio', 'gimnasio', 'piscina', 'terraza', 'remodelado']] = consol[['banoservicio', 'ascensor', 'balcon', 'cuartoservicio', 'gimnasio', 'piscina', 'terraza', 'remodelado']].fillna(0)"
      ],
      "execution_count": null,
      "outputs": []
    },
    {
      "cell_type": "code",
      "metadata": {
        "id": "6ZVWO4pVe1Yh"
      },
      "source": [
        "consol['tiponegocio'] = consol['tiponegocio'].str.lower()"
      ],
      "execution_count": null,
      "outputs": []
    },
    {
      "cell_type": "code",
      "metadata": {
        "id": "gQKOKPsrfCCB"
      },
      "source": [
        "consol['tiempodeconstruido'] = consol['tiempodeconstruido'].replace('ntre 0 y 5 años', 'Entre 0 y 5 años')\n",
        "consol['tiempodeconstruido'].unique()"
      ],
      "execution_count": null,
      "outputs": []
    },
    {
      "cell_type": "code",
      "metadata": {
        "id": "_bRnG_mKZAot"
      },
      "source": [
        "apto = consol[consol.tipoinmueble=='Apartamento']\n",
        "casa = consol[consol.tipoinmueble=='Casa']"
      ],
      "execution_count": null,
      "outputs": []
    },
    {
      "cell_type": "code",
      "metadata": {
        "id": "yJ-XtpzmdXu7"
      },
      "source": [
        "apto[['deposito', 'estudio']] = apto[['deposito', 'estudio']].fillna(0)\n",
        "casa[['deposito', 'estudio']]= casa[['deposito', 'estudio']].fillna(1)\n",
        "casa[['zonalavanderia']]= casa[['zonalavanderia']].fillna(1)"
      ],
      "execution_count": null,
      "outputs": []
    },
    {
      "cell_type": "code",
      "metadata": {
        "id": "yHhslYv9d-lO"
      },
      "source": [
        "consol = apto.append(casa)"
      ],
      "execution_count": null,
      "outputs": []
    },
    {
      "cell_type": "code",
      "metadata": {
        "id": "HuMnlpEkeJOx"
      },
      "source": [
        "cerrado = consol[consol.conjuntocerrado==1]\n",
        "no_cerrado = consol[consol.conjuntocerrado==0]"
      ],
      "execution_count": null,
      "outputs": []
    },
    {
      "cell_type": "code",
      "metadata": {
        "id": "sBjeiOLaeUeH"
      },
      "source": [
        "cerrado['porteria'] = cerrado['porteria'].fillna(1)\n",
        "no_cerrado['porteria'] = no_cerrado['porteria'].fillna(0)\n",
        "cerrado['saloncomunal'] = cerrado['saloncomunal'].fillna(1)"
      ],
      "execution_count": null,
      "outputs": []
    },
    {
      "cell_type": "code",
      "metadata": {
        "id": "mdO2Be3VeizR"
      },
      "source": [
        "consol= cerrado.append(no_cerrado)"
      ],
      "execution_count": null,
      "outputs": []
    },
    {
      "cell_type": "code",
      "metadata": {
        "id": "ySyRcI-Zb_Ka"
      },
      "source": [
        "consol.loc[consol['valoradministracion']<10000, 'valoradministracion'] = float(\"NaN\")"
      ],
      "execution_count": null,
      "outputs": []
    },
    {
      "cell_type": "code",
      "metadata": {
        "id": "YpaGmzIVAVG4"
      },
      "source": [
        "train = consol[consol.tipo_data==\"train\"]\n",
        "test = consol[consol.tipo_data==\"test\"]"
      ],
      "execution_count": null,
      "outputs": []
    },
    {
      "cell_type": "code",
      "metadata": {
        "id": "bylQ0Vaef2tO"
      },
      "source": [
        "train.to_csv('/content/gdrive/MyDrive/shp/train_dataV03.csv')\n",
        "test.to_csv('/content/gdrive/MyDrive/shp/test_dataV03.csv')"
      ],
      "execution_count": null,
      "outputs": []
    },
    {
      "cell_type": "markdown",
      "metadata": {
        "id": "VPdCQLNDkURI"
      },
      "source": [
        "### Imputación via knn"
      ]
    },
    {
      "cell_type": "markdown",
      "metadata": {
        "id": "KBlbtxfoEAYC"
      },
      "source": [
        "Podemos ver la implementación de la metodología [aquí](https://medium.com/@kyawsawhtoon/a-guide-to-knn-imputation-95e2dc496e)"
      ]
    },
    {
      "cell_type": "code",
      "metadata": {
        "id": "MCsAbPkVXYfV"
      },
      "source": [
        "data_train = pd.read_csv('/content/gdrive/MyDrive/shp/train_dataV03.csv')\n",
        "data_test = pd.read_csv('/content/gdrive/MyDrive/shp/test_dataV03.csv')\n",
        "data_train = data_train.drop(['Unnamed: 0'],axis = 1)\n",
        "data_test = data_test.drop(['Unnamed: 0'],axis = 1)\n"
      ],
      "execution_count": null,
      "outputs": []
    },
    {
      "cell_type": "code",
      "metadata": {
        "id": "7VmKTSBZ8yHM"
      },
      "source": [
        "imputer = KNNImputer(n_neighbors = 5)"
      ],
      "execution_count": null,
      "outputs": []
    },
    {
      "cell_type": "code",
      "metadata": {
        "id": "GlDjeE319wbd"
      },
      "source": [
        "consol1 = data_train.append(data_test)          \n",
        "consol1.isna().sum()"
      ],
      "execution_count": null,
      "outputs": []
    },
    {
      "cell_type": "code",
      "metadata": {
        "id": "6flNuoVR_hdc"
      },
      "source": [
        "area = consol1.loc[:,['area','longitud','latitud']].values\n",
        "df_area = pd.DataFrame(imputer.fit_transform(area),columns = [[ 'area','longitud','latitud']])"
      ],
      "execution_count": null,
      "outputs": []
    },
    {
      "cell_type": "code",
      "metadata": {
        "id": "1Y9kr1vCDyPg"
      },
      "source": [
        "banos = consol1.loc[:,['banos','longitud','latitud']].values\n",
        "df_banos = pd.DataFrame(imputer.fit_transform(banos),columns = [[ 'banos','longitud','latitud']])\n",
        "df_banos.loc[:, ['banos']] = np.round(df_banos.loc[:, ['banos']] )"
      ],
      "execution_count": null,
      "outputs": []
    },
    {
      "cell_type": "code",
      "metadata": {
        "id": "vOMRJkj0EHgL"
      },
      "source": [
        "estrato = consol1.loc[:,['estrato','longitud','latitud']].values\n",
        "df_estrato = pd.DataFrame(imputer.fit_transform(estrato),columns = [[ 'estrato','longitud','latitud']])\n",
        "df_estrato.loc[:, ['estrato']] = np.round(df_estrato.loc[:, ['estrato']] )"
      ],
      "execution_count": null,
      "outputs": []
    },
    {
      "cell_type": "code",
      "metadata": {
        "id": "spp08WLtFaaD"
      },
      "source": [
        "garajes = consol1.loc[:,['garajes','longitud','latitud']].values\n",
        "df_garajes = pd.DataFrame(imputer.fit_transform(garajes),columns = [[ 'garajes','longitud','latitud']])\n",
        "df_garajes.loc[:, ['garajes']] = np.round(df_garajes.loc[:, ['garajes']] )"
      ],
      "execution_count": null,
      "outputs": []
    },
    {
      "cell_type": "code",
      "metadata": {
        "id": "75QV7n1uJOp7"
      },
      "source": [
        "piso = consol1.loc[:,['piso','longitud','latitud']].values\n",
        "df_piso = pd.DataFrame(imputer.fit_transform(piso),columns = [[ 'piso','longitud','latitud']])\n",
        "df_piso.loc[:, ['piso']] = np.round(df_piso.loc[:, ['piso']] )"
      ],
      "execution_count": null,
      "outputs": []
    },
    {
      "cell_type": "code",
      "metadata": {
        "id": "unsjdCTBN47S"
      },
      "source": [
        "habitaciones = consol1.loc[:,['habitaciones','longitud','latitud']].values\n",
        "df_habitaciones = pd.DataFrame(imputer.fit_transform(habitaciones),columns = [[ 'habitaciones','longitud','latitud']])\n",
        "df_habitaciones.loc[:, ['habitaciones']] = np.round(df_habitaciones.loc[:, ['habitaciones']] )"
      ],
      "execution_count": null,
      "outputs": []
    },
    {
      "cell_type": "code",
      "metadata": {
        "id": "wkJmO5YqOMQI"
      },
      "source": [
        "saloncomunal = consol1.loc[:,['saloncomunal','longitud','latitud']].values\n",
        "df_saloncomunal = pd.DataFrame(imputer.fit_transform(saloncomunal),columns = [[ 'saloncomunal','longitud','latitud']])\n",
        "df_saloncomunal.loc[:, ['saloncomunal']] = np.round(df_saloncomunal.loc[:, ['saloncomunal']] )"
      ],
      "execution_count": null,
      "outputs": []
    },
    {
      "cell_type": "code",
      "metadata": {
        "id": "VbL72DTKOiky"
      },
      "source": [
        "vigilancia = consol1.loc[:,['vigilancia','longitud','latitud']].values\n",
        "df_vigilancia = pd.DataFrame(imputer.fit_transform(vigilancia),columns = [[ 'vigilancia','longitud','latitud']])\n",
        "df_vigilancia.loc[:, ['vigilancia']] = np.round(df_vigilancia.loc[:, ['vigilancia']] )"
      ],
      "execution_count": null,
      "outputs": []
    },
    {
      "cell_type": "code",
      "metadata": {
        "id": "hABe-5heCm5g"
      },
      "source": [
        "zonalavanderia = consol1.loc[:,['zonalavanderia','longitud','latitud']].values\n",
        "df_zonalavanderia = pd.DataFrame(imputer.fit_transform(zonalavanderia),columns = [[ 'zonalavanderia','longitud','latitud']])\n",
        "df_zonalavanderia.loc[:, ['zonalavanderia']] = np.round(df_zonalavanderia.loc[:, ['zonalavanderia']] )"
      ],
      "execution_count": null,
      "outputs": []
    },
    {
      "cell_type": "code",
      "metadata": {
        "id": "C21GCmTfO-YA"
      },
      "source": [
        "habi_menor_1 = consol1.loc[consol1.loc[ : , 'habitaciones'] <= 1]\n",
        "habi_mayor_1 = consol1.loc[consol1.loc[ : , 'habitaciones']  > 1]"
      ],
      "execution_count": null,
      "outputs": []
    },
    {
      "cell_type": "code",
      "metadata": {
        "id": "_56zrILfPHtw"
      },
      "source": [
        "habi_menor_1[['halldealcobas']] = habi_menor_1[['halldealcobas']].fillna(0)\n",
        "consol1= habi_menor_1.append(habi_mayor_1)"
      ],
      "execution_count": null,
      "outputs": []
    },
    {
      "cell_type": "code",
      "metadata": {
        "id": "syUEWaFPL0wy"
      },
      "source": [
        "halldealcobas = consol1.loc[: , ['halldealcobas','longitud','latitud']].values\n",
        "df_halldealcobas = pd.DataFrame(imputer.fit_transform(halldealcobas),columns = [[ 'halldealcobas','longitud','latitud']])\n",
        "df_halldealcobas.loc[:, ['halldealcobas']] = np.round(df_halldealcobas.loc[:, ['halldealcobas']] )"
      ],
      "execution_count": null,
      "outputs": []
    },
    {
      "cell_type": "code",
      "metadata": {
        "id": "0igM1-rEExTI"
      },
      "source": [
        "parqueaderovisitantes = consol1.loc[: , ['parqueaderovisitantes','longitud','latitud']].values\n",
        "df_parqueaderovisitantes = pd.DataFrame(imputer.fit_transform(parqueaderovisitantes),columns = [[ 'parqueaderovisitantes','longitud','latitud']])\n",
        "df_parqueaderovisitantes.loc[:, ['parqueaderovisitantes']] = np.round(df_parqueaderovisitantes.loc[:, ['parqueaderovisitantes']] )"
      ],
      "execution_count": null,
      "outputs": []
    },
    {
      "cell_type": "code",
      "metadata": {
        "id": "A1soV764aOCW"
      },
      "source": [
        "valoradministracion = consol1.loc[: , ['valoradministracion','longitud','latitud']].values\n",
        "df_valoradministracion = pd.DataFrame(imputer.fit_transform(valoradministracion),columns = [[ 'valoradministracion','longitud','latitud']])\n",
        "df_valoradministracion.loc[:, ['valoradministracion']] = np.round(df_valoradministracion.loc[:, ['valoradministracion']] )"
      ],
      "execution_count": null,
      "outputs": []
    },
    {
      "cell_type": "code",
      "metadata": {
        "id": "c_4eUDv8xhfv"
      },
      "source": [
        "valorref = consol1.loc[: , ['V_REF','longitud','latitud']].values\n",
        "df_valorref = pd.DataFrame(imputer.fit_transform(valorref),columns = [[ 'V_REF','longitud','latitud']])\n",
        "df_valorref.loc[:, ['V_REF']] = np.round(df_valorref.loc[:, ['V_REF']] )"
      ],
      "execution_count": null,
      "outputs": []
    },
    {
      "cell_type": "code",
      "metadata": {
        "id": "_obp6FyhGvSM"
      },
      "source": [
        "ESTRATO = consol1.loc[: , ['ESTRATO','longitud','latitud']].values\n",
        "df_ESTRATO = pd.DataFrame(imputer.fit_transform(ESTRATO),columns = [[ 'ESTRATO','longitud','latitud']])\n",
        "df_ESTRATO.loc[:, ['ESTRATO']] = np.round(df_ESTRATO.loc[:, ['ESTRATO']] )"
      ],
      "execution_count": null,
      "outputs": []
    },
    {
      "cell_type": "markdown",
      "metadata": {
        "id": "3bPELX9lrkou"
      },
      "source": [
        "Realizamos la siguiente codificación:\n",
        "* Menos de 1 año -- 1\n",
        "* Entre 0 y 5 años como --  2\n",
        "* Enre 1 - 8 años grupo -- 3\n",
        "* Entre 5 y 10 años -- 4\n",
        "* 9 a 15 años  -- 5\n",
        "* Entre 10 y 20 años -- 6\n",
        "* 16 a 30 años' -- 7\n",
        "* Más de 20 años -- 8\n",
        "* Más de 30 años  -- 9\n",
        "*Remodelado -- 10"
      ]
    },
    {
      "cell_type": "code",
      "metadata": {
        "id": "3AbR5Z3Nlerg"
      },
      "source": [
        "consol1['tiempodeconstruido'] = consol1['tiempodeconstruido'].replace( {'Menos de 1 año':1 , 'Entre 0 y 5 años':2,'1 a 8 años':3, 'Entre 5 y 10 años':4, '9 a 15 años':5 ,\n",
        "                'Entre 10 y 20 años':6, '16 a 30 años':7, 'Más de 20 años':8, 'Más de 30 años':9, 'Remodelado':10})\n",
        "\n",
        "consol1['tiempodeconstruido'].unique()"
      ],
      "execution_count": null,
      "outputs": []
    },
    {
      "cell_type": "markdown",
      "metadata": {
        "id": "3onlk45Cr-N3"
      },
      "source": [
        "Se cambio \n",
        "* Exterior -- 1\n",
        "* Interior -- 2"
      ]
    },
    {
      "cell_type": "code",
      "metadata": {
        "id": "bBPzCz_aslO-"
      },
      "source": [
        "consol1['vista'] = consol1['vista'].replace( 'Exterior',1)\n",
        "consol1['vista'] = consol1['vista'].replace( 'Interior',2)"
      ],
      "execution_count": null,
      "outputs": []
    },
    {
      "cell_type": "code",
      "metadata": {
        "id": "uHEc9WufljwP"
      },
      "source": [
        "tiempodeconstruido = consol1.loc[:,['tiempodeconstruido','longitud','latitud']].values\n",
        "df_tiempodeconstruido = pd.DataFrame(imputer.fit_transform(tiempodeconstruido),columns = [[ 'tiempodeconstruido','longitud','latitud']])\n",
        "df_tiempodeconstruido.loc[:, ['tiempodeconstruido']] = np.round(df_tiempodeconstruido.loc[:, ['tiempodeconstruido']] )"
      ],
      "execution_count": null,
      "outputs": []
    },
    {
      "cell_type": "code",
      "metadata": {
        "id": "7DYqB-0Ls5Zw"
      },
      "source": [
        "vista = consol1.loc[:,['vista','longitud','latitud']].values\n",
        "df_vista = pd.DataFrame(imputer.fit_transform(vista),columns = [[ 'vista','longitud','latitud']])\n",
        "df_vista.loc[:, ['vista']] = np.round(df_vista.loc[:, ['vista']] )"
      ],
      "execution_count": null,
      "outputs": []
    },
    {
      "cell_type": "code",
      "metadata": {
        "id": "VGi1oUt8Bm8v"
      },
      "source": [
        "consol1[['area']]       = df_area[['area']]\n",
        "consol1[['banos']]    = df_banos[['banos']]\n",
        "consol1[['estrato']]   = df_estrato[['estrato']]\n",
        "consol1[['ESTRATO']]   = df_ESTRATO[['ESTRATO']]\n",
        "consol1[['garajes']]   = df_garajes[['garajes']]\n",
        "consol1[['habitaciones']] = df_habitaciones[['habitaciones']]\n",
        "consol1[['piso']] = df_piso[['piso']]\n",
        "consol1[['saloncomunal']] = df_saloncomunal[['saloncomunal']]\n",
        "consol1[['vigilancia']] = df_vigilancia[['vigilancia']]\n",
        "consol1[['zonalavanderia']] = df_zonalavanderia[['zonalavanderia']]\n",
        "consol1[['halldealcobas']] = df_halldealcobas[['halldealcobas']]\n",
        "consol1[['parqueaderovisitantes']] = df_parqueaderovisitantes[['parqueaderovisitantes']]\n",
        "consol1[['valoradministracion']] = df_valoradministracion[['valoradministracion']]\n",
        "consol1[['V_REF']] = df_valorref[['V_REF']]\n",
        "consol1[['tiempodeconstruido']] = df_tiempodeconstruido[['tiempodeconstruido']]\n",
        "consol1[['vista']] = df_vista[['vista']]"
      ],
      "execution_count": null,
      "outputs": []
    },
    {
      "cell_type": "code",
      "metadata": {
        "id": "crqF9uFtqDlz"
      },
      "source": [
        "consol1['tiempodeconstruido'] = consol1['tiempodeconstruido'].replace(1, 'Menos de 1 año')\n",
        "consol1['tiempodeconstruido'] = consol1['tiempodeconstruido'].replace( 2,'Entre 0 y 5 años')\n",
        "consol1['tiempodeconstruido'] = consol1['tiempodeconstruido'].replace( 3,'1 a 8 años')\n",
        "consol1['tiempodeconstruido'] = consol1['tiempodeconstruido'].replace(4, 'Entre 5 y 10 años')\n",
        "consol1['tiempodeconstruido'] = consol1['tiempodeconstruido'].replace(5, '9 a 15 años')\n",
        "consol1['tiempodeconstruido'] = consol1['tiempodeconstruido'].replace(6, 'Entre 10 y 20 años')\n",
        "consol1['tiempodeconstruido'] = consol1['tiempodeconstruido'].replace( 7,'16 a 30 años')\n",
        "consol1['tiempodeconstruido'] = consol1['tiempodeconstruido'].replace(8, 'Más de 20 años')\n",
        "consol1['tiempodeconstruido'] = consol1['tiempodeconstruido'].replace( 9,'Más de 30 años')\n",
        "consol1['tiempodeconstruido'] = consol1['tiempodeconstruido'].replace(10, 'Remodelado')\n",
        "\n",
        "consol1['tiempodeconstruido'].unique()"
      ],
      "execution_count": null,
      "outputs": []
    },
    {
      "cell_type": "code",
      "metadata": {
        "id": "AseJxMZEvVzn"
      },
      "source": [
        "consol1['vista'] = consol1['vista'].replace(1, 'Exterior')\n",
        "consol1['vista'] = consol1['vista'].replace( 2,'Interior')"
      ],
      "execution_count": null,
      "outputs": []
    },
    {
      "cell_type": "code",
      "metadata": {
        "id": "A7MnhgZzEfjJ"
      },
      "source": [
        "train1 = consol1[consol1.tipo_data==\"train\"]\n",
        "test1 = consol1[consol1.tipo_data==\"test\"]"
      ],
      "execution_count": null,
      "outputs": []
    },
    {
      "cell_type": "code",
      "metadata": {
        "id": "taFlCv5-E9b2"
      },
      "source": [
        "train1.to_csv('/content/gdrive/MyDrive/shp/train_dataV03_1.csv')\n",
        "test1.to_csv('/content/gdrive/MyDrive/shp/test_dataV03_1.csv')"
      ],
      "execution_count": null,
      "outputs": []
    },
    {
      "cell_type": "markdown",
      "metadata": {
        "id": "yIZgbOSfjwOP"
      },
      "source": [
        "### Otras consideraciones"
      ]
    },
    {
      "cell_type": "code",
      "metadata": {
        "id": "YEfhiXs9gM8p"
      },
      "source": [
        "data_train = pd.read_csv('/content/gdrive/MyDrive/shp/train_dataV03_1.csv')\n",
        "data_test = pd.read_csv('/content/gdrive/MyDrive/shp/test_dataV03_1.csv')\n",
        "data_train = data_train.drop(['Unnamed: 0'],axis = 1)\n",
        "data_test = data_test.drop(['Unnamed: 0'],axis = 1)\n"
      ],
      "execution_count": null,
      "outputs": []
    },
    {
      "cell_type": "code",
      "metadata": {
        "id": "kA26bcUmmYt5"
      },
      "source": [
        "consol = data_train.append(data_test)"
      ],
      "execution_count": null,
      "outputs": []
    },
    {
      "cell_type": "markdown",
      "metadata": {
        "id": "EDt6arkwcXpu"
      },
      "source": [
        "A partir del [articulo](https://www.funcionpublica.gov.co/eva/gestornormativo/norma.php?i=14128) nos parece pertinente no considerar viviendas que tengan menos de 35 metros cuadrados.  "
      ]
    },
    {
      "cell_type": "code",
      "metadata": {
        "id": "h27N5KZtN-op"
      },
      "source": [
        "consol = consol[consol.area >= 35]\n",
        "consol.banos[consol.banos == 0] = 1 \n",
        "area_m = consol[consol.area < 70]\n",
        "area_M = consol[consol.area >= 70]\n",
        "area_m.banos[area_m.banos > 4] = 1\n",
        "consol= area_m.append(area_M)\n",
        "area_m = consol[consol.area < 100]\n",
        "area_M = consol[consol.area >= 100]\n",
        "area_m.banos[area_m.banos > 1] = 2\n",
        "consol= area_m.append(area_M)\n",
        "consol.valorventa[consol.id == 326822] = 595000000\n",
        "consol = consol[consol.id != 1035351]"
      ],
      "execution_count": null,
      "outputs": []
    },
    {
      "cell_type": "code",
      "metadata": {
        "id": "Or-JT0kYy5EZ"
      },
      "source": [
        "train = consol[consol.tipo_data==\"train\"]\n",
        "test = consol[consol.tipo_data==\"test\"]"
      ],
      "execution_count": null,
      "outputs": []
    },
    {
      "cell_type": "code",
      "metadata": {
        "id": "sY48QmnejKn0"
      },
      "source": [
        "train.to_csv('/content/gdrive/MyDrive/shp/train_dataV04.csv')\n",
        "test.to_csv('/content/gdrive/MyDrive/shp/test_dataV04.csv')"
      ],
      "execution_count": null,
      "outputs": []
    },
    {
      "cell_type": "markdown",
      "metadata": {
        "id": "TsQkUM00n-tH"
      },
      "source": [
        "## Datos finales "
      ]
    },
    {
      "cell_type": "markdown",
      "metadata": {
        "id": "Y39JQrIg89lN"
      },
      "source": [
        "Se construye la variable respuesta $y$ como la diferencia del valor de referencia catastral y el valor de venta reportado por cada uno de los propietarios. Esto con el objetivo de cuantificar únicamente las propiedades de la vivienda quitando el efecto de la zona en la que se encuentra ubicado el inmueble, aun así se sigue considerando las variables de longitud y latitud en los modelos."
      ]
    },
    {
      "cell_type": "code",
      "metadata": {
        "id": "snRmmoMrEk-I"
      },
      "source": [
        "data_train = pd.read_csv('/content/gdrive/MyDrive/shp/train_dataV04.csv')\n",
        "data_test = pd.read_csv('/content/gdrive/MyDrive/shp/test_dataV04.csv')\n",
        "data_train = data_train.drop(['Unnamed: 0'],axis = 1)\n",
        "data_test = data_test.drop(['Unnamed: 0'],axis = 1)"
      ],
      "execution_count": 4,
      "outputs": []
    },
    {
      "cell_type": "code",
      "metadata": {
        "id": "3DoqTKsezB2v"
      },
      "source": [
        "consolF = data_train.append(data_test)"
      ],
      "execution_count": 5,
      "outputs": []
    },
    {
      "cell_type": "code",
      "metadata": {
        "id": "hbdFpWAjHNh3"
      },
      "source": [
        "consolF['y'] = consolF['V_REF'] - (consolF['valorventa']/consolF['area'])"
      ],
      "execution_count": 6,
      "outputs": []
    },
    {
      "cell_type": "markdown",
      "metadata": {
        "id": "jkNrRvc19kc1"
      },
      "source": [
        "Al observar las variables de zona de lavanderia y salon comunal, la imputación de datos dio como resultado que todos los inmuebles poseen estas características, por ello se excluyen de los modelos, sin embargo es posible su inclusión cuando los valores sean diferentes."
      ]
    },
    {
      "cell_type": "code",
      "metadata": {
        "id": "F0T7Z0BVRFD-",
        "colab": {
          "base_uri": "https://localhost:8080/"
        },
        "outputId": "cfe01981-6261-4425-d3e6-51d1cce74525"
      },
      "source": [
        "print(consolF.zonalavanderia.unique())\n",
        "print(consolF.saloncomunal.unique())"
      ],
      "execution_count": 8,
      "outputs": [
        {
          "output_type": "stream",
          "text": [
            "[1.]\n",
            "[1.]\n"
          ],
          "name": "stdout"
        }
      ]
    },
    {
      "cell_type": "markdown",
      "metadata": {
        "id": "mD13-v62-VK-"
      },
      "source": [
        "Finalmente extraemos las variables de interes y sin datos faltantes, dentro de estas también se excluyen el tipo de negocio que no influye en la variable de interes *asking price*. "
      ]
    },
    {
      "cell_type": "code",
      "metadata": {
        "id": "kRwblgMZuNRu"
      },
      "source": [
        "consolF = consolF.drop(['zonalavanderia', 'saloncomunal', 'ESTRATO'], 1)\n"
      ],
      "execution_count": 9,
      "outputs": []
    },
    {
      "cell_type": "code",
      "metadata": {
        "colab": {
          "base_uri": "https://localhost:8080/"
        },
        "id": "5jTpYKwVACbQ",
        "outputId": "2b97a48e-6bdb-4545-fd3b-a6d0cebbc89c"
      },
      "source": [
        "aux = pd.get_dummies(consolF[['vista', 'tiempodeconstruido', 'tipoinmueble']])\n",
        "consolF[aux.columns]= aux\n",
        "consolF = consolF.drop(['vista', 'tiempodeconstruido', 'tipoinmueble'], 1)\n",
        "consolF = consolF[consolF.columns[(consolF.isna().sum()==0)]]\n",
        "consolF.isna().sum()"
      ],
      "execution_count": 10,
      "outputs": [
        {
          "output_type": "execute_result",
          "data": {
            "text/plain": [
              "id                                       0\n",
              "area                                     0\n",
              "ascensor                                 0\n",
              "balcon                                   0\n",
              "banos                                    0\n",
              "banoservicio                             0\n",
              "conjuntocerrado                          0\n",
              "cuartoservicio                           0\n",
              "deposito                                 0\n",
              "estrato                                  0\n",
              "estudio                                  0\n",
              "garajes                                  0\n",
              "gimnasio                                 0\n",
              "habitaciones                             0\n",
              "halldealcobas                            0\n",
              "parqueaderovisitantes                    0\n",
              "piscina                                  0\n",
              "piso                                     0\n",
              "porteria                                 0\n",
              "remodelado                               0\n",
              "terraza                                  0\n",
              "vigilancia                               0\n",
              "valoradministracion                      0\n",
              "valorventa                               0\n",
              "latitud                                  0\n",
              "longitud                                 0\n",
              "V_REF                                    0\n",
              "tipo_data                                0\n",
              "y                                        0\n",
              "vista_Exterior                           0\n",
              "vista_Interior                           0\n",
              "tiempodeconstruido_1 a 8 años            0\n",
              "tiempodeconstruido_16 a 30 años          0\n",
              "tiempodeconstruido_9 a 15 años           0\n",
              "tiempodeconstruido_Entre 0 y 5 años      0\n",
              "tiempodeconstruido_Entre 10 y 20 años    0\n",
              "tiempodeconstruido_Entre 5 y 10 años     0\n",
              "tiempodeconstruido_Menos de 1 año        0\n",
              "tiempodeconstruido_Más de 20 años        0\n",
              "tiempodeconstruido_Más de 30 años        0\n",
              "tiempodeconstruido_Remodelado            0\n",
              "tipoinmueble_Apartamento                 0\n",
              "tipoinmueble_Casa                        0\n",
              "dtype: int64"
            ]
          },
          "metadata": {
            "tags": []
          },
          "execution_count": 10
        }
      ]
    },
    {
      "cell_type": "code",
      "metadata": {
        "colab": {
          "base_uri": "https://localhost:8080/",
          "height": 456
        },
        "id": "WOQVRbmb_DcQ",
        "outputId": "151e8c2a-37bb-4007-fc33-e5a614774410"
      },
      "source": [
        "consolF"
      ],
      "execution_count": 11,
      "outputs": [
        {
          "output_type": "execute_result",
          "data": {
            "text/html": [
              "<div>\n",
              "<style scoped>\n",
              "    .dataframe tbody tr th:only-of-type {\n",
              "        vertical-align: middle;\n",
              "    }\n",
              "\n",
              "    .dataframe tbody tr th {\n",
              "        vertical-align: top;\n",
              "    }\n",
              "\n",
              "    .dataframe thead th {\n",
              "        text-align: right;\n",
              "    }\n",
              "</style>\n",
              "<table border=\"1\" class=\"dataframe\">\n",
              "  <thead>\n",
              "    <tr style=\"text-align: right;\">\n",
              "      <th></th>\n",
              "      <th>id</th>\n",
              "      <th>area</th>\n",
              "      <th>ascensor</th>\n",
              "      <th>balcon</th>\n",
              "      <th>banos</th>\n",
              "      <th>banoservicio</th>\n",
              "      <th>conjuntocerrado</th>\n",
              "      <th>cuartoservicio</th>\n",
              "      <th>deposito</th>\n",
              "      <th>estrato</th>\n",
              "      <th>estudio</th>\n",
              "      <th>garajes</th>\n",
              "      <th>gimnasio</th>\n",
              "      <th>habitaciones</th>\n",
              "      <th>halldealcobas</th>\n",
              "      <th>parqueaderovisitantes</th>\n",
              "      <th>piscina</th>\n",
              "      <th>piso</th>\n",
              "      <th>porteria</th>\n",
              "      <th>remodelado</th>\n",
              "      <th>terraza</th>\n",
              "      <th>vigilancia</th>\n",
              "      <th>valoradministracion</th>\n",
              "      <th>valorventa</th>\n",
              "      <th>latitud</th>\n",
              "      <th>longitud</th>\n",
              "      <th>V_REF</th>\n",
              "      <th>tipo_data</th>\n",
              "      <th>y</th>\n",
              "      <th>vista_Exterior</th>\n",
              "      <th>vista_Interior</th>\n",
              "      <th>tiempodeconstruido_1 a 8 años</th>\n",
              "      <th>tiempodeconstruido_16 a 30 años</th>\n",
              "      <th>tiempodeconstruido_9 a 15 años</th>\n",
              "      <th>tiempodeconstruido_Entre 0 y 5 años</th>\n",
              "      <th>tiempodeconstruido_Entre 10 y 20 años</th>\n",
              "      <th>tiempodeconstruido_Entre 5 y 10 años</th>\n",
              "      <th>tiempodeconstruido_Menos de 1 año</th>\n",
              "      <th>tiempodeconstruido_Más de 20 años</th>\n",
              "      <th>tiempodeconstruido_Más de 30 años</th>\n",
              "      <th>tiempodeconstruido_Remodelado</th>\n",
              "      <th>tipoinmueble_Apartamento</th>\n",
              "      <th>tipoinmueble_Casa</th>\n",
              "    </tr>\n",
              "  </thead>\n",
              "  <tbody>\n",
              "    <tr>\n",
              "      <th>0</th>\n",
              "      <td>753507</td>\n",
              "      <td>62.00</td>\n",
              "      <td>0.0</td>\n",
              "      <td>0.0</td>\n",
              "      <td>1.0</td>\n",
              "      <td>0.0</td>\n",
              "      <td>1</td>\n",
              "      <td>0.0</td>\n",
              "      <td>0.0</td>\n",
              "      <td>0.0</td>\n",
              "      <td>0.0</td>\n",
              "      <td>0.0</td>\n",
              "      <td>0.0</td>\n",
              "      <td>1.0</td>\n",
              "      <td>1.0</td>\n",
              "      <td>1.0</td>\n",
              "      <td>0.0</td>\n",
              "      <td>2.0</td>\n",
              "      <td>1.0</td>\n",
              "      <td>0.0</td>\n",
              "      <td>0.0</td>\n",
              "      <td>1.0</td>\n",
              "      <td>150000.0</td>\n",
              "      <td>295000000.0</td>\n",
              "      <td>4.653364</td>\n",
              "      <td>-74.117420</td>\n",
              "      <td>5184000.0</td>\n",
              "      <td>train</td>\n",
              "      <td>4.259355e+05</td>\n",
              "      <td>1</td>\n",
              "      <td>0</td>\n",
              "      <td>0</td>\n",
              "      <td>0</td>\n",
              "      <td>0</td>\n",
              "      <td>0</td>\n",
              "      <td>1</td>\n",
              "      <td>0</td>\n",
              "      <td>0</td>\n",
              "      <td>0</td>\n",
              "      <td>0</td>\n",
              "      <td>0</td>\n",
              "      <td>1</td>\n",
              "      <td>0</td>\n",
              "    </tr>\n",
              "    <tr>\n",
              "      <th>1</th>\n",
              "      <td>659642</td>\n",
              "      <td>54.00</td>\n",
              "      <td>0.0</td>\n",
              "      <td>0.0</td>\n",
              "      <td>1.0</td>\n",
              "      <td>0.0</td>\n",
              "      <td>1</td>\n",
              "      <td>0.0</td>\n",
              "      <td>0.0</td>\n",
              "      <td>2.0</td>\n",
              "      <td>0.0</td>\n",
              "      <td>2.0</td>\n",
              "      <td>0.0</td>\n",
              "      <td>0.0</td>\n",
              "      <td>0.0</td>\n",
              "      <td>1.0</td>\n",
              "      <td>0.0</td>\n",
              "      <td>4.0</td>\n",
              "      <td>1.0</td>\n",
              "      <td>0.0</td>\n",
              "      <td>0.0</td>\n",
              "      <td>1.0</td>\n",
              "      <td>62000.0</td>\n",
              "      <td>130000000.0</td>\n",
              "      <td>4.636000</td>\n",
              "      <td>-74.184998</td>\n",
              "      <td>465000.0</td>\n",
              "      <td>train</td>\n",
              "      <td>-1.942407e+06</td>\n",
              "      <td>1</td>\n",
              "      <td>0</td>\n",
              "      <td>0</td>\n",
              "      <td>0</td>\n",
              "      <td>1</td>\n",
              "      <td>0</td>\n",
              "      <td>0</td>\n",
              "      <td>0</td>\n",
              "      <td>0</td>\n",
              "      <td>0</td>\n",
              "      <td>0</td>\n",
              "      <td>0</td>\n",
              "      <td>1</td>\n",
              "      <td>0</td>\n",
              "    </tr>\n",
              "    <tr>\n",
              "      <th>2</th>\n",
              "      <td>482281</td>\n",
              "      <td>54.00</td>\n",
              "      <td>0.0</td>\n",
              "      <td>0.0</td>\n",
              "      <td>1.0</td>\n",
              "      <td>0.0</td>\n",
              "      <td>1</td>\n",
              "      <td>0.0</td>\n",
              "      <td>0.0</td>\n",
              "      <td>2.0</td>\n",
              "      <td>0.0</td>\n",
              "      <td>0.0</td>\n",
              "      <td>0.0</td>\n",
              "      <td>1.0</td>\n",
              "      <td>0.0</td>\n",
              "      <td>1.0</td>\n",
              "      <td>0.0</td>\n",
              "      <td>2.0</td>\n",
              "      <td>1.0</td>\n",
              "      <td>0.0</td>\n",
              "      <td>0.0</td>\n",
              "      <td>1.0</td>\n",
              "      <td>62000.0</td>\n",
              "      <td>130000000.0</td>\n",
              "      <td>4.637573</td>\n",
              "      <td>-74.184343</td>\n",
              "      <td>2020000.0</td>\n",
              "      <td>train</td>\n",
              "      <td>-3.874074e+05</td>\n",
              "      <td>0</td>\n",
              "      <td>1</td>\n",
              "      <td>0</td>\n",
              "      <td>0</td>\n",
              "      <td>0</td>\n",
              "      <td>0</td>\n",
              "      <td>1</td>\n",
              "      <td>0</td>\n",
              "      <td>0</td>\n",
              "      <td>0</td>\n",
              "      <td>0</td>\n",
              "      <td>0</td>\n",
              "      <td>1</td>\n",
              "      <td>0</td>\n",
              "    </tr>\n",
              "    <tr>\n",
              "      <th>3</th>\n",
              "      <td>399154</td>\n",
              "      <td>51.00</td>\n",
              "      <td>1.0</td>\n",
              "      <td>1.0</td>\n",
              "      <td>2.0</td>\n",
              "      <td>0.0</td>\n",
              "      <td>1</td>\n",
              "      <td>0.0</td>\n",
              "      <td>1.0</td>\n",
              "      <td>5.0</td>\n",
              "      <td>0.0</td>\n",
              "      <td>1.0</td>\n",
              "      <td>0.0</td>\n",
              "      <td>1.0</td>\n",
              "      <td>0.0</td>\n",
              "      <td>1.0</td>\n",
              "      <td>0.0</td>\n",
              "      <td>3.0</td>\n",
              "      <td>1.0</td>\n",
              "      <td>0.0</td>\n",
              "      <td>1.0</td>\n",
              "      <td>1.0</td>\n",
              "      <td>273000.0</td>\n",
              "      <td>350000000.0</td>\n",
              "      <td>4.695460</td>\n",
              "      <td>-74.057938</td>\n",
              "      <td>5750000.0</td>\n",
              "      <td>train</td>\n",
              "      <td>-1.112745e+06</td>\n",
              "      <td>1</td>\n",
              "      <td>0</td>\n",
              "      <td>1</td>\n",
              "      <td>0</td>\n",
              "      <td>0</td>\n",
              "      <td>0</td>\n",
              "      <td>0</td>\n",
              "      <td>0</td>\n",
              "      <td>0</td>\n",
              "      <td>0</td>\n",
              "      <td>0</td>\n",
              "      <td>0</td>\n",
              "      <td>1</td>\n",
              "      <td>0</td>\n",
              "    </tr>\n",
              "    <tr>\n",
              "      <th>4</th>\n",
              "      <td>227715</td>\n",
              "      <td>45.00</td>\n",
              "      <td>1.0</td>\n",
              "      <td>0.0</td>\n",
              "      <td>2.0</td>\n",
              "      <td>0.0</td>\n",
              "      <td>1</td>\n",
              "      <td>0.0</td>\n",
              "      <td>1.0</td>\n",
              "      <td>4.0</td>\n",
              "      <td>0.0</td>\n",
              "      <td>1.0</td>\n",
              "      <td>0.0</td>\n",
              "      <td>1.0</td>\n",
              "      <td>0.0</td>\n",
              "      <td>1.0</td>\n",
              "      <td>0.0</td>\n",
              "      <td>1.0</td>\n",
              "      <td>1.0</td>\n",
              "      <td>1.0</td>\n",
              "      <td>0.0</td>\n",
              "      <td>1.0</td>\n",
              "      <td>200000.0</td>\n",
              "      <td>325000000.0</td>\n",
              "      <td>4.641590</td>\n",
              "      <td>-74.102379</td>\n",
              "      <td>5400000.0</td>\n",
              "      <td>train</td>\n",
              "      <td>-1.822222e+06</td>\n",
              "      <td>1</td>\n",
              "      <td>0</td>\n",
              "      <td>0</td>\n",
              "      <td>1</td>\n",
              "      <td>0</td>\n",
              "      <td>0</td>\n",
              "      <td>0</td>\n",
              "      <td>0</td>\n",
              "      <td>0</td>\n",
              "      <td>0</td>\n",
              "      <td>0</td>\n",
              "      <td>0</td>\n",
              "      <td>1</td>\n",
              "      <td>0</td>\n",
              "    </tr>\n",
              "    <tr>\n",
              "      <th>...</th>\n",
              "      <td>...</td>\n",
              "      <td>...</td>\n",
              "      <td>...</td>\n",
              "      <td>...</td>\n",
              "      <td>...</td>\n",
              "      <td>...</td>\n",
              "      <td>...</td>\n",
              "      <td>...</td>\n",
              "      <td>...</td>\n",
              "      <td>...</td>\n",
              "      <td>...</td>\n",
              "      <td>...</td>\n",
              "      <td>...</td>\n",
              "      <td>...</td>\n",
              "      <td>...</td>\n",
              "      <td>...</td>\n",
              "      <td>...</td>\n",
              "      <td>...</td>\n",
              "      <td>...</td>\n",
              "      <td>...</td>\n",
              "      <td>...</td>\n",
              "      <td>...</td>\n",
              "      <td>...</td>\n",
              "      <td>...</td>\n",
              "      <td>...</td>\n",
              "      <td>...</td>\n",
              "      <td>...</td>\n",
              "      <td>...</td>\n",
              "      <td>...</td>\n",
              "      <td>...</td>\n",
              "      <td>...</td>\n",
              "      <td>...</td>\n",
              "      <td>...</td>\n",
              "      <td>...</td>\n",
              "      <td>...</td>\n",
              "      <td>...</td>\n",
              "      <td>...</td>\n",
              "      <td>...</td>\n",
              "      <td>...</td>\n",
              "      <td>...</td>\n",
              "      <td>...</td>\n",
              "      <td>...</td>\n",
              "      <td>...</td>\n",
              "    </tr>\n",
              "    <tr>\n",
              "      <th>46</th>\n",
              "      <td>424985</td>\n",
              "      <td>586.13</td>\n",
              "      <td>0.0</td>\n",
              "      <td>0.0</td>\n",
              "      <td>1.0</td>\n",
              "      <td>0.0</td>\n",
              "      <td>0</td>\n",
              "      <td>0.0</td>\n",
              "      <td>1.0</td>\n",
              "      <td>5.0</td>\n",
              "      <td>1.0</td>\n",
              "      <td>3.0</td>\n",
              "      <td>0.0</td>\n",
              "      <td>4.0</td>\n",
              "      <td>0.0</td>\n",
              "      <td>1.0</td>\n",
              "      <td>0.0</td>\n",
              "      <td>6.0</td>\n",
              "      <td>0.0</td>\n",
              "      <td>0.0</td>\n",
              "      <td>0.0</td>\n",
              "      <td>1.0</td>\n",
              "      <td>198000.0</td>\n",
              "      <td>514330000.0</td>\n",
              "      <td>4.699873</td>\n",
              "      <td>-74.091278</td>\n",
              "      <td>700000.0</td>\n",
              "      <td>test</td>\n",
              "      <td>-1.775016e+05</td>\n",
              "      <td>1</td>\n",
              "      <td>0</td>\n",
              "      <td>0</td>\n",
              "      <td>0</td>\n",
              "      <td>0</td>\n",
              "      <td>0</td>\n",
              "      <td>0</td>\n",
              "      <td>1</td>\n",
              "      <td>0</td>\n",
              "      <td>0</td>\n",
              "      <td>0</td>\n",
              "      <td>0</td>\n",
              "      <td>0</td>\n",
              "      <td>1</td>\n",
              "    </tr>\n",
              "    <tr>\n",
              "      <th>47</th>\n",
              "      <td>394757</td>\n",
              "      <td>460.00</td>\n",
              "      <td>0.0</td>\n",
              "      <td>1.0</td>\n",
              "      <td>1.0</td>\n",
              "      <td>0.0</td>\n",
              "      <td>0</td>\n",
              "      <td>0.0</td>\n",
              "      <td>1.0</td>\n",
              "      <td>6.0</td>\n",
              "      <td>1.0</td>\n",
              "      <td>4.0</td>\n",
              "      <td>0.0</td>\n",
              "      <td>5.0</td>\n",
              "      <td>0.0</td>\n",
              "      <td>1.0</td>\n",
              "      <td>0.0</td>\n",
              "      <td>5.0</td>\n",
              "      <td>0.0</td>\n",
              "      <td>0.0</td>\n",
              "      <td>1.0</td>\n",
              "      <td>1.0</td>\n",
              "      <td>192000.0</td>\n",
              "      <td>330000000.0</td>\n",
              "      <td>4.744649</td>\n",
              "      <td>-74.062973</td>\n",
              "      <td>3500000.0</td>\n",
              "      <td>test</td>\n",
              "      <td>2.782609e+06</td>\n",
              "      <td>1</td>\n",
              "      <td>0</td>\n",
              "      <td>0</td>\n",
              "      <td>0</td>\n",
              "      <td>0</td>\n",
              "      <td>0</td>\n",
              "      <td>0</td>\n",
              "      <td>1</td>\n",
              "      <td>0</td>\n",
              "      <td>0</td>\n",
              "      <td>0</td>\n",
              "      <td>0</td>\n",
              "      <td>0</td>\n",
              "      <td>1</td>\n",
              "    </tr>\n",
              "    <tr>\n",
              "      <th>48</th>\n",
              "      <td>253068</td>\n",
              "      <td>115.00</td>\n",
              "      <td>0.0</td>\n",
              "      <td>0.0</td>\n",
              "      <td>1.0</td>\n",
              "      <td>0.0</td>\n",
              "      <td>0</td>\n",
              "      <td>1.0</td>\n",
              "      <td>1.0</td>\n",
              "      <td>5.0</td>\n",
              "      <td>1.0</td>\n",
              "      <td>2.0</td>\n",
              "      <td>0.0</td>\n",
              "      <td>3.0</td>\n",
              "      <td>0.0</td>\n",
              "      <td>1.0</td>\n",
              "      <td>0.0</td>\n",
              "      <td>4.0</td>\n",
              "      <td>0.0</td>\n",
              "      <td>0.0</td>\n",
              "      <td>1.0</td>\n",
              "      <td>1.0</td>\n",
              "      <td>148000.0</td>\n",
              "      <td>350000000.0</td>\n",
              "      <td>4.744805</td>\n",
              "      <td>-74.063820</td>\n",
              "      <td>3700000.0</td>\n",
              "      <td>test</td>\n",
              "      <td>6.565217e+05</td>\n",
              "      <td>1</td>\n",
              "      <td>0</td>\n",
              "      <td>0</td>\n",
              "      <td>0</td>\n",
              "      <td>0</td>\n",
              "      <td>0</td>\n",
              "      <td>0</td>\n",
              "      <td>1</td>\n",
              "      <td>0</td>\n",
              "      <td>0</td>\n",
              "      <td>0</td>\n",
              "      <td>0</td>\n",
              "      <td>0</td>\n",
              "      <td>1</td>\n",
              "    </tr>\n",
              "    <tr>\n",
              "      <th>49</th>\n",
              "      <td>511414</td>\n",
              "      <td>101.00</td>\n",
              "      <td>0.0</td>\n",
              "      <td>1.0</td>\n",
              "      <td>1.0</td>\n",
              "      <td>0.0</td>\n",
              "      <td>0</td>\n",
              "      <td>0.0</td>\n",
              "      <td>1.0</td>\n",
              "      <td>4.0</td>\n",
              "      <td>1.0</td>\n",
              "      <td>2.0</td>\n",
              "      <td>0.0</td>\n",
              "      <td>2.0</td>\n",
              "      <td>1.0</td>\n",
              "      <td>1.0</td>\n",
              "      <td>0.0</td>\n",
              "      <td>8.0</td>\n",
              "      <td>0.0</td>\n",
              "      <td>0.0</td>\n",
              "      <td>0.0</td>\n",
              "      <td>1.0</td>\n",
              "      <td>624800.0</td>\n",
              "      <td>320000000.0</td>\n",
              "      <td>4.744238</td>\n",
              "      <td>-74.063675</td>\n",
              "      <td>4470000.0</td>\n",
              "      <td>test</td>\n",
              "      <td>1.301683e+06</td>\n",
              "      <td>1</td>\n",
              "      <td>0</td>\n",
              "      <td>0</td>\n",
              "      <td>0</td>\n",
              "      <td>0</td>\n",
              "      <td>0</td>\n",
              "      <td>0</td>\n",
              "      <td>1</td>\n",
              "      <td>0</td>\n",
              "      <td>0</td>\n",
              "      <td>0</td>\n",
              "      <td>0</td>\n",
              "      <td>0</td>\n",
              "      <td>1</td>\n",
              "    </tr>\n",
              "    <tr>\n",
              "      <th>50</th>\n",
              "      <td>425047</td>\n",
              "      <td>103.00</td>\n",
              "      <td>0.0</td>\n",
              "      <td>0.0</td>\n",
              "      <td>2.0</td>\n",
              "      <td>0.0</td>\n",
              "      <td>0</td>\n",
              "      <td>0.0</td>\n",
              "      <td>1.0</td>\n",
              "      <td>3.0</td>\n",
              "      <td>1.0</td>\n",
              "      <td>2.0</td>\n",
              "      <td>0.0</td>\n",
              "      <td>2.0</td>\n",
              "      <td>0.0</td>\n",
              "      <td>1.0</td>\n",
              "      <td>0.0</td>\n",
              "      <td>7.0</td>\n",
              "      <td>0.0</td>\n",
              "      <td>0.0</td>\n",
              "      <td>0.0</td>\n",
              "      <td>1.0</td>\n",
              "      <td>354000.0</td>\n",
              "      <td>390000000.0</td>\n",
              "      <td>4.634088</td>\n",
              "      <td>-74.145699</td>\n",
              "      <td>5950000.0</td>\n",
              "      <td>test</td>\n",
              "      <td>2.163592e+06</td>\n",
              "      <td>1</td>\n",
              "      <td>0</td>\n",
              "      <td>0</td>\n",
              "      <td>0</td>\n",
              "      <td>0</td>\n",
              "      <td>0</td>\n",
              "      <td>0</td>\n",
              "      <td>1</td>\n",
              "      <td>0</td>\n",
              "      <td>0</td>\n",
              "      <td>0</td>\n",
              "      <td>0</td>\n",
              "      <td>0</td>\n",
              "      <td>1</td>\n",
              "    </tr>\n",
              "  </tbody>\n",
              "</table>\n",
              "<p>241971 rows × 43 columns</p>\n",
              "</div>"
            ],
            "text/plain": [
              "        id    area  ...  tipoinmueble_Apartamento  tipoinmueble_Casa\n",
              "0   753507   62.00  ...                         1                  0\n",
              "1   659642   54.00  ...                         1                  0\n",
              "2   482281   54.00  ...                         1                  0\n",
              "3   399154   51.00  ...                         1                  0\n",
              "4   227715   45.00  ...                         1                  0\n",
              "..     ...     ...  ...                       ...                ...\n",
              "46  424985  586.13  ...                         0                  1\n",
              "47  394757  460.00  ...                         0                  1\n",
              "48  253068  115.00  ...                         0                  1\n",
              "49  511414  101.00  ...                         0                  1\n",
              "50  425047  103.00  ...                         0                  1\n",
              "\n",
              "[241971 rows x 43 columns]"
            ]
          },
          "metadata": {
            "tags": []
          },
          "execution_count": 11
        }
      ]
    },
    {
      "cell_type": "code",
      "metadata": {
        "id": "0pX0EhvkomY-"
      },
      "source": [
        "data_train= consolF[consolF.tipo_data == \"train\"].drop([\"tipo_data\"], 1)\n",
        "data_test= consolF[consolF.tipo_data == \"test\"].drop([\"tipo_data\"], 1)\n"
      ],
      "execution_count": 12,
      "outputs": []
    },
    {
      "cell_type": "code",
      "metadata": {
        "colab": {
          "base_uri": "https://localhost:8080/",
          "height": 456
        },
        "id": "eA38RDcr8oU1",
        "outputId": "6e22e060-9ced-4da6-e920-14afed8c1d00"
      },
      "source": [
        "data_train"
      ],
      "execution_count": 13,
      "outputs": [
        {
          "output_type": "execute_result",
          "data": {
            "text/html": [
              "<div>\n",
              "<style scoped>\n",
              "    .dataframe tbody tr th:only-of-type {\n",
              "        vertical-align: middle;\n",
              "    }\n",
              "\n",
              "    .dataframe tbody tr th {\n",
              "        vertical-align: top;\n",
              "    }\n",
              "\n",
              "    .dataframe thead th {\n",
              "        text-align: right;\n",
              "    }\n",
              "</style>\n",
              "<table border=\"1\" class=\"dataframe\">\n",
              "  <thead>\n",
              "    <tr style=\"text-align: right;\">\n",
              "      <th></th>\n",
              "      <th>id</th>\n",
              "      <th>area</th>\n",
              "      <th>ascensor</th>\n",
              "      <th>balcon</th>\n",
              "      <th>banos</th>\n",
              "      <th>banoservicio</th>\n",
              "      <th>conjuntocerrado</th>\n",
              "      <th>cuartoservicio</th>\n",
              "      <th>deposito</th>\n",
              "      <th>estrato</th>\n",
              "      <th>estudio</th>\n",
              "      <th>garajes</th>\n",
              "      <th>gimnasio</th>\n",
              "      <th>habitaciones</th>\n",
              "      <th>halldealcobas</th>\n",
              "      <th>parqueaderovisitantes</th>\n",
              "      <th>piscina</th>\n",
              "      <th>piso</th>\n",
              "      <th>porteria</th>\n",
              "      <th>remodelado</th>\n",
              "      <th>terraza</th>\n",
              "      <th>vigilancia</th>\n",
              "      <th>valoradministracion</th>\n",
              "      <th>valorventa</th>\n",
              "      <th>latitud</th>\n",
              "      <th>longitud</th>\n",
              "      <th>V_REF</th>\n",
              "      <th>y</th>\n",
              "      <th>vista_Exterior</th>\n",
              "      <th>vista_Interior</th>\n",
              "      <th>tiempodeconstruido_1 a 8 años</th>\n",
              "      <th>tiempodeconstruido_16 a 30 años</th>\n",
              "      <th>tiempodeconstruido_9 a 15 años</th>\n",
              "      <th>tiempodeconstruido_Entre 0 y 5 años</th>\n",
              "      <th>tiempodeconstruido_Entre 10 y 20 años</th>\n",
              "      <th>tiempodeconstruido_Entre 5 y 10 años</th>\n",
              "      <th>tiempodeconstruido_Menos de 1 año</th>\n",
              "      <th>tiempodeconstruido_Más de 20 años</th>\n",
              "      <th>tiempodeconstruido_Más de 30 años</th>\n",
              "      <th>tiempodeconstruido_Remodelado</th>\n",
              "      <th>tipoinmueble_Apartamento</th>\n",
              "      <th>tipoinmueble_Casa</th>\n",
              "    </tr>\n",
              "  </thead>\n",
              "  <tbody>\n",
              "    <tr>\n",
              "      <th>0</th>\n",
              "      <td>753507</td>\n",
              "      <td>62.0</td>\n",
              "      <td>0.0</td>\n",
              "      <td>0.0</td>\n",
              "      <td>1.0</td>\n",
              "      <td>0.0</td>\n",
              "      <td>1</td>\n",
              "      <td>0.0</td>\n",
              "      <td>0.0</td>\n",
              "      <td>0.0</td>\n",
              "      <td>0.0</td>\n",
              "      <td>0.0</td>\n",
              "      <td>0.0</td>\n",
              "      <td>1.0</td>\n",
              "      <td>1.0</td>\n",
              "      <td>1.0</td>\n",
              "      <td>0.0</td>\n",
              "      <td>2.0</td>\n",
              "      <td>1.0</td>\n",
              "      <td>0.0</td>\n",
              "      <td>0.0</td>\n",
              "      <td>1.0</td>\n",
              "      <td>150000.0</td>\n",
              "      <td>295000000.0</td>\n",
              "      <td>4.653364</td>\n",
              "      <td>-74.117420</td>\n",
              "      <td>5184000.0</td>\n",
              "      <td>4.259355e+05</td>\n",
              "      <td>1</td>\n",
              "      <td>0</td>\n",
              "      <td>0</td>\n",
              "      <td>0</td>\n",
              "      <td>0</td>\n",
              "      <td>0</td>\n",
              "      <td>1</td>\n",
              "      <td>0</td>\n",
              "      <td>0</td>\n",
              "      <td>0</td>\n",
              "      <td>0</td>\n",
              "      <td>0</td>\n",
              "      <td>1</td>\n",
              "      <td>0</td>\n",
              "    </tr>\n",
              "    <tr>\n",
              "      <th>1</th>\n",
              "      <td>659642</td>\n",
              "      <td>54.0</td>\n",
              "      <td>0.0</td>\n",
              "      <td>0.0</td>\n",
              "      <td>1.0</td>\n",
              "      <td>0.0</td>\n",
              "      <td>1</td>\n",
              "      <td>0.0</td>\n",
              "      <td>0.0</td>\n",
              "      <td>2.0</td>\n",
              "      <td>0.0</td>\n",
              "      <td>2.0</td>\n",
              "      <td>0.0</td>\n",
              "      <td>0.0</td>\n",
              "      <td>0.0</td>\n",
              "      <td>1.0</td>\n",
              "      <td>0.0</td>\n",
              "      <td>4.0</td>\n",
              "      <td>1.0</td>\n",
              "      <td>0.0</td>\n",
              "      <td>0.0</td>\n",
              "      <td>1.0</td>\n",
              "      <td>62000.0</td>\n",
              "      <td>130000000.0</td>\n",
              "      <td>4.636000</td>\n",
              "      <td>-74.184998</td>\n",
              "      <td>465000.0</td>\n",
              "      <td>-1.942407e+06</td>\n",
              "      <td>1</td>\n",
              "      <td>0</td>\n",
              "      <td>0</td>\n",
              "      <td>0</td>\n",
              "      <td>1</td>\n",
              "      <td>0</td>\n",
              "      <td>0</td>\n",
              "      <td>0</td>\n",
              "      <td>0</td>\n",
              "      <td>0</td>\n",
              "      <td>0</td>\n",
              "      <td>0</td>\n",
              "      <td>1</td>\n",
              "      <td>0</td>\n",
              "    </tr>\n",
              "    <tr>\n",
              "      <th>2</th>\n",
              "      <td>482281</td>\n",
              "      <td>54.0</td>\n",
              "      <td>0.0</td>\n",
              "      <td>0.0</td>\n",
              "      <td>1.0</td>\n",
              "      <td>0.0</td>\n",
              "      <td>1</td>\n",
              "      <td>0.0</td>\n",
              "      <td>0.0</td>\n",
              "      <td>2.0</td>\n",
              "      <td>0.0</td>\n",
              "      <td>0.0</td>\n",
              "      <td>0.0</td>\n",
              "      <td>1.0</td>\n",
              "      <td>0.0</td>\n",
              "      <td>1.0</td>\n",
              "      <td>0.0</td>\n",
              "      <td>2.0</td>\n",
              "      <td>1.0</td>\n",
              "      <td>0.0</td>\n",
              "      <td>0.0</td>\n",
              "      <td>1.0</td>\n",
              "      <td>62000.0</td>\n",
              "      <td>130000000.0</td>\n",
              "      <td>4.637573</td>\n",
              "      <td>-74.184343</td>\n",
              "      <td>2020000.0</td>\n",
              "      <td>-3.874074e+05</td>\n",
              "      <td>0</td>\n",
              "      <td>1</td>\n",
              "      <td>0</td>\n",
              "      <td>0</td>\n",
              "      <td>0</td>\n",
              "      <td>0</td>\n",
              "      <td>1</td>\n",
              "      <td>0</td>\n",
              "      <td>0</td>\n",
              "      <td>0</td>\n",
              "      <td>0</td>\n",
              "      <td>0</td>\n",
              "      <td>1</td>\n",
              "      <td>0</td>\n",
              "    </tr>\n",
              "    <tr>\n",
              "      <th>3</th>\n",
              "      <td>399154</td>\n",
              "      <td>51.0</td>\n",
              "      <td>1.0</td>\n",
              "      <td>1.0</td>\n",
              "      <td>2.0</td>\n",
              "      <td>0.0</td>\n",
              "      <td>1</td>\n",
              "      <td>0.0</td>\n",
              "      <td>1.0</td>\n",
              "      <td>5.0</td>\n",
              "      <td>0.0</td>\n",
              "      <td>1.0</td>\n",
              "      <td>0.0</td>\n",
              "      <td>1.0</td>\n",
              "      <td>0.0</td>\n",
              "      <td>1.0</td>\n",
              "      <td>0.0</td>\n",
              "      <td>3.0</td>\n",
              "      <td>1.0</td>\n",
              "      <td>0.0</td>\n",
              "      <td>1.0</td>\n",
              "      <td>1.0</td>\n",
              "      <td>273000.0</td>\n",
              "      <td>350000000.0</td>\n",
              "      <td>4.695460</td>\n",
              "      <td>-74.057938</td>\n",
              "      <td>5750000.0</td>\n",
              "      <td>-1.112745e+06</td>\n",
              "      <td>1</td>\n",
              "      <td>0</td>\n",
              "      <td>1</td>\n",
              "      <td>0</td>\n",
              "      <td>0</td>\n",
              "      <td>0</td>\n",
              "      <td>0</td>\n",
              "      <td>0</td>\n",
              "      <td>0</td>\n",
              "      <td>0</td>\n",
              "      <td>0</td>\n",
              "      <td>0</td>\n",
              "      <td>1</td>\n",
              "      <td>0</td>\n",
              "    </tr>\n",
              "    <tr>\n",
              "      <th>4</th>\n",
              "      <td>227715</td>\n",
              "      <td>45.0</td>\n",
              "      <td>1.0</td>\n",
              "      <td>0.0</td>\n",
              "      <td>2.0</td>\n",
              "      <td>0.0</td>\n",
              "      <td>1</td>\n",
              "      <td>0.0</td>\n",
              "      <td>1.0</td>\n",
              "      <td>4.0</td>\n",
              "      <td>0.0</td>\n",
              "      <td>1.0</td>\n",
              "      <td>0.0</td>\n",
              "      <td>1.0</td>\n",
              "      <td>0.0</td>\n",
              "      <td>1.0</td>\n",
              "      <td>0.0</td>\n",
              "      <td>1.0</td>\n",
              "      <td>1.0</td>\n",
              "      <td>1.0</td>\n",
              "      <td>0.0</td>\n",
              "      <td>1.0</td>\n",
              "      <td>200000.0</td>\n",
              "      <td>325000000.0</td>\n",
              "      <td>4.641590</td>\n",
              "      <td>-74.102379</td>\n",
              "      <td>5400000.0</td>\n",
              "      <td>-1.822222e+06</td>\n",
              "      <td>1</td>\n",
              "      <td>0</td>\n",
              "      <td>0</td>\n",
              "      <td>1</td>\n",
              "      <td>0</td>\n",
              "      <td>0</td>\n",
              "      <td>0</td>\n",
              "      <td>0</td>\n",
              "      <td>0</td>\n",
              "      <td>0</td>\n",
              "      <td>0</td>\n",
              "      <td>0</td>\n",
              "      <td>1</td>\n",
              "      <td>0</td>\n",
              "    </tr>\n",
              "    <tr>\n",
              "      <th>...</th>\n",
              "      <td>...</td>\n",
              "      <td>...</td>\n",
              "      <td>...</td>\n",
              "      <td>...</td>\n",
              "      <td>...</td>\n",
              "      <td>...</td>\n",
              "      <td>...</td>\n",
              "      <td>...</td>\n",
              "      <td>...</td>\n",
              "      <td>...</td>\n",
              "      <td>...</td>\n",
              "      <td>...</td>\n",
              "      <td>...</td>\n",
              "      <td>...</td>\n",
              "      <td>...</td>\n",
              "      <td>...</td>\n",
              "      <td>...</td>\n",
              "      <td>...</td>\n",
              "      <td>...</td>\n",
              "      <td>...</td>\n",
              "      <td>...</td>\n",
              "      <td>...</td>\n",
              "      <td>...</td>\n",
              "      <td>...</td>\n",
              "      <td>...</td>\n",
              "      <td>...</td>\n",
              "      <td>...</td>\n",
              "      <td>...</td>\n",
              "      <td>...</td>\n",
              "      <td>...</td>\n",
              "      <td>...</td>\n",
              "      <td>...</td>\n",
              "      <td>...</td>\n",
              "      <td>...</td>\n",
              "      <td>...</td>\n",
              "      <td>...</td>\n",
              "      <td>...</td>\n",
              "      <td>...</td>\n",
              "      <td>...</td>\n",
              "      <td>...</td>\n",
              "      <td>...</td>\n",
              "      <td>...</td>\n",
              "    </tr>\n",
              "    <tr>\n",
              "      <th>241915</th>\n",
              "      <td>6262941</td>\n",
              "      <td>235.0</td>\n",
              "      <td>0.0</td>\n",
              "      <td>0.0</td>\n",
              "      <td>4.0</td>\n",
              "      <td>0.0</td>\n",
              "      <td>0</td>\n",
              "      <td>1.0</td>\n",
              "      <td>1.0</td>\n",
              "      <td>4.0</td>\n",
              "      <td>1.0</td>\n",
              "      <td>2.0</td>\n",
              "      <td>0.0</td>\n",
              "      <td>4.0</td>\n",
              "      <td>1.0</td>\n",
              "      <td>1.0</td>\n",
              "      <td>0.0</td>\n",
              "      <td>2.0</td>\n",
              "      <td>0.0</td>\n",
              "      <td>0.0</td>\n",
              "      <td>0.0</td>\n",
              "      <td>1.0</td>\n",
              "      <td>437960000.0</td>\n",
              "      <td>805692395.0</td>\n",
              "      <td>4.737393</td>\n",
              "      <td>-74.038282</td>\n",
              "      <td>5160000.0</td>\n",
              "      <td>1.731522e+06</td>\n",
              "      <td>1</td>\n",
              "      <td>0</td>\n",
              "      <td>0</td>\n",
              "      <td>0</td>\n",
              "      <td>0</td>\n",
              "      <td>0</td>\n",
              "      <td>0</td>\n",
              "      <td>0</td>\n",
              "      <td>0</td>\n",
              "      <td>1</td>\n",
              "      <td>0</td>\n",
              "      <td>0</td>\n",
              "      <td>0</td>\n",
              "      <td>1</td>\n",
              "    </tr>\n",
              "    <tr>\n",
              "      <th>241916</th>\n",
              "      <td>6262942</td>\n",
              "      <td>225.0</td>\n",
              "      <td>0.0</td>\n",
              "      <td>0.0</td>\n",
              "      <td>4.0</td>\n",
              "      <td>0.0</td>\n",
              "      <td>0</td>\n",
              "      <td>1.0</td>\n",
              "      <td>1.0</td>\n",
              "      <td>4.0</td>\n",
              "      <td>1.0</td>\n",
              "      <td>2.0</td>\n",
              "      <td>0.0</td>\n",
              "      <td>4.0</td>\n",
              "      <td>1.0</td>\n",
              "      <td>1.0</td>\n",
              "      <td>0.0</td>\n",
              "      <td>4.0</td>\n",
              "      <td>0.0</td>\n",
              "      <td>0.0</td>\n",
              "      <td>0.0</td>\n",
              "      <td>1.0</td>\n",
              "      <td>465200000.0</td>\n",
              "      <td>750956587.0</td>\n",
              "      <td>4.734240</td>\n",
              "      <td>-74.038518</td>\n",
              "      <td>3230000.0</td>\n",
              "      <td>-1.075848e+05</td>\n",
              "      <td>1</td>\n",
              "      <td>0</td>\n",
              "      <td>0</td>\n",
              "      <td>0</td>\n",
              "      <td>0</td>\n",
              "      <td>0</td>\n",
              "      <td>0</td>\n",
              "      <td>0</td>\n",
              "      <td>0</td>\n",
              "      <td>1</td>\n",
              "      <td>0</td>\n",
              "      <td>0</td>\n",
              "      <td>0</td>\n",
              "      <td>1</td>\n",
              "    </tr>\n",
              "    <tr>\n",
              "      <th>241917</th>\n",
              "      <td>6262943</td>\n",
              "      <td>235.0</td>\n",
              "      <td>0.0</td>\n",
              "      <td>0.0</td>\n",
              "      <td>4.0</td>\n",
              "      <td>0.0</td>\n",
              "      <td>0</td>\n",
              "      <td>1.0</td>\n",
              "      <td>1.0</td>\n",
              "      <td>4.0</td>\n",
              "      <td>1.0</td>\n",
              "      <td>2.0</td>\n",
              "      <td>0.0</td>\n",
              "      <td>4.0</td>\n",
              "      <td>1.0</td>\n",
              "      <td>1.0</td>\n",
              "      <td>0.0</td>\n",
              "      <td>3.0</td>\n",
              "      <td>0.0</td>\n",
              "      <td>0.0</td>\n",
              "      <td>0.0</td>\n",
              "      <td>1.0</td>\n",
              "      <td>305008000.0</td>\n",
              "      <td>752561771.0</td>\n",
              "      <td>4.736392</td>\n",
              "      <td>-74.040659</td>\n",
              "      <td>2400000.0</td>\n",
              "      <td>-8.023905e+05</td>\n",
              "      <td>1</td>\n",
              "      <td>0</td>\n",
              "      <td>0</td>\n",
              "      <td>0</td>\n",
              "      <td>0</td>\n",
              "      <td>0</td>\n",
              "      <td>0</td>\n",
              "      <td>0</td>\n",
              "      <td>0</td>\n",
              "      <td>1</td>\n",
              "      <td>0</td>\n",
              "      <td>0</td>\n",
              "      <td>0</td>\n",
              "      <td>1</td>\n",
              "    </tr>\n",
              "    <tr>\n",
              "      <th>241918</th>\n",
              "      <td>6262944</td>\n",
              "      <td>232.0</td>\n",
              "      <td>0.0</td>\n",
              "      <td>0.0</td>\n",
              "      <td>4.0</td>\n",
              "      <td>0.0</td>\n",
              "      <td>0</td>\n",
              "      <td>1.0</td>\n",
              "      <td>1.0</td>\n",
              "      <td>4.0</td>\n",
              "      <td>1.0</td>\n",
              "      <td>2.0</td>\n",
              "      <td>0.0</td>\n",
              "      <td>4.0</td>\n",
              "      <td>1.0</td>\n",
              "      <td>1.0</td>\n",
              "      <td>0.0</td>\n",
              "      <td>2.0</td>\n",
              "      <td>0.0</td>\n",
              "      <td>0.0</td>\n",
              "      <td>0.0</td>\n",
              "      <td>1.0</td>\n",
              "      <td>263915200.0</td>\n",
              "      <td>704942538.0</td>\n",
              "      <td>4.737524</td>\n",
              "      <td>-74.040292</td>\n",
              "      <td>2400000.0</td>\n",
              "      <td>-6.385454e+05</td>\n",
              "      <td>1</td>\n",
              "      <td>0</td>\n",
              "      <td>0</td>\n",
              "      <td>0</td>\n",
              "      <td>0</td>\n",
              "      <td>0</td>\n",
              "      <td>0</td>\n",
              "      <td>0</td>\n",
              "      <td>0</td>\n",
              "      <td>1</td>\n",
              "      <td>0</td>\n",
              "      <td>0</td>\n",
              "      <td>0</td>\n",
              "      <td>1</td>\n",
              "    </tr>\n",
              "    <tr>\n",
              "      <th>241919</th>\n",
              "      <td>6262945</td>\n",
              "      <td>237.0</td>\n",
              "      <td>0.0</td>\n",
              "      <td>0.0</td>\n",
              "      <td>4.0</td>\n",
              "      <td>0.0</td>\n",
              "      <td>0</td>\n",
              "      <td>1.0</td>\n",
              "      <td>1.0</td>\n",
              "      <td>5.0</td>\n",
              "      <td>1.0</td>\n",
              "      <td>2.0</td>\n",
              "      <td>0.0</td>\n",
              "      <td>3.0</td>\n",
              "      <td>1.0</td>\n",
              "      <td>1.0</td>\n",
              "      <td>0.0</td>\n",
              "      <td>3.0</td>\n",
              "      <td>0.0</td>\n",
              "      <td>0.0</td>\n",
              "      <td>1.0</td>\n",
              "      <td>1.0</td>\n",
              "      <td>461960.0</td>\n",
              "      <td>934932308.0</td>\n",
              "      <td>4.702653</td>\n",
              "      <td>-74.058467</td>\n",
              "      <td>2500000.0</td>\n",
              "      <td>-1.444862e+06</td>\n",
              "      <td>1</td>\n",
              "      <td>0</td>\n",
              "      <td>0</td>\n",
              "      <td>0</td>\n",
              "      <td>0</td>\n",
              "      <td>0</td>\n",
              "      <td>1</td>\n",
              "      <td>0</td>\n",
              "      <td>0</td>\n",
              "      <td>0</td>\n",
              "      <td>0</td>\n",
              "      <td>0</td>\n",
              "      <td>0</td>\n",
              "      <td>1</td>\n",
              "    </tr>\n",
              "  </tbody>\n",
              "</table>\n",
              "<p>241920 rows × 42 columns</p>\n",
              "</div>"
            ],
            "text/plain": [
              "             id   area  ...  tipoinmueble_Apartamento  tipoinmueble_Casa\n",
              "0        753507   62.0  ...                         1                  0\n",
              "1        659642   54.0  ...                         1                  0\n",
              "2        482281   54.0  ...                         1                  0\n",
              "3        399154   51.0  ...                         1                  0\n",
              "4        227715   45.0  ...                         1                  0\n",
              "...         ...    ...  ...                       ...                ...\n",
              "241915  6262941  235.0  ...                         0                  1\n",
              "241916  6262942  225.0  ...                         0                  1\n",
              "241917  6262943  235.0  ...                         0                  1\n",
              "241918  6262944  232.0  ...                         0                  1\n",
              "241919  6262945  237.0  ...                         0                  1\n",
              "\n",
              "[241920 rows x 42 columns]"
            ]
          },
          "metadata": {
            "tags": []
          },
          "execution_count": 13
        }
      ]
    },
    {
      "cell_type": "code",
      "metadata": {
        "colab": {
          "base_uri": "https://localhost:8080/"
        },
        "id": "MLOSIdnG8qUr",
        "outputId": "32062902-3f70-408c-b753-8504d4e04d47"
      },
      "source": [
        "data_test.columns"
      ],
      "execution_count": 14,
      "outputs": [
        {
          "output_type": "execute_result",
          "data": {
            "text/plain": [
              "Index(['id', 'area', 'ascensor', 'balcon', 'banos', 'banoservicio',\n",
              "       'conjuntocerrado', 'cuartoservicio', 'deposito', 'estrato', 'estudio',\n",
              "       'garajes', 'gimnasio', 'habitaciones', 'halldealcobas',\n",
              "       'parqueaderovisitantes', 'piscina', 'piso', 'porteria', 'remodelado',\n",
              "       'terraza', 'vigilancia', 'valoradministracion', 'valorventa', 'latitud',\n",
              "       'longitud', 'V_REF', 'y', 'vista_Exterior', 'vista_Interior',\n",
              "       'tiempodeconstruido_1 a 8 años', 'tiempodeconstruido_16 a 30 años',\n",
              "       'tiempodeconstruido_9 a 15 años', 'tiempodeconstruido_Entre 0 y 5 años',\n",
              "       'tiempodeconstruido_Entre 10 y 20 años',\n",
              "       'tiempodeconstruido_Entre 5 y 10 años',\n",
              "       'tiempodeconstruido_Menos de 1 año',\n",
              "       'tiempodeconstruido_Más de 20 años',\n",
              "       'tiempodeconstruido_Más de 30 años', 'tiempodeconstruido_Remodelado',\n",
              "       'tipoinmueble_Apartamento', 'tipoinmueble_Casa'],\n",
              "      dtype='object')"
            ]
          },
          "metadata": {
            "tags": []
          },
          "execution_count": 14
        }
      ]
    },
    {
      "cell_type": "markdown",
      "metadata": {
        "id": "PyVBXLdiKE3y"
      },
      "source": [
        "# Estadísticas descriptivas"
      ]
    },
    {
      "cell_type": "markdown",
      "metadata": {
        "id": "37HHn9ChMczJ"
      },
      "source": [
        "Una manera rápida de la visualización de los datos que el reto nos indica es a través de este scatter plot donde para nuestra variable de interés $y$ observamos la nube de puntos para algunas variables que nos parecieron relevantes."
      ]
    },
    {
      "cell_type": "code",
      "metadata": {
        "id": "QoKk6V3fQvZf",
        "colab": {
          "base_uri": "https://localhost:8080/",
          "height": 1000
        },
        "outputId": "66aa158f-d848-4a6d-a390-18a09fe36a60"
      },
      "source": [
        "pd.plotting.scatter_matrix(data_test[['area', 'estrato', 'banos', 'piso', 'valoradministracion', 'y',\n",
        "                                     'latitud', 'longitud']], figsize=(16,16))"
      ],
      "execution_count": 15,
      "outputs": [
        {
          "output_type": "execute_result",
          "data": {
            "text/plain": [
              "array([[<matplotlib.axes._subplots.AxesSubplot object at 0x7f0718643dd0>,\n",
              "        <matplotlib.axes._subplots.AxesSubplot object at 0x7f0700564f50>,\n",
              "        <matplotlib.axes._subplots.AxesSubplot object at 0x7f07012a6bd0>,\n",
              "        <matplotlib.axes._subplots.AxesSubplot object at 0x7f070169fed0>,\n",
              "        <matplotlib.axes._subplots.AxesSubplot object at 0x7f070051f910>,\n",
              "        <matplotlib.axes._subplots.AxesSubplot object at 0x7f0701504f90>,\n",
              "        <matplotlib.axes._subplots.AxesSubplot object at 0x7f070131e6d0>,\n",
              "        <matplotlib.axes._subplots.AxesSubplot object at 0x7f070140cc90>],\n",
              "       [<matplotlib.axes._subplots.AxesSubplot object at 0x7f070140ccd0>,\n",
              "        <matplotlib.axes._subplots.AxesSubplot object at 0x7f07015765d0>,\n",
              "        <matplotlib.axes._subplots.AxesSubplot object at 0x7f07012ec0d0>,\n",
              "        <matplotlib.axes._subplots.AxesSubplot object at 0x7f070135d750>,\n",
              "        <matplotlib.axes._subplots.AxesSubplot object at 0x7f070136add0>,\n",
              "        <matplotlib.axes._subplots.AxesSubplot object at 0x7f0701396490>,\n",
              "        <matplotlib.axes._subplots.AxesSubplot object at 0x7f0701410710>,\n",
              "        <matplotlib.axes._subplots.AxesSubplot object at 0x7f07016421d0>],\n",
              "       [<matplotlib.axes._subplots.AxesSubplot object at 0x7f07011f59d0>,\n",
              "        <matplotlib.axes._subplots.AxesSubplot object at 0x7f0701476410>,\n",
              "        <matplotlib.axes._subplots.AxesSubplot object at 0x7f07014a2b90>,\n",
              "        <matplotlib.axes._subplots.AxesSubplot object at 0x7f07015a5c10>,\n",
              "        <matplotlib.axes._subplots.AxesSubplot object at 0x7f0701548a10>,\n",
              "        <matplotlib.axes._subplots.AxesSubplot object at 0x7f07015e6a10>,\n",
              "        <matplotlib.axes._subplots.AxesSubplot object at 0x7f0701656b10>,\n",
              "        <matplotlib.axes._subplots.AxesSubplot object at 0x7f0701263690>],\n",
              "       [<matplotlib.axes._subplots.AxesSubplot object at 0x7f07004ced10>,\n",
              "        <matplotlib.axes._subplots.AxesSubplot object at 0x7f07004913d0>,\n",
              "        <matplotlib.axes._subplots.AxesSubplot object at 0x7f07004c6a50>,\n",
              "        <matplotlib.axes._subplots.AxesSubplot object at 0x7f0700409110>,\n",
              "        <matplotlib.axes._subplots.AxesSubplot object at 0x7f070043f790>,\n",
              "        <matplotlib.axes._subplots.AxesSubplot object at 0x7f07003f4e10>,\n",
              "        <matplotlib.axes._subplots.AxesSubplot object at 0x7f07003adfd0>,\n",
              "        <matplotlib.axes._subplots.AxesSubplot object at 0x7f070036e5d0>],\n",
              "       [<matplotlib.axes._subplots.AxesSubplot object at 0x7f0700322b50>,\n",
              "        <matplotlib.axes._subplots.AxesSubplot object at 0x7f07002e6110>,\n",
              "        <matplotlib.axes._subplots.AxesSubplot object at 0x7f070029a690>,\n",
              "        <matplotlib.axes._subplots.AxesSubplot object at 0x7f0700564350>,\n",
              "        <matplotlib.axes._subplots.AxesSubplot object at 0x7f070157e350>,\n",
              "        <matplotlib.axes._subplots.AxesSubplot object at 0x7f07016312d0>,\n",
              "        <matplotlib.axes._subplots.AxesSubplot object at 0x7f070166e590>,\n",
              "        <matplotlib.axes._subplots.AxesSubplot object at 0x7f07b6457a10>],\n",
              "       [<matplotlib.axes._subplots.AxesSubplot object at 0x7f0700163690>,\n",
              "        <matplotlib.axes._subplots.AxesSubplot object at 0x7f0700116d10>,\n",
              "        <matplotlib.axes._subplots.AxesSubplot object at 0x7f07000db3d0>,\n",
              "        <matplotlib.axes._subplots.AxesSubplot object at 0x7f070008fa50>,\n",
              "        <matplotlib.axes._subplots.AxesSubplot object at 0x7f0700051110>,\n",
              "        <matplotlib.axes._subplots.AxesSubplot object at 0x7f07000837d0>,\n",
              "        <matplotlib.axes._subplots.AxesSubplot object at 0x7f0700038e50>,\n",
              "        <matplotlib.axes._subplots.AxesSubplot object at 0x7f06c81d9510>],\n",
              "       [<matplotlib.axes._subplots.AxesSubplot object at 0x7f06c8191b90>,\n",
              "        <matplotlib.axes._subplots.AxesSubplot object at 0x7f06c8152250>,\n",
              "        <matplotlib.axes._subplots.AxesSubplot object at 0x7f06c81078d0>,\n",
              "        <matplotlib.axes._subplots.AxesSubplot object at 0x7f06c80bbf50>,\n",
              "        <matplotlib.axes._subplots.AxesSubplot object at 0x7f06c807d610>,\n",
              "        <matplotlib.axes._subplots.AxesSubplot object at 0x7f06c8031c90>,\n",
              "        <matplotlib.axes._subplots.AxesSubplot object at 0x7f06b97cc350>,\n",
              "        <matplotlib.axes._subplots.AxesSubplot object at 0x7f06b9781a10>],\n",
              "       [<matplotlib.axes._subplots.AxesSubplot object at 0x7f06b97440d0>,\n",
              "        <matplotlib.axes._subplots.AxesSubplot object at 0x7f06b977a750>,\n",
              "        <matplotlib.axes._subplots.AxesSubplot object at 0x7f06b9730dd0>,\n",
              "        <matplotlib.axes._subplots.AxesSubplot object at 0x7f06b96f0490>,\n",
              "        <matplotlib.axes._subplots.AxesSubplot object at 0x7f06b96a5b10>,\n",
              "        <matplotlib.axes._subplots.AxesSubplot object at 0x7f06b96691d0>,\n",
              "        <matplotlib.axes._subplots.AxesSubplot object at 0x7f06b961d850>,\n",
              "        <matplotlib.axes._subplots.AxesSubplot object at 0x7f06b95d3ed0>]],\n",
              "      dtype=object)"
            ]
          },
          "metadata": {
            "tags": []
          },
          "execution_count": 15
        },
        {
          "output_type": "display_data",
          "data": {
            "image/png": "[encoded data removed]",
            "text/plain": [
              "<Figure size 1152x1152 with 64 Axes>"
            ]
          },
          "metadata": {
            "tags": [],
            "needs_background": "light"
          }
        }
      ]
    },
    {
      "cell_type": "markdown",
      "metadata": {
        "id": "wM_aNq0gkZEP"
      },
      "source": [
        "## Correlaciones lineales entre las variables"
      ]
    },
    {
      "cell_type": "markdown",
      "metadata": {
        "id": "2reWRxjT2ICK"
      },
      "source": [
        "A manera de una descripción breve de los datos así como de lo que se puede incluir en un modelo de regresión se visualizan los tres coeficientes de correlación lineal, aunque se tengan valores bastante bajos en valores absolutos nos podemos dar una idea de que puede influir más en el precio del inmueble. Aun así en el modelo considerado se incluyen todas las variables, más adelante es posible realizar un procedimiento backward para no introducir ruido al modelo."
      ]
    },
    {
      "cell_type": "code",
      "metadata": {
        "id": "lEXeOF4q2IiI"
      },
      "source": [
        "#Calcular correlación entre variables\n",
        "df = data_train\n",
        "correlation_Pearson = df.corr(method='pearson')\n",
        "i = np.argsort(correlation_Pearson.iloc[0,:]).values\n",
        "correlation_Pearson = df.iloc[:,i].corr(method='pearson')\n",
        "correlation_Kendall = df.iloc[:,i].corr(method='kendall')\n",
        "correlation_Spearman = df.iloc[:,i].corr(method='spearman')"
      ],
      "execution_count": 16,
      "outputs": []
    },
    {
      "cell_type": "code",
      "metadata": {
        "id": "LT-kYY4m2OvN",
        "colab": {
          "base_uri": "https://localhost:8080/",
          "height": 537
        },
        "outputId": "b486d084-8bde-4547-e68b-7dfdcb3aa31e"
      },
      "source": [
        "fig = go.Figure()\n",
        "fig.add_trace(go.Heatmap(z=correlation_Pearson.values,\n",
        "                         x=np.arange(0,correlation_Pearson.shape[0]),\n",
        "                         y=correlation_Pearson.columns,hoverongaps = False))\n",
        "updatemenu = []\n",
        "buttons = []\n",
        "buttons.append(dict(method = 'restyle',label = \"Correlación de pearson\",visible = True, \n",
        "                        args = [{'z':[correlation_Pearson.values],\n",
        "                                 'x':[np.arange(0,correlation_Pearson.shape[0])],\n",
        "                                 'y':[correlation_Pearson.columns],\n",
        "                                 'type':'heatmap'}, [0]],))\n",
        "buttons.append(dict(method = 'restyle',label = \"Correlación de kendall\",visible = True, \n",
        "                        args = [{'z':[correlation_Kendall.values],\n",
        "                                 'x':[np.arange(0,correlation_Kendall.shape[0])],\n",
        "                                 'y':[correlation_Kendall.columns],\n",
        "                                 'type':'heatmap'}, [0]],))\n",
        "buttons.append(dict(method = 'restyle',label = \"Correlación de spearman\",visible = True, \n",
        "                        args = [{'z':[correlation_Spearman.values],\n",
        "                                 'x':[np.arange(0,correlation_Spearman.shape[0])],\n",
        "                                 'y':[correlation_Spearman.columns],\n",
        "                                 'type':'heatmap'}, [0]],))\n",
        "updatemenu = []\n",
        "your_menu = dict()\n",
        "updatemenu.append(your_menu)\n",
        "updatemenu[0]['buttons'] = buttons\n",
        "updatemenu[0]['direction'] = 'down'\n",
        "updatemenu[0]['x'] = 0.7\n",
        "updatemenu[0]['y'] = 1.15\n",
        "updatemenu[0]['showactive'] = True\n",
        "fig.update_xaxes(side=\"top\")\n",
        "fig.update_layout(\n",
        "    showlegend = False,\n",
        "    height=500,width = 1000,\n",
        "    updatemenus = updatemenu,\n",
        "    xaxis = dict(\n",
        "        tickmode = 'array',\n",
        "        tickvals = np.arange(0,correlation_Pearson.shape[0]),\n",
        "        ticktext = np.arange(0,correlation_Pearson.shape[0])[::-1]\n",
        "    ),\n",
        "    legend_orientation=\"h\"\n",
        ")\n",
        "fig.show()"
      ],
      "execution_count": 17,
      "outputs": [
        {
          "output_type": "display_data",
          "data": {
            "text/html": [
              "<html>\n",
              "<head><meta charset=\"utf-8\" /></head>\n",
              "<body>\n",
              "    <div>\n",
              "            <script src=\"https://cdnjs.cloudflare.com/ajax/libs/mathjax/2.7.5/MathJax.js?config=TeX-AMS-MML_SVG\"></script><script type=\"text/javascript\">if (window.MathJax) {MathJax.Hub.Config({SVG: {font: \"STIX-Web\"}});}</script>\n",
              "                <script type=\"text/javascript\">window.PlotlyConfig = {MathJaxConfig: 'local'};</script>\n",
              "        <script src=\"https://cdn.plot.ly/plotly-latest.min.js\"></script>    \n",
              "            <div id=\"d5697650-5ad9-4b68-ab6d-8f3a6cd167fd\" class=\"plotly-graph-div\" style=\"height:500px; width:1000px;\"></div>\n",
              "            <script type=\"text/javascript\">\n",
              "                \n",
              "                    window.PLOTLYENV=window.PLOTLYENV || {};\n",
              "                    \n",
              "                if (document.getElementById(\"d5697650-5ad9-4b68-ab6d-8f3a6cd167fd\")) {\n",
              "                    Plotly.newPlot(\n",
              "                        'd5697650-5ad9-4b68-ab6d-8f3a6cd167fd',\n",
              "                        [{\"hoverongaps\": false, \"type\": \"heatmap\", \"x\": [0, 1, 2, 3, 4, 5, 6, 7, 8, 9, 10, 11, 12, 13, 14, 15, 16, 17, 18, 19, 20, 21, 22, 23, 24, 25, 26, 27, 28, 29, 30, 31, 32, 33, 34, 35, 36, 37, 38, 39, 40, 41], \"y\": [\"estrato\", \"tipoinmueble_Apartamento\", \"longitud\", \"tiempodeconstruido_Entre 10 y 20 a\\u00f1os\", \"tiempodeconstruido_Entre 0 y 5 a\\u00f1os\", \"tiempodeconstruido_Remodelado\", \"garajes\", \"tiempodeconstruido_Entre 5 y 10 a\\u00f1os\", \"ascensor\", \"V_REF\", \"gimnasio\", \"latitud\", \"remodelado\", \"area\", \"piso\", \"banos\", \"tiempodeconstruido_M\\u00e1s de 20 a\\u00f1os\", \"piscina\", \"balcon\", \"conjuntocerrado\", \"porteria\", \"vigilancia\", \"terraza\", \"cuartoservicio\", \"vista_Interior\", \"y\", \"valorventa\", \"parqueaderovisitantes\", \"vista_Exterior\", \"halldealcobas\", \"tiempodeconstruido_Menos de 1 a\\u00f1o\", \"deposito\", \"tiempodeconstruido_M\\u00e1s de 30 a\\u00f1os\", \"habitaciones\", \"estudio\", \"tiempodeconstruido_1 a 8 a\\u00f1os\", \"valoradministracion\", \"tiempodeconstruido_9 a 15 a\\u00f1os\", \"tiempodeconstruido_16 a 30 a\\u00f1os\", \"banoservicio\", \"tipoinmueble_Casa\", \"id\"], \"z\": [[1.0, 0.2961706086937746, 0.6348387286953652, 0.09198813571128721, 0.06894208102172167, 0.04078685609280654, 0.49818704672608, 0.06667296429687046, 0.2773558099569497, 0.36751640035610683, 0.1596052599793699, 0.24080684990564183, 0.08292875948386684, -0.00042389895171299744, 0.003843955667292924, 0.27274426686883857, 0.054703293201581606, 0.06401675625209806, 0.1813413866583063, -0.03732647284702071, 0.001188877920654603, 0.05772640333257963, 0.12613343376384273, 0.34288090320630843, -0.030911561708713495, 0.0018655142748313371, -0.0013444031527618913, 0.002163943362792953, 0.030911561708713495, -0.008728664136397614, -0.05073744247624042, 0.06689493599162039, -0.04774139915484062, -0.18082463633392837, -0.05501692601264141, -0.07523998319379153, -0.3339517291508995, -0.08108578557535366, -0.06455709771557512, 0.08479094675977575, -0.2961706086937746, -0.1406647557061929], [0.2961706086937746, 1.0, 0.27566821582894735, -0.035318306406652664, 0.14490750827800972, -0.032098891846924486, -0.090539198349285, 0.08648403336327797, 0.4072095991726728, 0.1626345820970221, 0.21581785994243385, 0.07385672239483587, 0.12370293885788097, -0.0035440888765073315, 0.2238978245383153, -0.2288319633647687, -0.06936441501581204, 0.11493478554982181, 0.17493308877883829, 0.11039198425308468, 0.14287013812314936, 0.037424971116751284, -0.021901786255867594, -0.05225135287941371, 0.02484810414833442, 0.0035894088665726427, -0.004149253460988382, 0.0036475286145124905, -0.02484810414833442, -0.14117973226962072, 0.03544994147428389, -0.4029657247194262, -0.17682806210450278, -0.44885202050019657, -0.5873636955503037, 0.11805279444109688, -0.3084036684875926, -0.021541393426756587, -0.0830356886524236, -0.017759311523653884, -1.0, -0.10971455339597565], [0.6348387286953652, 0.27566821582894735, 1.0, 0.08236191213606728, 0.08046813789112145, 0.031061872564957203, 0.3260046663424233, 0.058244568170794216, 0.2371897162017107, 0.30181436353432567, 0.1357834591159056, 0.49776349024435895, 0.05927477362305776, 0.0022268211016749323, 0.04130267100603809, 0.15938146564826833, 0.053350939632178546, 0.034905248464368877, 0.15862083263487908, -0.019993270452226326, 0.011926475345515226, 0.05353019827811362, 0.07390651608981295, 0.21057805109148245, -0.014035401647880488, 0.004525137434447378, -0.0041353906930880055, 0.0051083352487998005, 0.014035401647880488, -0.015654223383043883, -0.04328460422719926, 0.04244611187808657, -0.03205573266185877, -0.19610508333819093, -0.07837854689513052, -0.07911265724685396, -0.3397305412552921, -0.09078114367277725, -0.0518308960103625, 0.04993615799657312, -0.27566821582894735, -0.10758523911536554], [0.09198813571128721, -0.035318306406652664, 0.08236191213606728, 1.0, -0.157255449409756, -0.04522396710883219, 0.017658719372454328, -0.17296836217555425, -0.051290991418232, 0.02993438643332683, -0.03160736507338778, 0.035110196006803214, 0.0027795677360012132, 0.0048620787016955816, -0.0466606628960429, 0.04850010425252573, -0.14598479442049758, -0.059786503532629535, -0.08248151817661298, -0.026527660714306782, -0.05314045090555909, -0.003140894360586608, -0.02740155061790862, 0.07758219153796635, 0.005556948516826281, 0.0010896400725495096, -0.0009649760108372623, 0.001009600149201889, -0.005556948516826281, 0.008699296133514674, -0.06824076923669906, -0.0858484266371172, -0.11587164525871693, -0.002924472618278339, 0.050994013438616516, -0.1928695695010243, -0.014582610436568904, -0.21006853018442312, -0.218349743703881, -0.0107259916047885, 0.035318306406652664, -0.09444912674214603], [0.06894208102172167, 0.14490750827800972, 0.08046813789112145, -0.157255449409756, 1.0, -0.028840684915489002, 0.0014785185774043345, -0.11030713032884513, 0.1715475317862717, 0.037718215859988725, 0.1810728167334899, 0.01830813453483673, -0.0906641909816281, -0.0070016872030913115, 0.14254878808050225, -0.03131180900700795, -0.09309889705603676, 0.1114978859296636, 0.0413723333268661, 0.0845190788596337, 0.07028886388901136, 0.05926700022906828, -0.03124665573088231, -0.06810529880665413, 0.009087894744872056, 0.0004115519039309797, -0.0005370541238267749, 0.0006438524007334609, -0.009087894744872056, -0.05653814570617059, -0.04351919236068378, -0.04756728401300369, -0.07389483553008827, -0.13751052053776222, -0.06935476600656504, -0.12299872919833627, -0.051110894834040355, -0.13396702405873087, -0.1392482031568368, -0.04228250512609221, -0.14490750827800972, -0.08683327351775964], [0.04078685609280654, -0.032098891846924486, 0.031061872564957203, -0.04522396710883219, -0.028840684915489002, 1.0, 0.056526241934077, -0.03172243666319655, -0.0022556629030938374, -0.00675200415086739, -0.022474818516834326, 0.029439751926843363, 0.28118146144229644, -0.00327531033157086, -0.01133651948026846, 0.042283071261849416, -0.026773644246278205, -0.01677388212625909, -0.03771805292084948, 0.04473664203379092, 0.04216783612000101, 0.020195998221301914, -0.009871480046345, 0.02245014093381805, -0.012342587581149015, 0.00025564284394266216, -0.00020577292426123597, 0.0001851608952364503, 0.012342587581149015, 0.0042648243392672995, -0.012515372480407039, 0.035907178748887, -0.02125088589340043, 0.011374888980831842, 0.034008895011763504, -0.035372322578284106, -0.012205497447505044, -0.038526615849648754, -0.040045392278180686, -0.01072581056364422, 0.032098891846924486, -0.06518210828563922], [0.49818704672608, -0.090539198349285, 0.3260046663424233, 0.017658719372454328, 0.0014785185774043345, 0.056526241934077, 1.0, 0.021039810602666967, 0.06720658935764336, 0.16885088036648868, 0.1021831030480612, 0.14488811363054474, 0.004207693056965213, -0.00021554928525853535, -0.015583158214703073, 0.4159975123346365, 0.02320585477783004, 0.06553494666867407, 0.12912473803011723, -0.02571223956369087, -0.012613457555015624, 0.012705542203518456, 0.16900400061002815, 0.3910611822660207, -0.08682264882075519, -0.0009920291728115283, 0.0019666532099417247, 0.001460619271332521, 0.08682264882075519, 0.036980385185468395, -0.03856712934730983, 0.18427190446998, 0.021480638131210716, 0.145564297717636, 0.19796144005722047, -0.043398751127226215, -0.12935011642457192, -0.018722601879195708, -0.009682392795376173, 0.10294138391289522, 0.090539198349285, -0.05870459894656455], [0.06667296429687046, 0.08648403336327797, 0.058244568170794216, -0.17296836217555425, -0.11030713032884513, -0.03172243666319655, 0.021039810602666967, 1.0, 0.03375614713306577, 0.003970290326880467, 0.11183129835989351, 0.05992717896994028, -0.05893473244581573, 0.002873123832575992, 0.07782939106622362, -0.0013595855736647493, -0.10240130821845862, 0.050013629239427065, 0.051509933871616474, 0.02769239715235355, 0.012548315050894213, -0.010431584697811346, -0.009310230282100582, -0.020210264762887436, 0.010378465150692347, 0.0004684759471897973, -0.00036236466573156363, 0.0007081859207761882, -0.010378465150692347, -0.02889167498360288, -0.04786761574366805, -0.026271835816900586, -0.0812783831841372, -0.06849785691939562, -0.05581407917782738, -0.13528872175261877, -0.04305702218440509, -0.1473529650248191, -0.1531618378010634, 0.00511853301585547, -0.08648403336327797, -0.05719497298522177], [0.2773558099569497, 0.4072095991726728, 0.2371897162017107, -0.051290991418232, 0.1715475317862717, -0.0022556629030938374, 0.06720658935764336, 0.03375614713306577, 1.0, 0.12174705383938246, 0.25596290736431504, 0.07265556538258475, 0.02469581559982985, 0.006853819474571976, 0.2326010778499253, -0.004622203162188836, -0.019778090970220326, 0.18923135771174585, 0.2850341260973218, 0.2651241978091734, 0.2935165710508458, 0.1611058788507132, 0.11671247076175092, 0.08097916266904584, 0.0013588859552162197, 0.0014546603047141415, -0.0015720237559685257, 0.0015185851114440532, -0.0013588859552162197, -0.0804225428939456, 0.04821402293861141, 0.05841888424275628, -0.08463989822532088, -0.19296698111012445, 0.03096992737262152, 0.12068439232273198, -0.18130507397438694, -0.07365384799232282, -0.09755612642780577, -0.05600782169669307, -0.4072095991726728, -0.05349237230380822], [0.36751640035610683, 0.1626345820970221, 0.30181436353432567, 0.02993438643332683, 0.037718215859988725, -0.00675200415086739, 0.16885088036648868, 0.003970290326880467, 0.12174705383938246, 1.0, 0.0464621595445353, -0.039578327888094816, 0.04328609859075328, 0.001967135737829389, 0.011715617763206707, 0.09464379363145661, 0.027595712845931118, 0.0020410456445223353, 0.04706747297324712, -0.1080263725235979, -0.0833399696607057, -0.01576669179494045, 0.04733186304455697, 0.12323108498669993, -0.024220095529624036, 0.0016459067068459899, -0.0011409038472791832, 0.0012413359538640068, 0.024220095529624036, -0.0028482189753146793, -0.012173186580926905, -0.004876239681350971, 0.011500890359225349, -0.08863471987769947, -0.06440617142587918, -0.05464347696878103, -0.12144658171458703, -0.036438147641817145, -0.0006997944836386441, 0.039434962846374266, -0.1626345820970221, -0.050238639714260847], [0.1596052599793699, 0.21581785994243385, 0.1357834591159056, -0.03160736507338778, 0.1810728167334899, -0.022474818516834326, 0.1021831030480612, 0.11183129835989351, 0.25596290736431504, 0.0464621595445353, 1.0, 0.103017275563365, -0.06272908271774018, -0.009203940217844216, 0.21661383692114558, 0.03469507869014196, -0.097818214530339, 0.35117601222218914, 0.2996193030633302, 0.15603927163731837, 0.16531927139902225, 0.059448241428461876, 0.11015108305620547, 0.076219081319765, -0.02290252344128942, 0.0007831608622378915, -0.0008366463076904787, 0.0010790700189359846, 0.02290252344128942, -0.03887377409075129, 0.015579878699105383, 0.00889612189024056, -0.10832735571169473, -0.11147092592989427, -0.026803700873015028, 0.08212538515208846, -0.1291174460041511, -0.005417393796347306, -0.13479022113119027, -0.014370179645563691, -0.21581785994243385, -0.04761609772654992], [0.24080684990564183, 0.07385672239483587, 0.49776349024435895, 0.035110196006803214, 0.01830813453483673, 0.029439751926843363, 0.14488811363054474, 0.05992717896994028, 0.07265556538258475, -0.039578327888094816, 0.103017275563365, 1.0, 0.009529989435576671, 0.006241134723808999, 0.013713459840064664, 0.0548242033827353, -0.01962439944567298, 0.06012886970244665, 0.108661712008432, 0.16667709491202976, 0.16306777715457552, 0.058366916309566225, 0.019470353594700483, 0.08276491335467494, 0.03472326741399918, 0.00406787673593393, -0.003992193286115383, 0.004395282039954468, -0.03472326741399918, -0.013569503370880025, -0.035682906631545344, 0.04483306524441824, -0.07828203611136732, -0.09108210957318921, 0.0033063503730327527, -0.008048733272232747, -0.21884321624569109, 0.008591483538712745, -0.03650253693498868, 0.010157699861404934, -0.07385672239483587, -0.04553850214304974], [0.08292875948386684, 0.12370293885788097, 0.05927477362305776, 0.0027795677360012132, -0.0906641909816281, 0.28118146144229644, 0.004207693056965213, -0.05893473244581573, 0.02469581559982985, 0.04328609859075328, -0.06272908271774018, 0.009529989435576671, 1.0, -0.010148421169454606, -0.027477283881892346, -0.006376554981230082, 0.07502949529497512, -0.048853114466645815, -0.06492201183060593, 0.02554012863726937, 0.03168547555753678, 0.013046386116682483, -0.029944677054996146, 0.028320327803212905, -0.0024861251390238337, 0.0007931967291883573, -0.0008320019710483976, 0.0006585103238491457, 0.0024861251390238337, -0.007443586341902283, -0.03729604639497812, -0.05043003449835919, 0.024338666510397546, -0.03480545077884705, -0.05703814880773892, -0.07929475414719028, -0.05394626867448858, -0.018728001888622014, 0.08337225566884297, 0.0032052791966137263, -0.12370293885788097, -0.04143217269551547], [-0.00042389895171299744, -0.0035440888765073315, 0.0022268211016749323, 0.0048620787016955816, -0.0070016872030913115, -0.00327531033157086, -0.00021554928525853535, 0.002873123832575992, 0.006853819474571976, 0.001967135737829389, -0.009203940217844216, 0.006241134723808999, -0.010148421169454606, 1.0, -0.002397017647901259, 0.0013398099435796712, -0.0032789225887522376, -0.006055579691965737, 0.006764894312819236, -0.024407332836691217, -0.02640096639463877, 0.0031119050626181354, -0.003782293377247053, -0.01874896268823838, -0.0026083107131217535, 0.00014741099304788606, -0.00010910342787885511, 7.312631383083952e-05, 0.0026083107131217535, 0.006101961559428704, -0.004091776506263321, -0.01746760657018113, -0.005670485954263021, 0.00526312381987491, -0.014038730842822662, -0.000677102896106585, 0.015922696936916742, 0.004671797111091485, 0.0019754943893652535, -0.006710305879681041, 0.0035440888765073315, -0.0319640760527295], [0.003843955667292924, 0.2238978245383153, 0.04130267100603809, -0.0466606628960429, 0.14254878808050225, -0.01133651948026846, -0.015583158214703073, 0.07782939106622362, 0.2326010778499253, 0.011715617763206707, 0.21661383692114558, 0.013713459840064664, -0.027477283881892346, -0.002397017647901259, 1.0, -0.02319914329388828, -0.0721786445083464, 0.1945759231321587, 0.15943437540179578, 0.1295457811122796, 0.1254311158782498, 0.0360351855276455, 0.018383402028939386, -0.032367304229187314, -0.06185458644818636, 0.001668781297734477, -0.0018123768559221134, -0.0013285626270252936, 0.06185458644818636, -0.051462239424377505, 0.039613531231368786, -0.05506309959050109, -0.09460148081250473, -0.08551651454007882, -0.06721597269453293, 0.12559657777938554, -0.08095240697989066, -0.01593237308675857, -0.1279365012278344, -0.011790893690293186, -0.2238978245383153, -0.026905255467333574], [0.27274426686883857, -0.2288319633647687, 0.15938146564826833, 0.04850010425252573, -0.03131180900700795, 0.042283071261849416, 0.4159975123346365, -0.0013595855736647493, -0.004622203162188836, 0.09464379363145661, 0.03469507869014196, 0.0548242033827353, -0.006376554981230082, 0.0013398099435796712, -0.02319914329388828, 1.0, 0.046652756590479856, 0.04151910407250185, 0.05444323515925123, -0.0485911048046632, -0.04977680175430297, -0.003790770010233941, 0.13284561834602224, 0.3081371774771128, -0.07446746808660161, 0.0007029579024894313, 0.00013701263931430762, -0.0015813189574817638, 0.07446746808660161, 0.04542168353788914, -0.03994399353487348, 0.19964152458741918, 0.061221961618732716, 0.4687764395458859, 0.2721921678627203, -0.07077957667458444, -0.00029323464439426556, -0.02964203423959328, 9.293887358271582e-05, 0.09207041210110652, 0.2288319633647687, -0.025965452672299567], [0.054703293201581606, -0.06936441501581204, 0.053350939632178546, -0.14598479442049758, -0.09309889705603676, -0.026773644246278205, 0.02320585477783004, -0.10240130821845862, -0.019778090970220326, 0.027595712845931118, -0.097818214530339, -0.01962439944567298, 0.07502949529497512, -0.0032789225887522376, -0.0721786445083464, 0.046652756590479856, 1.0, -0.07106389915620888, -0.1172573359260853, 0.015398005503638647, 0.010674406886822961, 0.00973810608512297, -0.02865687146649989, 0.07325440013061595, 0.0026817826087508164, 0.0005989490729401317, -0.00028891321201227754, 0.0005977068566485041, -0.0026817826087508164, -0.0015216132408355136, -0.040400128415271463, 0.07053347380136234, -0.06859871892567226, 0.03676346089768488, 0.06770053051389673, -0.11418328753266467, 0.00922536596629041, -0.12436547375345555, -0.12926814547569507, 0.014620419639820359, 0.06936441501581204, -0.02093398337090576], [0.06401675625209806, 0.11493478554982181, 0.034905248464368877, -0.059786503532629535, 0.1114978859296636, -0.01677388212625909, 0.06553494666867407, 0.050013629239427065, 0.18923135771174585, 0.0020410456445223353, 0.35117601222218914, 0.06012886970244665, -0.048853114466645815, -0.006055579691965737, 0.1945759231321587, 0.04151910407250185, -0.07106389915620888, 1.0, 0.2027931118345147, 0.17044642340149027, 0.16757948501640169, 0.0508787869212154, 0.09125407809692007, 0.05433957921691273, -0.03519716672780318, 0.0001916939161928247, 1.6080441259859613e-05, 0.0005677274323511434, 0.03519716672780318, -0.03163933770017864, 0.0495317556293857, 0.03409151655324424, -0.06184093505131462, -0.0314943147460149, 0.03359571284709913, 0.10729506891434436, -0.0518875219424652, 0.005014500211970283, -0.09246936147534865, 0.0030875609719894313, -0.11493478554982181, -0.01874119143484877], [0.1813413866583063, 0.17493308877883829, 0.15862083263487908, -0.08248151817661298, 0.0413723333268661, -0.03771805292084948, 0.12912473803011723, 0.051509933871616474, 0.2850341260973218, 0.04706747297324712, 0.2996193030633302, 0.108661712008432, -0.06492201183060593, 0.006764894312819236, 0.15943437540179578, 0.05444323515925123, -0.1172573359260853, 0.2027931118345147, 1.0, 0.0840986340018128, 0.09373488463531968, 0.05353860923275072, 0.09314926183182454, 0.08213356151876296, -0.035921776902743355, 0.0008564917956980168, -0.0008522468454783195, 0.0011663230720539422, 0.035921776902743355, -0.014761035695950352, 0.04847911032517664, 0.10645767394880659, -0.08326760979233593, -0.07727727006827127, 0.010411539368543214, 0.18462933905174608, -0.12137477454645836, 0.06644591405602802, -0.09276311375017368, 0.0040706302418065405, -0.17493308877883829, -0.01860849275496536], [-0.03732647284702071, 0.11039198425308468, -0.019993270452226326, -0.026527660714306782, 0.0845190788596337, 0.04473664203379092, -0.02571223956369087, 0.02769239715235355, 0.2651241978091734, -0.1080263725235979, 0.15603927163731837, 0.16667709491202976, 0.02554012863726937, -0.024407332836691217, 0.1295457811122796, -0.0485911048046632, 0.015398005503638647, 0.17044642340149027, 0.0840986340018128, 1.0, 0.9171846176204823, 0.16360805923638366, 0.02897919394420991, 0.019877516748312188, 0.024781834185045055, 0.0013865619258412003, -0.0014575845591670948, 0.001393637023030742, -0.024781834185045055, -0.18795353185838956, -0.004098924504993085, 0.08027509623501271, -0.07018513971971371, -0.06787738381275582, 0.1261331422596565, 0.03112678474605601, -0.11312734315235205, -0.01888964696688285, -0.04942320817164534, -0.08138480899243938, -0.11039198425308468, -0.013957375489220483], [0.001188877920654603, 0.14287013812314936, 0.011926475345515226, -0.05314045090555909, 0.07028886388901136, 0.04216783612000101, -0.012613457555015624, 0.012548315050894213, 0.2935165710508458, -0.0833399696607057, 0.16531927139902225, 0.16306777715457552, 0.03168547555753678, -0.02640096639463877, 0.1254311158782498, -0.04977680175430297, 0.010674406886822961, 0.16757948501640169, 0.09373488463531968, 0.9171846176204823, 1.0, 0.16823818860283185, 0.029122355832219962, 0.02700431374985846, 0.024621511147100806, 0.0015086656125602297, -0.0015953527520350156, 0.0015194727389246368, -0.024621511147100806, -0.17419482940835876, 0.0097177377357504, 0.08607248104977003, -0.05273648263750985, -0.08966515224042053, 0.10988245265013943, 0.05380691704767329, -0.12553107083881568, -0.015717171238914234, -0.03207068205721916, -0.07299471207850028, -0.14287013812314936, -0.00995348715898536], [0.05772640333257963, 0.037424971116751284, 0.05353019827811362, -0.003140894360586608, 0.05926700022906828, 0.020195998221301914, 0.012705542203518456, -0.010431584697811346, 0.1611058788507132, -0.01576669179494045, 0.059448241428461876, 0.058366916309566225, 0.013046386116682483, 0.0031119050626181354, 0.0360351855276455, -0.003790770010233941, 0.00973810608512297, 0.0508787869212154, 0.05353860923275072, 0.16360805923638366, 0.16823818860283185, 1.0, 0.0312662132869092, 0.00021980756779287018, 0.028976956509867022, -0.0006979991015767115, 0.0006852651505463042, 0.008211152869238366, -0.028976956509867022, -0.03381441161565751, 0.009593130929518518, 0.036285078381926475, 0.0082967746600104, -0.03693349914085325, 0.0794472015363781, 0.023091657253539434, -0.0665626263248282, -0.07187812749569683, -0.0058549664153906365, -0.11160859759858233, -0.037424971116751284, -0.009221304310168472], [0.12613343376384273, -0.021901786255867594, 0.07390651608981295, -0.02740155061790862, -0.03124665573088231, -0.009871480046345, 0.16900400061002815, -0.009310230282100582, 0.11671247076175092, 0.04733186304455697, 0.11015108305620547, 0.019470353594700483, -0.029944677054996146, -0.003782293377247053, 0.018383402028939386, 0.13284561834602224, -0.02865687146649989, 0.09125407809692007, 0.09314926183182454, 0.02897919394420991, 0.029122355832219962, 0.0312662132869092, 1.0, 0.13271399411955, -0.027740030272668185, 0.0008361339749412895, -0.0006461108248957873, -0.004408418880615141, 0.027740030272668185, 0.019986584071450767, 0.053794928221308845, 0.13438972711115998, -0.01679827025383707, 0.05090444291326867, 0.1064987766879537, 0.10718631128600334, -0.02580289381767871, 0.00845828567060438, -0.030669160345911762, 0.02579645594983852, 0.021901786255867594, -0.006347126897042579], [0.34288090320630843, -0.05225135287941371, 0.21057805109148245, 0.07758219153796635, -0.06810529880665413, 0.02245014093381805, 0.3910611822660207, -0.020210264762887436, 0.08097916266904584, 0.12323108498669993, 0.076219081319765, 0.08276491335467494, 0.028320327803212905, -0.01874896268823838, -0.032367304229187314, 0.3081371774771128, 0.07325440013061595, 0.05433957921691273, 0.08213356151876296, 0.019877516748312188, 0.02700431374985846, 0.00021980756779287018, 0.13271399411955, 1.0, -0.0570791098098048, 0.00095938133920451, -0.00021424678201956938, 0.0011069029952797428, 0.0570791098098048, 0.046181874588774034, -0.043291233590265564, 0.12449652764890438, 0.04278282081472447, 0.11478903748438692, 0.20053565192454753, -0.09287179625294499, -0.09211342815286931, -0.034509430233272506, 0.03588422898843285, 0.2993396794489358, 0.05225135287941371, -0.006097241327847726], [-0.030911561708713495, 0.02484810414833442, -0.014035401647880488, 0.005556948516826281, 0.009087894744872056, -0.012342587581149015, -0.08682264882075519, 0.010378465150692347, 0.0013588859552162197, -0.024220095529624036, -0.02290252344128942, 0.03472326741399918, -0.0024861251390238337, -0.0026083107131217535, -0.06185458644818636, -0.07446746808660161, 0.0026817826087508164, -0.03519716672780318, -0.035921776902743355, 0.024781834185045055, 0.024621511147100806, 0.028976956509867022, -0.027740030272668185, -0.0570791098098048, 1.0, 0.0009181827614295058, -0.0010873987221668015, 0.0008787158730544347, -1.0, -0.010384827393609799, -0.011172518523888007, -0.019474949426774916, 0.0034274413867844693, -0.06083150977788818, -0.04972728854872391, -0.011204840750694852, -0.017237647538600482, -0.0005333173926416619, -0.007986300666607929, -0.008068537272520772, -0.02484810414833442, -0.003552732092930634], [0.0018655142748313371, 0.0035894088665726427, 0.004525137434447378, 0.0010896400725495096, 0.0004115519039309797, 0.00025564284394266216, -0.0009920291728115283, 0.0004684759471897973, 0.0014546603047141415, 0.0016459067068459899, 0.0007831608622378915, 0.00406787673593393, 0.0007931967291883573, 0.00014741099304788606, 0.001668781297734477, 0.0007029579024894313, 0.0005989490729401317, 0.0001916939161928247, 0.0008564917956980168, 0.0013865619258412003, 0.0015086656125602297, -0.0006979991015767115, 0.0008361339749412895, 0.00095938133920451, 0.0009181827614295058, 1.0, -0.9995731095549443, -6.200592473464766e-06, -0.0009181827614295058, -0.0008251418398099059, 0.0002669044911786535, -0.0020431210122677126, -0.00853568571509308, -0.0027588292701096542, -0.0021817469763784365, 0.0007971144668275966, -0.00565979641049222, 0.0009388362633745285, 0.000987328990200176, 0.0005379722036984364, -0.0035894088665726427, -0.0002082998865259671], [-0.0013444031527618913, -0.004149253460988382, -0.0041353906930880055, -0.0009649760108372623, -0.0005370541238267749, -0.00020577292426123597, 0.0019666532099417247, -0.00036236466573156363, -0.0015720237559685257, -0.0011409038472791832, -0.0008366463076904787, -0.003992193286115383, -0.0008320019710483976, -0.00010910342787885511, -0.0018123768559221134, 0.00013701263931430762, -0.00028891321201227754, 1.6080441259859613e-05, -0.0008522468454783195, -0.0014575845591670948, -0.0015953527520350156, 0.0006852651505463042, -0.0006461108248957873, -0.00021424678201956938, -0.0010873987221668015, -0.9995731095549443, 1.0, 6.683860749180911e-06, 0.0010873987221668015, 0.0009056206219934453, -0.0003634130678264902, 0.002363336415015042, 0.008610267278204563, 0.0033549255606389107, 0.002744862407032872, -0.0010369924312188356, 0.005563187600069029, -0.0010467600399972482, -0.0010380938028059844, -0.00037810220649627625, 0.004149253460988382, 0.00015046877186947427], [0.002163943362792953, 0.0036475286145124905, 0.0051083352487998005, 0.001009600149201889, 0.0006438524007334609, 0.0001851608952364503, 0.001460619271332521, 0.0007081859207761882, 0.0015185851114440532, 0.0012413359538640068, 0.0010790700189359846, 0.004395282039954468, 0.0006585103238491457, 7.312631383083952e-05, -0.0013285626270252936, -0.0015813189574817638, 0.0005977068566485041, 0.0005677274323511434, 0.0011663230720539422, 0.001393637023030742, 0.0015194727389246368, 0.008211152869238366, -0.004408418880615141, 0.0011069029952797428, 0.0008787158730544347, -6.200592473464766e-06, 6.683860749180911e-06, 1.0, -0.0008787158730544347, -0.0008834493194327631, 0.00027939879518133737, -0.0019112194981827182, 0.0004744143192264725, -0.002563430565343177, -0.002142425886644938, 0.0007896676128971724, -0.00029725328404448594, -0.00480605137913635, 0.000893991319284814, 0.00046831627174678933, -0.0036475286145124905, 0.0009962615969496384], [0.030911561708713495, -0.02484810414833442, 0.014035401647880488, -0.005556948516826281, -0.009087894744872056, 0.012342587581149015, 0.08682264882075519, -0.010378465150692347, -0.0013588859552162197, 0.024220095529624036, 0.02290252344128942, -0.03472326741399918, 0.0024861251390238337, 0.0026083107131217535, 0.06185458644818636, 0.07446746808660161, -0.0026817826087508164, 0.03519716672780318, 0.035921776902743355, -0.024781834185045055, -0.024621511147100806, -0.028976956509867022, 0.027740030272668185, 0.0570791098098048, -1.0, -0.0009181827614295058, 0.0010873987221668015, -0.0008787158730544347, 1.0, 0.010384827393609799, 0.011172518523888007, 0.019474949426774916, -0.0034274413867844693, 0.06083150977788818, 0.04972728854872391, 0.011204840750694852, 0.017237647538600482, 0.0005333173926416619, 0.007986300666607929, 0.008068537272520772, 0.02484810414833442, 0.003552732092930634], [-0.008728664136397614, -0.14117973226962072, -0.015654223383043883, 0.008699296133514674, -0.05653814570617059, 0.0042648243392672995, 0.036980385185468395, -0.02889167498360288, -0.0804225428939456, -0.0028482189753146793, -0.03887377409075129, -0.013569503370880025, -0.007443586341902283, 0.006101961559428704, -0.051462239424377505, 0.04542168353788914, -0.0015216132408355136, -0.03163933770017864, -0.014761035695950352, -0.18795353185838956, -0.17419482940835876, -0.03381441161565751, 0.019986584071450767, 0.046181874588774034, -0.010384827393609799, -0.0008251418398099059, 0.0009056206219934453, -0.0008834493194327631, 0.010384827393609799, 1.0, 0.0011883176494932315, 0.047224467524743546, 0.025094528748208028, 0.05622873725364959, 0.06578319452032927, -0.007924738797232097, 0.03814753187846119, 0.021128494590321335, 0.030363912433211872, 0.023261585483117415, 0.14117973226962072, 0.01615551502172569], [-0.05073744247624042, 0.03544994147428389, -0.04328460422719926, -0.06824076923669906, -0.04351919236068378, -0.012515372480407039, -0.03856712934730983, -0.04786761574366805, 0.04821402293861141, -0.012173186580926905, 0.015579878699105383, -0.035682906631545344, -0.03729604639497812, -0.004091776506263321, 0.039613531231368786, -0.03994399353487348, -0.040400128415271463, 0.0495317556293857, 0.04847911032517664, -0.004098924504993085, 0.0097177377357504, 0.009593130929518518, 0.053794928221308845, -0.043291233590265564, -0.011172518523888007, 0.0002669044911786535, -0.0003634130678264902, 0.00027939879518133737, 0.011172518523888007, 0.0011883176494932315, 1.0, -0.003835603380445721, -0.03206655437458776, -0.035789117870224214, -0.03226750702052066, -0.05337511626528653, 0.027184398871333386, -0.058134791566057296, -0.06042655140993791, -0.01694273392463454, -0.03544994147428389, 0.017876057478369282], [0.06689493599162039, -0.4029657247194262, 0.04244611187808657, -0.0858484266371172, -0.04756728401300369, 0.035907178748887, 0.18427190446998, -0.026271835816900586, 0.05841888424275628, -0.004876239681350971, 0.00889612189024056, 0.04483306524441824, -0.05043003449835919, -0.01746760657018113, -0.05506309959050109, 0.19964152458741918, 0.07053347380136234, 0.03409151655324424, 0.10645767394880659, 0.08027509623501271, 0.08607248104977003, 0.036285078381926475, 0.13438972711115998, 0.12449652764890438, -0.019474949426774916, -0.0020431210122677126, 0.002363336415015042, -0.0019112194981827182, 0.019474949426774916, 0.047224467524743546, -0.003835603380445721, 1.0, 0.08568760307992639, 0.19850549314230984, 0.3765043215563264, -0.010815437186944995, 0.06061455510112261, 0.01819243211875184, 0.033645192818597514, 0.005987915028725225, 0.4029657247194262, 0.02065753098169075], [-0.04774139915484062, -0.17682806210450278, -0.03205573266185877, -0.11587164525871693, -0.07389483553008827, -0.02125088589340043, 0.021480638131210716, -0.0812783831841372, -0.08463989822532088, 0.011500890359225349, -0.10832735571169473, -0.07828203611136732, 0.024338666510397546, -0.005670485954263021, -0.09460148081250473, 0.061221961618732716, -0.06859871892567226, -0.06184093505131462, -0.08326760979233593, -0.07018513971971371, -0.05273648263750985, 0.0082967746600104, -0.01679827025383707, 0.04278282081472447, 0.0034274413867844693, -0.00853568571509308, 0.008610267278204563, 0.0004744143192264725, -0.0034274413867844693, 0.025094528748208028, -0.03206655437458776, 0.08568760307992639, 1.0, 0.17699530050156473, 0.11656003668998342, -0.09063002376358524, 0.07952776871422249, -0.09871187005800018, -0.10260323861335169, -0.013526954636174296, 0.17682806210450278, 0.04259133368131142], [-0.18082463633392837, -0.44885202050019657, -0.19610508333819093, -0.002924472618278339, -0.13751052053776222, 0.011374888980831842, 0.145564297717636, -0.06849785691939562, -0.19296698111012445, -0.08863471987769947, -0.11147092592989427, -0.09108210957318921, -0.03480545077884705, 0.00526312381987491, -0.08551651454007882, 0.4687764395458859, 0.03676346089768488, -0.0314943147460149, -0.07727727006827127, -0.06787738381275582, -0.08966515224042053, -0.03693349914085325, 0.05090444291326867, 0.11478903748438692, -0.06083150977788818, -0.0027588292701096542, 0.0033549255606389107, -0.002563430565343177, 0.06083150977788818, 0.05622873725364959, -0.035789117870224214, 0.19850549314230984, 0.17699530050156473, 1.0, 0.33200050264221326, -0.07449162062543346, 0.22047191463785215, 0.013897829637677835, 0.10002869368094013, 0.03357201401171793, 0.44885202050019657, 0.04261030864452418], [-0.05501692601264141, -0.5873636955503037, -0.07837854689513052, 0.050994013438616516, -0.06935476600656504, 0.034008895011763504, 0.19796144005722047, -0.05581407917782738, 0.03096992737262152, -0.06440617142587918, -0.026803700873015028, 0.0033063503730327527, -0.05703814880773892, -0.014038730842822662, -0.06721597269453293, 0.2721921678627203, 0.06770053051389673, 0.03359571284709913, 0.010411539368543214, 0.1261331422596565, 0.10988245265013943, 0.0794472015363781, 0.1064987766879537, 0.20053565192454753, -0.04972728854872391, -0.0021817469763784365, 0.002744862407032872, -0.002142425886644938, 0.04972728854872391, 0.06578319452032927, -0.03226750702052066, 0.3765043215563264, 0.11656003668998342, 0.33200050264221326, 1.0, -0.0833283731822893, 0.14602811990997594, -0.02919574611841294, 0.03460567346238684, -0.029962221327792127, 0.5873636955503037, 0.05232920616825372], [-0.07523998319379153, 0.11805279444109688, -0.07911265724685396, -0.1928695695010243, -0.12299872919833627, -0.035372322578284106, -0.043398751127226215, -0.13528872175261877, 0.12068439232273198, -0.05464347696878103, 0.08212538515208846, -0.008048733272232747, -0.07929475414719028, -0.000677102896106585, 0.12559657777938554, -0.07077957667458444, -0.11418328753266467, 0.10729506891434436, 0.18462933905174608, 0.03112678474605601, 0.05380691704767329, 0.023091657253539434, 0.10718631128600334, -0.09287179625294499, -0.011204840750694852, 0.0007971144668275966, -0.0010369924312188356, 0.0007896676128971724, 0.011204840750694852, -0.007924738797232097, -0.05337511626528653, -0.010815437186944995, -0.09063002376358524, -0.07449162062543346, -0.0833283731822893, 1.0, -0.016064006414231863, -0.16430694360187167, -0.17078416739867927, -0.028710775597113977, -0.11805279444109688, 0.059561661120789325], [-0.3339517291508995, -0.3084036684875926, -0.3397305412552921, -0.014582610436568904, -0.051110894834040355, -0.012205497447505044, -0.12935011642457192, -0.04305702218440509, -0.18130507397438694, -0.12144658171458703, -0.1291174460041511, -0.21884321624569109, -0.05394626867448858, 0.015922696936916742, -0.08095240697989066, -0.00029323464439426556, 0.00922536596629041, -0.0518875219424652, -0.12137477454645836, -0.11312734315235205, -0.12553107083881568, -0.0665626263248282, -0.02580289381767871, -0.09211342815286931, -0.017237647538600482, -0.00565979641049222, 0.005563187600069029, -0.00029725328404448594, 0.017237647538600482, 0.03814753187846119, 0.027184398871333386, 0.06061455510112261, 0.07952776871422249, 0.22047191463785215, 0.14602811990997594, -0.016064006414231863, 1.0, 0.00048626536317816565, 0.044731081968651956, -0.008427818288741791, 0.3084036684875926, 0.06867314555401101], [-0.08108578557535366, -0.021541393426756587, -0.09078114367277725, -0.21006853018442312, -0.13396702405873087, -0.038526615849648754, -0.018722601879195708, -0.1473529650248191, -0.07365384799232282, -0.036438147641817145, -0.005417393796347306, 0.008591483538712745, -0.018728001888622014, 0.004671797111091485, -0.01593237308675857, -0.02964203423959328, -0.12436547375345555, 0.005014500211970283, 0.06644591405602802, -0.01888964696688285, -0.015717171238914234, -0.07187812749569683, 0.00845828567060438, -0.034509430233272506, -0.0005333173926416619, 0.0009388362633745285, -0.0010467600399972482, -0.00480605137913635, 0.0005333173926416619, 0.021128494590321335, -0.058134791566057296, 0.01819243211875184, -0.09871187005800018, 0.013897829637677835, -0.02919574611841294, -0.16430694360187167, 0.00048626536317816565, 1.0, -0.186013683325594, 0.04064653292032192, 0.021541393426756587, 0.07529358326542109], [-0.06455709771557512, -0.0830356886524236, -0.0518308960103625, -0.218349743703881, -0.1392482031568368, -0.040045392278180686, -0.009682392795376173, -0.1531618378010634, -0.09755612642780577, -0.0006997944836386441, -0.13479022113119027, -0.03650253693498868, 0.08337225566884297, 0.0019754943893652535, -0.1279365012278344, 9.293887358271582e-05, -0.12926814547569507, -0.09246936147534865, -0.09276311375017368, -0.04942320817164534, -0.03207068205721916, -0.0058549664153906365, -0.030669160345911762, 0.03588422898843285, -0.007986300666607929, 0.000987328990200176, -0.0010380938028059844, 0.000893991319284814, 0.007986300666607929, 0.030363912433211872, -0.06042655140993791, 0.033645192818597514, -0.10260323861335169, 0.10002869368094013, 0.03460567346238684, -0.17078416739867927, 0.044731081968651956, -0.186013683325594, 1.0, 0.03324053481401144, 0.0830356886524236, 0.08950512562699134], [0.08479094675977575, -0.017759311523653884, 0.04993615799657312, -0.0107259916047885, -0.04228250512609221, -0.01072581056364422, 0.10294138391289522, 0.00511853301585547, -0.05600782169669307, 0.039434962846374266, -0.014370179645563691, 0.010157699861404934, 0.0032052791966137263, -0.006710305879681041, -0.011790893690293186, 0.09207041210110652, 0.014620419639820359, 0.0030875609719894313, 0.0040706302418065405, -0.08138480899243938, -0.07299471207850028, -0.11160859759858233, 0.02579645594983852, 0.2993396794489358, -0.008068537272520772, 0.0005379722036984364, -0.00037810220649627625, 0.00046831627174678933, 0.008068537272520772, 0.023261585483117415, -0.01694273392463454, 0.005987915028725225, -0.013526954636174296, 0.03357201401171793, -0.029962221327792127, -0.028710775597113977, -0.008427818288741791, 0.04064653292032192, 0.03324053481401144, 1.0, 0.017759311523653884, 0.09776778731548731], [-0.2961706086937746, -1.0, -0.27566821582894735, 0.035318306406652664, -0.14490750827800972, 0.032098891846924486, 0.090539198349285, -0.08648403336327797, -0.4072095991726728, -0.1626345820970221, -0.21581785994243385, -0.07385672239483587, -0.12370293885788097, 0.0035440888765073315, -0.2238978245383153, 0.2288319633647687, 0.06936441501581204, -0.11493478554982181, -0.17493308877883829, -0.11039198425308468, -0.14287013812314936, -0.037424971116751284, 0.021901786255867594, 0.05225135287941371, -0.02484810414833442, -0.0035894088665726427, 0.004149253460988382, -0.0036475286145124905, 0.02484810414833442, 0.14117973226962072, -0.03544994147428389, 0.4029657247194262, 0.17682806210450278, 0.44885202050019657, 0.5873636955503037, -0.11805279444109688, 0.3084036684875926, 0.021541393426756587, 0.0830356886524236, 0.017759311523653884, 1.0, 0.10971455339597565], [-0.1406647557061929, -0.10971455339597565, -0.10758523911536554, -0.09444912674214603, -0.08683327351775964, -0.06518210828563922, -0.05870459894656455, -0.05719497298522177, -0.05349237230380822, -0.050238639714260847, -0.04761609772654992, -0.04553850214304974, -0.04143217269551547, -0.0319640760527295, -0.026905255467333574, -0.025965452672299567, -0.02093398337090576, -0.01874119143484877, -0.01860849275496536, -0.013957375489220483, -0.00995348715898536, -0.009221304310168472, -0.006347126897042579, -0.006097241327847726, -0.003552732092930634, -0.0002082998865259671, 0.00015046877186947427, 0.0009962615969496384, 0.003552732092930634, 0.01615551502172569, 0.017876057478369282, 0.02065753098169075, 0.04259133368131142, 0.04261030864452418, 0.05232920616825372, 0.059561661120789325, 0.06867314555401101, 0.07529358326542109, 0.08950512562699134, 0.09776778731548731, 0.10971455339597565, 1.0]]}],\n",
              "                        {\"height\": 500, \"legend\": {\"orientation\": \"h\"}, \"showlegend\": false, \"template\": {\"data\": {\"bar\": [{\"error_x\": {\"color\": \"#2a3f5f\"}, \"error_y\": {\"color\": \"#2a3f5f\"}, \"marker\": {\"line\": {\"color\": \"#E5ECF6\", \"width\": 0.5}}, \"type\": \"bar\"}], \"barpolar\": [{\"marker\": {\"line\": {\"color\": \"#E5ECF6\", \"width\": 0.5}}, \"type\": \"barpolar\"}], \"carpet\": [{\"aaxis\": {\"endlinecolor\": \"#2a3f5f\", \"gridcolor\": \"white\", \"linecolor\": \"white\", \"minorgridcolor\": \"white\", \"startlinecolor\": \"#2a3f5f\"}, \"baxis\": {\"endlinecolor\": \"#2a3f5f\", \"gridcolor\": \"white\", \"linecolor\": \"white\", \"minorgridcolor\": \"white\", \"startlinecolor\": \"#2a3f5f\"}, \"type\": \"carpet\"}], \"choropleth\": [{\"colorbar\": {\"outlinewidth\": 0, \"ticks\": \"\"}, \"type\": \"choropleth\"}], \"contour\": [{\"colorbar\": {\"outlinewidth\": 0, \"ticks\": \"\"}, \"colorscale\": [[0.0, \"#0d0887\"], [0.1111111111111111, \"#46039f\"], [0.2222222222222222, \"#7201a8\"], [0.3333333333333333, \"#9c179e\"], [0.4444444444444444, \"#bd3786\"], [0.5555555555555556, \"#d8576b\"], [0.6666666666666666, \"#ed7953\"], [0.7777777777777778, \"#fb9f3a\"], [0.8888888888888888, \"#fdca26\"], [1.0, \"#f0f921\"]], \"type\": \"contour\"}], \"contourcarpet\": [{\"colorbar\": {\"outlinewidth\": 0, \"ticks\": \"\"}, \"type\": \"contourcarpet\"}], \"heatmap\": [{\"colorbar\": {\"outlinewidth\": 0, \"ticks\": \"\"}, \"colorscale\": [[0.0, \"#0d0887\"], [0.1111111111111111, \"#46039f\"], [0.2222222222222222, \"#7201a8\"], [0.3333333333333333, \"#9c179e\"], [0.4444444444444444, \"#bd3786\"], [0.5555555555555556, \"#d8576b\"], [0.6666666666666666, \"#ed7953\"], [0.7777777777777778, \"#fb9f3a\"], [0.8888888888888888, \"#fdca26\"], [1.0, \"#f0f921\"]], \"type\": \"heatmap\"}], \"heatmapgl\": [{\"colorbar\": {\"outlinewidth\": 0, \"ticks\": \"\"}, \"colorscale\": [[0.0, \"#0d0887\"], [0.1111111111111111, \"#46039f\"], [0.2222222222222222, \"#7201a8\"], [0.3333333333333333, \"#9c179e\"], [0.4444444444444444, \"#bd3786\"], [0.5555555555555556, \"#d8576b\"], [0.6666666666666666, \"#ed7953\"], [0.7777777777777778, \"#fb9f3a\"], [0.8888888888888888, \"#fdca26\"], [1.0, \"#f0f921\"]], \"type\": \"heatmapgl\"}], \"histogram\": [{\"marker\": {\"colorbar\": {\"outlinewidth\": 0, \"ticks\": \"\"}}, \"type\": \"histogram\"}], \"histogram2d\": [{\"colorbar\": {\"outlinewidth\": 0, \"ticks\": \"\"}, \"colorscale\": [[0.0, \"#0d0887\"], [0.1111111111111111, \"#46039f\"], [0.2222222222222222, \"#7201a8\"], [0.3333333333333333, \"#9c179e\"], [0.4444444444444444, \"#bd3786\"], [0.5555555555555556, \"#d8576b\"], [0.6666666666666666, \"#ed7953\"], [0.7777777777777778, \"#fb9f3a\"], [0.8888888888888888, \"#fdca26\"], [1.0, \"#f0f921\"]], \"type\": \"histogram2d\"}], \"histogram2dcontour\": [{\"colorbar\": {\"outlinewidth\": 0, \"ticks\": \"\"}, \"colorscale\": [[0.0, \"#0d0887\"], [0.1111111111111111, \"#46039f\"], [0.2222222222222222, \"#7201a8\"], [0.3333333333333333, \"#9c179e\"], [0.4444444444444444, \"#bd3786\"], [0.5555555555555556, \"#d8576b\"], [0.6666666666666666, \"#ed7953\"], [0.7777777777777778, \"#fb9f3a\"], [0.8888888888888888, \"#fdca26\"], [1.0, \"#f0f921\"]], \"type\": \"histogram2dcontour\"}], \"mesh3d\": [{\"colorbar\": {\"outlinewidth\": 0, \"ticks\": \"\"}, \"type\": \"mesh3d\"}], \"parcoords\": [{\"line\": {\"colorbar\": {\"outlinewidth\": 0, \"ticks\": \"\"}}, \"type\": \"parcoords\"}], \"pie\": [{\"automargin\": true, \"type\": \"pie\"}], \"scatter\": [{\"marker\": {\"colorbar\": {\"outlinewidth\": 0, \"ticks\": \"\"}}, \"type\": \"scatter\"}], \"scatter3d\": [{\"line\": {\"colorbar\": {\"outlinewidth\": 0, \"ticks\": \"\"}}, \"marker\": {\"colorbar\": {\"outlinewidth\": 0, \"ticks\": \"\"}}, \"type\": \"scatter3d\"}], \"scattercarpet\": [{\"marker\": {\"colorbar\": {\"outlinewidth\": 0, \"ticks\": \"\"}}, \"type\": \"scattercarpet\"}], \"scattergeo\": [{\"marker\": {\"colorbar\": {\"outlinewidth\": 0, \"ticks\": \"\"}}, \"type\": \"scattergeo\"}], \"scattergl\": [{\"marker\": {\"colorbar\": {\"outlinewidth\": 0, \"ticks\": \"\"}}, \"type\": \"scattergl\"}], \"scattermapbox\": [{\"marker\": {\"colorbar\": {\"outlinewidth\": 0, \"ticks\": \"\"}}, \"type\": \"scattermapbox\"}], \"scatterpolar\": [{\"marker\": {\"colorbar\": {\"outlinewidth\": 0, \"ticks\": \"\"}}, \"type\": \"scatterpolar\"}], \"scatterpolargl\": [{\"marker\": {\"colorbar\": {\"outlinewidth\": 0, \"ticks\": \"\"}}, \"type\": \"scatterpolargl\"}], \"scatterternary\": [{\"marker\": {\"colorbar\": {\"outlinewidth\": 0, \"ticks\": \"\"}}, \"type\": \"scatterternary\"}], \"surface\": [{\"colorbar\": {\"outlinewidth\": 0, \"ticks\": \"\"}, \"colorscale\": [[0.0, \"#0d0887\"], [0.1111111111111111, \"#46039f\"], [0.2222222222222222, \"#7201a8\"], [0.3333333333333333, \"#9c179e\"], [0.4444444444444444, \"#bd3786\"], [0.5555555555555556, \"#d8576b\"], [0.6666666666666666, \"#ed7953\"], [0.7777777777777778, \"#fb9f3a\"], [0.8888888888888888, \"#fdca26\"], [1.0, \"#f0f921\"]], \"type\": \"surface\"}], \"table\": [{\"cells\": {\"fill\": {\"color\": \"#EBF0F8\"}, \"line\": {\"color\": \"white\"}}, \"header\": {\"fill\": {\"color\": \"#C8D4E3\"}, \"line\": {\"color\": \"white\"}}, \"type\": \"table\"}]}, \"layout\": {\"annotationdefaults\": {\"arrowcolor\": \"#2a3f5f\", \"arrowhead\": 0, \"arrowwidth\": 1}, \"coloraxis\": {\"colorbar\": {\"outlinewidth\": 0, \"ticks\": \"\"}}, \"colorscale\": {\"diverging\": [[0, \"#8e0152\"], [0.1, \"#c51b7d\"], [0.2, \"#de77ae\"], [0.3, \"#f1b6da\"], [0.4, \"#fde0ef\"], [0.5, \"#f7f7f7\"], [0.6, \"#e6f5d0\"], [0.7, \"#b8e186\"], [0.8, \"#7fbc41\"], [0.9, \"#4d9221\"], [1, \"#276419\"]], \"sequential\": [[0.0, \"#0d0887\"], [0.1111111111111111, \"#46039f\"], [0.2222222222222222, \"#7201a8\"], [0.3333333333333333, \"#9c179e\"], [0.4444444444444444, \"#bd3786\"], [0.5555555555555556, \"#d8576b\"], [0.6666666666666666, \"#ed7953\"], [0.7777777777777778, \"#fb9f3a\"], [0.8888888888888888, \"#fdca26\"], [1.0, \"#f0f921\"]], \"sequentialminus\": [[0.0, \"#0d0887\"], [0.1111111111111111, \"#46039f\"], [0.2222222222222222, \"#7201a8\"], [0.3333333333333333, \"#9c179e\"], [0.4444444444444444, \"#bd3786\"], [0.5555555555555556, \"#d8576b\"], [0.6666666666666666, \"#ed7953\"], [0.7777777777777778, \"#fb9f3a\"], [0.8888888888888888, \"#fdca26\"], [1.0, \"#f0f921\"]]}, \"colorway\": [\"#636efa\", \"#EF553B\", \"#00cc96\", \"#ab63fa\", \"#FFA15A\", \"#19d3f3\", \"#FF6692\", \"#B6E880\", \"#FF97FF\", \"#FECB52\"], \"font\": {\"color\": \"#2a3f5f\"}, \"geo\": {\"bgcolor\": \"white\", \"lakecolor\": \"white\", \"landcolor\": \"#E5ECF6\", \"showlakes\": true, \"showland\": true, \"subunitcolor\": \"white\"}, \"hoverlabel\": {\"align\": \"left\"}, \"hovermode\": \"closest\", \"mapbox\": {\"style\": \"light\"}, \"paper_bgcolor\": \"white\", \"plot_bgcolor\": \"#E5ECF6\", \"polar\": {\"angularaxis\": {\"gridcolor\": \"white\", \"linecolor\": \"white\", \"ticks\": \"\"}, \"bgcolor\": \"#E5ECF6\", \"radialaxis\": {\"gridcolor\": \"white\", \"linecolor\": \"white\", \"ticks\": \"\"}}, \"scene\": {\"xaxis\": {\"backgroundcolor\": \"#E5ECF6\", \"gridcolor\": \"white\", \"gridwidth\": 2, \"linecolor\": \"white\", \"showbackground\": true, \"ticks\": \"\", \"zerolinecolor\": \"white\"}, \"yaxis\": {\"backgroundcolor\": \"#E5ECF6\", \"gridcolor\": \"white\", \"gridwidth\": 2, \"linecolor\": \"white\", \"showbackground\": true, \"ticks\": \"\", \"zerolinecolor\": \"white\"}, \"zaxis\": {\"backgroundcolor\": \"#E5ECF6\", \"gridcolor\": \"white\", \"gridwidth\": 2, \"linecolor\": \"white\", \"showbackground\": true, \"ticks\": \"\", \"zerolinecolor\": \"white\"}}, \"shapedefaults\": {\"line\": {\"color\": \"#2a3f5f\"}}, \"ternary\": {\"aaxis\": {\"gridcolor\": \"white\", \"linecolor\": \"white\", \"ticks\": \"\"}, \"baxis\": {\"gridcolor\": \"white\", \"linecolor\": \"white\", \"ticks\": \"\"}, \"bgcolor\": \"#E5ECF6\", \"caxis\": {\"gridcolor\": \"white\", \"linecolor\": \"white\", \"ticks\": \"\"}}, \"title\": {\"x\": 0.05}, \"xaxis\": {\"automargin\": true, \"gridcolor\": \"white\", \"linecolor\": \"white\", \"ticks\": \"\", \"title\": {\"standoff\": 15}, \"zerolinecolor\": \"white\", \"zerolinewidth\": 2}, \"yaxis\": {\"automargin\": true, \"gridcolor\": \"white\", \"linecolor\": \"white\", \"ticks\": \"\", \"title\": {\"standoff\": 15}, \"zerolinecolor\": \"white\", \"zerolinewidth\": 2}}}, \"updatemenus\": [{\"buttons\": [{\"args\": [{\"type\": \"heatmap\", \"x\": [[0, 1, 2, 3, 4, 5, 6, 7, 8, 9, 10, 11, 12, 13, 14, 15, 16, 17, 18, 19, 20, 21, 22, 23, 24, 25, 26, 27, 28, 29, 30, 31, 32, 33, 34, 35, 36, 37, 38, 39, 40, 41]], \"y\": [[\"estrato\", \"tipoinmueble_Apartamento\", \"longitud\", \"tiempodeconstruido_Entre 10 y 20 a\\u00f1os\", \"tiempodeconstruido_Entre 0 y 5 a\\u00f1os\", \"tiempodeconstruido_Remodelado\", \"garajes\", \"tiempodeconstruido_Entre 5 y 10 a\\u00f1os\", \"ascensor\", \"V_REF\", \"gimnasio\", \"latitud\", \"remodelado\", \"area\", \"piso\", \"banos\", \"tiempodeconstruido_M\\u00e1s de 20 a\\u00f1os\", \"piscina\", \"balcon\", \"conjuntocerrado\", \"porteria\", \"vigilancia\", \"terraza\", \"cuartoservicio\", \"vista_Interior\", \"y\", \"valorventa\", \"parqueaderovisitantes\", \"vista_Exterior\", \"halldealcobas\", \"tiempodeconstruido_Menos de 1 a\\u00f1o\", \"deposito\", \"tiempodeconstruido_M\\u00e1s de 30 a\\u00f1os\", \"habitaciones\", \"estudio\", \"tiempodeconstruido_1 a 8 a\\u00f1os\", \"valoradministracion\", \"tiempodeconstruido_9 a 15 a\\u00f1os\", \"tiempodeconstruido_16 a 30 a\\u00f1os\", \"banoservicio\", \"tipoinmueble_Casa\", \"id\"]], \"z\": [[[1.0, 0.2961706086937746, 0.6348387286953652, 0.09198813571128721, 0.06894208102172167, 0.04078685609280654, 0.49818704672608, 0.06667296429687046, 0.2773558099569497, 0.36751640035610683, 0.1596052599793699, 0.24080684990564183, 0.08292875948386684, -0.00042389895171299744, 0.003843955667292924, 0.27274426686883857, 0.054703293201581606, 0.06401675625209806, 0.1813413866583063, -0.03732647284702071, 0.001188877920654603, 0.05772640333257963, 0.12613343376384273, 0.34288090320630843, -0.030911561708713495, 0.0018655142748313371, -0.0013444031527618913, 0.002163943362792953, 0.030911561708713495, -0.008728664136397614, -0.05073744247624042, 0.06689493599162039, -0.04774139915484062, -0.18082463633392837, -0.05501692601264141, -0.07523998319379153, -0.3339517291508995, -0.08108578557535366, -0.06455709771557512, 0.08479094675977575, -0.2961706086937746, -0.1406647557061929], [0.2961706086937746, 1.0, 0.27566821582894735, -0.035318306406652664, 0.14490750827800972, -0.032098891846924486, -0.090539198349285, 0.08648403336327797, 0.4072095991726728, 0.1626345820970221, 0.21581785994243385, 0.07385672239483587, 0.12370293885788097, -0.0035440888765073315, 0.2238978245383153, -0.2288319633647687, -0.06936441501581204, 0.11493478554982181, 0.17493308877883829, 0.11039198425308468, 0.14287013812314936, 0.037424971116751284, -0.021901786255867594, -0.05225135287941371, 0.02484810414833442, 0.0035894088665726427, -0.004149253460988382, 0.0036475286145124905, -0.02484810414833442, -0.14117973226962072, 0.03544994147428389, -0.4029657247194262, -0.17682806210450278, -0.44885202050019657, -0.5873636955503037, 0.11805279444109688, -0.3084036684875926, -0.021541393426756587, -0.0830356886524236, -0.017759311523653884, -1.0, -0.10971455339597565], [0.6348387286953652, 0.27566821582894735, 1.0, 0.08236191213606728, 0.08046813789112145, 0.031061872564957203, 0.3260046663424233, 0.058244568170794216, 0.2371897162017107, 0.30181436353432567, 0.1357834591159056, 0.49776349024435895, 0.05927477362305776, 0.0022268211016749323, 0.04130267100603809, 0.15938146564826833, 0.053350939632178546, 0.034905248464368877, 0.15862083263487908, -0.019993270452226326, 0.011926475345515226, 0.05353019827811362, 0.07390651608981295, 0.21057805109148245, -0.014035401647880488, 0.004525137434447378, -0.0041353906930880055, 0.0051083352487998005, 0.014035401647880488, -0.015654223383043883, -0.04328460422719926, 0.04244611187808657, -0.03205573266185877, -0.19610508333819093, -0.07837854689513052, -0.07911265724685396, -0.3397305412552921, -0.09078114367277725, -0.0518308960103625, 0.04993615799657312, -0.27566821582894735, -0.10758523911536554], [0.09198813571128721, -0.035318306406652664, 0.08236191213606728, 1.0, -0.157255449409756, -0.04522396710883219, 0.017658719372454328, -0.17296836217555425, -0.051290991418232, 0.02993438643332683, -0.03160736507338778, 0.035110196006803214, 0.0027795677360012132, 0.0048620787016955816, -0.0466606628960429, 0.04850010425252573, -0.14598479442049758, -0.059786503532629535, -0.08248151817661298, -0.026527660714306782, -0.05314045090555909, -0.003140894360586608, -0.02740155061790862, 0.07758219153796635, 0.005556948516826281, 0.0010896400725495096, -0.0009649760108372623, 0.001009600149201889, -0.005556948516826281, 0.008699296133514674, -0.06824076923669906, -0.0858484266371172, -0.11587164525871693, -0.002924472618278339, 0.050994013438616516, -0.1928695695010243, -0.014582610436568904, -0.21006853018442312, -0.218349743703881, -0.0107259916047885, 0.035318306406652664, -0.09444912674214603], [0.06894208102172167, 0.14490750827800972, 0.08046813789112145, -0.157255449409756, 1.0, -0.028840684915489002, 0.0014785185774043345, -0.11030713032884513, 0.1715475317862717, 0.037718215859988725, 0.1810728167334899, 0.01830813453483673, -0.0906641909816281, -0.0070016872030913115, 0.14254878808050225, -0.03131180900700795, -0.09309889705603676, 0.1114978859296636, 0.0413723333268661, 0.0845190788596337, 0.07028886388901136, 0.05926700022906828, -0.03124665573088231, -0.06810529880665413, 0.009087894744872056, 0.0004115519039309797, -0.0005370541238267749, 0.0006438524007334609, -0.009087894744872056, -0.05653814570617059, -0.04351919236068378, -0.04756728401300369, -0.07389483553008827, -0.13751052053776222, -0.06935476600656504, -0.12299872919833627, -0.051110894834040355, -0.13396702405873087, -0.1392482031568368, -0.04228250512609221, -0.14490750827800972, -0.08683327351775964], [0.04078685609280654, -0.032098891846924486, 0.031061872564957203, -0.04522396710883219, -0.028840684915489002, 1.0, 0.056526241934077, -0.03172243666319655, -0.0022556629030938374, -0.00675200415086739, -0.022474818516834326, 0.029439751926843363, 0.28118146144229644, -0.00327531033157086, -0.01133651948026846, 0.042283071261849416, -0.026773644246278205, -0.01677388212625909, -0.03771805292084948, 0.04473664203379092, 0.04216783612000101, 0.020195998221301914, -0.009871480046345, 0.02245014093381805, -0.012342587581149015, 0.00025564284394266216, -0.00020577292426123597, 0.0001851608952364503, 0.012342587581149015, 0.0042648243392672995, -0.012515372480407039, 0.035907178748887, -0.02125088589340043, 0.011374888980831842, 0.034008895011763504, -0.035372322578284106, -0.012205497447505044, -0.038526615849648754, -0.040045392278180686, -0.01072581056364422, 0.032098891846924486, -0.06518210828563922], [0.49818704672608, -0.090539198349285, 0.3260046663424233, 0.017658719372454328, 0.0014785185774043345, 0.056526241934077, 1.0, 0.021039810602666967, 0.06720658935764336, 0.16885088036648868, 0.1021831030480612, 0.14488811363054474, 0.004207693056965213, -0.00021554928525853535, -0.015583158214703073, 0.4159975123346365, 0.02320585477783004, 0.06553494666867407, 0.12912473803011723, -0.02571223956369087, -0.012613457555015624, 0.012705542203518456, 0.16900400061002815, 0.3910611822660207, -0.08682264882075519, -0.0009920291728115283, 0.0019666532099417247, 0.001460619271332521, 0.08682264882075519, 0.036980385185468395, -0.03856712934730983, 0.18427190446998, 0.021480638131210716, 0.145564297717636, 0.19796144005722047, -0.043398751127226215, -0.12935011642457192, -0.018722601879195708, -0.009682392795376173, 0.10294138391289522, 0.090539198349285, -0.05870459894656455], [0.06667296429687046, 0.08648403336327797, 0.058244568170794216, -0.17296836217555425, -0.11030713032884513, -0.03172243666319655, 0.021039810602666967, 1.0, 0.03375614713306577, 0.003970290326880467, 0.11183129835989351, 0.05992717896994028, -0.05893473244581573, 0.002873123832575992, 0.07782939106622362, -0.0013595855736647493, -0.10240130821845862, 0.050013629239427065, 0.051509933871616474, 0.02769239715235355, 0.012548315050894213, -0.010431584697811346, -0.009310230282100582, -0.020210264762887436, 0.010378465150692347, 0.0004684759471897973, -0.00036236466573156363, 0.0007081859207761882, -0.010378465150692347, -0.02889167498360288, -0.04786761574366805, -0.026271835816900586, -0.0812783831841372, -0.06849785691939562, -0.05581407917782738, -0.13528872175261877, -0.04305702218440509, -0.1473529650248191, -0.1531618378010634, 0.00511853301585547, -0.08648403336327797, -0.05719497298522177], [0.2773558099569497, 0.4072095991726728, 0.2371897162017107, -0.051290991418232, 0.1715475317862717, -0.0022556629030938374, 0.06720658935764336, 0.03375614713306577, 1.0, 0.12174705383938246, 0.25596290736431504, 0.07265556538258475, 0.02469581559982985, 0.006853819474571976, 0.2326010778499253, -0.004622203162188836, -0.019778090970220326, 0.18923135771174585, 0.2850341260973218, 0.2651241978091734, 0.2935165710508458, 0.1611058788507132, 0.11671247076175092, 0.08097916266904584, 0.0013588859552162197, 0.0014546603047141415, -0.0015720237559685257, 0.0015185851114440532, -0.0013588859552162197, -0.0804225428939456, 0.04821402293861141, 0.05841888424275628, -0.08463989822532088, -0.19296698111012445, 0.03096992737262152, 0.12068439232273198, -0.18130507397438694, -0.07365384799232282, -0.09755612642780577, -0.05600782169669307, -0.4072095991726728, -0.05349237230380822], [0.36751640035610683, 0.1626345820970221, 0.30181436353432567, 0.02993438643332683, 0.037718215859988725, -0.00675200415086739, 0.16885088036648868, 0.003970290326880467, 0.12174705383938246, 1.0, 0.0464621595445353, -0.039578327888094816, 0.04328609859075328, 0.001967135737829389, 0.011715617763206707, 0.09464379363145661, 0.027595712845931118, 0.0020410456445223353, 0.04706747297324712, -0.1080263725235979, -0.0833399696607057, -0.01576669179494045, 0.04733186304455697, 0.12323108498669993, -0.024220095529624036, 0.0016459067068459899, -0.0011409038472791832, 0.0012413359538640068, 0.024220095529624036, -0.0028482189753146793, -0.012173186580926905, -0.004876239681350971, 0.011500890359225349, -0.08863471987769947, -0.06440617142587918, -0.05464347696878103, -0.12144658171458703, -0.036438147641817145, -0.0006997944836386441, 0.039434962846374266, -0.1626345820970221, -0.050238639714260847], [0.1596052599793699, 0.21581785994243385, 0.1357834591159056, -0.03160736507338778, 0.1810728167334899, -0.022474818516834326, 0.1021831030480612, 0.11183129835989351, 0.25596290736431504, 0.0464621595445353, 1.0, 0.103017275563365, -0.06272908271774018, -0.009203940217844216, 0.21661383692114558, 0.03469507869014196, -0.097818214530339, 0.35117601222218914, 0.2996193030633302, 0.15603927163731837, 0.16531927139902225, 0.059448241428461876, 0.11015108305620547, 0.076219081319765, -0.02290252344128942, 0.0007831608622378915, -0.0008366463076904787, 0.0010790700189359846, 0.02290252344128942, -0.03887377409075129, 0.015579878699105383, 0.00889612189024056, -0.10832735571169473, -0.11147092592989427, -0.026803700873015028, 0.08212538515208846, -0.1291174460041511, -0.005417393796347306, -0.13479022113119027, -0.014370179645563691, -0.21581785994243385, -0.04761609772654992], [0.24080684990564183, 0.07385672239483587, 0.49776349024435895, 0.035110196006803214, 0.01830813453483673, 0.029439751926843363, 0.14488811363054474, 0.05992717896994028, 0.07265556538258475, -0.039578327888094816, 0.103017275563365, 1.0, 0.009529989435576671, 0.006241134723808999, 0.013713459840064664, 0.0548242033827353, -0.01962439944567298, 0.06012886970244665, 0.108661712008432, 0.16667709491202976, 0.16306777715457552, 0.058366916309566225, 0.019470353594700483, 0.08276491335467494, 0.03472326741399918, 0.00406787673593393, -0.003992193286115383, 0.004395282039954468, -0.03472326741399918, -0.013569503370880025, -0.035682906631545344, 0.04483306524441824, -0.07828203611136732, -0.09108210957318921, 0.0033063503730327527, -0.008048733272232747, -0.21884321624569109, 0.008591483538712745, -0.03650253693498868, 0.010157699861404934, -0.07385672239483587, -0.04553850214304974], [0.08292875948386684, 0.12370293885788097, 0.05927477362305776, 0.0027795677360012132, -0.0906641909816281, 0.28118146144229644, 0.004207693056965213, -0.05893473244581573, 0.02469581559982985, 0.04328609859075328, -0.06272908271774018, 0.009529989435576671, 1.0, -0.010148421169454606, -0.027477283881892346, -0.006376554981230082, 0.07502949529497512, -0.048853114466645815, -0.06492201183060593, 0.02554012863726937, 0.03168547555753678, 0.013046386116682483, -0.029944677054996146, 0.028320327803212905, -0.0024861251390238337, 0.0007931967291883573, -0.0008320019710483976, 0.0006585103238491457, 0.0024861251390238337, -0.007443586341902283, -0.03729604639497812, -0.05043003449835919, 0.024338666510397546, -0.03480545077884705, -0.05703814880773892, -0.07929475414719028, -0.05394626867448858, -0.018728001888622014, 0.08337225566884297, 0.0032052791966137263, -0.12370293885788097, -0.04143217269551547], [-0.00042389895171299744, -0.0035440888765073315, 0.0022268211016749323, 0.0048620787016955816, -0.0070016872030913115, -0.00327531033157086, -0.00021554928525853535, 0.002873123832575992, 0.006853819474571976, 0.001967135737829389, -0.009203940217844216, 0.006241134723808999, -0.010148421169454606, 1.0, -0.002397017647901259, 0.0013398099435796712, -0.0032789225887522376, -0.006055579691965737, 0.006764894312819236, -0.024407332836691217, -0.02640096639463877, 0.0031119050626181354, -0.003782293377247053, -0.01874896268823838, -0.0026083107131217535, 0.00014741099304788606, -0.00010910342787885511, 7.312631383083952e-05, 0.0026083107131217535, 0.006101961559428704, -0.004091776506263321, -0.01746760657018113, -0.005670485954263021, 0.00526312381987491, -0.014038730842822662, -0.000677102896106585, 0.015922696936916742, 0.004671797111091485, 0.0019754943893652535, -0.006710305879681041, 0.0035440888765073315, -0.0319640760527295], [0.003843955667292924, 0.2238978245383153, 0.04130267100603809, -0.0466606628960429, 0.14254878808050225, -0.01133651948026846, -0.015583158214703073, 0.07782939106622362, 0.2326010778499253, 0.011715617763206707, 0.21661383692114558, 0.013713459840064664, -0.027477283881892346, -0.002397017647901259, 1.0, -0.02319914329388828, -0.0721786445083464, 0.1945759231321587, 0.15943437540179578, 0.1295457811122796, 0.1254311158782498, 0.0360351855276455, 0.018383402028939386, -0.032367304229187314, -0.06185458644818636, 0.001668781297734477, -0.0018123768559221134, -0.0013285626270252936, 0.06185458644818636, -0.051462239424377505, 0.039613531231368786, -0.05506309959050109, -0.09460148081250473, -0.08551651454007882, -0.06721597269453293, 0.12559657777938554, -0.08095240697989066, -0.01593237308675857, -0.1279365012278344, -0.011790893690293186, -0.2238978245383153, -0.026905255467333574], [0.27274426686883857, -0.2288319633647687, 0.15938146564826833, 0.04850010425252573, -0.03131180900700795, 0.042283071261849416, 0.4159975123346365, -0.0013595855736647493, -0.004622203162188836, 0.09464379363145661, 0.03469507869014196, 0.0548242033827353, -0.006376554981230082, 0.0013398099435796712, -0.02319914329388828, 1.0, 0.046652756590479856, 0.04151910407250185, 0.05444323515925123, -0.0485911048046632, -0.04977680175430297, -0.003790770010233941, 0.13284561834602224, 0.3081371774771128, -0.07446746808660161, 0.0007029579024894313, 0.00013701263931430762, -0.0015813189574817638, 0.07446746808660161, 0.04542168353788914, -0.03994399353487348, 0.19964152458741918, 0.061221961618732716, 0.4687764395458859, 0.2721921678627203, -0.07077957667458444, -0.00029323464439426556, -0.02964203423959328, 9.293887358271582e-05, 0.09207041210110652, 0.2288319633647687, -0.025965452672299567], [0.054703293201581606, -0.06936441501581204, 0.053350939632178546, -0.14598479442049758, -0.09309889705603676, -0.026773644246278205, 0.02320585477783004, -0.10240130821845862, -0.019778090970220326, 0.027595712845931118, -0.097818214530339, -0.01962439944567298, 0.07502949529497512, -0.0032789225887522376, -0.0721786445083464, 0.046652756590479856, 1.0, -0.07106389915620888, -0.1172573359260853, 0.015398005503638647, 0.010674406886822961, 0.00973810608512297, -0.02865687146649989, 0.07325440013061595, 0.0026817826087508164, 0.0005989490729401317, -0.00028891321201227754, 0.0005977068566485041, -0.0026817826087508164, -0.0015216132408355136, -0.040400128415271463, 0.07053347380136234, -0.06859871892567226, 0.03676346089768488, 0.06770053051389673, -0.11418328753266467, 0.00922536596629041, -0.12436547375345555, -0.12926814547569507, 0.014620419639820359, 0.06936441501581204, -0.02093398337090576], [0.06401675625209806, 0.11493478554982181, 0.034905248464368877, -0.059786503532629535, 0.1114978859296636, -0.01677388212625909, 0.06553494666867407, 0.050013629239427065, 0.18923135771174585, 0.0020410456445223353, 0.35117601222218914, 0.06012886970244665, -0.048853114466645815, -0.006055579691965737, 0.1945759231321587, 0.04151910407250185, -0.07106389915620888, 1.0, 0.2027931118345147, 0.17044642340149027, 0.16757948501640169, 0.0508787869212154, 0.09125407809692007, 0.05433957921691273, -0.03519716672780318, 0.0001916939161928247, 1.6080441259859613e-05, 0.0005677274323511434, 0.03519716672780318, -0.03163933770017864, 0.0495317556293857, 0.03409151655324424, -0.06184093505131462, -0.0314943147460149, 0.03359571284709913, 0.10729506891434436, -0.0518875219424652, 0.005014500211970283, -0.09246936147534865, 0.0030875609719894313, -0.11493478554982181, -0.01874119143484877], [0.1813413866583063, 0.17493308877883829, 0.15862083263487908, -0.08248151817661298, 0.0413723333268661, -0.03771805292084948, 0.12912473803011723, 0.051509933871616474, 0.2850341260973218, 0.04706747297324712, 0.2996193030633302, 0.108661712008432, -0.06492201183060593, 0.006764894312819236, 0.15943437540179578, 0.05444323515925123, -0.1172573359260853, 0.2027931118345147, 1.0, 0.0840986340018128, 0.09373488463531968, 0.05353860923275072, 0.09314926183182454, 0.08213356151876296, -0.035921776902743355, 0.0008564917956980168, -0.0008522468454783195, 0.0011663230720539422, 0.035921776902743355, -0.014761035695950352, 0.04847911032517664, 0.10645767394880659, -0.08326760979233593, -0.07727727006827127, 0.010411539368543214, 0.18462933905174608, -0.12137477454645836, 0.06644591405602802, -0.09276311375017368, 0.0040706302418065405, -0.17493308877883829, -0.01860849275496536], [-0.03732647284702071, 0.11039198425308468, -0.019993270452226326, -0.026527660714306782, 0.0845190788596337, 0.04473664203379092, -0.02571223956369087, 0.02769239715235355, 0.2651241978091734, -0.1080263725235979, 0.15603927163731837, 0.16667709491202976, 0.02554012863726937, -0.024407332836691217, 0.1295457811122796, -0.0485911048046632, 0.015398005503638647, 0.17044642340149027, 0.0840986340018128, 1.0, 0.9171846176204823, 0.16360805923638366, 0.02897919394420991, 0.019877516748312188, 0.024781834185045055, 0.0013865619258412003, -0.0014575845591670948, 0.001393637023030742, -0.024781834185045055, -0.18795353185838956, -0.004098924504993085, 0.08027509623501271, -0.07018513971971371, -0.06787738381275582, 0.1261331422596565, 0.03112678474605601, -0.11312734315235205, -0.01888964696688285, -0.04942320817164534, -0.08138480899243938, -0.11039198425308468, -0.013957375489220483], [0.001188877920654603, 0.14287013812314936, 0.011926475345515226, -0.05314045090555909, 0.07028886388901136, 0.04216783612000101, -0.012613457555015624, 0.012548315050894213, 0.2935165710508458, -0.0833399696607057, 0.16531927139902225, 0.16306777715457552, 0.03168547555753678, -0.02640096639463877, 0.1254311158782498, -0.04977680175430297, 0.010674406886822961, 0.16757948501640169, 0.09373488463531968, 0.9171846176204823, 1.0, 0.16823818860283185, 0.029122355832219962, 0.02700431374985846, 0.024621511147100806, 0.0015086656125602297, -0.0015953527520350156, 0.0015194727389246368, -0.024621511147100806, -0.17419482940835876, 0.0097177377357504, 0.08607248104977003, -0.05273648263750985, -0.08966515224042053, 0.10988245265013943, 0.05380691704767329, -0.12553107083881568, -0.015717171238914234, -0.03207068205721916, -0.07299471207850028, -0.14287013812314936, -0.00995348715898536], [0.05772640333257963, 0.037424971116751284, 0.05353019827811362, -0.003140894360586608, 0.05926700022906828, 0.020195998221301914, 0.012705542203518456, -0.010431584697811346, 0.1611058788507132, -0.01576669179494045, 0.059448241428461876, 0.058366916309566225, 0.013046386116682483, 0.0031119050626181354, 0.0360351855276455, -0.003790770010233941, 0.00973810608512297, 0.0508787869212154, 0.05353860923275072, 0.16360805923638366, 0.16823818860283185, 1.0, 0.0312662132869092, 0.00021980756779287018, 0.028976956509867022, -0.0006979991015767115, 0.0006852651505463042, 0.008211152869238366, -0.028976956509867022, -0.03381441161565751, 0.009593130929518518, 0.036285078381926475, 0.0082967746600104, -0.03693349914085325, 0.0794472015363781, 0.023091657253539434, -0.0665626263248282, -0.07187812749569683, -0.0058549664153906365, -0.11160859759858233, -0.037424971116751284, -0.009221304310168472], [0.12613343376384273, -0.021901786255867594, 0.07390651608981295, -0.02740155061790862, -0.03124665573088231, -0.009871480046345, 0.16900400061002815, -0.009310230282100582, 0.11671247076175092, 0.04733186304455697, 0.11015108305620547, 0.019470353594700483, -0.029944677054996146, -0.003782293377247053, 0.018383402028939386, 0.13284561834602224, -0.02865687146649989, 0.09125407809692007, 0.09314926183182454, 0.02897919394420991, 0.029122355832219962, 0.0312662132869092, 1.0, 0.13271399411955, -0.027740030272668185, 0.0008361339749412895, -0.0006461108248957873, -0.004408418880615141, 0.027740030272668185, 0.019986584071450767, 0.053794928221308845, 0.13438972711115998, -0.01679827025383707, 0.05090444291326867, 0.1064987766879537, 0.10718631128600334, -0.02580289381767871, 0.00845828567060438, -0.030669160345911762, 0.02579645594983852, 0.021901786255867594, -0.006347126897042579], [0.34288090320630843, -0.05225135287941371, 0.21057805109148245, 0.07758219153796635, -0.06810529880665413, 0.02245014093381805, 0.3910611822660207, -0.020210264762887436, 0.08097916266904584, 0.12323108498669993, 0.076219081319765, 0.08276491335467494, 0.028320327803212905, -0.01874896268823838, -0.032367304229187314, 0.3081371774771128, 0.07325440013061595, 0.05433957921691273, 0.08213356151876296, 0.019877516748312188, 0.02700431374985846, 0.00021980756779287018, 0.13271399411955, 1.0, -0.0570791098098048, 0.00095938133920451, -0.00021424678201956938, 0.0011069029952797428, 0.0570791098098048, 0.046181874588774034, -0.043291233590265564, 0.12449652764890438, 0.04278282081472447, 0.11478903748438692, 0.20053565192454753, -0.09287179625294499, -0.09211342815286931, -0.034509430233272506, 0.03588422898843285, 0.2993396794489358, 0.05225135287941371, -0.006097241327847726], [-0.030911561708713495, 0.02484810414833442, -0.014035401647880488, 0.005556948516826281, 0.009087894744872056, -0.012342587581149015, -0.08682264882075519, 0.010378465150692347, 0.0013588859552162197, -0.024220095529624036, -0.02290252344128942, 0.03472326741399918, -0.0024861251390238337, -0.0026083107131217535, -0.06185458644818636, -0.07446746808660161, 0.0026817826087508164, -0.03519716672780318, -0.035921776902743355, 0.024781834185045055, 0.024621511147100806, 0.028976956509867022, -0.027740030272668185, -0.0570791098098048, 1.0, 0.0009181827614295058, -0.0010873987221668015, 0.0008787158730544347, -1.0, -0.010384827393609799, -0.011172518523888007, -0.019474949426774916, 0.0034274413867844693, -0.06083150977788818, -0.04972728854872391, -0.011204840750694852, -0.017237647538600482, -0.0005333173926416619, -0.007986300666607929, -0.008068537272520772, -0.02484810414833442, -0.003552732092930634], [0.0018655142748313371, 0.0035894088665726427, 0.004525137434447378, 0.0010896400725495096, 0.0004115519039309797, 0.00025564284394266216, -0.0009920291728115283, 0.0004684759471897973, 0.0014546603047141415, 0.0016459067068459899, 0.0007831608622378915, 0.00406787673593393, 0.0007931967291883573, 0.00014741099304788606, 0.001668781297734477, 0.0007029579024894313, 0.0005989490729401317, 0.0001916939161928247, 0.0008564917956980168, 0.0013865619258412003, 0.0015086656125602297, -0.0006979991015767115, 0.0008361339749412895, 0.00095938133920451, 0.0009181827614295058, 1.0, -0.9995731095549443, -6.200592473464766e-06, -0.0009181827614295058, -0.0008251418398099059, 0.0002669044911786535, -0.0020431210122677126, -0.00853568571509308, -0.0027588292701096542, -0.0021817469763784365, 0.0007971144668275966, -0.00565979641049222, 0.0009388362633745285, 0.000987328990200176, 0.0005379722036984364, -0.0035894088665726427, -0.0002082998865259671], [-0.0013444031527618913, -0.004149253460988382, -0.0041353906930880055, -0.0009649760108372623, -0.0005370541238267749, -0.00020577292426123597, 0.0019666532099417247, -0.00036236466573156363, -0.0015720237559685257, -0.0011409038472791832, -0.0008366463076904787, -0.003992193286115383, -0.0008320019710483976, -0.00010910342787885511, -0.0018123768559221134, 0.00013701263931430762, -0.00028891321201227754, 1.6080441259859613e-05, -0.0008522468454783195, -0.0014575845591670948, -0.0015953527520350156, 0.0006852651505463042, -0.0006461108248957873, -0.00021424678201956938, -0.0010873987221668015, -0.9995731095549443, 1.0, 6.683860749180911e-06, 0.0010873987221668015, 0.0009056206219934453, -0.0003634130678264902, 0.002363336415015042, 0.008610267278204563, 0.0033549255606389107, 0.002744862407032872, -0.0010369924312188356, 0.005563187600069029, -0.0010467600399972482, -0.0010380938028059844, -0.00037810220649627625, 0.004149253460988382, 0.00015046877186947427], [0.002163943362792953, 0.0036475286145124905, 0.0051083352487998005, 0.001009600149201889, 0.0006438524007334609, 0.0001851608952364503, 0.001460619271332521, 0.0007081859207761882, 0.0015185851114440532, 0.0012413359538640068, 0.0010790700189359846, 0.004395282039954468, 0.0006585103238491457, 7.312631383083952e-05, -0.0013285626270252936, -0.0015813189574817638, 0.0005977068566485041, 0.0005677274323511434, 0.0011663230720539422, 0.001393637023030742, 0.0015194727389246368, 0.008211152869238366, -0.004408418880615141, 0.0011069029952797428, 0.0008787158730544347, -6.200592473464766e-06, 6.683860749180911e-06, 1.0, -0.0008787158730544347, -0.0008834493194327631, 0.00027939879518133737, -0.0019112194981827182, 0.0004744143192264725, -0.002563430565343177, -0.002142425886644938, 0.0007896676128971724, -0.00029725328404448594, -0.00480605137913635, 0.000893991319284814, 0.00046831627174678933, -0.0036475286145124905, 0.0009962615969496384], [0.030911561708713495, -0.02484810414833442, 0.014035401647880488, -0.005556948516826281, -0.009087894744872056, 0.012342587581149015, 0.08682264882075519, -0.010378465150692347, -0.0013588859552162197, 0.024220095529624036, 0.02290252344128942, -0.03472326741399918, 0.0024861251390238337, 0.0026083107131217535, 0.06185458644818636, 0.07446746808660161, -0.0026817826087508164, 0.03519716672780318, 0.035921776902743355, -0.024781834185045055, -0.024621511147100806, -0.028976956509867022, 0.027740030272668185, 0.0570791098098048, -1.0, -0.0009181827614295058, 0.0010873987221668015, -0.0008787158730544347, 1.0, 0.010384827393609799, 0.011172518523888007, 0.019474949426774916, -0.0034274413867844693, 0.06083150977788818, 0.04972728854872391, 0.011204840750694852, 0.017237647538600482, 0.0005333173926416619, 0.007986300666607929, 0.008068537272520772, 0.02484810414833442, 0.003552732092930634], [-0.008728664136397614, -0.14117973226962072, -0.015654223383043883, 0.008699296133514674, -0.05653814570617059, 0.0042648243392672995, 0.036980385185468395, -0.02889167498360288, -0.0804225428939456, -0.0028482189753146793, -0.03887377409075129, -0.013569503370880025, -0.007443586341902283, 0.006101961559428704, -0.051462239424377505, 0.04542168353788914, -0.0015216132408355136, -0.03163933770017864, -0.014761035695950352, -0.18795353185838956, -0.17419482940835876, -0.03381441161565751, 0.019986584071450767, 0.046181874588774034, -0.010384827393609799, -0.0008251418398099059, 0.0009056206219934453, -0.0008834493194327631, 0.010384827393609799, 1.0, 0.0011883176494932315, 0.047224467524743546, 0.025094528748208028, 0.05622873725364959, 0.06578319452032927, -0.007924738797232097, 0.03814753187846119, 0.021128494590321335, 0.030363912433211872, 0.023261585483117415, 0.14117973226962072, 0.01615551502172569], [-0.05073744247624042, 0.03544994147428389, -0.04328460422719926, -0.06824076923669906, -0.04351919236068378, -0.012515372480407039, -0.03856712934730983, -0.04786761574366805, 0.04821402293861141, -0.012173186580926905, 0.015579878699105383, -0.035682906631545344, -0.03729604639497812, -0.004091776506263321, 0.039613531231368786, -0.03994399353487348, -0.040400128415271463, 0.0495317556293857, 0.04847911032517664, -0.004098924504993085, 0.0097177377357504, 0.009593130929518518, 0.053794928221308845, -0.043291233590265564, -0.011172518523888007, 0.0002669044911786535, -0.0003634130678264902, 0.00027939879518133737, 0.011172518523888007, 0.0011883176494932315, 1.0, -0.003835603380445721, -0.03206655437458776, -0.035789117870224214, -0.03226750702052066, -0.05337511626528653, 0.027184398871333386, -0.058134791566057296, -0.06042655140993791, -0.01694273392463454, -0.03544994147428389, 0.017876057478369282], [0.06689493599162039, -0.4029657247194262, 0.04244611187808657, -0.0858484266371172, -0.04756728401300369, 0.035907178748887, 0.18427190446998, -0.026271835816900586, 0.05841888424275628, -0.004876239681350971, 0.00889612189024056, 0.04483306524441824, -0.05043003449835919, -0.01746760657018113, -0.05506309959050109, 0.19964152458741918, 0.07053347380136234, 0.03409151655324424, 0.10645767394880659, 0.08027509623501271, 0.08607248104977003, 0.036285078381926475, 0.13438972711115998, 0.12449652764890438, -0.019474949426774916, -0.0020431210122677126, 0.002363336415015042, -0.0019112194981827182, 0.019474949426774916, 0.047224467524743546, -0.003835603380445721, 1.0, 0.08568760307992639, 0.19850549314230984, 0.3765043215563264, -0.010815437186944995, 0.06061455510112261, 0.01819243211875184, 0.033645192818597514, 0.005987915028725225, 0.4029657247194262, 0.02065753098169075], [-0.04774139915484062, -0.17682806210450278, -0.03205573266185877, -0.11587164525871693, -0.07389483553008827, -0.02125088589340043, 0.021480638131210716, -0.0812783831841372, -0.08463989822532088, 0.011500890359225349, -0.10832735571169473, -0.07828203611136732, 0.024338666510397546, -0.005670485954263021, -0.09460148081250473, 0.061221961618732716, -0.06859871892567226, -0.06184093505131462, -0.08326760979233593, -0.07018513971971371, -0.05273648263750985, 0.0082967746600104, -0.01679827025383707, 0.04278282081472447, 0.0034274413867844693, -0.00853568571509308, 0.008610267278204563, 0.0004744143192264725, -0.0034274413867844693, 0.025094528748208028, -0.03206655437458776, 0.08568760307992639, 1.0, 0.17699530050156473, 0.11656003668998342, -0.09063002376358524, 0.07952776871422249, -0.09871187005800018, -0.10260323861335169, -0.013526954636174296, 0.17682806210450278, 0.04259133368131142], [-0.18082463633392837, -0.44885202050019657, -0.19610508333819093, -0.002924472618278339, -0.13751052053776222, 0.011374888980831842, 0.145564297717636, -0.06849785691939562, -0.19296698111012445, -0.08863471987769947, -0.11147092592989427, -0.09108210957318921, -0.03480545077884705, 0.00526312381987491, -0.08551651454007882, 0.4687764395458859, 0.03676346089768488, -0.0314943147460149, -0.07727727006827127, -0.06787738381275582, -0.08966515224042053, -0.03693349914085325, 0.05090444291326867, 0.11478903748438692, -0.06083150977788818, -0.0027588292701096542, 0.0033549255606389107, -0.002563430565343177, 0.06083150977788818, 0.05622873725364959, -0.035789117870224214, 0.19850549314230984, 0.17699530050156473, 1.0, 0.33200050264221326, -0.07449162062543346, 0.22047191463785215, 0.013897829637677835, 0.10002869368094013, 0.03357201401171793, 0.44885202050019657, 0.04261030864452418], [-0.05501692601264141, -0.5873636955503037, -0.07837854689513052, 0.050994013438616516, -0.06935476600656504, 0.034008895011763504, 0.19796144005722047, -0.05581407917782738, 0.03096992737262152, -0.06440617142587918, -0.026803700873015028, 0.0033063503730327527, -0.05703814880773892, -0.014038730842822662, -0.06721597269453293, 0.2721921678627203, 0.06770053051389673, 0.03359571284709913, 0.010411539368543214, 0.1261331422596565, 0.10988245265013943, 0.0794472015363781, 0.1064987766879537, 0.20053565192454753, -0.04972728854872391, -0.0021817469763784365, 0.002744862407032872, -0.002142425886644938, 0.04972728854872391, 0.06578319452032927, -0.03226750702052066, 0.3765043215563264, 0.11656003668998342, 0.33200050264221326, 1.0, -0.0833283731822893, 0.14602811990997594, -0.02919574611841294, 0.03460567346238684, -0.029962221327792127, 0.5873636955503037, 0.05232920616825372], [-0.07523998319379153, 0.11805279444109688, -0.07911265724685396, -0.1928695695010243, -0.12299872919833627, -0.035372322578284106, -0.043398751127226215, -0.13528872175261877, 0.12068439232273198, -0.05464347696878103, 0.08212538515208846, -0.008048733272232747, -0.07929475414719028, -0.000677102896106585, 0.12559657777938554, -0.07077957667458444, -0.11418328753266467, 0.10729506891434436, 0.18462933905174608, 0.03112678474605601, 0.05380691704767329, 0.023091657253539434, 0.10718631128600334, -0.09287179625294499, -0.011204840750694852, 0.0007971144668275966, -0.0010369924312188356, 0.0007896676128971724, 0.011204840750694852, -0.007924738797232097, -0.05337511626528653, -0.010815437186944995, -0.09063002376358524, -0.07449162062543346, -0.0833283731822893, 1.0, -0.016064006414231863, -0.16430694360187167, -0.17078416739867927, -0.028710775597113977, -0.11805279444109688, 0.059561661120789325], [-0.3339517291508995, -0.3084036684875926, -0.3397305412552921, -0.014582610436568904, -0.051110894834040355, -0.012205497447505044, -0.12935011642457192, -0.04305702218440509, -0.18130507397438694, -0.12144658171458703, -0.1291174460041511, -0.21884321624569109, -0.05394626867448858, 0.015922696936916742, -0.08095240697989066, -0.00029323464439426556, 0.00922536596629041, -0.0518875219424652, -0.12137477454645836, -0.11312734315235205, -0.12553107083881568, -0.0665626263248282, -0.02580289381767871, -0.09211342815286931, -0.017237647538600482, -0.00565979641049222, 0.005563187600069029, -0.00029725328404448594, 0.017237647538600482, 0.03814753187846119, 0.027184398871333386, 0.06061455510112261, 0.07952776871422249, 0.22047191463785215, 0.14602811990997594, -0.016064006414231863, 1.0, 0.00048626536317816565, 0.044731081968651956, -0.008427818288741791, 0.3084036684875926, 0.06867314555401101], [-0.08108578557535366, -0.021541393426756587, -0.09078114367277725, -0.21006853018442312, -0.13396702405873087, -0.038526615849648754, -0.018722601879195708, -0.1473529650248191, -0.07365384799232282, -0.036438147641817145, -0.005417393796347306, 0.008591483538712745, -0.018728001888622014, 0.004671797111091485, -0.01593237308675857, -0.02964203423959328, -0.12436547375345555, 0.005014500211970283, 0.06644591405602802, -0.01888964696688285, -0.015717171238914234, -0.07187812749569683, 0.00845828567060438, -0.034509430233272506, -0.0005333173926416619, 0.0009388362633745285, -0.0010467600399972482, -0.00480605137913635, 0.0005333173926416619, 0.021128494590321335, -0.058134791566057296, 0.01819243211875184, -0.09871187005800018, 0.013897829637677835, -0.02919574611841294, -0.16430694360187167, 0.00048626536317816565, 1.0, -0.186013683325594, 0.04064653292032192, 0.021541393426756587, 0.07529358326542109], [-0.06455709771557512, -0.0830356886524236, -0.0518308960103625, -0.218349743703881, -0.1392482031568368, -0.040045392278180686, -0.009682392795376173, -0.1531618378010634, -0.09755612642780577, -0.0006997944836386441, -0.13479022113119027, -0.03650253693498868, 0.08337225566884297, 0.0019754943893652535, -0.1279365012278344, 9.293887358271582e-05, -0.12926814547569507, -0.09246936147534865, -0.09276311375017368, -0.04942320817164534, -0.03207068205721916, -0.0058549664153906365, -0.030669160345911762, 0.03588422898843285, -0.007986300666607929, 0.000987328990200176, -0.0010380938028059844, 0.000893991319284814, 0.007986300666607929, 0.030363912433211872, -0.06042655140993791, 0.033645192818597514, -0.10260323861335169, 0.10002869368094013, 0.03460567346238684, -0.17078416739867927, 0.044731081968651956, -0.186013683325594, 1.0, 0.03324053481401144, 0.0830356886524236, 0.08950512562699134], [0.08479094675977575, -0.017759311523653884, 0.04993615799657312, -0.0107259916047885, -0.04228250512609221, -0.01072581056364422, 0.10294138391289522, 0.00511853301585547, -0.05600782169669307, 0.039434962846374266, -0.014370179645563691, 0.010157699861404934, 0.0032052791966137263, -0.006710305879681041, -0.011790893690293186, 0.09207041210110652, 0.014620419639820359, 0.0030875609719894313, 0.0040706302418065405, -0.08138480899243938, -0.07299471207850028, -0.11160859759858233, 0.02579645594983852, 0.2993396794489358, -0.008068537272520772, 0.0005379722036984364, -0.00037810220649627625, 0.00046831627174678933, 0.008068537272520772, 0.023261585483117415, -0.01694273392463454, 0.005987915028725225, -0.013526954636174296, 0.03357201401171793, -0.029962221327792127, -0.028710775597113977, -0.008427818288741791, 0.04064653292032192, 0.03324053481401144, 1.0, 0.017759311523653884, 0.09776778731548731], [-0.2961706086937746, -1.0, -0.27566821582894735, 0.035318306406652664, -0.14490750827800972, 0.032098891846924486, 0.090539198349285, -0.08648403336327797, -0.4072095991726728, -0.1626345820970221, -0.21581785994243385, -0.07385672239483587, -0.12370293885788097, 0.0035440888765073315, -0.2238978245383153, 0.2288319633647687, 0.06936441501581204, -0.11493478554982181, -0.17493308877883829, -0.11039198425308468, -0.14287013812314936, -0.037424971116751284, 0.021901786255867594, 0.05225135287941371, -0.02484810414833442, -0.0035894088665726427, 0.004149253460988382, -0.0036475286145124905, 0.02484810414833442, 0.14117973226962072, -0.03544994147428389, 0.4029657247194262, 0.17682806210450278, 0.44885202050019657, 0.5873636955503037, -0.11805279444109688, 0.3084036684875926, 0.021541393426756587, 0.0830356886524236, 0.017759311523653884, 1.0, 0.10971455339597565], [-0.1406647557061929, -0.10971455339597565, -0.10758523911536554, -0.09444912674214603, -0.08683327351775964, -0.06518210828563922, -0.05870459894656455, -0.05719497298522177, -0.05349237230380822, -0.050238639714260847, -0.04761609772654992, -0.04553850214304974, -0.04143217269551547, -0.0319640760527295, -0.026905255467333574, -0.025965452672299567, -0.02093398337090576, -0.01874119143484877, -0.01860849275496536, -0.013957375489220483, -0.00995348715898536, -0.009221304310168472, -0.006347126897042579, -0.006097241327847726, -0.003552732092930634, -0.0002082998865259671, 0.00015046877186947427, 0.0009962615969496384, 0.003552732092930634, 0.01615551502172569, 0.017876057478369282, 0.02065753098169075, 0.04259133368131142, 0.04261030864452418, 0.05232920616825372, 0.059561661120789325, 0.06867314555401101, 0.07529358326542109, 0.08950512562699134, 0.09776778731548731, 0.10971455339597565, 1.0]]]}, [0]], \"label\": \"Correlaci\\u00f3n de pearson\", \"method\": \"restyle\", \"visible\": true}, {\"args\": [{\"type\": \"heatmap\", \"x\": [[0, 1, 2, 3, 4, 5, 6, 7, 8, 9, 10, 11, 12, 13, 14, 15, 16, 17, 18, 19, 20, 21, 22, 23, 24, 25, 26, 27, 28, 29, 30, 31, 32, 33, 34, 35, 36, 37, 38, 39, 40, 41]], \"y\": [[\"estrato\", \"tipoinmueble_Apartamento\", \"longitud\", \"tiempodeconstruido_Entre 10 y 20 a\\u00f1os\", \"tiempodeconstruido_Entre 0 y 5 a\\u00f1os\", \"tiempodeconstruido_Remodelado\", \"garajes\", \"tiempodeconstruido_Entre 5 y 10 a\\u00f1os\", \"ascensor\", \"V_REF\", \"gimnasio\", \"latitud\", \"remodelado\", \"area\", \"piso\", \"banos\", \"tiempodeconstruido_M\\u00e1s de 20 a\\u00f1os\", \"piscina\", \"balcon\", \"conjuntocerrado\", \"porteria\", \"vigilancia\", \"terraza\", \"cuartoservicio\", \"vista_Interior\", \"y\", \"valorventa\", \"parqueaderovisitantes\", \"vista_Exterior\", \"halldealcobas\", \"tiempodeconstruido_Menos de 1 a\\u00f1o\", \"deposito\", \"tiempodeconstruido_M\\u00e1s de 30 a\\u00f1os\", \"habitaciones\", \"estudio\", \"tiempodeconstruido_1 a 8 a\\u00f1os\", \"valoradministracion\", \"tiempodeconstruido_9 a 15 a\\u00f1os\", \"tiempodeconstruido_16 a 30 a\\u00f1os\", \"banoservicio\", \"tipoinmueble_Casa\", \"id\"]], \"z\": [[[1.0, 0.2619168343533143, 0.4592330451557236, 0.08388257758644649, 0.06343658654737772, 0.03627253641685827, 0.49328944342061376, 0.062488965640556955, 0.2487051979665058, 0.34159818507343087, 0.14312258142230766, 0.0635460865879335, 0.07468183260555086, 0.3207978851856071, 0.034721606192863574, 0.3624043196699175, 0.048447750535804274, 0.05711867664568408, 0.16078962644446398, -0.03985505748164078, -0.004799203244764958, 0.053064403943887783, 0.11766400501530436, 0.31748987203036555, -0.02884657547513367, -0.24860244545556906, 0.5710368870449284, 0.002094456712736112, 0.02884657547513367, -0.006181552373137091, -0.047359082731363515, 0.06349037210862991, -0.04641262507072765, -0.1130163529984451, -0.04411581534462938, -0.06897229850009344, 0.08534296656165292, -0.0705961472498805, -0.06025636892414453, 0.07961959926994307, -0.2619168343533143, -0.10431972311732737], [0.2619168343533143, 1.0, 0.23429051888847557, -0.035318306406575614, 0.1449075082774157, -0.0320988918469963, -0.03419745873065512, 0.08648403336291133, 0.40720959917386307, 0.16290479312526382, 0.21581785994265482, 0.0360880182637909, 0.12370293885784464, -0.3352541824387149, 0.21944738676381867, -0.2554603760661394, -0.0693644150158943, 0.11493478554968227, 0.1749330887789554, 0.11039198425267653, 0.14287013812285143, 0.03742497111675714, -0.021901786255953366, -0.05225135287906748, 0.02484810414826998, -0.20170470762038734, -0.07323501835584785, 0.0036475286145128487, -0.02484810414826998, -0.1411797322702318, 0.03544994147437061, -0.4029657247203299, -0.17682806210444646, -0.46923159381470736, -0.5873636955503989, 0.11805279444117395, -0.2613731063661435, -0.021541393426800032, -0.08303568865221263, -0.01775931152374428, -1.0, -0.09135252081966708], [0.4592330451557236, 0.23429051888847557, 1.0, 0.06390808930707109, 0.06624607426550463, 0.018153418063740566, 0.26683012841453446, 0.05260216095160619, 0.19326341662985602, 0.23178063675752622, 0.10857941445708705, 0.2914296086514344, 0.04729952047755832, 0.13003606376665142, 0.05930646854555661, 0.16755394868595253, 0.03283859549589032, 0.02608517155571442, 0.1183578712814071, -0.013422379756163323, 0.011711883331907313, 0.054821054921270526, 0.06536487877157285, 0.16011661469193578, -0.0028524789658041488, -0.13263387164910875, 0.28399844271111113, 0.0027374455341675178, 0.0028524789658041488, -0.014575196213447024, -0.03645240870966657, 0.023490823433796937, -0.042976428081768624, -0.14268264201874384, -0.06853786248716931, -0.049949090382269086, -0.04126832157556116, -0.06473930542620061, -0.045800402522667864, 0.03287723211526062, -0.23429051888847555, -0.07309656693083504], [0.08388257758644649, -0.035318306406575614, 0.06390808930707109, 1.0, -0.15725544940995534, -0.04522396710864105, 0.030912889398922495, -0.17296836217566222, -0.05129099141834497, 0.027578794699632855, -0.031607365073521305, 0.02072746890334853, 0.002779567736024812, 0.09755077191888338, -0.023780781679467154, 0.07749302481071986, -0.14598479442065168, -0.059786503532370215, -0.08248151817653962, -0.026527660714190535, -0.05314045090565811, -0.003140894360611816, -0.0274015506179556, 0.07758219153810396, 0.005556948516809949, 0.02489304134148766, 0.08595806533635926, 0.0010096001492024172, -0.005556948516809949, 0.00869929613353948, -0.06824076923669908, -0.08584842663737434, -0.11587164525899268, 0.04143186341640785, 0.05099401343874801, -0.19286956950065476, 0.038002671381716695, -0.2100685301840324, -0.2183497437038213, -0.010725991604766411, 0.03531830640657562, -0.08283578535926821], [0.06343658654737772, 0.1449075082774157, 0.06624607426550463, -0.15725544940995534, 1.0, -0.028840684915187688, 0.013442001270726584, -0.1103071303280506, 0.1715475317856006, 0.03712619537829908, 0.18107281673362247, 0.0022178647501121954, -0.09066419098113337, -0.07119097087027672, 0.0917638075964332, -0.03271209277843676, -0.09309889705562766, 0.11149788592905566, 0.04137233332698677, 0.08451907885947241, 0.07028886388859722, 0.059267000229098754, -0.031246655730711892, -0.06810529880646923, 0.009087894744818978, -0.18145291322355644, 0.04167499562669615, 0.0006438524007308911, -0.009087894744818978, -0.05653814570587086, -0.043519192360937736, -0.04756728401299049, -0.073894835530262, -0.1653047781610299, -0.0693547660066078, -0.12299872919891273, -0.026221197303722993, -0.13396702405783983, -0.13924820315621195, -0.042282505125997225, -0.14490750827741572, -0.06762522918830642], [0.03627253641685827, -0.0320988918469963, 0.018153418063740566, -0.04522396710864105, -0.028840684915187688, 1.0, 0.04723817482324091, -0.03172243666290737, -0.002255662903093587, -0.005823383775996618, -0.02247481851685789, 0.01970923398059116, 0.2811814614434528, 0.04996205202461088, -0.020466813333253436, 0.053355336965856676, -0.026773644246301864, -0.016773882126228882, -0.03771805292063561, 0.04473664203360453, 0.042167836119961256, 0.020195998221301456, -0.009871480046342241, 0.0224501409336759, -0.012342587581044742, -0.016327538097591462, 0.0522322513863085, 0.0001851608952359145, 0.012342587581044742, 0.004264824339254695, -0.01251537248031976, 0.03590717874891101, -0.021250885893353656, 0.0256155041207294, 0.03400889501192841, -0.035372322578120674, 0.013575073680106776, -0.038526615849350195, -0.04004539227799397, -0.010725810563611934, 0.0320988918469963, -0.05308194112108745], [0.49328944342061376, -0.03419745873065512, 0.26683012841453446, 0.030912889398922495, 0.013442001270726584, 0.04723817482324091, 1.0, 0.03212897502771132, 0.10162633260571252, 0.19190821614925846, 0.1164074744083185, 0.06400627591411613, 0.010810447247475593, 0.5081467446173824, 0.014961133872458955, 0.531874299773281, 0.02880052828452376, 0.06954058153124101, 0.13765540353624692, -0.04066016664094842, -0.02548001468560115, 0.013138780036916386, 0.14941032389440304, 0.36711245749979315, -0.08572229479849472, -0.16570222450517033, 0.5973079248299599, 0.001677638444960694, 0.08572229479849472, 0.03173995259829117, -0.04456002405017127, 0.1766135209124501, 0.007801777323211939, 0.1909232225616761, 0.1713478684473683, -0.04932156599135588, 0.18126869329363668, -0.02736514468892336, -0.020286696824966505, 0.10171600098574213, 0.03419745873065512, -0.05704707316906314], [0.062488965640556955, 0.08648403336291133, 0.05260216095160619, -0.17296836217566222, -0.1103071303280506, -0.03172243666290737, 0.03212897502771132, 1.0, 0.03375614713308431, 0.006734651158237258, 0.11183129835966714, 0.04026249916182704, -0.058934732445469776, -0.016717936809968824, 0.07036420334950008, 0.005054835202519241, -0.10240130821853134, 0.0500136292391484, 0.051509933871569005, 0.027692397152193102, 0.01254831505083888, -0.010431584697761358, -0.009310230282033673, -0.020210264762810806, 0.010378465150584451, -0.0843033643593653, 0.030467995479584828, 0.0007081859207750936, -0.010378465150584451, -0.02889167498372025, -0.04786761574319379, -0.02627183581691306, -0.08127838318396743, -0.06873576634193157, -0.05581407917786766, -0.13528872175209272, -0.01821396971571837, -0.14735296502459486, -0.1531618378008914, 0.005118533015883051, -0.08648403336291134, -0.051495932865081834], [0.2487051979665058, 0.40720959917386307, 0.19326341662985602, -0.05129099141834497, 0.1715475317856006, -0.002255662903093587, 0.10162633260571252, 0.03375614713308431, 1.0, 0.12083917142830229, 0.25596290736503374, 0.03804770790958695, 0.024695815599889346, -0.04557059331761168, 0.17385070404108358, 0.013148737302374374, -0.01977809097025771, 0.18923135771253918, 0.2850341260978919, 0.26512419780922336, 0.29351657105110657, 0.1611058788504291, 0.11671247076124226, 0.08097916266892727, 0.0013588859552287182, -0.1715425462690764, 0.10812302170387685, 0.0015185851114461464, -0.0013588859552287182, -0.08042254289410991, 0.0482140229383114, 0.058418884242627846, -0.0846398982255338, -0.20204920199416362, 0.030969927372869053, 0.1206843923229175, -0.0902599699569601, -0.07365384799218173, -0.09755612642809866, -0.05600782169676631, -0.40720959917386307, -0.03169501856556668], [0.34159818507343087, 0.16290479312526382, 0.23178063675752622, 0.027578794699632855, 0.03712619537829908, -0.005823383775996618, 0.19190821614925846, 0.006734651158237258, 0.12083917142830229, 1.0, 0.04534983139684598, -0.10058859372830414, 0.03990181940662431, 0.1217493596417834, 0.040349434895376436, 0.12791907562903032, 0.024807938382234416, -0.0019620604059415615, 0.05106082666201555, -0.09899422522505832, -0.07517906016463327, -0.01431097545320731, 0.04493337755521534, 0.11268239614670078, -0.023226869342438262, 0.2388574752838471, 0.25206231629704723, 0.0010970966693222273, 0.023226869342438262, -0.004260075250334847, -0.011237100873881942, -0.0037846950764961144, 0.005021748671377891, -0.10200953166941071, -0.06576428272864718, -0.04827997128628859, 0.0529968724718599, -0.03225832824967623, -0.004551846454405114, 0.03684414312186135, -0.16290479312526382, -0.04146790617799166], [0.14312258142230766, 0.21581785994265482, 0.10857941445708705, -0.031607365073521305, 0.18107281673362247, -0.02247481851685789, 0.1164074744083185, 0.11183129835966714, 0.25596290736503374, 0.04534983139684598, 1.0, 0.08016063645426602, -0.06272908271791085, -0.0005824998160005112, 0.17728029653161415, 0.054405016763546775, -0.09781821453049641, 0.351176012220214, 0.2996193030640565, 0.15603927163689574, 0.1653192713992731, 0.05944824142862066, 0.11015108305634456, 0.07621908131989354, -0.022902523441301708, -0.19854726901415706, 0.11416418489108074, 0.0010790700189368331, 0.022902523441301708, -0.03887377409074298, 0.015579878699099, 0.008896121890148772, -0.1083273557121326, -0.10022864043583586, -0.026803700873262528, 0.08212538515246297, -0.086182693934591, -0.005417393796297065, -0.13479022113142147, -0.014370179645609379, -0.2158178599426548, -0.041708130151419394], [0.0635460865879335, 0.0360880182637909, 0.2914296086514344, 0.02072746890334853, 0.0022178647501121954, 0.01970923398059116, 0.06400627591411613, 0.04026249916182704, 0.03804770790958695, -0.10058859372830414, 0.08016063645426602, 1.0, 0.00015043254187148056, -0.015816034342592492, 0.013115612456364775, 0.029572361889774603, -0.02449784654351868, 0.04831382612315917, 0.08358907250764143, 0.1507758972823902, 0.14280959381510283, 0.04145244405589095, 0.0064883370779872385, 0.03980496922618328, 0.02880874234785813, -0.029244750477032205, -0.010044801650108764, 0.0027226598247643598, -0.02880874234785813, -0.009940977819933486, -0.029380565410903146, 0.04158387926086529, -0.06438065853077943, 0.0021627806251315776, 0.011525868804138485, 0.0018436240752213546, -0.14968054605635006, 0.017177118011481654, -0.013920097846067285, 0.004683763154216211, -0.0360880182637909, -0.023900465408239046], [0.07468183260555086, 0.12370293885784464, 0.04729952047755832, 0.002779567736024812, -0.09066419098113337, 0.2811814614434528, 0.010810447247475593, -0.058934732445469776, 0.024695815599889346, 0.03990181940662431, -0.06272908271791085, 0.00015043254187148056, 1.0, 0.001049312676217237, -0.01779648644058844, -0.0006721831894472655, 0.07502949529555764, -0.048853114466709355, -0.06492201183099387, 0.02554012863725016, 0.031685475557523116, 0.013046386116708601, -0.02994467705506971, 0.028320327803253595, -0.002486125139014075, 0.025884074719333825, 0.017618955967470106, 0.0006585103238506048, 0.002486125139014075, -0.007443586341919714, -0.03729604639480398, -0.05043003449864922, 0.024338666510348963, -0.022482066470282745, -0.057038148807986716, -0.07929475414711588, -0.03406100721751755, -0.01872800188865706, 0.08337225566935193, 0.003205279196630279, -0.12370293885784464, -0.0341270836611753], [0.3207978851856071, -0.3352541824387149, 0.13003606376665142, 0.09755077191888338, -0.07119097087027672, 0.04996205202461088, 0.5081467446173824, -0.016717936809968824, -0.04557059331761168, 0.1217493596417834, -0.0005824998160005112, -0.015816034342592492, 0.001049312676217237, 1.0, -0.05213516161049923, 0.6943134939453437, 0.09807462580874937, 0.024394086636382994, 0.03505741912292446, -0.1050265856038076, -0.10630595306329627, -0.014730564037580765, 0.1483694538431424, 0.3617660587266066, -0.10445625333439106, 0.021959130356564025, 0.6504070746110181, -0.0011390018873606135, 0.10445625333439106, 0.06392783233993196, -0.06193405079031609, 0.25135810113508433, 0.10279213884199612, 0.45860949133786755, 0.3729346377933079, -0.1334187291292949, 0.3401899601013748, -0.05632369935317115, 0.017955965724491943, 0.09581458902564646, 0.33525418243871485, -0.03586208431655937], [0.034721606192863574, 0.21944738676381867, 0.05930646854555661, -0.023780781679467154, 0.0917638075964332, -0.020466813333253436, 0.014961133872458955, 0.07036420334950008, 0.17385070404108358, 0.040349434895376436, 0.17728029653161415, 0.013115612456364775, -0.01779648644058844, -0.05213516161049923, 1.0, -0.012660866009888872, -0.06638973882985055, 0.134885044601586, 0.1392309910205034, 0.06201478144401609, 0.06465899202097962, 0.0156547887530115, 0.00611247567260204, -0.01950572090887679, -0.04838415501860469, -0.10460705634839979, 0.026239920363714322, -0.002023179691395684, 0.04838415501860469, -0.03936944005047384, 0.028908881289386904, -0.06465511005545528, -0.09589524918547063, -0.07718809805898323, -0.09477947830008969, 0.10362141804300291, -0.07001090047977208, 0.0063628003163391615, -0.10561106326546066, -1.823892967389043e-05, -0.21944738676381867, -0.025102112888712103], [0.3624043196699175, -0.2554603760661394, 0.16755394868595253, 0.07749302481071986, -0.03271209277843676, 0.053355336965856676, 0.531874299773281, 0.005054835202519241, 0.013148737302374374, 0.12791907562903032, 0.054405016763546775, 0.029572361889774603, -0.0006721831894472655, 0.6943134939453437, -0.012660866009888872, 1.0, 0.07293135724298497, 0.055490214002593394, 0.08007272649505866, -0.05695702653990654, -0.05523595502310782, 0.00799028984786027, 0.16590750552784841, 0.39949768329061475, -0.09891618983069912, -0.046512980873964424, 0.6145786036784996, -0.002245422491830438, 0.09891618983069912, 0.052627769233097026, -0.05411473959984222, 0.243891363208567, 0.06138809856745331, 0.46344245413386886, 0.340553875142368, -0.09857494366670497, 0.27087134266301, -0.050866806003174274, -0.006362738042810239, 0.10993538936792868, 0.2554603760661394, -0.04534872210551588], [0.048447750535804274, -0.0693644150158943, 0.03283859549589032, -0.14598479442065168, -0.09309889705562766, -0.026773644246301864, 0.02880052828452376, -0.10240130821853134, -0.01977809097025771, 0.024807938382234416, -0.09781821453049641, -0.02449784654351868, 0.07502949529555764, 0.09807462580874937, -0.06638973882985055, 0.07293135724298497, 1.0, -0.07106389915616329, -0.1172573359262566, 0.01539800550346803, 0.010674406886903319, 0.009738106085163806, -0.028656871466602552, 0.07325440013074241, 0.0026817826087090417, 0.06960550564259335, 0.06536612830463834, 0.0005977068566502203, -0.0026817826087090417, -0.0015216132407970169, -0.040400128415276994, 0.07053347380147854, -0.068598718925859, 0.07269240930624206, 0.06770053051427417, -0.11418328753297848, 0.041291475781852154, -0.12436547375376453, -0.12926814547590385, 0.014620419639784506, 0.0693644150158943, -0.017340011046441745], [0.05711867664568408, 0.11493478554968227, 0.02608517155571442, -0.059786503532370215, 0.11149788592905566, -0.016773882126228882, 0.06954058153124101, 0.0500136292391484, 0.18923135771253918, -0.0019620604059415615, 0.351176012220214, 0.04831382612315917, -0.048853114466709355, 0.024394086636382994, 0.134885044601586, 0.055490214002593394, -0.07106389915616329, 1.0, 0.20279311183479257, 0.17044642340049387, 0.16757948501533979, 0.05087878692119178, 0.09125407809696576, 0.05433957921677356, -0.03519716672779095, -0.12368995607889939, 0.07304665798316415, 0.0005677274323497872, 0.03519716672779095, -0.03163933770025305, 0.049531755628901095, 0.034091516553286016, -0.06184093505126454, -0.0100797763190058, 0.033595712847147526, 0.10729506891412689, -0.02666346065151764, 0.005014500211960069, -0.09246936147522286, 0.0030875609719915446, -0.11493478554968227, -0.013496895009559398], [0.16078962644446398, 0.1749330887789554, 0.1183578712814071, -0.08248151817653962, 0.04137233332698677, -0.03771805292063561, 0.13765540353624692, 0.051509933871569005, 0.2850341260978919, 0.05106082666201555, 0.2996193030640565, 0.08358907250764143, -0.06492201183099387, 0.03505741912292446, 0.1392309910205034, 0.08007272649505866, -0.1172573359262566, 0.20279311183479257, 1.0, 0.0840986340017564, 0.09373488463515509, 0.05353860923292522, 0.09314926183175803, 0.08213356151896786, -0.03592177690260277, -0.1589875124357899, 0.13041394775871867, 0.0011663230720563628, 0.03592177690260277, -0.014761035695994913, 0.04847911032513857, 0.10645767394925656, -0.0832676097926685, -0.06860589080834364, 0.010411539368589635, 0.18462933905314236, -0.05818267039636283, 0.0664459140561541, -0.09276311375063792, 0.004070630241790873, -0.1749330887789554, -0.014849178455674746], [-0.03985505748164078, 0.11039198425267653, -0.013422379756163323, -0.026527660714190535, 0.08451907885947241, 0.04473664203360453, -0.04066016664094842, 0.027692397152193102, 0.26512419780922336, -0.09899422522505832, 0.15603927163689574, 0.1507758972823902, 0.02554012863725016, -0.1050265856038076, 0.06201478144401609, -0.05695702653990654, 0.01539800550346803, 0.17044642340049387, 0.0840986340017564, 1.0, 0.917184617617187, 0.16360805923581212, 0.02897919394417961, 0.019877516748637566, 0.024781834184924502, -0.06403590520544447, -0.07540432367278548, 0.0013936370230290857, -0.024781834184924502, -0.18795353185733019, -0.00409892450497959, 0.08027509623465685, -0.07018513971957582, -0.018888380660784486, 0.12613314225963615, 0.031126784746096273, -0.17970940592629758, -0.018889646966689173, -0.04942320817136933, -0.08138480899231347, -0.11039198425267654, 0.002239775169564289], [-0.004799203244764958, 0.14287013812285143, 0.011711883331907313, -0.05314045090565811, 0.07028886388859722, 0.042167836119961256, -0.02548001468560115, 0.01254831505083888, 0.29351657105110657, -0.07517906016463327, 0.1653192713992731, 0.14280959381510283, 0.031685475557523116, -0.10630595306329627, 0.06465899202097962, -0.05523595502310782, 0.010674406886903319, 0.16757948501533979, 0.09373488463515509, 0.917184617617187, 1.0, 0.1682381886026049, 0.029122355832212187, 0.027004313750008935, 0.02462151114691421, -0.07763793400020523, -0.059497397088435974, 0.0015194727389232772, -0.02462151114691421, -0.17419482940977338, 0.00971773773574945, 0.08607248104986122, -0.052736482637437, -0.04543736221860516, 0.1098824526500813, 0.05380691704764707, -0.16870769781911868, -0.015717171238891423, -0.03207068205714172, -0.07299471207850682, -0.14287013812285143, 0.0069468698025907695], [0.053064403943887783, 0.03742497111675714, 0.054821054921270526, -0.003140894360611816, 0.059267000229098754, 0.020195998221301456, 0.013138780036916386, -0.010431584697761358, 0.1611058788504291, -0.01431097545320731, 0.05944824142862066, 0.04145244405589095, 0.013046386116708601, -0.014730564037580765, 0.0156547887530115, 0.00799028984786027, 0.009738106085163806, 0.05087878692119178, 0.05353860923292522, 0.16360805923581212, 0.1682381886026049, 1.0, 0.03126621328687343, 0.0002198075678265029, 0.028976956509808718, -0.05072160639083983, 0.013727955190866396, 0.00821115286925169, -0.028976956509808718, -0.033814411615749176, 0.009593130929501145, 0.036285078382101536, 0.008296774659988945, -0.03195728538895828, 0.07944720153631214, 0.023091657253639715, -0.061960897782393054, -0.07187812749571923, -0.0058549664154063305, -0.11160859759876378, -0.03742497111675715, 0.008744549737838704], [0.11766400501530436, -0.021901786255953366, 0.06536487877157285, -0.0274015506179556, -0.031246655730711892, -0.009871480046342241, 0.14941032389440304, -0.009310230282033673, 0.11671247076124226, 0.04493337755521534, 0.11015108305634456, 0.0064883370779872385, -0.02994467705506971, 0.1483694538431424, 0.00611247567260204, 0.16590750552784841, -0.028656871466602552, 0.09125407809696576, 0.09314926183175803, 0.02897919394417961, 0.029122355832212187, 0.03126621328687343, 1.0, 0.1327139941195607, -0.027740030272794182, -0.06875222580956335, 0.160940436834589, -0.004408418880612629, 0.027740030272794182, 0.01998658407147846, 0.05379492822124715, 0.1343897271119916, -0.016798270253879446, 0.05465686444411905, 0.10649877668749169, 0.10718631128573906, 0.04729359757090681, 0.008458285670539143, -0.030669160345763842, 0.025796455949879102, 0.021901786255953366, -0.005063064209263298], [0.31748987203036555, -0.05225135287906748, 0.16011661469193578, 0.07758219153810396, -0.06810529880646923, 0.0224501409336759, 0.36711245749979315, -0.020210264762810806, 0.08097916266892727, 0.11268239614670078, 0.07621908131989354, 0.03980496922618328, 0.028320327803253595, 0.3617660587266066, -0.01950572090887679, 0.39949768329061475, 0.07325440013074241, 0.05433957921677356, 0.08213356151896786, 0.019877516748637566, 0.027004313750008935, 0.0002198075678265029, 0.1327139941195607, 1.0, -0.05707910980961623, -0.04837818529918884, 0.3722932927914277, 0.0011069029952804825, 0.05707910980961623, 0.04618187458895228, -0.043291233590215285, 0.1244965276492659, 0.042782820814769376, 0.21535290320155673, 0.20053565192516584, -0.09287179625284905, 0.10887529036689267, -0.034509430233274976, 0.03588422898844768, 0.29933967944911744, 0.052251352879067486, -0.0066556951007330925], [-0.02884657547513367, 0.02484810414826998, -0.0028524789658041488, 0.005556948516809949, 0.009087894744818978, -0.012342587581044742, -0.08572229479849472, 0.010378465150584451, 0.0013588859552287182, -0.023226869342438262, -0.022902523441301708, 0.02880874234785813, -0.002486125139014075, -0.10445625333439106, -0.04838415501860469, -0.09891618983069912, 0.0026817826087090417, -0.03519716672779095, -0.03592177690260277, 0.024781834184924502, 0.02462151114691421, 0.028976956509808718, -0.027740030272794182, -0.05707910980961623, 1.0, 0.020745309255013153, -0.09573576327836905, 0.0008787158730523412, -1.0, -0.01038482739361637, -0.011172518523738467, -0.019474949426796048, 0.003427441386815992, -0.07732036492804802, -0.04972728854877069, -0.01120484075075781, -0.07664970024338098, -0.000533317392641123, -0.007986300666630376, -0.008068537272537544, -0.02484810414826998, -0.002798940212265354], [-0.24860244545556906, -0.20170470762038734, -0.13263387164910875, 0.02489304134148766, -0.18145291322355644, -0.016327538097591462, -0.16570222450517033, -0.0843033643593653, -0.1715425462690764, 0.2388574752838471, -0.19854726901415706, -0.029244750477032205, 0.025884074719333825, 0.021959130356564025, -0.10460705634839979, -0.046512980873964424, 0.06960550564259335, -0.12368995607889939, -0.1589875124357899, -0.06403590520544447, -0.07763793400020523, -0.05072160639083983, -0.06875222580956335, -0.04837818529918884, 0.020745309255013153, 1.0, -0.21309215627226868, -0.0008237536725431582, -0.020745309255013153, 0.030058784446083855, -0.027759631511747887, 0.0023624382500442914, 0.09878637013378136, 0.16767609181815998, 0.09110792228738598, -0.07300566592611953, 0.024952920344785377, 0.0317821703802757, 0.1255302795102744, -0.0071142234240235275, 0.20170470762038734, 0.026978255428239215], [0.5710368870449284, -0.07323501835584785, 0.28399844271111113, 0.08595806533635926, 0.04167499562669615, 0.0522322513863085, 0.5973079248299599, 0.030467995479584828, 0.10812302170387685, 0.25206231629704723, 0.11416418489108074, -0.010044801650108764, 0.017618955967470106, 0.6504070746110181, 0.026239920363714322, 0.6145786036784996, 0.06536612830463834, 0.07304665798316415, 0.13041394775871867, -0.07540432367278548, -0.059497397088435974, 0.013727955190866396, 0.160940436834589, 0.3722932927914277, -0.09573576327836905, -0.21309215627226868, 1.0, -0.00020152397327376041, 0.09573576327836905, 0.031653005677765085, -0.044574529322988596, 0.1874153704850751, 0.03600767717439497, 0.1984700778932333, 0.20624174721163915, -0.09416922250949844, 0.2688065057275459, -0.07942842777437434, -0.053683013917851616, 0.1009723801851064, 0.07323501835584786, -0.06388498766281533], [0.002094456712736112, 0.0036475286145128487, 0.0027374455341675178, 0.0010096001492024172, 0.0006438524007308911, 0.0001851608952359145, 0.001677638444960694, 0.0007081859207750936, 0.0015185851114461464, 0.0010970966693222273, 0.0010790700189368331, 0.0027226598247643598, 0.0006585103238506048, -0.0011390018873606135, -0.002023179691395684, -0.002245422491830438, 0.0005977068566502203, 0.0005677274323497872, 0.0011663230720563628, 0.0013936370230290857, 0.0015194727389232772, 0.00821115286925169, -0.004408418880612629, 0.0011069029952804825, 0.0008787158730523412, -0.0008237536725431582, -0.00020152397327376041, 1.0, -0.0008787158730523413, -0.0008834493194346314, 0.00027939879518089323, -0.0019112194981872348, 0.00047441431922751317, -0.003102379666265807, -0.0021424258866460932, 0.0007896676128990708, -0.0016810795726496523, -0.004806051379128267, 0.0008939913192844819, 0.00046831627174684733, -0.0036475286145128487, 0.0006214452272345754], [0.02884657547513367, -0.02484810414826998, 0.0028524789658041488, -0.005556948516809949, -0.009087894744818978, 0.012342587581044742, 0.08572229479849472, -0.010378465150584451, -0.0013588859552287182, 0.023226869342438262, 0.022902523441301708, -0.02880874234785813, 0.002486125139014075, 0.10445625333439106, 0.04838415501860469, 0.09891618983069912, -0.0026817826087090417, 0.03519716672779095, 0.03592177690260277, -0.024781834184924502, -0.02462151114691421, -0.028976956509808718, 0.027740030272794182, 0.05707910980961623, -1.0, -0.020745309255013153, 0.09573576327836905, -0.0008787158730523413, 1.0, 0.01038482739361637, 0.011172518523738467, 0.019474949426796048, -0.003427441386815992, 0.07732036492804802, 0.04972728854877069, 0.01120484075075781, 0.07664970024338098, 0.000533317392641123, 0.007986300666630376, 0.008068537272537544, 0.02484810414826998, 0.002798940212265354], [-0.006181552373137091, -0.1411797322702318, -0.014575196213447024, 0.00869929613353948, -0.05653814570587086, 0.004264824339254695, 0.03173995259829117, -0.02889167498372025, -0.08042254289410991, -0.004260075250334847, -0.03887377409074298, -0.009940977819933486, -0.007443586341919714, 0.06392783233993196, -0.03936944005047384, 0.052627769233097026, -0.0015216132407970169, -0.03163933770025305, -0.014761035695994913, -0.18795353185733019, -0.17419482940977338, -0.033814411615749176, 0.01998658407147846, 0.04618187458895228, -0.01038482739361637, 0.030058784446083855, 0.031653005677765085, -0.0008834493194346314, 0.01038482739361637, 1.0, 0.0011883176494679299, 0.04722446752489826, 0.02509452874824713, 0.060906320878028976, 0.06578319452060163, -0.007924738797242144, 0.05038785649353694, 0.021128494590222677, 0.03036391243314021, 0.023261585483168274, 0.1411797322702318, 0.009753972356617515], [-0.047359082731363515, 0.03544994147437061, -0.03645240870966657, -0.06824076923669908, -0.043519192360937736, -0.01251537248031976, -0.04456002405017127, -0.04786761574319379, 0.0482140229383114, -0.011237100873881942, 0.015579878699099, -0.029380565410903146, -0.03729604639480398, -0.06193405079031609, 0.028908881289386904, -0.05411473959984222, -0.040400128415276994, 0.049531755628901095, 0.04847911032513857, -0.00409892450497959, 0.00971773773574945, 0.009593130929501145, 0.05379492822124715, -0.043291233590215285, -0.011172518523738467, -0.027759631511747887, -0.044574529322988596, 0.00027939879518089323, 0.011172518523738467, 0.0011883176494679299, 1.0, -0.00383560338048937, -0.03206655437458696, -0.05440629915123793, -0.03226750702040435, -0.05337511626569348, 0.010618702082784932, -0.05813479156595517, -0.06042655140958495, -0.01694273392464938, -0.035449941474370604, 0.019521112156253663], [0.06349037210862991, -0.4029657247203299, 0.023490823433796937, -0.08584842663737434, -0.04756728401299049, 0.03590717874891101, 0.1766135209124501, -0.02627183581691306, 0.058418884242627846, -0.0037846950764961144, 0.008896121890148772, 0.04158387926086529, -0.05043003449864922, 0.25135810113508433, -0.06465511005545528, 0.243891363208567, 0.07053347380147854, 0.034091516553286016, 0.10645767394925656, 0.08027509623465685, 0.08607248104986122, 0.036285078382101536, 0.1343897271119916, 0.1244965276492659, -0.019474949426796048, 0.0023624382500442914, 0.1874153704850751, -0.0019112194981872348, 0.019474949426796048, 0.04722446752489826, -0.00383560338048937, 1.0, 0.08568760308019781, 0.19972973958831908, 0.376504321557278, -0.010815437186991697, 0.1214743656051661, 0.01819243211876612, 0.033645192818693485, 0.005987915028774542, 0.4029657247203299, 0.022797180948078036], [-0.04641262507072765, -0.17682806210444646, -0.042976428081768624, -0.11587164525899268, -0.073894835530262, -0.021250885893353656, 0.007801777323211939, -0.08127838318396743, -0.0846398982255338, 0.005021748671377891, -0.1083273557121326, -0.06438065853077943, 0.024338666510348963, 0.10279213884199612, -0.09589524918547063, 0.06138809856745331, -0.068598718925859, -0.06184093505126454, -0.0832676097926685, -0.07018513971957582, -0.052736482637437, 0.008296774659988945, -0.016798270253879446, 0.042782820814769376, 0.003427441386815992, 0.09878637013378136, 0.03600767717439497, 0.00047441431922751317, -0.003427441386815992, 0.02509452874824713, -0.03206655437458696, 0.08568760308019781, 1.0, 0.13098518667484502, 0.11656003669030611, -0.09063002376400363, 0.07663104551162335, -0.09871187005777775, -0.1026032386134104, -0.01352695463619109, 0.17682806210444646, 0.042680545434142375], [-0.1130163529984451, -0.46923159381470736, -0.14268264201874384, 0.04143186341640785, -0.1653047781610299, 0.0256155041207294, 0.1909232225616761, -0.06873576634193157, -0.20204920199416362, -0.10200953166941071, -0.10022864043583586, 0.0021627806251315776, -0.022482066470282745, 0.45860949133786755, -0.07718809805898323, 0.46344245413386886, 0.07269240930624206, -0.0100797763190058, -0.06860589080834364, -0.018888380660784486, -0.04543736221860516, -0.03195728538895828, 0.05465686444411905, 0.21535290320155673, -0.07732036492804802, 0.16767609181815998, 0.1984700778932333, -0.003102379666265807, 0.07732036492804802, 0.060906320878028976, -0.05440629915123793, 0.19972973958831908, 0.13098518667484502, 1.0, 0.382622334579818, -0.09724110581574363, 0.2251524524858826, 0.01938866905151122, 0.09404712237541915, 0.07199788623563774, 0.46923159381470736, 0.032008519676681634], [-0.04411581534462938, -0.5873636955503989, -0.06853786248716931, 0.05099401343874801, -0.0693547660066078, 0.03400889501192841, 0.1713478684473683, -0.05581407917786766, 0.030969927372869053, -0.06576428272864718, -0.026803700873262528, 0.011525868804138485, -0.057038148807986716, 0.3729346377933079, -0.09477947830008969, 0.340553875142368, 0.06770053051427417, 0.033595712847147526, 0.010411539368589635, 0.12613314225963615, 0.1098824526500813, 0.07944720153631214, 0.10649877668749169, 0.20053565192516584, -0.04972728854877069, 0.09110792228738598, 0.20624174721163915, -0.0021424258866460932, 0.04972728854877069, 0.06578319452060163, -0.03226750702040435, 0.376504321557278, 0.11656003669030611, 0.382622334579818, 1.0, -0.08332837318259895, 0.19870558407592964, -0.029195746118443038, 0.0346056734624318, -0.029962221327927203, 0.5873636955503989, 0.0540621501085432], [-0.06897229850009344, 0.11805279444117395, -0.049949090382269086, -0.19286956950065476, -0.12299872919891273, -0.035372322578120674, -0.04932156599135588, -0.13528872175209272, 0.1206843923229175, -0.04827997128628859, 0.08212538515246297, 0.0018436240752213546, -0.07929475414711588, -0.1334187291292949, 0.10362141804300291, -0.09857494366670497, -0.11418328753297848, 0.10729506891412689, 0.18462933905314236, 0.031126784746096273, 0.05380691704764707, 0.023091657253639715, 0.10718631128573906, -0.09287179625284905, -0.01120484075075781, -0.07300566592611953, -0.09416922250949844, 0.0007896676128990708, 0.01120484075075781, -0.007924738797242144, -0.05337511626569348, -0.010815437186991697, -0.09063002376400363, -0.09724110581574363, -0.08332837318259895, 1.0, -0.07190451369545414, -0.16430694360206824, -0.1707841673992768, -0.028710775597344033, -0.11805279444117396, 0.05220977463382348], [0.08534296656165292, -0.2613731063661435, -0.04126832157556116, 0.038002671381716695, -0.026221197303722993, 0.013575073680106776, 0.18126869329363668, -0.01821396971571837, -0.0902599699569601, 0.0529968724718599, -0.086182693934591, -0.14968054605635006, -0.03406100721751755, 0.3401899601013748, -0.07001090047977208, 0.27087134266301, 0.041291475781852154, -0.02666346065151764, -0.05818267039636283, -0.17970940592629758, -0.16870769781911868, -0.061960897782393054, 0.04729359757090681, 0.10887529036689267, -0.07664970024338098, 0.024952920344785377, 0.2688065057275459, -0.0016810795726496523, 0.07664970024338098, 0.05038785649353694, 0.010618702082784932, 0.1214743656051661, 0.07663104551162335, 0.2251524524858826, 0.19870558407592964, -0.07190451369545414, 1.0, -0.04415266887102973, 0.020047118919718044, 0.05732636531239096, 0.2613731063661435, 0.02162065662035944], [-0.0705961472498805, -0.021541393426800032, -0.06473930542620061, -0.2100685301840324, -0.13396702405783983, -0.038526615849350195, -0.02736514468892336, -0.14735296502459486, -0.07365384799218173, -0.03225832824967623, -0.005417393796297065, 0.017177118011481654, -0.01872800188865706, -0.05632369935317115, 0.0063628003163391615, -0.050866806003174274, -0.12436547375376453, 0.005014500211960069, 0.0664459140561541, -0.018889646966689173, -0.015717171238891423, -0.07187812749571923, 0.008458285670539143, -0.034509430233274976, -0.000533317392641123, 0.0317821703802757, -0.07942842777437434, -0.004806051379128267, 0.000533317392641123, 0.021128494590222677, -0.05813479156595517, 0.01819243211876612, -0.09871187005777775, 0.01938866905151122, -0.029195746118443038, -0.16430694360206824, -0.04415266887102973, 1.0, -0.1860136833257567, 0.040646532920194746, 0.021541393426800032, 0.056348969613620604], [-0.06025636892414453, -0.08303568865221263, -0.045800402522667864, -0.2183497437038213, -0.13924820315621195, -0.04004539227799397, -0.020286696824966505, -0.1531618378008914, -0.09755612642809866, -0.004551846454405114, -0.13479022113142147, -0.013920097846067285, 0.08337225566935193, 0.017955965724491943, -0.10561106326546066, -0.006362738042810239, -0.12926814547590385, -0.09246936147522286, -0.09276311375063792, -0.04942320817136933, -0.03207068205714172, -0.0058549664154063305, -0.030669160345763842, 0.03588422898844768, -0.007986300666630376, 0.1255302795102744, -0.053683013917851616, 0.0008939913192844819, 0.007986300666630376, 0.03036391243314021, -0.06042655140958495, 0.033645192818693485, -0.1026032386134104, 0.09404712237541915, 0.0346056734624318, -0.1707841673992768, 0.020047118919718044, -0.1860136833257567, 1.0, 0.0332405348140774, 0.08303568865221261, 0.07606302193886619], [0.07961959926994307, -0.01775931152374428, 0.03287723211526062, -0.010725991604766411, -0.042282505125997225, -0.010725810563611934, 0.10171600098574213, 0.005118533015883051, -0.05600782169676631, 0.03684414312186135, -0.014370179645609379, 0.004683763154216211, 0.003205279196630279, 0.09581458902564646, -1.823892967389043e-05, 0.10993538936792868, 0.014620419639784506, 0.0030875609719915446, 0.004070630241790873, -0.08138480899231347, -0.07299471207850682, -0.11160859759876378, 0.025796455949879102, 0.29933967944911744, -0.008068537272537544, -0.0071142234240235275, 0.1009723801851064, 0.00046831627174684733, 0.008068537272537544, 0.023261585483168274, -0.01694273392464938, 0.005987915028774542, -0.01352695463619109, 0.07199788623563774, -0.029962221327927203, -0.028710775597344033, 0.05732636531239096, 0.040646532920194746, 0.0332405348140774, 1.0, 0.01775931152374428, 0.06825504876868929], [-0.2619168343533143, -1.0, -0.23429051888847555, 0.03531830640657562, -0.14490750827741572, 0.0320988918469963, 0.03419745873065512, -0.08648403336291134, -0.40720959917386307, -0.16290479312526382, -0.2158178599426548, -0.0360880182637909, -0.12370293885784464, 0.33525418243871485, -0.21944738676381867, 0.2554603760661394, 0.0693644150158943, -0.11493478554968227, -0.1749330887789554, -0.11039198425267654, -0.14287013812285143, -0.03742497111675715, 0.021901786255953366, 0.052251352879067486, -0.02484810414826998, 0.20170470762038734, 0.07323501835584786, -0.0036475286145128487, 0.02484810414826998, 0.1411797322702318, -0.035449941474370604, 0.4029657247203299, 0.17682806210444646, 0.46923159381470736, 0.5873636955503989, -0.11805279444117396, 0.2613731063661435, 0.021541393426800032, 0.08303568865221261, 0.01775931152374428, 1.0, 0.09135252081966708], [-0.10431972311732737, -0.09135252081966708, -0.07309656693083504, -0.08283578535926821, -0.06762522918830642, -0.05308194112108745, -0.05704707316906314, -0.051495932865081834, -0.03169501856556668, -0.04146790617799166, -0.041708130151419394, -0.023900465408239046, -0.0341270836611753, -0.03586208431655937, -0.025102112888712103, -0.04534872210551588, -0.017340011046441745, -0.013496895009559398, -0.014849178455674746, 0.002239775169564289, 0.0069468698025907695, 0.008744549737838704, -0.005063064209263298, -0.0066556951007330925, -0.002798940212265354, 0.026978255428239215, -0.06388498766281533, 0.0006214452272345754, 0.002798940212265354, 0.009753972356617515, 0.019521112156253663, 0.022797180948078036, 0.042680545434142375, 0.032008519676681634, 0.0540621501085432, 0.05220977463382348, 0.02162065662035944, 0.056348969613620604, 0.07606302193886619, 0.06825504876868929, 0.09135252081966708, 1.0]]]}, [0]], \"label\": \"Correlaci\\u00f3n de kendall\", \"method\": \"restyle\", \"visible\": true}, {\"args\": [{\"type\": \"heatmap\", \"x\": [[0, 1, 2, 3, 4, 5, 6, 7, 8, 9, 10, 11, 12, 13, 14, 15, 16, 17, 18, 19, 20, 21, 22, 23, 24, 25, 26, 27, 28, 29, 30, 31, 32, 33, 34, 35, 36, 37, 38, 39, 40, 41]], \"y\": [[\"estrato\", \"tipoinmueble_Apartamento\", \"longitud\", \"tiempodeconstruido_Entre 10 y 20 a\\u00f1os\", \"tiempodeconstruido_Entre 0 y 5 a\\u00f1os\", \"tiempodeconstruido_Remodelado\", \"garajes\", \"tiempodeconstruido_Entre 5 y 10 a\\u00f1os\", \"ascensor\", \"V_REF\", \"gimnasio\", \"latitud\", \"remodelado\", \"area\", \"piso\", \"banos\", \"tiempodeconstruido_M\\u00e1s de 20 a\\u00f1os\", \"piscina\", \"balcon\", \"conjuntocerrado\", \"porteria\", \"vigilancia\", \"terraza\", \"cuartoservicio\", \"vista_Interior\", \"y\", \"valorventa\", \"parqueaderovisitantes\", \"vista_Exterior\", \"halldealcobas\", \"tiempodeconstruido_Menos de 1 a\\u00f1o\", \"deposito\", \"tiempodeconstruido_M\\u00e1s de 30 a\\u00f1os\", \"habitaciones\", \"estudio\", \"tiempodeconstruido_1 a 8 a\\u00f1os\", \"valoradministracion\", \"tiempodeconstruido_9 a 15 a\\u00f1os\", \"tiempodeconstruido_16 a 30 a\\u00f1os\", \"banoservicio\", \"tipoinmueble_Casa\", \"id\"]], \"z\": [[[1.0, 0.2904989881534155, 0.5932186073440253, 0.09303641735258596, 0.07035922012962663, 0.04023084332426342, 0.5705429812578879, 0.06930818835740726, 0.27584560777145245, 0.4280346961672652, 0.1587410950034609, 0.1190184513407785, 0.08283162424027193, 0.4084617043932266, 0.045888212945539374, 0.42535328214025053, 0.05373469996195432, 0.0633518567494987, 0.1783360886405406, -0.04420431355548091, -0.005322925080356398, 0.058855154120674595, 0.13050430486234146, 0.3521365352536435, -0.03199451080686683, -0.32823252065682407, 0.7105610281711973, 0.002323018133917325, 0.03199451080686683, -0.00685612558676279, -0.05252722929132677, 0.07041887513866645, -0.051477487706660705, -0.1359456543783252, -0.04893003441653573, -0.07649902677834094, 0.055640367328413286, -0.07830008099424139, -0.06683195543914604, 0.08830823372696357, -0.2904989881534155, -0.14173244204092458], [0.2904989881534155, 1.0, 0.2869113876493407, -0.035318306406575614, 0.14490750827741566, -0.0320988918469963, -0.036624112369657624, 0.08648403336291133, 0.407209599173863, 0.19804138414911804, 0.21581785994265482, 0.04419516660308385, 0.12370293885784464, -0.40954568545350345, 0.2511049339886263, -0.2799095171604406, -0.0693644150158943, 0.11493478554968227, 0.1749330887789554, 0.11039198425267653, 0.14287013812285143, 0.03742497111675715, -0.021901786255953366, -0.05225135287906747, 0.02484810414826998, -0.24702996908163669, -0.08948007842916528, 0.0036475286145128483, -0.02484810414826998, -0.1411797322702318, 0.03544994147437061, -0.4029657247203298, -0.17682806210444643, -0.5094306054739136, -0.5873636955503989, 0.11805279444117395, -0.319808126817312, -0.021541393426800032, -0.08303568865221263, -0.01775931152374428, -1.0, -0.1118833001187099], [0.5932186073440253, 0.2869113876493407, 1.0, 0.07826163291668599, 0.08112472149538667, 0.022230615186462886, 0.35045206500871756, 0.06441643077824802, 0.23666973512282466, 0.3458147175664681, 0.13296598863594944, 0.4251817341596304, 0.05792283494759973, 0.1947043708975427, 0.083209883683723, 0.22490716250275747, 0.040214034468318074, 0.03194381404602912, 0.14494065423422015, -0.016437001461550246, 0.014342333247997252, 0.06713368092948521, 0.08004561243389428, 0.19607827207402118, -0.0034931362233611967, -0.20113833196249664, 0.4165198324835433, 0.003352266666822966, 0.0034931362233611967, -0.017848736648417567, -0.044639498071322906, 0.028766783992759556, -0.052628790425026654, -0.1913732975134197, -0.08393123770438968, -0.06116748941181368, -0.060456371542359055, -0.07927953740256692, -0.05608702010230332, 0.040261348743476116, -0.2869113876493407, -0.10982310207207595], [0.09303641735258596, -0.035318306406575614, 0.07826163291668599, 1.0, -0.1572554494099553, -0.04522396710864105, 0.03310646980917481, -0.17296836217566222, -0.051290991418344964, 0.03352720672423619, -0.031607365073521305, 0.025383880454384923, 0.002779567736024812, 0.11916778326647924, -0.0272114045278988, 0.08490958751448315, -0.14598479442065165, -0.059786503532370215, -0.08248151817653962, -0.02652766071419053, -0.05314045090565811, -0.003140894360611816, -0.027401550617955597, 0.07758219153810396, 0.005556948516809948, 0.03048678092585111, 0.10502536355686685, 0.0010096001492024172, -0.005556948516809948, 0.00869929613353948, -0.06824076923669908, -0.08584842663737434, -0.11587164525899267, 0.04498132594726316, 0.05099401343874801, -0.19286956950065473, 0.04649890464099781, -0.21006853018403238, -0.21834974370382126, -0.010725991604766411, 0.035318306406575614, -0.10145249360130153], [0.07035922012962663, 0.14490750827741566, 0.08112472149538667, -0.1572554494099553, 1.0, -0.028840684915187684, 0.014395846454253179, -0.1103071303280506, 0.17154753178560053, 0.045133866105801425, 0.18107281673362247, 0.0027161065320304156, -0.09066419098113337, -0.08696671507893161, 0.10500168258484119, -0.03584284277632607, -0.09309889705562764, 0.11149788592905563, 0.04137233332698677, 0.0845190788594724, 0.07028886388859722, 0.05926700022909875, -0.031246655730711895, -0.06810529880646922, 0.009087894744818978, -0.22222737422543637, 0.05091938202421604, 0.000643852400730891, -0.009087894744818978, -0.05653814570587085, -0.043519192360937736, -0.04756728401299049, -0.073894835530262, -0.17946641772710267, -0.0693547660066078, -0.1229987291989127, -0.03208345383806876, -0.13396702405783983, -0.13924820315621195, -0.042282505125997225, -0.14490750827741566, -0.08282348144292183], [0.04023084332426342, -0.0320988918469963, 0.022230615186462886, -0.04522396710864105, -0.028840684915187684, 1.0, 0.05059019842644208, -0.031722436662907375, -0.002255662903093587, -0.007079417132576897, -0.022474818516857894, 0.02413689976058794, 0.28118146144345285, 0.06103351998247869, -0.023419362093089573, 0.058461773360025615, -0.026773644246301864, -0.016773882126228882, -0.03771805292063562, 0.044736642033604536, 0.04216783611996126, 0.02019599822130146, -0.009871480046342243, 0.022450140933675904, -0.012342587581044742, -0.019996515098785864, 0.06381845810250364, 0.0001851608952359145, 0.012342587581044742, 0.004264824339254697, -0.01251537248031976, 0.035907178748911014, -0.02125088589335366, 0.02780998113885676, 0.03400889501192841, -0.03537232257812068, 0.016610044336238184, -0.038526615849350195, -0.04004539227799397, -0.010725810563611935, 0.0320988918469963, -0.06501170078336499], [0.5705429812578879, -0.036624112369657624, 0.35045206500871756, 0.03310646980917481, 0.014395846454253179, 0.05059019842644208, 1.0, 0.0344088489441473, 0.10883774301426034, 0.24260551502081487, 0.12466775548957959, 0.08778183780648151, 0.011577557206111654, 0.6117487295203978, 0.018283505386920907, 0.5932998088884072, 0.030844215428568317, 0.07447518519756156, 0.14742343889087844, -0.043545414405082944, -0.027288077993627747, 0.014071108624246648, 0.1600124890739427, 0.3931627786049824, -0.0918051537692387, -0.21371910209288184, 0.7197359913321036, 0.001796683765534325, 0.0918051537692387, 0.033992221460753945, -0.047722005920433935, 0.1891460265174662, 0.008355391890925075, 0.21587952066721763, 0.18350672305051452, -0.05282142715170979, 0.20263056355171347, -0.02930697693044249, -0.0217262419988164, 0.10893377426769572, 0.036624112369657624, -0.0750958847611569], [0.06930818835740726, 0.08648403336291133, 0.06441643077824802, -0.17296836217566222, -0.1103071303280506, -0.031722436662907375, 0.0344088489441473, 1.0, 0.03375614713308431, 0.008187233853292477, 0.11183129835966717, 0.04930744174719197, -0.05893473244546977, -0.02042259052639452, 0.08051496487517819, 0.005538614256546925, -0.10240130821853136, 0.0500136292391484, 0.051509933871569005, 0.027692397152193106, 0.012548315050838883, -0.01043158469776136, -0.009310230282033675, -0.020210264762810806, 0.010378465150584451, -0.10324725553934976, 0.03722643465241937, 0.0007081859207750935, -0.010378465150584451, -0.028891674983720254, -0.04786761574319379, -0.026271835816913062, -0.08127838318396742, -0.07462435080428749, -0.05581407917786766, -0.13528872175209272, -0.02228605543116301, -0.14735296502459486, -0.1531618378008914, 0.005118533015883051, -0.08648403336291133, -0.06306924932055624], [0.27584560777145245, 0.407209599173863, 0.23666973512282466, -0.051290991418344964, 0.17154753178560053, -0.002255662903093587, 0.10883774301426034, 0.03375614713308431, 1.0, 0.14690271728648244, 0.25596290736503374, 0.04659509917220455, 0.024695815599889346, -0.055668924817055175, 0.19893045985139102, 0.014407152945802464, -0.01977809097025771, 0.18923135771253918, 0.2850341260978919, 0.26512419780922336, 0.2935165710511066, 0.16110587885042907, 0.11671247076124226, 0.08097916266892727, 0.001358885955228718, -0.2100900390524747, 0.13210697121766607, 0.0015185851114461464, -0.001358885955228718, -0.08042254289410991, 0.04821402293831141, 0.058418884242627846, -0.0846398982255338, -0.21935873173120865, 0.03096992737286905, 0.1206843923229175, -0.11043933448181778, -0.07365384799218173, -0.09755612642809865, -0.05600782169676631, -0.407209599173863, -0.038818231206116174], [0.4280346961672652, 0.19804138414911804, 0.3458147175664681, 0.03352720672423619, 0.045133866105801425, -0.007079417132576897, 0.24260551502081487, 0.008187233853292477, 0.14690271728648244, 1.0, 0.055131240821469, -0.1126612453587882, 0.04850815862293076, 0.17122957363203606, 0.05670740126363542, 0.16544958744424842, 0.030158710255541343, -0.0023852530740336242, 0.06207402860251091, -0.12034608073971818, -0.09139427298855103, -0.01739767954585552, 0.054624962929649516, 0.13698662435900455, -0.02823662377134699, 0.3426638316159055, 0.35056656309622036, 0.0013337271345410526, 0.02823662377134699, -0.005178921890327573, -0.013660807445829039, -0.004601007970068154, 0.006104879044068099, -0.13338152456220081, -0.07994884207698251, -0.05869337639969936, 0.057799798319235464, -0.039216058989683146, -0.005533624609630002, 0.04479097859343488, -0.19804138414911804, -0.06187497443272854], [0.1587410950034609, 0.21581785994265482, 0.13296598863594944, -0.031607365073521305, 0.18107281673362247, -0.022474818516857894, 0.12466775548957959, 0.11183129835966717, 0.25596290736503374, 0.055131240821469, 1.0, 0.09816866798308296, -0.06272908271791085, -0.0007115803438606713, 0.2028548064049885, 0.059611914019289475, -0.09781821453049643, 0.351176012220214, 0.29961930306405654, 0.15603927163689577, 0.16531927139927308, 0.059448241428620666, 0.11015108305634456, 0.07621908131989355, -0.02290252344130171, -0.24316301936848386, 0.13948819085726252, 0.0010790700189368331, 0.02290252344130171, -0.03887377409074299, 0.015579878699099003, 0.008896121890148774, -0.10832735571213259, -0.10881521546312951, -0.026803700873262528, 0.08212538515246297, -0.1054505044320866, -0.005417393796297065, -0.13479022113142147, -0.01437017964560938, -0.21581785994265482, -0.051081712921017076], [0.1190184513407785, 0.04419516660308385, 0.4251817341596304, 0.025383880454384923, 0.0027161065320304156, 0.02413689976058794, 0.08778183780648151, 0.04930744174719197, 0.04659509917220455, -0.1126612453587882, 0.09816866798308296, 1.0, 0.00018422710834211056, -0.014634505124688037, 0.017892749112188425, 0.04218236397758756, -0.030001270823283438, 0.05916749374093079, 0.10236729982424933, 0.184647598308567, 0.1748916702779956, 0.05076470693857018, 0.007945937514289264, 0.04874712802799941, 0.03528060638803173, -0.046041580049599275, 0.004040628095285024, 0.0033343034710142582, -0.03528060638803173, -0.01217421161057045, -0.035980889106634675, 0.050925668971422505, -0.0788437289347891, -0.0008317168293816886, 0.014115147258038379, 0.0022577929484040634, -0.19579690037182487, 0.021035945690593846, -0.01704723819804307, 0.005735967306846139, -0.04419516660308385, -0.036177835926504906], [0.08283162424027193, 0.12370293885784464, 0.05792283494759973, 0.002779567736024812, -0.09066419098113337, 0.28118146144345285, 0.011577557206111654, -0.05893473244546977, 0.024695815599889346, 0.04850815862293076, -0.06272908271791085, 0.00018422710834211056, 1.0, 0.0012818377868111942, -0.020363813025046393, -0.0007365152862408548, 0.07502949529555764, -0.04885311446670935, -0.06492201183099387, 0.025540128637250165, 0.031685475557523116, 0.013046386116708603, -0.029944677055069716, 0.0283203278032536, -0.0024861251390140755, 0.03170051038004389, 0.021527209212249026, 0.0006585103238506048, 0.0024861251390140755, -0.007443586341919715, -0.03729604639480399, -0.05043003449864923, 0.024338666510348963, -0.024408102278772718, -0.057038148807986716, -0.0792947541471159, -0.041676005106989975, -0.018728001888657062, 0.08337225566935194, 0.003205279196630279, -0.12370293885784464, -0.04179688430248084], [0.4084617043932266, -0.40954568545350345, 0.1947043708975427, 0.11916778326647924, -0.08696671507893161, 0.06103351998247869, 0.6117487295203978, -0.02042259052639452, -0.055668924817055175, 0.17122957363203606, -0.0007115803438606713, -0.014634505124688037, 0.0012818377868111942, 1.0, -0.07234860057316933, 0.826672191054028, 0.11980772189108348, 0.029799756291887282, 0.04282605705464527, -0.12830021889381005, -0.12986309103855642, -0.017994820831178017, 0.18124776022938802, 0.44193252837967023, -0.12760350239495724, 0.03161282590177723, 0.8259955476906021, -0.0013914019067523752, 0.12760350239495724, 0.07809408289783257, -0.07565848425610272, 0.3070584386892094, 0.125570624220244, 0.5766774886473599, 0.45557603712321865, -0.16298399165707914, 0.4345155883720235, -0.06880489272669474, 0.021934963606191415, 0.11704686651038973, 0.40954568545350345, -0.0538078093272594], [0.045888212945539374, 0.2511049339886263, 0.083209883683723, -0.0272114045278988, 0.10500168258484119, -0.023419362093089573, 0.018283505386920907, 0.08051496487517819, 0.19893045985139102, 0.05670740126363542, 0.2028548064049885, 0.017892749112188425, -0.020363813025046393, -0.07234860057316933, 1.0, -0.015564564893598337, -0.0759671428866628, 0.15434360244711984, 0.15931649642746537, 0.0709610528084275, 0.07398671801306746, 0.017913153373120796, 0.006994263285202544, -0.022319622181218107, -0.055364068040227574, -0.14623217488425305, 0.03668619620451392, -0.0023150442133166656, 0.055364068040227574, -0.045048887529852984, 0.033079285358131164, -0.07398227603400766, -0.1097291272028518, -0.09708012848249263, -0.10845239486781809, 0.11856987554606922, -0.09615283883407251, 0.007280699838712236, -0.12084654759768836, -2.0870083254691835e-05, -0.2511049339886263, -0.035723578243924345], [0.42535328214025053, -0.2799095171604406, 0.22490716250275747, 0.08490958751448315, -0.03584284277632607, 0.058461773360025615, 0.5932998088884072, 0.005538614256546925, 0.014407152945802464, 0.16544958744424842, 0.059611914019289475, 0.04218236397758756, -0.0007365152862408548, 0.826672191054028, -0.015564564893598337, 1.0, 0.07991134009156174, 0.060800971359151586, 0.08773618263659437, -0.062408166946219486, -0.06052237821966962, 0.008755010102652817, 0.18178588194659973, 0.43773208729497554, -0.1083830821876387, -0.061486744731578113, 0.7551917053924553, -0.0024603233393296463, 0.1083830821876387, 0.05766457288645571, -0.059293855532151704, 0.2672332780784641, 0.06726332002644761, 0.5321398519858856, 0.3731469914282812, -0.10800917665102537, 0.33187916536645456, -0.05573507456262426, -0.006971691503813795, 0.12045688740728626, 0.2799095171604406, -0.06132052088669601], [0.05373469996195432, -0.0693644150158943, 0.040214034468318074, -0.14598479442065165, -0.09309889705562764, -0.026773644246301864, 0.030844215428568317, -0.10240130821853136, -0.01977809097025771, 0.030158710255541343, -0.09781821453049643, -0.030001270823283438, 0.07502949529555764, 0.11980772189108348, -0.0759671428866628, 0.07991134009156174, 1.0, -0.07106389915616329, -0.1172573359262566, 0.015398005503468032, 0.01067440688690332, 0.009738106085163806, -0.028656871466602556, 0.07325440013074241, 0.002681782608709042, 0.085246626663579, 0.0798657038479854, 0.0005977068566502203, -0.002681782608709042, -0.001521613240797017, -0.040400128415276994, 0.07053347380147854, -0.068598718925859, 0.07891995887399632, 0.06770053051427416, -0.11418328753297848, 0.05052298496547642, -0.12436547375376454, -0.12926814547590382, 0.014620419639784507, 0.0693644150158943, -0.021237045705619063], [0.0633518567494987, 0.11493478554968227, 0.03194381404602912, -0.059786503532370215, 0.11149788592905563, -0.016773882126228882, 0.07447518519756156, 0.0500136292391484, 0.18923135771253918, -0.0023852530740336242, 0.351176012220214, 0.05916749374093079, -0.04885311446670935, 0.029799756291887282, 0.15434360244711984, 0.060800971359151586, -0.07106389915616329, 1.0, 0.20279311183479254, 0.1704464234004939, 0.16757948501533976, 0.05087878692119178, 0.09125407809696574, 0.054339579216773556, -0.03519716672779095, -0.15148444667630134, 0.08924993578294117, 0.0005677274323497871, 0.03519716672779095, -0.031639337700253053, 0.049531755628901095, 0.034091516553286016, -0.061840935051264534, -0.010943309489216652, 0.033595712847147526, 0.10729506891412689, -0.032624593723440225, 0.005014500211960069, -0.09246936147522286, 0.003087560971991544, -0.11493478554968227, -0.016530218777500348], [0.1783360886405406, 0.1749330887789554, 0.14494065423422015, -0.08248151817653962, 0.04137233332698677, -0.03771805292063562, 0.14742343889087844, 0.051509933871569005, 0.2850341260978919, 0.06207402860251091, 0.29961930306405654, 0.10236729982424933, -0.06492201183099387, 0.04282605705464527, 0.15931649642746537, 0.08773618263659437, -0.1172573359262566, 0.20279311183479254, 1.0, 0.08409863400175643, 0.09373488463515509, 0.05353860923292523, 0.09314926183175805, 0.08213356151896785, -0.03592177690260277, -0.1947137513284782, 0.15934249127931566, 0.0011663230720563625, 0.03592177690260277, -0.014761035695994913, 0.04847911032513857, 0.10645767394925658, -0.08326760979266849, -0.07448334885006257, 0.010411539368589635, 0.18462933905314236, -0.07119053330078999, 0.0664459140561541, -0.09276311375063793, 0.004070630241790873, -0.1749330887789554, -0.01818641756971489], [-0.04420431355548091, 0.11039198425267653, -0.016437001461550246, -0.02652766071419053, 0.0845190788594724, 0.044736642033604536, -0.043545414405082944, 0.027692397152193106, 0.26512419780922336, -0.12034608073971818, 0.15603927163689577, 0.184647598308567, 0.025540128637250165, -0.12830021889381005, 0.0709610528084275, -0.062408166946219486, 0.015398005503468032, 0.1704464234004939, 0.08409863400175643, 1.0, 0.917184617617187, 0.16360805923581212, 0.028979193944179613, 0.019877516748637563, 0.0247818341849245, -0.07842547588322465, -0.09213058107467849, 0.0013936370230290859, -0.0247818341849245, -0.18795353185733019, -0.004098924504979591, 0.08027509623465685, -0.07018513971957584, -0.020506545857704787, 0.12613314225963615, 0.031126784746096273, -0.21988692440388646, -0.018889646966689173, -0.04942320817136934, -0.08138480899231347, -0.11039198425267653, 0.0027431474823718933], [-0.005322925080356398, 0.14287013812285143, 0.014342333247997252, -0.05314045090565811, 0.07028886388859722, 0.04216783611996126, -0.027288077993627747, 0.012548315050838883, 0.2935165710511066, -0.09139427298855103, 0.16531927139927308, 0.1748916702779956, 0.031685475557523116, -0.12986309103855642, 0.07398671801306746, -0.06052237821966962, 0.01067440688690332, 0.16757948501533976, 0.09373488463515509, 0.917184617617187, 1.0, 0.1682381886026049, 0.02912235583221219, 0.02700431375000893, 0.02462151114691421, -0.0950840298270477, -0.0726951652000143, 0.0015194727389232772, -0.02462151114691421, -0.1741948294097734, 0.00971773773574945, 0.08607248104986122, -0.05273648263743701, -0.049329975328349346, 0.1098824526500813, 0.05380691704764707, -0.20642557135779707, -0.015717171238891423, -0.032070682057141725, -0.07299471207850683, -0.14287013812285143, 0.008508125578090628], [0.058855154120674595, 0.03742497111675715, 0.06713368092948521, -0.003140894360611816, 0.05926700022909875, 0.02019599822130146, 0.014071108624246648, -0.01043158469776136, 0.16110587885042907, -0.01739767954585552, 0.059448241428620666, 0.05076470693857018, 0.013046386116708603, -0.017994820831178017, 0.017913153373120796, 0.008755010102652817, 0.009738106085163806, 0.05087878692119178, 0.05353860923292523, 0.16360805923581212, 0.1682381886026049, 1.0, 0.03126621328687343, 0.0002198075678265029, 0.028976956509808725, -0.062119308003863664, 0.01677310301449122, 0.008211152869251689, -0.028976956509808725, -0.03381441161574918, 0.009593130929501145, 0.03628507838210154, 0.008296774659988945, -0.0346950620111663, 0.07944720153631216, 0.02309165725363972, -0.07581345659927023, -0.07187812749571923, -0.005854966415406331, -0.11160859759876379, -0.03742497111675715, 0.010709820308658222], [0.13050430486234146, -0.021901786255953366, 0.08004561243389428, -0.027401550617955597, -0.031246655730711895, -0.009871480046342243, 0.1600124890739427, -0.009310230282033675, 0.11671247076124226, 0.054624962929649516, 0.11015108305634456, 0.007945937514289264, -0.029944677055069716, 0.18124776022938802, 0.006994263285202544, 0.18178588194659973, -0.028656871466602556, 0.09125407809696574, 0.09314926183175805, 0.028979193944179613, 0.02912235583221219, 0.03126621328687343, 1.0, 0.13271399411956067, -0.027740030272794185, -0.08420160548753346, 0.19664039463210184, -0.00440841888061263, 0.027740030272794185, 0.019986584071478464, 0.05379492822124716, 0.13438972711199162, -0.016798270253879442, 0.059339311150621986, 0.1064987766874917, 0.10718631128573906, 0.057866997335279995, 0.008458285670539144, -0.030669160345763842, 0.025796455949879105, 0.021901786255953366, -0.006200949107507821], [0.3521365352536435, -0.05225135287906747, 0.19607827207402118, 0.07758219153810396, -0.06810529880646922, 0.022450140933675904, 0.3931627786049824, -0.020210264762810806, 0.08097916266892727, 0.13698662435900455, 0.07621908131989355, 0.04874712802799941, 0.0283203278032536, 0.44193252837967023, -0.022319622181218107, 0.43773208729497554, 0.07325440013074241, 0.054339579216773556, 0.08213356151896785, 0.019877516748637563, 0.02700431375000893, 0.0002198075678265029, 0.13271399411956067, 1.0, -0.057079109809616224, -0.05924929447445566, 0.45487573821259364, 0.0011069029952804825, 0.057079109809616224, 0.04618187458895229, -0.04329123359021528, 0.1244965276492659, 0.04278282081476937, 0.23380215934875007, 0.20053565192516584, -0.09287179625284905, 0.1332164703286287, -0.034509430233274976, 0.03588422898844768, 0.2993396794491175, 0.05225135287906747, -0.008151511592372295], [-0.03199451080686683, 0.02484810414826998, -0.0034931362233611967, 0.005556948516809948, 0.009087894744818978, -0.012342587581044742, -0.0918051537692387, 0.010378465150584451, 0.001358885955228718, -0.02823662377134699, -0.02290252344130171, 0.03528060638803173, -0.0024861251390140755, -0.12760350239495724, -0.055364068040227574, -0.1083830821876387, 0.002681782608709042, -0.03519716672779095, -0.03592177690260277, 0.0247818341849245, 0.02462151114691421, 0.028976956509808725, -0.027740030272794185, -0.057079109809616224, 1.0, 0.025407007919218783, -0.11697195957540753, 0.0008787158730523412, -1.0, -0.01038482739361637, -0.011172518523738465, -0.01947494942679605, 0.003427441386815992, -0.08394439087218356, -0.04972728854877069, -0.01120484075075781, -0.09378622535711424, -0.0005333173926411231, -0.007986300666630376, -0.008068537272537544, -0.02484810414826998, -0.003427980585247209], [-0.32823252065682407, -0.24702996908163669, -0.20113833196249664, 0.03048678092585111, -0.22222737422543637, -0.019996515098785864, -0.21371910209288184, -0.10324725553934976, -0.2100900390524747, 0.3426638316159055, -0.24316301936848386, -0.046041580049599275, 0.03170051038004389, 0.03161282590177723, -0.14623217488425305, -0.061486744731578113, 0.085246626663579, -0.15148444667630134, -0.1947137513284782, -0.07842547588322465, -0.0950840298270477, -0.062119308003863664, -0.08420160548753346, -0.05924929447445566, 0.025407007919218783, 1.0, -0.3103179317473166, -0.0010088601632550743, -0.025407007919218783, 0.03681332319879454, -0.03399752536748225, 0.0028933040520008686, 0.1209847516586597, 0.21872662146362712, 0.11158087231212584, -0.0894108402787261, 0.04943476139394364, 0.03892397286613086, 0.15373831097979782, -0.008712867504232487, 0.24702996908163669, 0.04051085490642307], [0.7105610281711973, -0.08948007842916528, 0.4165198324835433, 0.10502536355686685, 0.05091938202421604, 0.06381845810250364, 0.7197359913321036, 0.03722643465241937, 0.13210697121766607, 0.35056656309622036, 0.13948819085726252, 0.004040628095285024, 0.021527209212249026, 0.8259955476906021, 0.03668619620451392, 0.7551917053924553, 0.0798657038479854, 0.08924993578294117, 0.15934249127931566, -0.09213058107467849, -0.0726951652000143, 0.01677310301449122, 0.19664039463210184, 0.45487573821259364, -0.11697195957540753, -0.3103179317473166, 1.0, -0.00024622620897388214, 0.11697195957540753, 0.03867430491794328, -0.05446209298922993, 0.22898802275641808, 0.04399493370727953, 0.2645336863663359, 0.2519904839266275, -0.11505792727217351, 0.3026653064388285, -0.09704731570110663, -0.06559103013182718, 0.12337016772825543, 0.08948007842916528, -0.09555739924275342], [0.002323018133917325, 0.0036475286145128483, 0.003352266666822966, 0.0010096001492024172, 0.000643852400730891, 0.0001851608952359145, 0.001796683765534325, 0.0007081859207750935, 0.0015185851114461464, 0.0013337271345410526, 0.0010790700189368331, 0.0033343034710142582, 0.0006585103238506048, -0.0013914019067523752, -0.0023150442133166656, -0.0024603233393296463, 0.0005977068566502203, 0.0005677274323497871, 0.0011663230720563625, 0.0013936370230290859, 0.0015194727389232772, 0.008211152869251689, -0.00440841888061263, 0.0011069029952804825, 0.0008787158730523412, -0.0010088601632550743, -0.00024622620897388214, 1.0, -0.0008787158730523412, -0.0008834493194346315, 0.00027939879518089323, -0.0019112194981872345, 0.00047441431922751317, -0.003368160142302446, -0.0021424258866460932, 0.0007896676128990707, -0.0020569174718641694, -0.004806051379128267, 0.000893991319284482, 0.00046831627174684733, -0.0036475286145128483, 0.000761110281820018], [0.03199451080686683, -0.02484810414826998, 0.0034931362233611967, -0.005556948516809948, -0.009087894744818978, 0.012342587581044742, 0.0918051537692387, -0.010378465150584451, -0.001358885955228718, 0.02823662377134699, 0.02290252344130171, -0.03528060638803173, 0.0024861251390140755, 0.12760350239495724, 0.055364068040227574, 0.1083830821876387, -0.002681782608709042, 0.03519716672779095, 0.03592177690260277, -0.0247818341849245, -0.02462151114691421, -0.028976956509808725, 0.027740030272794185, 0.057079109809616224, -1.0, -0.025407007919218783, 0.11697195957540753, -0.0008787158730523412, 1.0, 0.01038482739361637, 0.011172518523738465, 0.01947494942679605, -0.003427441386815992, 0.08394439087218356, 0.04972728854877069, 0.01120484075075781, 0.09378622535711424, 0.0005333173926411231, 0.007986300666630376, 0.008068537272537544, 0.02484810414826998, 0.003427980585247209], [-0.00685612558676279, -0.1411797322702318, -0.017848736648417567, 0.00869929613353948, -0.05653814570587085, 0.004264824339254697, 0.033992221460753945, -0.028891674983720254, -0.08042254289410991, -0.005178921890327573, -0.03887377409074299, -0.01217421161057045, -0.007443586341919715, 0.07809408289783257, -0.045048887529852984, 0.05766457288645571, -0.001521613240797017, -0.031639337700253053, -0.014761035695994913, -0.18795353185733019, -0.1741948294097734, -0.03381441161574918, 0.019986584071478464, 0.04618187458895229, -0.01038482739361637, 0.03681332319879454, 0.03867430491794328, -0.0008834493194346315, 0.01038482739361637, 1.0, 0.0011883176494679299, 0.04722446752489827, 0.025094528748247125, 0.0661241577316618, 0.06578319452060165, -0.007924738797242144, 0.06165303777261506, 0.02112849459022268, 0.03036391243314021, 0.02326158548316828, 0.1411797322702318, 0.011946102928887021], [-0.05252722929132677, 0.03544994147437061, -0.044639498071322906, -0.06824076923669908, -0.043519192360937736, -0.01251537248031976, -0.047722005920433935, -0.04786761574319379, 0.04821402293831141, -0.013660807445829039, 0.015579878699099003, -0.035980889106634675, -0.03729604639480399, -0.07565848425610272, 0.033079285358131164, -0.059293855532151704, -0.040400128415276994, 0.049531755628901095, 0.04847911032513857, -0.004098924504979591, 0.00971773773574945, 0.009593130929501145, 0.05379492822124716, -0.04329123359021528, -0.011172518523738465, -0.03399752536748225, -0.05446209298922993, 0.00027939879518089323, 0.011172518523738465, 0.0011883176494679299, 1.0, -0.003835603380489371, -0.03206655437458696, -0.05906727996059606, -0.032267507020404346, -0.053375116265693474, 0.012992718606516993, -0.05813479156595518, -0.06042655140958496, -0.01694273392464938, -0.03544994147437061, 0.023908332582749242], [0.07041887513866645, -0.4029657247203298, 0.028766783992759556, -0.08584842663737434, -0.04756728401299049, 0.035907178748911014, 0.1891460265174662, -0.026271835816913062, 0.058418884242627846, -0.004601007970068154, 0.008896121890148774, 0.050925668971422505, -0.05043003449864923, 0.3070584386892094, -0.07398227603400766, 0.2672332780784641, 0.07053347380147854, 0.034091516553286016, 0.10645767394925658, 0.08027509623465685, 0.08607248104986122, 0.03628507838210154, 0.13438972711199162, 0.1244965276492659, -0.01947494942679605, 0.0028933040520008686, 0.22898802275641808, -0.0019112194981872345, 0.01947494942679605, 0.04722446752489827, -0.003835603380489371, 1.0, 0.08568760308019781, 0.21684056127261425, 0.37650432155727803, -0.010815437186991697, 0.14863231286729522, 0.01819243211876612, 0.033645192818693485, 0.005987915028774542, 0.4029657247203298, 0.027920672741033246], [-0.051477487706660705, -0.17682806210444643, -0.052628790425026654, -0.11587164525899267, -0.073894835530262, -0.02125088589335366, 0.008355391890925075, -0.08127838318396742, -0.0846398982255338, 0.006104879044068099, -0.10832735571213259, -0.0788437289347891, 0.024338666510348963, 0.125570624220244, -0.1097291272028518, 0.06726332002644761, -0.068598718925859, -0.061840935051264534, -0.08326760979266849, -0.07018513971957584, -0.05273648263743701, 0.008296774659988945, -0.016798270253879442, 0.04278282081476937, 0.003427441386815992, 0.1209847516586597, 0.04399493370727953, 0.00047441431922751317, -0.003427441386815992, 0.025094528748247125, -0.03206655437458696, 0.08568760308019781, 1.0, 0.1422066711523047, 0.11656003669030611, -0.09063002376400363, 0.09376339999874962, -0.09871187005777776, -0.10260323861341042, -0.01352695463619109, 0.17682806210444643, 0.052272671089885606], [-0.1359456543783252, -0.5094306054739136, -0.1913732975134197, 0.04498132594726316, -0.17946641772710267, 0.02780998113885676, 0.21587952066721763, -0.07462435080428749, -0.21935873173120865, -0.13338152456220081, -0.10881521546312951, -0.0008317168293816886, -0.024408102278772718, 0.5766774886473599, -0.09708012848249263, 0.5321398519858856, 0.07891995887399632, -0.010943309489216652, -0.07448334885006257, -0.020506545857704787, -0.049329975328349346, -0.0346950620111663, 0.059339311150621986, 0.23380215934875007, -0.08394439087218356, 0.21872662146362712, 0.2645336863663359, -0.003368160142302446, 0.08394439087218356, 0.0661241577316618, -0.05906727996059606, 0.21684056127261425, 0.1422066711523047, 1.0, 0.41540154188724526, -0.1055717391276702, 0.2930213902751264, 0.021049693891978312, 0.10210412752750017, 0.07816593609923561, 0.5094306054739136, 0.04259034187048863], [-0.04893003441653573, -0.5873636955503989, -0.08393123770438968, 0.05099401343874801, -0.0693547660066078, 0.03400889501192841, 0.18350672305051452, -0.05581407917786766, 0.03096992737286905, -0.07994884207698251, -0.026803700873262528, 0.014115147258038379, -0.057038148807986716, 0.45557603712321865, -0.10845239486781809, 0.3731469914282812, 0.06770053051427416, 0.033595712847147526, 0.010411539368589635, 0.12613314225963615, 0.1098824526500813, 0.07944720153631216, 0.1064987766874917, 0.20053565192516584, -0.04972728854877069, 0.11158087231212584, 0.2519904839266275, -0.0021424258866460932, 0.04972728854877069, 0.06578319452060165, -0.032267507020404346, 0.37650432155727803, 0.11656003669030611, 0.41540154188724526, 1.0, -0.08332837318259893, 0.24313006611492174, -0.02919574611844304, 0.034605673462431805, -0.0299622213279272, 0.5873636955503989, 0.06621220423240563], [-0.07649902677834094, 0.11805279444117395, -0.06116748941181368, -0.19286956950065473, -0.1229987291989127, -0.03537232257812068, -0.05282142715170979, -0.13528872175209272, 0.1206843923229175, -0.05869337639969936, 0.08212538515246297, 0.0022577929484040634, -0.0792947541471159, -0.16298399165707914, 0.11856987554606922, -0.10800917665102537, -0.11418328753297848, 0.10729506891412689, 0.18462933905314236, 0.031126784746096273, 0.05380691704764707, 0.02309165725363972, 0.10718631128573906, -0.09287179625284905, -0.01120484075075781, -0.0894108402787261, -0.11505792727217351, 0.0007896676128990707, 0.01120484075075781, -0.007924738797242144, -0.053375116265693474, -0.010815437186991697, -0.09063002376400363, -0.1055717391276702, -0.08332837318259893, 1.0, -0.08798016044711034, -0.16430694360206827, -0.1707841673992768, -0.028710775597344033, -0.11805279444117395, 0.06394352155883473], [0.055640367328413286, -0.319808126817312, -0.060456371542359055, 0.04649890464099781, -0.03208345383806876, 0.016610044336238184, 0.20263056355171347, -0.02228605543116301, -0.11043933448181778, 0.057799798319235464, -0.1054505044320866, -0.19579690037182487, -0.041676005106989975, 0.4345155883720235, -0.09615283883407251, 0.33187916536645456, 0.05052298496547642, -0.032624593723440225, -0.07119053330078999, -0.21988692440388646, -0.20642557135779707, -0.07581345659927023, 0.057866997335279995, 0.1332164703286287, -0.09378622535711424, 0.04943476139394364, 0.3026653064388285, -0.0020569174718641694, 0.09378622535711424, 0.06165303777261506, 0.012992718606516993, 0.14863231286729522, 0.09376339999874962, 0.2930213902751264, 0.24313006611492174, -0.08798016044711034, 1.0, -0.05402385318804979, 0.024529040645894812, 0.07014278462956458, 0.319808126817312, 0.031149365675567614], [-0.07830008099424139, -0.021541393426800032, -0.07927953740256692, -0.21006853018403238, -0.13396702405783983, -0.038526615849350195, -0.02930697693044249, -0.14735296502459486, -0.07365384799218173, -0.039216058989683146, -0.005417393796297065, 0.021035945690593846, -0.018728001888657062, -0.06880489272669474, 0.007280699838712236, -0.05573507456262426, -0.12436547375376454, 0.005014500211960069, 0.0664459140561541, -0.018889646966689173, -0.015717171238891423, -0.07187812749571923, 0.008458285670539144, -0.034509430233274976, -0.0005333173926411231, 0.03892397286613086, -0.09704731570110663, -0.004806051379128267, 0.0005333173926411231, 0.02112849459022268, -0.05813479156595518, 0.01819243211876612, -0.09871187005777776, 0.021049693891978312, -0.02919574611844304, -0.16430694360206827, -0.05402385318804979, 1.0, -0.1860136833257567, 0.04064653292019475, 0.021541393426800032, 0.06901296890434025], [-0.06683195543914604, -0.08303568865221263, -0.05608702010230332, -0.21834974370382126, -0.13924820315621195, -0.04004539227799397, -0.0217262419988164, -0.1531618378008914, -0.09755612642809865, -0.005533624609630002, -0.13479022113142147, -0.01704723819804307, 0.08337225566935194, 0.021934963606191415, -0.12084654759768836, -0.006971691503813795, -0.12926814547590382, -0.09246936147522286, -0.09276311375063793, -0.04942320817136934, -0.032070682057141725, -0.005854966415406331, -0.030669160345763842, 0.03588422898844768, -0.007986300666630376, 0.15373831097979782, -0.06559103013182718, 0.000893991319284482, 0.007986300666630376, 0.03036391243314021, -0.06042655140958496, 0.033645192818693485, -0.10260323861341042, 0.10210412752750017, 0.034605673462431805, -0.1707841673992768, 0.024529040645894812, -0.1860136833257567, 1.0, 0.0332405348140774, 0.08303568865221263, 0.09315760348115147], [0.08830823372696357, -0.01775931152374428, 0.040261348743476116, -0.010725991604766411, -0.042282505125997225, -0.010725810563611935, 0.10893377426769572, 0.005118533015883051, -0.05600782169676631, 0.04479097859343488, -0.01437017964560938, 0.005735967306846139, 0.003205279196630279, 0.11704686651038973, -2.0870083254691835e-05, 0.12045688740728626, 0.014620419639784507, 0.003087560971991544, 0.004070630241790873, -0.08138480899231347, -0.07299471207850683, -0.11160859759876379, 0.025796455949879105, 0.2993396794491175, -0.008068537272537544, -0.008712867504232487, 0.12337016772825543, 0.00046831627174684733, 0.008068537272537544, 0.02326158548316828, -0.01694273392464938, 0.005987915028774542, -0.01352695463619109, 0.07816593609923561, -0.0299622213279272, -0.028710775597344033, 0.07014278462956458, 0.04064653292019475, 0.0332405348140774, 1.0, 0.01775931152374428, 0.08359484814961317], [-0.2904989881534155, -1.0, -0.2869113876493407, 0.035318306406575614, -0.14490750827741566, 0.0320988918469963, 0.036624112369657624, -0.08648403336291133, -0.407209599173863, -0.19804138414911804, -0.21581785994265482, -0.04419516660308385, -0.12370293885784464, 0.40954568545350345, -0.2511049339886263, 0.2799095171604406, 0.0693644150158943, -0.11493478554968227, -0.1749330887789554, -0.11039198425267653, -0.14287013812285143, -0.03742497111675715, 0.021901786255953366, 0.05225135287906747, -0.02484810414826998, 0.24702996908163669, 0.08948007842916528, -0.0036475286145128483, 0.02484810414826998, 0.1411797322702318, -0.03544994147437061, 0.4029657247203298, 0.17682806210444643, 0.5094306054739136, 0.5873636955503989, -0.11805279444117395, 0.319808126817312, 0.021541393426800032, 0.08303568865221263, 0.01775931152374428, 1.0, 0.1118833001187099], [-0.14173244204092458, -0.1118833001187099, -0.10982310207207595, -0.10145249360130153, -0.08282348144292183, -0.06501170078336499, -0.0750958847611569, -0.06306924932055624, -0.038818231206116174, -0.06187497443272854, -0.051081712921017076, -0.036177835926504906, -0.04179688430248084, -0.0538078093272594, -0.035723578243924345, -0.06132052088669601, -0.021237045705619063, -0.016530218777500348, -0.01818641756971489, 0.0027431474823718933, 0.008508125578090628, 0.010709820308658222, -0.006200949107507821, -0.008151511592372295, -0.003427980585247209, 0.04051085490642307, -0.09555739924275342, 0.000761110281820018, 0.003427980585247209, 0.011946102928887021, 0.023908332582749242, 0.027920672741033246, 0.052272671089885606, 0.04259034187048863, 0.06621220423240563, 0.06394352155883473, 0.031149365675567614, 0.06901296890434025, 0.09315760348115147, 0.08359484814961317, 0.1118833001187099, 1.0]]]}, [0]], \"label\": \"Correlaci\\u00f3n de spearman\", \"method\": \"restyle\", \"visible\": true}], \"direction\": \"down\", \"showactive\": true, \"x\": 0.7, \"y\": 1.15}], \"width\": 1000, \"xaxis\": {\"side\": \"top\", \"tickmode\": \"array\", \"ticktext\": [41, 40, 39, 38, 37, 36, 35, 34, 33, 32, 31, 30, 29, 28, 27, 26, 25, 24, 23, 22, 21, 20, 19, 18, 17, 16, 15, 14, 13, 12, 11, 10, 9, 8, 7, 6, 5, 4, 3, 2, 1, 0], \"tickvals\": [0, 1, 2, 3, 4, 5, 6, 7, 8, 9, 10, 11, 12, 13, 14, 15, 16, 17, 18, 19, 20, 21, 22, 23, 24, 25, 26, 27, 28, 29, 30, 31, 32, 33, 34, 35, 36, 37, 38, 39, 40, 41]}},\n",
              "                        {\"responsive\": true}\n",
              "                    ).then(function(){\n",
              "                            \n",
              "var gd = document.getElementById('d5697650-5ad9-4b68-ab6d-8f3a6cd167fd');\n",
              "var x = new MutationObserver(function (mutations, observer) {{\n",
              "        var display = window.getComputedStyle(gd).display;\n",
              "        if (!display || display === 'none') {{\n",
              "            console.log([gd, 'removed!']);\n",
              "            Plotly.purge(gd);\n",
              "            observer.disconnect();\n",
              "        }}\n",
              "}});\n",
              "\n",
              "// Listen for the removal of the full notebook cells\n",
              "var notebookContainer = gd.closest('#notebook-container');\n",
              "if (notebookContainer) {{\n",
              "    x.observe(notebookContainer, {childList: true});\n",
              "}}\n",
              "\n",
              "// Listen for the clearing of the current output cell\n",
              "var outputEl = gd.closest('.output');\n",
              "if (outputEl) {{\n",
              "    x.observe(outputEl, {childList: true});\n",
              "}}\n",
              "\n",
              "                        })\n",
              "                };\n",
              "                \n",
              "            </script>\n",
              "        </div>\n",
              "</body>\n",
              "</html>"
            ]
          },
          "metadata": {
            "tags": []
          }
        }
      ]
    },
    {
      "cell_type": "code",
      "metadata": {
        "id": "avz8q3mW2RX0",
        "colab": {
          "base_uri": "https://localhost:8080/",
          "height": 922
        },
        "outputId": "3b6ea6ea-e662-4ceb-d835-7e38e2f6e10b"
      },
      "source": [
        "correlations_Tab = pd.DataFrame({'Pearson':correlation_Pearson['y'].values[::-1],\n",
        "                                'Kendall':correlation_Kendall['y'].values[::-1],\n",
        "                                'Spearman':correlation_Spearman['y'].values[::-1]})\n",
        "correlations_Tab.index = correlation_Pearson.index[::-1]\n",
        "# Tabla de resultados ordenados de acuerdo a la correlación de Pearson\n",
        "## Marcamos de color verde aquellas correlaciones mayores a 0.4\n",
        "correlations_Tab.style.applymap(_color_red_or_green)"
      ],
      "execution_count": 18,
      "outputs": [
        {
          "output_type": "execute_result",
          "data": {
            "text/html": [
              "<style  type=\"text/css\" >\n",
              "#T_59637164_9b12_11eb_9281_0242ac1c0002row0_col0,#T_59637164_9b12_11eb_9281_0242ac1c0002row0_col1,#T_59637164_9b12_11eb_9281_0242ac1c0002row0_col2,#T_59637164_9b12_11eb_9281_0242ac1c0002row1_col0,#T_59637164_9b12_11eb_9281_0242ac1c0002row1_col1,#T_59637164_9b12_11eb_9281_0242ac1c0002row1_col2,#T_59637164_9b12_11eb_9281_0242ac1c0002row2_col0,#T_59637164_9b12_11eb_9281_0242ac1c0002row2_col1,#T_59637164_9b12_11eb_9281_0242ac1c0002row2_col2,#T_59637164_9b12_11eb_9281_0242ac1c0002row3_col0,#T_59637164_9b12_11eb_9281_0242ac1c0002row3_col1,#T_59637164_9b12_11eb_9281_0242ac1c0002row3_col2,#T_59637164_9b12_11eb_9281_0242ac1c0002row4_col0,#T_59637164_9b12_11eb_9281_0242ac1c0002row4_col1,#T_59637164_9b12_11eb_9281_0242ac1c0002row4_col2,#T_59637164_9b12_11eb_9281_0242ac1c0002row5_col0,#T_59637164_9b12_11eb_9281_0242ac1c0002row5_col1,#T_59637164_9b12_11eb_9281_0242ac1c0002row5_col2,#T_59637164_9b12_11eb_9281_0242ac1c0002row6_col0,#T_59637164_9b12_11eb_9281_0242ac1c0002row6_col1,#T_59637164_9b12_11eb_9281_0242ac1c0002row6_col2,#T_59637164_9b12_11eb_9281_0242ac1c0002row7_col0,#T_59637164_9b12_11eb_9281_0242ac1c0002row7_col1,#T_59637164_9b12_11eb_9281_0242ac1c0002row7_col2,#T_59637164_9b12_11eb_9281_0242ac1c0002row8_col0,#T_59637164_9b12_11eb_9281_0242ac1c0002row8_col1,#T_59637164_9b12_11eb_9281_0242ac1c0002row8_col2,#T_59637164_9b12_11eb_9281_0242ac1c0002row9_col0,#T_59637164_9b12_11eb_9281_0242ac1c0002row9_col1,#T_59637164_9b12_11eb_9281_0242ac1c0002row9_col2,#T_59637164_9b12_11eb_9281_0242ac1c0002row10_col0,#T_59637164_9b12_11eb_9281_0242ac1c0002row10_col1,#T_59637164_9b12_11eb_9281_0242ac1c0002row10_col2,#T_59637164_9b12_11eb_9281_0242ac1c0002row11_col0,#T_59637164_9b12_11eb_9281_0242ac1c0002row11_col1,#T_59637164_9b12_11eb_9281_0242ac1c0002row11_col2,#T_59637164_9b12_11eb_9281_0242ac1c0002row12_col0,#T_59637164_9b12_11eb_9281_0242ac1c0002row12_col1,#T_59637164_9b12_11eb_9281_0242ac1c0002row12_col2,#T_59637164_9b12_11eb_9281_0242ac1c0002row13_col0,#T_59637164_9b12_11eb_9281_0242ac1c0002row13_col1,#T_59637164_9b12_11eb_9281_0242ac1c0002row13_col2,#T_59637164_9b12_11eb_9281_0242ac1c0002row14_col0,#T_59637164_9b12_11eb_9281_0242ac1c0002row14_col1,#T_59637164_9b12_11eb_9281_0242ac1c0002row14_col2,#T_59637164_9b12_11eb_9281_0242ac1c0002row15_col1,#T_59637164_9b12_11eb_9281_0242ac1c0002row15_col2,#T_59637164_9b12_11eb_9281_0242ac1c0002row17_col0,#T_59637164_9b12_11eb_9281_0242ac1c0002row17_col1,#T_59637164_9b12_11eb_9281_0242ac1c0002row17_col2,#T_59637164_9b12_11eb_9281_0242ac1c0002row18_col0,#T_59637164_9b12_11eb_9281_0242ac1c0002row18_col1,#T_59637164_9b12_11eb_9281_0242ac1c0002row18_col2,#T_59637164_9b12_11eb_9281_0242ac1c0002row19_col0,#T_59637164_9b12_11eb_9281_0242ac1c0002row19_col1,#T_59637164_9b12_11eb_9281_0242ac1c0002row19_col2,#T_59637164_9b12_11eb_9281_0242ac1c0002row20_col0,#T_59637164_9b12_11eb_9281_0242ac1c0002row20_col1,#T_59637164_9b12_11eb_9281_0242ac1c0002row20_col2,#T_59637164_9b12_11eb_9281_0242ac1c0002row21_col0,#T_59637164_9b12_11eb_9281_0242ac1c0002row21_col1,#T_59637164_9b12_11eb_9281_0242ac1c0002row21_col2,#T_59637164_9b12_11eb_9281_0242ac1c0002row22_col0,#T_59637164_9b12_11eb_9281_0242ac1c0002row22_col1,#T_59637164_9b12_11eb_9281_0242ac1c0002row22_col2,#T_59637164_9b12_11eb_9281_0242ac1c0002row23_col0,#T_59637164_9b12_11eb_9281_0242ac1c0002row23_col1,#T_59637164_9b12_11eb_9281_0242ac1c0002row23_col2,#T_59637164_9b12_11eb_9281_0242ac1c0002row24_col0,#T_59637164_9b12_11eb_9281_0242ac1c0002row24_col1,#T_59637164_9b12_11eb_9281_0242ac1c0002row24_col2,#T_59637164_9b12_11eb_9281_0242ac1c0002row25_col0,#T_59637164_9b12_11eb_9281_0242ac1c0002row25_col1,#T_59637164_9b12_11eb_9281_0242ac1c0002row25_col2,#T_59637164_9b12_11eb_9281_0242ac1c0002row26_col0,#T_59637164_9b12_11eb_9281_0242ac1c0002row26_col1,#T_59637164_9b12_11eb_9281_0242ac1c0002row26_col2,#T_59637164_9b12_11eb_9281_0242ac1c0002row27_col0,#T_59637164_9b12_11eb_9281_0242ac1c0002row27_col1,#T_59637164_9b12_11eb_9281_0242ac1c0002row27_col2,#T_59637164_9b12_11eb_9281_0242ac1c0002row28_col0,#T_59637164_9b12_11eb_9281_0242ac1c0002row28_col1,#T_59637164_9b12_11eb_9281_0242ac1c0002row28_col2,#T_59637164_9b12_11eb_9281_0242ac1c0002row29_col0,#T_59637164_9b12_11eb_9281_0242ac1c0002row29_col1,#T_59637164_9b12_11eb_9281_0242ac1c0002row29_col2,#T_59637164_9b12_11eb_9281_0242ac1c0002row30_col0,#T_59637164_9b12_11eb_9281_0242ac1c0002row30_col1,#T_59637164_9b12_11eb_9281_0242ac1c0002row30_col2,#T_59637164_9b12_11eb_9281_0242ac1c0002row31_col0,#T_59637164_9b12_11eb_9281_0242ac1c0002row31_col1,#T_59637164_9b12_11eb_9281_0242ac1c0002row31_col2,#T_59637164_9b12_11eb_9281_0242ac1c0002row32_col0,#T_59637164_9b12_11eb_9281_0242ac1c0002row32_col1,#T_59637164_9b12_11eb_9281_0242ac1c0002row32_col2,#T_59637164_9b12_11eb_9281_0242ac1c0002row33_col0,#T_59637164_9b12_11eb_9281_0242ac1c0002row33_col1,#T_59637164_9b12_11eb_9281_0242ac1c0002row33_col2,#T_59637164_9b12_11eb_9281_0242ac1c0002row34_col0,#T_59637164_9b12_11eb_9281_0242ac1c0002row34_col1,#T_59637164_9b12_11eb_9281_0242ac1c0002row34_col2,#T_59637164_9b12_11eb_9281_0242ac1c0002row35_col0,#T_59637164_9b12_11eb_9281_0242ac1c0002row35_col1,#T_59637164_9b12_11eb_9281_0242ac1c0002row35_col2,#T_59637164_9b12_11eb_9281_0242ac1c0002row36_col0,#T_59637164_9b12_11eb_9281_0242ac1c0002row36_col1,#T_59637164_9b12_11eb_9281_0242ac1c0002row36_col2,#T_59637164_9b12_11eb_9281_0242ac1c0002row37_col0,#T_59637164_9b12_11eb_9281_0242ac1c0002row37_col1,#T_59637164_9b12_11eb_9281_0242ac1c0002row37_col2,#T_59637164_9b12_11eb_9281_0242ac1c0002row38_col0,#T_59637164_9b12_11eb_9281_0242ac1c0002row38_col1,#T_59637164_9b12_11eb_9281_0242ac1c0002row38_col2,#T_59637164_9b12_11eb_9281_0242ac1c0002row39_col0,#T_59637164_9b12_11eb_9281_0242ac1c0002row39_col1,#T_59637164_9b12_11eb_9281_0242ac1c0002row39_col2,#T_59637164_9b12_11eb_9281_0242ac1c0002row40_col0,#T_59637164_9b12_11eb_9281_0242ac1c0002row40_col1,#T_59637164_9b12_11eb_9281_0242ac1c0002row40_col2,#T_59637164_9b12_11eb_9281_0242ac1c0002row41_col0,#T_59637164_9b12_11eb_9281_0242ac1c0002row41_col1,#T_59637164_9b12_11eb_9281_0242ac1c0002row41_col2{\n",
              "            color:  red;\n",
              "        }#T_59637164_9b12_11eb_9281_0242ac1c0002row15_col0,#T_59637164_9b12_11eb_9281_0242ac1c0002row16_col0,#T_59637164_9b12_11eb_9281_0242ac1c0002row16_col1,#T_59637164_9b12_11eb_9281_0242ac1c0002row16_col2{\n",
              "            color:  green;\n",
              "        }</style><table id=\"T_59637164_9b12_11eb_9281_0242ac1c0002\" ><thead>    <tr>        <th class=\"blank level0\" ></th>        <th class=\"col_heading level0 col0\" >Pearson</th>        <th class=\"col_heading level0 col1\" >Kendall</th>        <th class=\"col_heading level0 col2\" >Spearman</th>    </tr></thead><tbody>\n",
              "                <tr>\n",
              "                        <th id=\"T_59637164_9b12_11eb_9281_0242ac1c0002level0_row0\" class=\"row_heading level0 row0\" >id</th>\n",
              "                        <td id=\"T_59637164_9b12_11eb_9281_0242ac1c0002row0_col0\" class=\"data row0 col0\" >-0.000208</td>\n",
              "                        <td id=\"T_59637164_9b12_11eb_9281_0242ac1c0002row0_col1\" class=\"data row0 col1\" >0.026978</td>\n",
              "                        <td id=\"T_59637164_9b12_11eb_9281_0242ac1c0002row0_col2\" class=\"data row0 col2\" >0.040511</td>\n",
              "            </tr>\n",
              "            <tr>\n",
              "                        <th id=\"T_59637164_9b12_11eb_9281_0242ac1c0002level0_row1\" class=\"row_heading level0 row1\" >tipoinmueble_Casa</th>\n",
              "                        <td id=\"T_59637164_9b12_11eb_9281_0242ac1c0002row1_col0\" class=\"data row1 col0\" >-0.003589</td>\n",
              "                        <td id=\"T_59637164_9b12_11eb_9281_0242ac1c0002row1_col1\" class=\"data row1 col1\" >0.201705</td>\n",
              "                        <td id=\"T_59637164_9b12_11eb_9281_0242ac1c0002row1_col2\" class=\"data row1 col2\" >0.247030</td>\n",
              "            </tr>\n",
              "            <tr>\n",
              "                        <th id=\"T_59637164_9b12_11eb_9281_0242ac1c0002level0_row2\" class=\"row_heading level0 row2\" >banoservicio</th>\n",
              "                        <td id=\"T_59637164_9b12_11eb_9281_0242ac1c0002row2_col0\" class=\"data row2 col0\" >0.000538</td>\n",
              "                        <td id=\"T_59637164_9b12_11eb_9281_0242ac1c0002row2_col1\" class=\"data row2 col1\" >-0.007114</td>\n",
              "                        <td id=\"T_59637164_9b12_11eb_9281_0242ac1c0002row2_col2\" class=\"data row2 col2\" >-0.008713</td>\n",
              "            </tr>\n",
              "            <tr>\n",
              "                        <th id=\"T_59637164_9b12_11eb_9281_0242ac1c0002level0_row3\" class=\"row_heading level0 row3\" >tiempodeconstruido_16 a 30 años</th>\n",
              "                        <td id=\"T_59637164_9b12_11eb_9281_0242ac1c0002row3_col0\" class=\"data row3 col0\" >0.000987</td>\n",
              "                        <td id=\"T_59637164_9b12_11eb_9281_0242ac1c0002row3_col1\" class=\"data row3 col1\" >0.125530</td>\n",
              "                        <td id=\"T_59637164_9b12_11eb_9281_0242ac1c0002row3_col2\" class=\"data row3 col2\" >0.153738</td>\n",
              "            </tr>\n",
              "            <tr>\n",
              "                        <th id=\"T_59637164_9b12_11eb_9281_0242ac1c0002level0_row4\" class=\"row_heading level0 row4\" >tiempodeconstruido_9 a 15 años</th>\n",
              "                        <td id=\"T_59637164_9b12_11eb_9281_0242ac1c0002row4_col0\" class=\"data row4 col0\" >0.000939</td>\n",
              "                        <td id=\"T_59637164_9b12_11eb_9281_0242ac1c0002row4_col1\" class=\"data row4 col1\" >0.031782</td>\n",
              "                        <td id=\"T_59637164_9b12_11eb_9281_0242ac1c0002row4_col2\" class=\"data row4 col2\" >0.038924</td>\n",
              "            </tr>\n",
              "            <tr>\n",
              "                        <th id=\"T_59637164_9b12_11eb_9281_0242ac1c0002level0_row5\" class=\"row_heading level0 row5\" >valoradministracion</th>\n",
              "                        <td id=\"T_59637164_9b12_11eb_9281_0242ac1c0002row5_col0\" class=\"data row5 col0\" >-0.005660</td>\n",
              "                        <td id=\"T_59637164_9b12_11eb_9281_0242ac1c0002row5_col1\" class=\"data row5 col1\" >0.024953</td>\n",
              "                        <td id=\"T_59637164_9b12_11eb_9281_0242ac1c0002row5_col2\" class=\"data row5 col2\" >0.049435</td>\n",
              "            </tr>\n",
              "            <tr>\n",
              "                        <th id=\"T_59637164_9b12_11eb_9281_0242ac1c0002level0_row6\" class=\"row_heading level0 row6\" >tiempodeconstruido_1 a 8 años</th>\n",
              "                        <td id=\"T_59637164_9b12_11eb_9281_0242ac1c0002row6_col0\" class=\"data row6 col0\" >0.000797</td>\n",
              "                        <td id=\"T_59637164_9b12_11eb_9281_0242ac1c0002row6_col1\" class=\"data row6 col1\" >-0.073006</td>\n",
              "                        <td id=\"T_59637164_9b12_11eb_9281_0242ac1c0002row6_col2\" class=\"data row6 col2\" >-0.089411</td>\n",
              "            </tr>\n",
              "            <tr>\n",
              "                        <th id=\"T_59637164_9b12_11eb_9281_0242ac1c0002level0_row7\" class=\"row_heading level0 row7\" >estudio</th>\n",
              "                        <td id=\"T_59637164_9b12_11eb_9281_0242ac1c0002row7_col0\" class=\"data row7 col0\" >-0.002182</td>\n",
              "                        <td id=\"T_59637164_9b12_11eb_9281_0242ac1c0002row7_col1\" class=\"data row7 col1\" >0.091108</td>\n",
              "                        <td id=\"T_59637164_9b12_11eb_9281_0242ac1c0002row7_col2\" class=\"data row7 col2\" >0.111581</td>\n",
              "            </tr>\n",
              "            <tr>\n",
              "                        <th id=\"T_59637164_9b12_11eb_9281_0242ac1c0002level0_row8\" class=\"row_heading level0 row8\" >habitaciones</th>\n",
              "                        <td id=\"T_59637164_9b12_11eb_9281_0242ac1c0002row8_col0\" class=\"data row8 col0\" >-0.002759</td>\n",
              "                        <td id=\"T_59637164_9b12_11eb_9281_0242ac1c0002row8_col1\" class=\"data row8 col1\" >0.167676</td>\n",
              "                        <td id=\"T_59637164_9b12_11eb_9281_0242ac1c0002row8_col2\" class=\"data row8 col2\" >0.218727</td>\n",
              "            </tr>\n",
              "            <tr>\n",
              "                        <th id=\"T_59637164_9b12_11eb_9281_0242ac1c0002level0_row9\" class=\"row_heading level0 row9\" >tiempodeconstruido_Más de 30 años</th>\n",
              "                        <td id=\"T_59637164_9b12_11eb_9281_0242ac1c0002row9_col0\" class=\"data row9 col0\" >-0.008536</td>\n",
              "                        <td id=\"T_59637164_9b12_11eb_9281_0242ac1c0002row9_col1\" class=\"data row9 col1\" >0.098786</td>\n",
              "                        <td id=\"T_59637164_9b12_11eb_9281_0242ac1c0002row9_col2\" class=\"data row9 col2\" >0.120985</td>\n",
              "            </tr>\n",
              "            <tr>\n",
              "                        <th id=\"T_59637164_9b12_11eb_9281_0242ac1c0002level0_row10\" class=\"row_heading level0 row10\" >deposito</th>\n",
              "                        <td id=\"T_59637164_9b12_11eb_9281_0242ac1c0002row10_col0\" class=\"data row10 col0\" >-0.002043</td>\n",
              "                        <td id=\"T_59637164_9b12_11eb_9281_0242ac1c0002row10_col1\" class=\"data row10 col1\" >0.002362</td>\n",
              "                        <td id=\"T_59637164_9b12_11eb_9281_0242ac1c0002row10_col2\" class=\"data row10 col2\" >0.002893</td>\n",
              "            </tr>\n",
              "            <tr>\n",
              "                        <th id=\"T_59637164_9b12_11eb_9281_0242ac1c0002level0_row11\" class=\"row_heading level0 row11\" >tiempodeconstruido_Menos de 1 año</th>\n",
              "                        <td id=\"T_59637164_9b12_11eb_9281_0242ac1c0002row11_col0\" class=\"data row11 col0\" >0.000267</td>\n",
              "                        <td id=\"T_59637164_9b12_11eb_9281_0242ac1c0002row11_col1\" class=\"data row11 col1\" >-0.027760</td>\n",
              "                        <td id=\"T_59637164_9b12_11eb_9281_0242ac1c0002row11_col2\" class=\"data row11 col2\" >-0.033998</td>\n",
              "            </tr>\n",
              "            <tr>\n",
              "                        <th id=\"T_59637164_9b12_11eb_9281_0242ac1c0002level0_row12\" class=\"row_heading level0 row12\" >halldealcobas</th>\n",
              "                        <td id=\"T_59637164_9b12_11eb_9281_0242ac1c0002row12_col0\" class=\"data row12 col0\" >-0.000825</td>\n",
              "                        <td id=\"T_59637164_9b12_11eb_9281_0242ac1c0002row12_col1\" class=\"data row12 col1\" >0.030059</td>\n",
              "                        <td id=\"T_59637164_9b12_11eb_9281_0242ac1c0002row12_col2\" class=\"data row12 col2\" >0.036813</td>\n",
              "            </tr>\n",
              "            <tr>\n",
              "                        <th id=\"T_59637164_9b12_11eb_9281_0242ac1c0002level0_row13\" class=\"row_heading level0 row13\" >vista_Exterior</th>\n",
              "                        <td id=\"T_59637164_9b12_11eb_9281_0242ac1c0002row13_col0\" class=\"data row13 col0\" >-0.000918</td>\n",
              "                        <td id=\"T_59637164_9b12_11eb_9281_0242ac1c0002row13_col1\" class=\"data row13 col1\" >-0.020745</td>\n",
              "                        <td id=\"T_59637164_9b12_11eb_9281_0242ac1c0002row13_col2\" class=\"data row13 col2\" >-0.025407</td>\n",
              "            </tr>\n",
              "            <tr>\n",
              "                        <th id=\"T_59637164_9b12_11eb_9281_0242ac1c0002level0_row14\" class=\"row_heading level0 row14\" >parqueaderovisitantes</th>\n",
              "                        <td id=\"T_59637164_9b12_11eb_9281_0242ac1c0002row14_col0\" class=\"data row14 col0\" >-0.000006</td>\n",
              "                        <td id=\"T_59637164_9b12_11eb_9281_0242ac1c0002row14_col1\" class=\"data row14 col1\" >-0.000824</td>\n",
              "                        <td id=\"T_59637164_9b12_11eb_9281_0242ac1c0002row14_col2\" class=\"data row14 col2\" >-0.001009</td>\n",
              "            </tr>\n",
              "            <tr>\n",
              "                        <th id=\"T_59637164_9b12_11eb_9281_0242ac1c0002level0_row15\" class=\"row_heading level0 row15\" >valorventa</th>\n",
              "                        <td id=\"T_59637164_9b12_11eb_9281_0242ac1c0002row15_col0\" class=\"data row15 col0\" >-0.999573</td>\n",
              "                        <td id=\"T_59637164_9b12_11eb_9281_0242ac1c0002row15_col1\" class=\"data row15 col1\" >-0.213092</td>\n",
              "                        <td id=\"T_59637164_9b12_11eb_9281_0242ac1c0002row15_col2\" class=\"data row15 col2\" >-0.310318</td>\n",
              "            </tr>\n",
              "            <tr>\n",
              "                        <th id=\"T_59637164_9b12_11eb_9281_0242ac1c0002level0_row16\" class=\"row_heading level0 row16\" >y</th>\n",
              "                        <td id=\"T_59637164_9b12_11eb_9281_0242ac1c0002row16_col0\" class=\"data row16 col0\" >1.000000</td>\n",
              "                        <td id=\"T_59637164_9b12_11eb_9281_0242ac1c0002row16_col1\" class=\"data row16 col1\" >1.000000</td>\n",
              "                        <td id=\"T_59637164_9b12_11eb_9281_0242ac1c0002row16_col2\" class=\"data row16 col2\" >1.000000</td>\n",
              "            </tr>\n",
              "            <tr>\n",
              "                        <th id=\"T_59637164_9b12_11eb_9281_0242ac1c0002level0_row17\" class=\"row_heading level0 row17\" >vista_Interior</th>\n",
              "                        <td id=\"T_59637164_9b12_11eb_9281_0242ac1c0002row17_col0\" class=\"data row17 col0\" >0.000918</td>\n",
              "                        <td id=\"T_59637164_9b12_11eb_9281_0242ac1c0002row17_col1\" class=\"data row17 col1\" >0.020745</td>\n",
              "                        <td id=\"T_59637164_9b12_11eb_9281_0242ac1c0002row17_col2\" class=\"data row17 col2\" >0.025407</td>\n",
              "            </tr>\n",
              "            <tr>\n",
              "                        <th id=\"T_59637164_9b12_11eb_9281_0242ac1c0002level0_row18\" class=\"row_heading level0 row18\" >cuartoservicio</th>\n",
              "                        <td id=\"T_59637164_9b12_11eb_9281_0242ac1c0002row18_col0\" class=\"data row18 col0\" >0.000959</td>\n",
              "                        <td id=\"T_59637164_9b12_11eb_9281_0242ac1c0002row18_col1\" class=\"data row18 col1\" >-0.048378</td>\n",
              "                        <td id=\"T_59637164_9b12_11eb_9281_0242ac1c0002row18_col2\" class=\"data row18 col2\" >-0.059249</td>\n",
              "            </tr>\n",
              "            <tr>\n",
              "                        <th id=\"T_59637164_9b12_11eb_9281_0242ac1c0002level0_row19\" class=\"row_heading level0 row19\" >terraza</th>\n",
              "                        <td id=\"T_59637164_9b12_11eb_9281_0242ac1c0002row19_col0\" class=\"data row19 col0\" >0.000836</td>\n",
              "                        <td id=\"T_59637164_9b12_11eb_9281_0242ac1c0002row19_col1\" class=\"data row19 col1\" >-0.068752</td>\n",
              "                        <td id=\"T_59637164_9b12_11eb_9281_0242ac1c0002row19_col2\" class=\"data row19 col2\" >-0.084202</td>\n",
              "            </tr>\n",
              "            <tr>\n",
              "                        <th id=\"T_59637164_9b12_11eb_9281_0242ac1c0002level0_row20\" class=\"row_heading level0 row20\" >vigilancia</th>\n",
              "                        <td id=\"T_59637164_9b12_11eb_9281_0242ac1c0002row20_col0\" class=\"data row20 col0\" >-0.000698</td>\n",
              "                        <td id=\"T_59637164_9b12_11eb_9281_0242ac1c0002row20_col1\" class=\"data row20 col1\" >-0.050722</td>\n",
              "                        <td id=\"T_59637164_9b12_11eb_9281_0242ac1c0002row20_col2\" class=\"data row20 col2\" >-0.062119</td>\n",
              "            </tr>\n",
              "            <tr>\n",
              "                        <th id=\"T_59637164_9b12_11eb_9281_0242ac1c0002level0_row21\" class=\"row_heading level0 row21\" >porteria</th>\n",
              "                        <td id=\"T_59637164_9b12_11eb_9281_0242ac1c0002row21_col0\" class=\"data row21 col0\" >0.001509</td>\n",
              "                        <td id=\"T_59637164_9b12_11eb_9281_0242ac1c0002row21_col1\" class=\"data row21 col1\" >-0.077638</td>\n",
              "                        <td id=\"T_59637164_9b12_11eb_9281_0242ac1c0002row21_col2\" class=\"data row21 col2\" >-0.095084</td>\n",
              "            </tr>\n",
              "            <tr>\n",
              "                        <th id=\"T_59637164_9b12_11eb_9281_0242ac1c0002level0_row22\" class=\"row_heading level0 row22\" >conjuntocerrado</th>\n",
              "                        <td id=\"T_59637164_9b12_11eb_9281_0242ac1c0002row22_col0\" class=\"data row22 col0\" >0.001387</td>\n",
              "                        <td id=\"T_59637164_9b12_11eb_9281_0242ac1c0002row22_col1\" class=\"data row22 col1\" >-0.064036</td>\n",
              "                        <td id=\"T_59637164_9b12_11eb_9281_0242ac1c0002row22_col2\" class=\"data row22 col2\" >-0.078425</td>\n",
              "            </tr>\n",
              "            <tr>\n",
              "                        <th id=\"T_59637164_9b12_11eb_9281_0242ac1c0002level0_row23\" class=\"row_heading level0 row23\" >balcon</th>\n",
              "                        <td id=\"T_59637164_9b12_11eb_9281_0242ac1c0002row23_col0\" class=\"data row23 col0\" >0.000856</td>\n",
              "                        <td id=\"T_59637164_9b12_11eb_9281_0242ac1c0002row23_col1\" class=\"data row23 col1\" >-0.158988</td>\n",
              "                        <td id=\"T_59637164_9b12_11eb_9281_0242ac1c0002row23_col2\" class=\"data row23 col2\" >-0.194714</td>\n",
              "            </tr>\n",
              "            <tr>\n",
              "                        <th id=\"T_59637164_9b12_11eb_9281_0242ac1c0002level0_row24\" class=\"row_heading level0 row24\" >piscina</th>\n",
              "                        <td id=\"T_59637164_9b12_11eb_9281_0242ac1c0002row24_col0\" class=\"data row24 col0\" >0.000192</td>\n",
              "                        <td id=\"T_59637164_9b12_11eb_9281_0242ac1c0002row24_col1\" class=\"data row24 col1\" >-0.123690</td>\n",
              "                        <td id=\"T_59637164_9b12_11eb_9281_0242ac1c0002row24_col2\" class=\"data row24 col2\" >-0.151484</td>\n",
              "            </tr>\n",
              "            <tr>\n",
              "                        <th id=\"T_59637164_9b12_11eb_9281_0242ac1c0002level0_row25\" class=\"row_heading level0 row25\" >tiempodeconstruido_Más de 20 años</th>\n",
              "                        <td id=\"T_59637164_9b12_11eb_9281_0242ac1c0002row25_col0\" class=\"data row25 col0\" >0.000599</td>\n",
              "                        <td id=\"T_59637164_9b12_11eb_9281_0242ac1c0002row25_col1\" class=\"data row25 col1\" >0.069606</td>\n",
              "                        <td id=\"T_59637164_9b12_11eb_9281_0242ac1c0002row25_col2\" class=\"data row25 col2\" >0.085247</td>\n",
              "            </tr>\n",
              "            <tr>\n",
              "                        <th id=\"T_59637164_9b12_11eb_9281_0242ac1c0002level0_row26\" class=\"row_heading level0 row26\" >banos</th>\n",
              "                        <td id=\"T_59637164_9b12_11eb_9281_0242ac1c0002row26_col0\" class=\"data row26 col0\" >0.000703</td>\n",
              "                        <td id=\"T_59637164_9b12_11eb_9281_0242ac1c0002row26_col1\" class=\"data row26 col1\" >-0.046513</td>\n",
              "                        <td id=\"T_59637164_9b12_11eb_9281_0242ac1c0002row26_col2\" class=\"data row26 col2\" >-0.061487</td>\n",
              "            </tr>\n",
              "            <tr>\n",
              "                        <th id=\"T_59637164_9b12_11eb_9281_0242ac1c0002level0_row27\" class=\"row_heading level0 row27\" >piso</th>\n",
              "                        <td id=\"T_59637164_9b12_11eb_9281_0242ac1c0002row27_col0\" class=\"data row27 col0\" >0.001669</td>\n",
              "                        <td id=\"T_59637164_9b12_11eb_9281_0242ac1c0002row27_col1\" class=\"data row27 col1\" >-0.104607</td>\n",
              "                        <td id=\"T_59637164_9b12_11eb_9281_0242ac1c0002row27_col2\" class=\"data row27 col2\" >-0.146232</td>\n",
              "            </tr>\n",
              "            <tr>\n",
              "                        <th id=\"T_59637164_9b12_11eb_9281_0242ac1c0002level0_row28\" class=\"row_heading level0 row28\" >area</th>\n",
              "                        <td id=\"T_59637164_9b12_11eb_9281_0242ac1c0002row28_col0\" class=\"data row28 col0\" >0.000147</td>\n",
              "                        <td id=\"T_59637164_9b12_11eb_9281_0242ac1c0002row28_col1\" class=\"data row28 col1\" >0.021959</td>\n",
              "                        <td id=\"T_59637164_9b12_11eb_9281_0242ac1c0002row28_col2\" class=\"data row28 col2\" >0.031613</td>\n",
              "            </tr>\n",
              "            <tr>\n",
              "                        <th id=\"T_59637164_9b12_11eb_9281_0242ac1c0002level0_row29\" class=\"row_heading level0 row29\" >remodelado</th>\n",
              "                        <td id=\"T_59637164_9b12_11eb_9281_0242ac1c0002row29_col0\" class=\"data row29 col0\" >0.000793</td>\n",
              "                        <td id=\"T_59637164_9b12_11eb_9281_0242ac1c0002row29_col1\" class=\"data row29 col1\" >0.025884</td>\n",
              "                        <td id=\"T_59637164_9b12_11eb_9281_0242ac1c0002row29_col2\" class=\"data row29 col2\" >0.031701</td>\n",
              "            </tr>\n",
              "            <tr>\n",
              "                        <th id=\"T_59637164_9b12_11eb_9281_0242ac1c0002level0_row30\" class=\"row_heading level0 row30\" >latitud</th>\n",
              "                        <td id=\"T_59637164_9b12_11eb_9281_0242ac1c0002row30_col0\" class=\"data row30 col0\" >0.004068</td>\n",
              "                        <td id=\"T_59637164_9b12_11eb_9281_0242ac1c0002row30_col1\" class=\"data row30 col1\" >-0.029245</td>\n",
              "                        <td id=\"T_59637164_9b12_11eb_9281_0242ac1c0002row30_col2\" class=\"data row30 col2\" >-0.046042</td>\n",
              "            </tr>\n",
              "            <tr>\n",
              "                        <th id=\"T_59637164_9b12_11eb_9281_0242ac1c0002level0_row31\" class=\"row_heading level0 row31\" >gimnasio</th>\n",
              "                        <td id=\"T_59637164_9b12_11eb_9281_0242ac1c0002row31_col0\" class=\"data row31 col0\" >0.000783</td>\n",
              "                        <td id=\"T_59637164_9b12_11eb_9281_0242ac1c0002row31_col1\" class=\"data row31 col1\" >-0.198547</td>\n",
              "                        <td id=\"T_59637164_9b12_11eb_9281_0242ac1c0002row31_col2\" class=\"data row31 col2\" >-0.243163</td>\n",
              "            </tr>\n",
              "            <tr>\n",
              "                        <th id=\"T_59637164_9b12_11eb_9281_0242ac1c0002level0_row32\" class=\"row_heading level0 row32\" >V_REF</th>\n",
              "                        <td id=\"T_59637164_9b12_11eb_9281_0242ac1c0002row32_col0\" class=\"data row32 col0\" >0.001646</td>\n",
              "                        <td id=\"T_59637164_9b12_11eb_9281_0242ac1c0002row32_col1\" class=\"data row32 col1\" >0.238857</td>\n",
              "                        <td id=\"T_59637164_9b12_11eb_9281_0242ac1c0002row32_col2\" class=\"data row32 col2\" >0.342664</td>\n",
              "            </tr>\n",
              "            <tr>\n",
              "                        <th id=\"T_59637164_9b12_11eb_9281_0242ac1c0002level0_row33\" class=\"row_heading level0 row33\" >ascensor</th>\n",
              "                        <td id=\"T_59637164_9b12_11eb_9281_0242ac1c0002row33_col0\" class=\"data row33 col0\" >0.001455</td>\n",
              "                        <td id=\"T_59637164_9b12_11eb_9281_0242ac1c0002row33_col1\" class=\"data row33 col1\" >-0.171543</td>\n",
              "                        <td id=\"T_59637164_9b12_11eb_9281_0242ac1c0002row33_col2\" class=\"data row33 col2\" >-0.210090</td>\n",
              "            </tr>\n",
              "            <tr>\n",
              "                        <th id=\"T_59637164_9b12_11eb_9281_0242ac1c0002level0_row34\" class=\"row_heading level0 row34\" >tiempodeconstruido_Entre 5 y 10 años</th>\n",
              "                        <td id=\"T_59637164_9b12_11eb_9281_0242ac1c0002row34_col0\" class=\"data row34 col0\" >0.000468</td>\n",
              "                        <td id=\"T_59637164_9b12_11eb_9281_0242ac1c0002row34_col1\" class=\"data row34 col1\" >-0.084303</td>\n",
              "                        <td id=\"T_59637164_9b12_11eb_9281_0242ac1c0002row34_col2\" class=\"data row34 col2\" >-0.103247</td>\n",
              "            </tr>\n",
              "            <tr>\n",
              "                        <th id=\"T_59637164_9b12_11eb_9281_0242ac1c0002level0_row35\" class=\"row_heading level0 row35\" >garajes</th>\n",
              "                        <td id=\"T_59637164_9b12_11eb_9281_0242ac1c0002row35_col0\" class=\"data row35 col0\" >-0.000992</td>\n",
              "                        <td id=\"T_59637164_9b12_11eb_9281_0242ac1c0002row35_col1\" class=\"data row35 col1\" >-0.165702</td>\n",
              "                        <td id=\"T_59637164_9b12_11eb_9281_0242ac1c0002row35_col2\" class=\"data row35 col2\" >-0.213719</td>\n",
              "            </tr>\n",
              "            <tr>\n",
              "                        <th id=\"T_59637164_9b12_11eb_9281_0242ac1c0002level0_row36\" class=\"row_heading level0 row36\" >tiempodeconstruido_Remodelado</th>\n",
              "                        <td id=\"T_59637164_9b12_11eb_9281_0242ac1c0002row36_col0\" class=\"data row36 col0\" >0.000256</td>\n",
              "                        <td id=\"T_59637164_9b12_11eb_9281_0242ac1c0002row36_col1\" class=\"data row36 col1\" >-0.016328</td>\n",
              "                        <td id=\"T_59637164_9b12_11eb_9281_0242ac1c0002row36_col2\" class=\"data row36 col2\" >-0.019997</td>\n",
              "            </tr>\n",
              "            <tr>\n",
              "                        <th id=\"T_59637164_9b12_11eb_9281_0242ac1c0002level0_row37\" class=\"row_heading level0 row37\" >tiempodeconstruido_Entre 0 y 5 años</th>\n",
              "                        <td id=\"T_59637164_9b12_11eb_9281_0242ac1c0002row37_col0\" class=\"data row37 col0\" >0.000412</td>\n",
              "                        <td id=\"T_59637164_9b12_11eb_9281_0242ac1c0002row37_col1\" class=\"data row37 col1\" >-0.181453</td>\n",
              "                        <td id=\"T_59637164_9b12_11eb_9281_0242ac1c0002row37_col2\" class=\"data row37 col2\" >-0.222227</td>\n",
              "            </tr>\n",
              "            <tr>\n",
              "                        <th id=\"T_59637164_9b12_11eb_9281_0242ac1c0002level0_row38\" class=\"row_heading level0 row38\" >tiempodeconstruido_Entre 10 y 20 años</th>\n",
              "                        <td id=\"T_59637164_9b12_11eb_9281_0242ac1c0002row38_col0\" class=\"data row38 col0\" >0.001090</td>\n",
              "                        <td id=\"T_59637164_9b12_11eb_9281_0242ac1c0002row38_col1\" class=\"data row38 col1\" >0.024893</td>\n",
              "                        <td id=\"T_59637164_9b12_11eb_9281_0242ac1c0002row38_col2\" class=\"data row38 col2\" >0.030487</td>\n",
              "            </tr>\n",
              "            <tr>\n",
              "                        <th id=\"T_59637164_9b12_11eb_9281_0242ac1c0002level0_row39\" class=\"row_heading level0 row39\" >longitud</th>\n",
              "                        <td id=\"T_59637164_9b12_11eb_9281_0242ac1c0002row39_col0\" class=\"data row39 col0\" >0.004525</td>\n",
              "                        <td id=\"T_59637164_9b12_11eb_9281_0242ac1c0002row39_col1\" class=\"data row39 col1\" >-0.132634</td>\n",
              "                        <td id=\"T_59637164_9b12_11eb_9281_0242ac1c0002row39_col2\" class=\"data row39 col2\" >-0.201138</td>\n",
              "            </tr>\n",
              "            <tr>\n",
              "                        <th id=\"T_59637164_9b12_11eb_9281_0242ac1c0002level0_row40\" class=\"row_heading level0 row40\" >tipoinmueble_Apartamento</th>\n",
              "                        <td id=\"T_59637164_9b12_11eb_9281_0242ac1c0002row40_col0\" class=\"data row40 col0\" >0.003589</td>\n",
              "                        <td id=\"T_59637164_9b12_11eb_9281_0242ac1c0002row40_col1\" class=\"data row40 col1\" >-0.201705</td>\n",
              "                        <td id=\"T_59637164_9b12_11eb_9281_0242ac1c0002row40_col2\" class=\"data row40 col2\" >-0.247030</td>\n",
              "            </tr>\n",
              "            <tr>\n",
              "                        <th id=\"T_59637164_9b12_11eb_9281_0242ac1c0002level0_row41\" class=\"row_heading level0 row41\" >estrato</th>\n",
              "                        <td id=\"T_59637164_9b12_11eb_9281_0242ac1c0002row41_col0\" class=\"data row41 col0\" >0.001866</td>\n",
              "                        <td id=\"T_59637164_9b12_11eb_9281_0242ac1c0002row41_col1\" class=\"data row41 col1\" >-0.248602</td>\n",
              "                        <td id=\"T_59637164_9b12_11eb_9281_0242ac1c0002row41_col2\" class=\"data row41 col2\" >-0.328233</td>\n",
              "            </tr>\n",
              "    </tbody></table>"
            ],
            "text/plain": [
              "<pandas.io.formats.style.Styler at 0x7f06b8b4c510>"
            ]
          },
          "metadata": {
            "tags": []
          },
          "execution_count": 18
        }
      ]
    },
    {
      "cell_type": "code",
      "metadata": {
        "id": "-d40vzIXNX_g",
        "colab": {
          "base_uri": "https://localhost:8080/",
          "height": 334
        },
        "outputId": "65506457-1bd6-41e7-a4f1-f272e4039f02"
      },
      "source": [
        "consolF.describe()"
      ],
      "execution_count": 19,
      "outputs": [
        {
          "output_type": "execute_result",
          "data": {
            "text/html": [
              "<div>\n",
              "<style scoped>\n",
              "    .dataframe tbody tr th:only-of-type {\n",
              "        vertical-align: middle;\n",
              "    }\n",
              "\n",
              "    .dataframe tbody tr th {\n",
              "        vertical-align: top;\n",
              "    }\n",
              "\n",
              "    .dataframe thead th {\n",
              "        text-align: right;\n",
              "    }\n",
              "</style>\n",
              "<table border=\"1\" class=\"dataframe\">\n",
              "  <thead>\n",
              "    <tr style=\"text-align: right;\">\n",
              "      <th></th>\n",
              "      <th>id</th>\n",
              "      <th>area</th>\n",
              "      <th>ascensor</th>\n",
              "      <th>balcon</th>\n",
              "      <th>banos</th>\n",
              "      <th>banoservicio</th>\n",
              "      <th>conjuntocerrado</th>\n",
              "      <th>cuartoservicio</th>\n",
              "      <th>deposito</th>\n",
              "      <th>estrato</th>\n",
              "      <th>estudio</th>\n",
              "      <th>garajes</th>\n",
              "      <th>gimnasio</th>\n",
              "      <th>habitaciones</th>\n",
              "      <th>halldealcobas</th>\n",
              "      <th>parqueaderovisitantes</th>\n",
              "      <th>piscina</th>\n",
              "      <th>piso</th>\n",
              "      <th>porteria</th>\n",
              "      <th>remodelado</th>\n",
              "      <th>terraza</th>\n",
              "      <th>vigilancia</th>\n",
              "      <th>valoradministracion</th>\n",
              "      <th>valorventa</th>\n",
              "      <th>latitud</th>\n",
              "      <th>longitud</th>\n",
              "      <th>V_REF</th>\n",
              "      <th>y</th>\n",
              "      <th>vista_Exterior</th>\n",
              "      <th>vista_Interior</th>\n",
              "      <th>tiempodeconstruido_1 a 8 años</th>\n",
              "      <th>tiempodeconstruido_16 a 30 años</th>\n",
              "      <th>tiempodeconstruido_9 a 15 años</th>\n",
              "      <th>tiempodeconstruido_Entre 0 y 5 años</th>\n",
              "      <th>tiempodeconstruido_Entre 10 y 20 años</th>\n",
              "      <th>tiempodeconstruido_Entre 5 y 10 años</th>\n",
              "      <th>tiempodeconstruido_Menos de 1 año</th>\n",
              "      <th>tiempodeconstruido_Más de 20 años</th>\n",
              "      <th>tiempodeconstruido_Más de 30 años</th>\n",
              "      <th>tiempodeconstruido_Remodelado</th>\n",
              "      <th>tipoinmueble_Apartamento</th>\n",
              "      <th>tipoinmueble_Casa</th>\n",
              "    </tr>\n",
              "  </thead>\n",
              "  <tbody>\n",
              "    <tr>\n",
              "      <th>count</th>\n",
              "      <td>2.419710e+05</td>\n",
              "      <td>2.419710e+05</td>\n",
              "      <td>241971.000000</td>\n",
              "      <td>241971.000000</td>\n",
              "      <td>241971.000000</td>\n",
              "      <td>241971.000000</td>\n",
              "      <td>241971.000000</td>\n",
              "      <td>241971.000000</td>\n",
              "      <td>241971.000000</td>\n",
              "      <td>241971.000000</td>\n",
              "      <td>241971.000000</td>\n",
              "      <td>241971.000000</td>\n",
              "      <td>241971.000000</td>\n",
              "      <td>241971.000000</td>\n",
              "      <td>241971.000000</td>\n",
              "      <td>241971.000000</td>\n",
              "      <td>241971.000000</td>\n",
              "      <td>241971.00000</td>\n",
              "      <td>241971.000000</td>\n",
              "      <td>241971.000000</td>\n",
              "      <td>241971.000000</td>\n",
              "      <td>241971.000000</td>\n",
              "      <td>2.419710e+05</td>\n",
              "      <td>2.419710e+05</td>\n",
              "      <td>241971.000000</td>\n",
              "      <td>241971.000000</td>\n",
              "      <td>2.419710e+05</td>\n",
              "      <td>2.419710e+05</td>\n",
              "      <td>241971.000000</td>\n",
              "      <td>241971.000000</td>\n",
              "      <td>241971.000000</td>\n",
              "      <td>241971.000000</td>\n",
              "      <td>241971.000000</td>\n",
              "      <td>241971.000000</td>\n",
              "      <td>241971.000000</td>\n",
              "      <td>241971.000000</td>\n",
              "      <td>241971.000000</td>\n",
              "      <td>241971.000000</td>\n",
              "      <td>241971.000000</td>\n",
              "      <td>241971.000000</td>\n",
              "      <td>241971.000000</td>\n",
              "      <td>241971.000000</td>\n",
              "    </tr>\n",
              "    <tr>\n",
              "      <th>mean</th>\n",
              "      <td>6.020402e+05</td>\n",
              "      <td>1.030372e+06</td>\n",
              "      <td>0.358031</td>\n",
              "      <td>0.247608</td>\n",
              "      <td>2.739312</td>\n",
              "      <td>0.050374</td>\n",
              "      <td>0.319596</td>\n",
              "      <td>0.228618</td>\n",
              "      <td>0.530977</td>\n",
              "      <td>4.402875</td>\n",
              "      <td>0.473953</td>\n",
              "      <td>1.705192</td>\n",
              "      <td>0.219733</td>\n",
              "      <td>3.068917</td>\n",
              "      <td>0.841018</td>\n",
              "      <td>0.999996</td>\n",
              "      <td>0.072319</td>\n",
              "      <td>4.28348</td>\n",
              "      <td>0.358299</td>\n",
              "      <td>0.094925</td>\n",
              "      <td>0.175414</td>\n",
              "      <td>0.942241</td>\n",
              "      <td>1.197968e+08</td>\n",
              "      <td>2.891838e+09</td>\n",
              "      <td>4.686867</td>\n",
              "      <td>-74.072267</td>\n",
              "      <td>3.805010e+06</td>\n",
              "      <td>-1.410853e+07</td>\n",
              "      <td>0.842613</td>\n",
              "      <td>0.157387</td>\n",
              "      <td>0.131074</td>\n",
              "      <td>0.161990</td>\n",
              "      <td>0.151770</td>\n",
              "      <td>0.091193</td>\n",
              "      <td>0.197792</td>\n",
              "      <td>0.108244</td>\n",
              "      <td>0.018535</td>\n",
              "      <td>0.079551</td>\n",
              "      <td>0.051626</td>\n",
              "      <td>0.008224</td>\n",
              "      <td>0.762794</td>\n",
              "      <td>0.237206</td>\n",
              "    </tr>\n",
              "    <tr>\n",
              "      <th>std</th>\n",
              "      <td>4.054988e+05</td>\n",
              "      <td>2.860020e+07</td>\n",
              "      <td>0.479422</td>\n",
              "      <td>0.431624</td>\n",
              "      <td>1.620511</td>\n",
              "      <td>0.218716</td>\n",
              "      <td>0.466321</td>\n",
              "      <td>0.419944</td>\n",
              "      <td>0.499041</td>\n",
              "      <td>1.318339</td>\n",
              "      <td>0.499322</td>\n",
              "      <td>0.981700</td>\n",
              "      <td>0.414067</td>\n",
              "      <td>1.531446</td>\n",
              "      <td>0.365660</td>\n",
              "      <td>0.002033</td>\n",
              "      <td>0.259015</td>\n",
              "      <td>2.62726</td>\n",
              "      <td>0.479502</td>\n",
              "      <td>0.293111</td>\n",
              "      <td>0.380321</td>\n",
              "      <td>0.233288</td>\n",
              "      <td>3.145019e+08</td>\n",
              "      <td>7.124356e+11</td>\n",
              "      <td>0.048954</td>\n",
              "      <td>0.038226</td>\n",
              "      <td>1.825984e+06</td>\n",
              "      <td>4.395309e+09</td>\n",
              "      <td>0.364166</td>\n",
              "      <td>0.364166</td>\n",
              "      <td>0.337481</td>\n",
              "      <td>0.368443</td>\n",
              "      <td>0.358799</td>\n",
              "      <td>0.287884</td>\n",
              "      <td>0.398335</td>\n",
              "      <td>0.310689</td>\n",
              "      <td>0.134877</td>\n",
              "      <td>0.270597</td>\n",
              "      <td>0.221271</td>\n",
              "      <td>0.090313</td>\n",
              "      <td>0.425371</td>\n",
              "      <td>0.425371</td>\n",
              "    </tr>\n",
              "    <tr>\n",
              "      <th>min</th>\n",
              "      <td>6.000000e+00</td>\n",
              "      <td>3.500000e+01</td>\n",
              "      <td>0.000000</td>\n",
              "      <td>0.000000</td>\n",
              "      <td>1.000000</td>\n",
              "      <td>0.000000</td>\n",
              "      <td>0.000000</td>\n",
              "      <td>0.000000</td>\n",
              "      <td>0.000000</td>\n",
              "      <td>0.000000</td>\n",
              "      <td>0.000000</td>\n",
              "      <td>0.000000</td>\n",
              "      <td>0.000000</td>\n",
              "      <td>0.000000</td>\n",
              "      <td>0.000000</td>\n",
              "      <td>0.000000</td>\n",
              "      <td>0.000000</td>\n",
              "      <td>1.00000</td>\n",
              "      <td>0.000000</td>\n",
              "      <td>0.000000</td>\n",
              "      <td>0.000000</td>\n",
              "      <td>0.000000</td>\n",
              "      <td>1.000000e+04</td>\n",
              "      <td>5.300000e+07</td>\n",
              "      <td>3.890660</td>\n",
              "      <td>-74.362167</td>\n",
              "      <td>0.000000e+00</td>\n",
              "      <td>-2.160491e+12</td>\n",
              "      <td>0.000000</td>\n",
              "      <td>0.000000</td>\n",
              "      <td>0.000000</td>\n",
              "      <td>0.000000</td>\n",
              "      <td>0.000000</td>\n",
              "      <td>0.000000</td>\n",
              "      <td>0.000000</td>\n",
              "      <td>0.000000</td>\n",
              "      <td>0.000000</td>\n",
              "      <td>0.000000</td>\n",
              "      <td>0.000000</td>\n",
              "      <td>0.000000</td>\n",
              "      <td>0.000000</td>\n",
              "      <td>0.000000</td>\n",
              "    </tr>\n",
              "    <tr>\n",
              "      <th>25%</th>\n",
              "      <td>2.831865e+05</td>\n",
              "      <td>7.000000e+01</td>\n",
              "      <td>0.000000</td>\n",
              "      <td>0.000000</td>\n",
              "      <td>2.000000</td>\n",
              "      <td>0.000000</td>\n",
              "      <td>0.000000</td>\n",
              "      <td>0.000000</td>\n",
              "      <td>0.000000</td>\n",
              "      <td>3.000000</td>\n",
              "      <td>0.000000</td>\n",
              "      <td>1.000000</td>\n",
              "      <td>0.000000</td>\n",
              "      <td>2.000000</td>\n",
              "      <td>1.000000</td>\n",
              "      <td>1.000000</td>\n",
              "      <td>0.000000</td>\n",
              "      <td>3.00000</td>\n",
              "      <td>0.000000</td>\n",
              "      <td>0.000000</td>\n",
              "      <td>0.000000</td>\n",
              "      <td>1.000000</td>\n",
              "      <td>3.000000e+05</td>\n",
              "      <td>3.100000e+08</td>\n",
              "      <td>4.658168</td>\n",
              "      <td>-74.090164</td>\n",
              "      <td>2.500000e+06</td>\n",
              "      <td>-2.487805e+06</td>\n",
              "      <td>1.000000</td>\n",
              "      <td>0.000000</td>\n",
              "      <td>0.000000</td>\n",
              "      <td>0.000000</td>\n",
              "      <td>0.000000</td>\n",
              "      <td>0.000000</td>\n",
              "      <td>0.000000</td>\n",
              "      <td>0.000000</td>\n",
              "      <td>0.000000</td>\n",
              "      <td>0.000000</td>\n",
              "      <td>0.000000</td>\n",
              "      <td>0.000000</td>\n",
              "      <td>1.000000</td>\n",
              "      <td>0.000000</td>\n",
              "    </tr>\n",
              "    <tr>\n",
              "      <th>50%</th>\n",
              "      <td>5.303300e+05</td>\n",
              "      <td>1.060000e+02</td>\n",
              "      <td>0.000000</td>\n",
              "      <td>0.000000</td>\n",
              "      <td>2.000000</td>\n",
              "      <td>0.000000</td>\n",
              "      <td>0.000000</td>\n",
              "      <td>0.000000</td>\n",
              "      <td>1.000000</td>\n",
              "      <td>4.000000</td>\n",
              "      <td>0.000000</td>\n",
              "      <td>2.000000</td>\n",
              "      <td>0.000000</td>\n",
              "      <td>3.000000</td>\n",
              "      <td>1.000000</td>\n",
              "      <td>1.000000</td>\n",
              "      <td>0.000000</td>\n",
              "      <td>4.00000</td>\n",
              "      <td>0.000000</td>\n",
              "      <td>0.000000</td>\n",
              "      <td>0.000000</td>\n",
              "      <td>1.000000</td>\n",
              "      <td>7.000000e+05</td>\n",
              "      <td>5.100000e+08</td>\n",
              "      <td>4.695078</td>\n",
              "      <td>-74.058862</td>\n",
              "      <td>3.500000e+06</td>\n",
              "      <td>-1.300000e+06</td>\n",
              "      <td>1.000000</td>\n",
              "      <td>0.000000</td>\n",
              "      <td>0.000000</td>\n",
              "      <td>0.000000</td>\n",
              "      <td>0.000000</td>\n",
              "      <td>0.000000</td>\n",
              "      <td>0.000000</td>\n",
              "      <td>0.000000</td>\n",
              "      <td>0.000000</td>\n",
              "      <td>0.000000</td>\n",
              "      <td>0.000000</td>\n",
              "      <td>0.000000</td>\n",
              "      <td>1.000000</td>\n",
              "      <td>0.000000</td>\n",
              "    </tr>\n",
              "    <tr>\n",
              "      <th>75%</th>\n",
              "      <td>9.058235e+05</td>\n",
              "      <td>1.860000e+02</td>\n",
              "      <td>1.000000</td>\n",
              "      <td>0.000000</td>\n",
              "      <td>4.000000</td>\n",
              "      <td>0.000000</td>\n",
              "      <td>1.000000</td>\n",
              "      <td>0.000000</td>\n",
              "      <td>1.000000</td>\n",
              "      <td>6.000000</td>\n",
              "      <td>1.000000</td>\n",
              "      <td>2.000000</td>\n",
              "      <td>0.000000</td>\n",
              "      <td>3.000000</td>\n",
              "      <td>1.000000</td>\n",
              "      <td>1.000000</td>\n",
              "      <td>0.000000</td>\n",
              "      <td>5.00000</td>\n",
              "      <td>1.000000</td>\n",
              "      <td>0.000000</td>\n",
              "      <td>0.000000</td>\n",
              "      <td>1.000000</td>\n",
              "      <td>5.520750e+07</td>\n",
              "      <td>9.000000e+08</td>\n",
              "      <td>4.720226</td>\n",
              "      <td>-74.045438</td>\n",
              "      <td>4.900000e+06</td>\n",
              "      <td>-1.352941e+05</td>\n",
              "      <td>1.000000</td>\n",
              "      <td>0.000000</td>\n",
              "      <td>0.000000</td>\n",
              "      <td>0.000000</td>\n",
              "      <td>0.000000</td>\n",
              "      <td>0.000000</td>\n",
              "      <td>0.000000</td>\n",
              "      <td>0.000000</td>\n",
              "      <td>0.000000</td>\n",
              "      <td>0.000000</td>\n",
              "      <td>0.000000</td>\n",
              "      <td>0.000000</td>\n",
              "      <td>1.000000</td>\n",
              "      <td>0.000000</td>\n",
              "    </tr>\n",
              "    <tr>\n",
              "      <th>max</th>\n",
              "      <td>6.262945e+06</td>\n",
              "      <td>3.003515e+09</td>\n",
              "      <td>1.000000</td>\n",
              "      <td>1.000000</td>\n",
              "      <td>253.000000</td>\n",
              "      <td>1.000000</td>\n",
              "      <td>1.000000</td>\n",
              "      <td>1.000000</td>\n",
              "      <td>1.000000</td>\n",
              "      <td>7.000000</td>\n",
              "      <td>1.000000</td>\n",
              "      <td>10.000000</td>\n",
              "      <td>1.000000</td>\n",
              "      <td>253.000000</td>\n",
              "      <td>1.000000</td>\n",
              "      <td>1.000000</td>\n",
              "      <td>1.000000</td>\n",
              "      <td>30.00000</td>\n",
              "      <td>1.000000</td>\n",
              "      <td>1.000000</td>\n",
              "      <td>1.000000</td>\n",
              "      <td>1.000000</td>\n",
              "      <td>1.800000e+10</td>\n",
              "      <td>3.500000e+14</td>\n",
              "      <td>4.834706</td>\n",
              "      <td>-73.990173</td>\n",
              "      <td>1.590000e+07</td>\n",
              "      <td>1.357537e+07</td>\n",
              "      <td>1.000000</td>\n",
              "      <td>1.000000</td>\n",
              "      <td>1.000000</td>\n",
              "      <td>1.000000</td>\n",
              "      <td>1.000000</td>\n",
              "      <td>1.000000</td>\n",
              "      <td>1.000000</td>\n",
              "      <td>1.000000</td>\n",
              "      <td>1.000000</td>\n",
              "      <td>1.000000</td>\n",
              "      <td>1.000000</td>\n",
              "      <td>1.000000</td>\n",
              "      <td>1.000000</td>\n",
              "      <td>1.000000</td>\n",
              "    </tr>\n",
              "  </tbody>\n",
              "</table>\n",
              "</div>"
            ],
            "text/plain": [
              "                 id          area  ...  tipoinmueble_Apartamento  tipoinmueble_Casa\n",
              "count  2.419710e+05  2.419710e+05  ...             241971.000000      241971.000000\n",
              "mean   6.020402e+05  1.030372e+06  ...                  0.762794           0.237206\n",
              "std    4.054988e+05  2.860020e+07  ...                  0.425371           0.425371\n",
              "min    6.000000e+00  3.500000e+01  ...                  0.000000           0.000000\n",
              "25%    2.831865e+05  7.000000e+01  ...                  1.000000           0.000000\n",
              "50%    5.303300e+05  1.060000e+02  ...                  1.000000           0.000000\n",
              "75%    9.058235e+05  1.860000e+02  ...                  1.000000           0.000000\n",
              "max    6.262945e+06  3.003515e+09  ...                  1.000000           1.000000\n",
              "\n",
              "[8 rows x 42 columns]"
            ]
          },
          "metadata": {
            "tags": []
          },
          "execution_count": 19
        }
      ]
    },
    {
      "cell_type": "markdown",
      "metadata": {
        "id": "Sf3YxI6EKNQU"
      },
      "source": [
        "# Modelamiento"
      ]
    },
    {
      "cell_type": "markdown",
      "metadata": {
        "id": "nQSMNDgMIZqa"
      },
      "source": [
        "Tomamos los datos consolidados y se dividen en dos grupos: Variable respuesta (Y) y variables explicativas (X), los cuales son escaladas mediante el método MinMax. \n",
        "$$ X_{MinMax} =  \\frac{X-X_{min}}{X_{max}-X_{min}}$$\n",
        "\n",
        "Esto es necesario debido a la escala de los datos, al dejarlos todos en una misma magnitud permite que el modelo no se vea afectado.\n",
        "\n",
        "Existen otras normalizaciones pre-programadas en sklearn como:\n",
        "+ StandardScaler: donde se elimina por la media y se divide entre la desviación estándar.\n",
        "+ RobustScaler: donde se elimina la mediana y se divide entre el rango intercuartilico (cuantil 25 y 75)\n",
        "+ QuantileTransform: convierte los datos a través de la función de distirbución acumulada en inversa, lo que se obtendrá serán valores entre 0 y 1, esto se hace a traves del cálculo empirico de la densidad de los datos.\n",
        "+ PowerTransformer: utiliza la transformación Box-Cox para \"normalizar\" los datos.\n",
        "+ normalize: divide los datos sobre su norma vectorial, para obtener vectores unitarios."
      ]
    },
    {
      "cell_type": "code",
      "metadata": {
        "id": "G2Zi5pE8tqhI",
        "colab": {
          "base_uri": "https://localhost:8080/"
        },
        "outputId": "3c587a51-8a0b-485d-9069-15de6787d227"
      },
      "source": [
        "from sklearn import preprocessing\n",
        "min_max_scaler = preprocessing.MinMaxScaler()\n",
        "X_train = consolF[['area','ascensor','balcon','banos', 'banoservicio', 'conjuntocerrado',  'cuartoservicio', 'deposito','estrato', 'estudio', 'garajes' , 'gimnasio' ,'habitaciones', 'halldealcobas' ,'parqueaderovisitantes' , 'piscina' ,'piso','porteria', 'remodelado' ,\n",
        "                   'terraza', 'vigilancia' ,'valoradministracion', 'vista_Exterior' , 'vista_Interior', 'tiempodeconstruido_1 a 8 años' , 'tiempodeconstruido_16 a 30 años' , 'tiempodeconstruido_9 a 15 años' , 'tiempodeconstruido_Entre 0 y 5 años' , 'tiempodeconstruido_Entre 10 y 20 años' , 'tiempodeconstruido_Entre 5 y 10 años' , 'tiempodeconstruido_Menos de 1 año' , 'tiempodeconstruido_Más de 20 años' ,'tiempodeconstruido_Más de 30 años', 'tiempodeconstruido_Remodelado' , 'tipoinmueble_Apartamento','tipoinmueble_Casa']]\n",
        "X_train = min_max_scaler.fit_transform(X_train)\n",
        "X_train.shape\n"
      ],
      "execution_count": 20,
      "outputs": [
        {
          "output_type": "execute_result",
          "data": {
            "text/plain": [
              "(241971, 36)"
            ]
          },
          "metadata": {
            "tags": []
          },
          "execution_count": 20
        }
      ]
    },
    {
      "cell_type": "code",
      "metadata": {
        "id": "edTZMfAatqjt",
        "colab": {
          "base_uri": "https://localhost:8080/"
        },
        "outputId": "a9b58f78-4c72-403f-becf-24a4f4fa177b"
      },
      "source": [
        "y = consolF[['y']]\n",
        "y  = min_max_scaler.fit_transform( y )\n",
        "y"
      ],
      "execution_count": 21,
      "outputs": [
        {
          "output_type": "execute_result",
          "data": {
            "text/plain": [
              "array([[0.99999391],\n",
              "       [0.99999282],\n",
              "       [0.99999354],\n",
              "       ...,\n",
              "       [0.99999402],\n",
              "       [0.99999432],\n",
              "       [0.99999472]])"
            ]
          },
          "metadata": {
            "tags": []
          },
          "execution_count": 21
        }
      ]
    },
    {
      "cell_type": "markdown",
      "metadata": {
        "id": "9Wyk7Xt0trNK"
      },
      "source": [
        "\n",
        "\n",
        "# Deep Neural Network\n",
        "\n"
      ]
    },
    {
      "cell_type": "markdown",
      "metadata": {
        "id": "HHWmi2AcI-BG"
      },
      "source": [
        "Se construye un modelo de redes neuronales profundas que permite una mayor complejidad en los datos, para ello se realiza una aleatorización de los datos para poder separarlos en los correspondientes conjuntos de train y test, a pesar de ser dados por el reto pues matemáticamente es importante garantizarlo para un mejor desempeño del modelo."
      ]
    },
    {
      "cell_type": "code",
      "metadata": {
        "id": "qhP7H2FftqmL"
      },
      "source": [
        "seed = 611\n",
        "np.random.seed(seed)\n",
        "# dividir 70% en train y 30% en test\n",
        "X_train, X_test, Y_train, Y_test = train_test_split(X_train, y, test_size=0.30, random_state=seed)"
      ],
      "execution_count": 22,
      "outputs": []
    },
    {
      "cell_type": "code",
      "metadata": {
        "id": "-kmxtVP1tqoh",
        "colab": {
          "base_uri": "https://localhost:8080/"
        },
        "outputId": "dd057038-4574-41d5-94a7-fcbe07b5f384"
      },
      "source": [
        "print('Train shape:', X_train.shape )\n",
        "print('Test shape:', X_test.shape )\n",
        "print('Actual train output:', Y_train.shape )\n",
        "print('Actual test outpute:', Y_test.shape )"
      ],
      "execution_count": 23,
      "outputs": [
        {
          "output_type": "stream",
          "text": [
            "Train shape: (169379, 36)\n",
            "Test shape: (72592, 36)\n",
            "Actual train output: (169379, 1)\n",
            "Actual test outpute: (72592, 1)\n"
          ],
          "name": "stdout"
        }
      ]
    },
    {
      "cell_type": "markdown",
      "metadata": {
        "id": "ZoJ6bxlL89TQ"
      },
      "source": [
        "Así se crea la red con 4 capas cada una con función de activación relu $f(x) = max(0,x)$ y función de perdida el error cuadrático medio.\n"
      ]
    },
    {
      "cell_type": "code",
      "metadata": {
        "id": "dl9WSXtturhK"
      },
      "source": [
        "def create_model():\n",
        "    # crear modelo\n",
        "    model = Sequential()\n",
        "    model.add(Dense(128, input_dim=X_train.shape[1], activation='relu'))\n",
        "    model.add(Dense(64, activation='relu'))\n",
        "    model.add(Dense(32, activation='relu'))\n",
        "    model.add(Dense(1))\n",
        "    # compilar modelo\n",
        "    model.compile(optimizer ='adam', loss = 'mean_squared_error', \n",
        "              metrics =[metrics.mae])\n",
        "    return model"
      ],
      "execution_count": 24,
      "outputs": []
    },
    {
      "cell_type": "code",
      "metadata": {
        "colab": {
          "base_uri": "https://localhost:8080/"
        },
        "id": "6aFeNIwJurke",
        "outputId": "4d170ae0-bf59-4ec0-8383-92e2c28c8bcd"
      },
      "source": [
        "model = create_model()\n",
        "model.summary()"
      ],
      "execution_count": 25,
      "outputs": [
        {
          "output_type": "stream",
          "text": [
            "Model: \"sequential\"\n",
            "_________________________________________________________________\n",
            "Layer (type)                 Output Shape              Param #   \n",
            "=================================================================\n",
            "dense (Dense)                (None, 128)               4736      \n",
            "_________________________________________________________________\n",
            "dense_1 (Dense)              (None, 64)                8256      \n",
            "_________________________________________________________________\n",
            "dense_2 (Dense)              (None, 32)                2080      \n",
            "_________________________________________________________________\n",
            "dense_3 (Dense)              (None, 1)                 33        \n",
            "=================================================================\n",
            "Total params: 15,105\n",
            "Trainable params: 15,105\n",
            "Non-trainable params: 0\n",
            "_________________________________________________________________\n"
          ],
          "name": "stdout"
        }
      ]
    },
    {
      "cell_type": "code",
      "metadata": {
        "colab": {
          "base_uri": "https://localhost:8080/"
        },
        "id": "721MuKKxuroG",
        "outputId": "3bd81e78-3b17-44e6-c8b3-b20d66abeea1"
      },
      "source": [
        "import timeit\n",
        "\n",
        "def entrenamiento_gpu():\n",
        "  with tf.device('/device:GPU:0'):\n",
        "    model.fit(X_train, Y_train, validation_data=(X_test,Y_test), epochs=100, batch_size=128)\n",
        "  \n",
        "  return None\n",
        "\n",
        "gpu_time = timeit.timeit('entrenamiento_gpu()', number=1, setup='from __main__ import entrenamiento_gpu')"
      ],
      "execution_count": 26,
      "outputs": [
        {
          "output_type": "stream",
          "text": [
            "Epoch 1/100\n",
            "1324/1324 [==============================] - 7s 3ms/step - loss: 0.0209 - mean_absolute_error: 0.0543 - val_loss: 8.2494e-05 - val_mean_absolute_error: 0.0066\n",
            "Epoch 2/100\n",
            "1324/1324 [==============================] - 4s 3ms/step - loss: 7.6388e-05 - mean_absolute_error: 0.0059 - val_loss: 3.2369e-05 - val_mean_absolute_error: 0.0040\n",
            "Epoch 3/100\n",
            "1324/1324 [==============================] - 4s 3ms/step - loss: 4.1212e-05 - mean_absolute_error: 0.0040 - val_loss: 4.1902e-05 - val_mean_absolute_error: 0.0055\n",
            "Epoch 4/100\n",
            "1324/1324 [==============================] - 4s 3ms/step - loss: 5.9055e-05 - mean_absolute_error: 0.0034 - val_loss: 1.3898e-05 - val_mean_absolute_error: 0.0029\n",
            "Epoch 5/100\n",
            "1324/1324 [==============================] - 4s 3ms/step - loss: 3.0496e-05 - mean_absolute_error: 0.0029 - val_loss: 2.7114e-05 - val_mean_absolute_error: 0.0048\n",
            "Epoch 6/100\n",
            "1324/1324 [==============================] - 4s 3ms/step - loss: 2.1424e-05 - mean_absolute_error: 0.0027 - val_loss: 1.3418e-05 - val_mean_absolute_error: 0.0033\n",
            "Epoch 7/100\n",
            "1324/1324 [==============================] - 4s 3ms/step - loss: 1.0122e-05 - mean_absolute_error: 0.0024 - val_loss: 7.3856e-04 - val_mean_absolute_error: 0.0264\n",
            "Epoch 8/100\n",
            "1324/1324 [==============================] - 4s 3ms/step - loss: 4.5778e-05 - mean_absolute_error: 0.0030 - val_loss: 1.7989e-06 - val_mean_absolute_error: 0.0010\n",
            "Epoch 9/100\n",
            "1324/1324 [==============================] - 4s 3ms/step - loss: 1.6518e-05 - mean_absolute_error: 0.0014 - val_loss: 1.8558e-06 - val_mean_absolute_error: 0.0011\n",
            "Epoch 10/100\n",
            "1324/1324 [==============================] - 4s 3ms/step - loss: 1.5924e-05 - mean_absolute_error: 0.0018 - val_loss: 6.1429e-07 - val_mean_absolute_error: 5.4202e-04\n",
            "Epoch 11/100\n",
            "1324/1324 [==============================] - 4s 3ms/step - loss: 2.3432e-05 - mean_absolute_error: 0.0012 - val_loss: 6.1604e-07 - val_mean_absolute_error: 5.8553e-04\n",
            "Epoch 12/100\n",
            "1324/1324 [==============================] - 4s 3ms/step - loss: 1.2284e-05 - mean_absolute_error: 0.0018 - val_loss: 4.4189e-07 - val_mean_absolute_error: 4.8692e-04\n",
            "Epoch 13/100\n",
            "1324/1324 [==============================] - 4s 3ms/step - loss: 8.2092e-06 - mean_absolute_error: 6.9062e-04 - val_loss: 2.4791e-07 - val_mean_absolute_error: 3.4984e-04\n",
            "Epoch 14/100\n",
            "1324/1324 [==============================] - 4s 3ms/step - loss: 2.9854e-05 - mean_absolute_error: 0.0011 - val_loss: 6.5365e-07 - val_mean_absolute_error: 6.6965e-04\n",
            "Epoch 15/100\n",
            "1324/1324 [==============================] - 4s 3ms/step - loss: 1.5901e-05 - mean_absolute_error: 0.0014 - val_loss: 8.8828e-08 - val_mean_absolute_error: 1.7035e-04\n",
            "Epoch 16/100\n",
            "1324/1324 [==============================] - 3s 3ms/step - loss: 1.4916e-05 - mean_absolute_error: 6.5033e-04 - val_loss: 2.6893e-07 - val_mean_absolute_error: 4.6702e-04\n",
            "Epoch 17/100\n",
            "1324/1324 [==============================] - 4s 3ms/step - loss: 8.4593e-06 - mean_absolute_error: 0.0013 - val_loss: 9.8306e-08 - val_mean_absolute_error: 2.4180e-04\n",
            "Epoch 18/100\n",
            "1324/1324 [==============================] - 4s 3ms/step - loss: 2.0599e-06 - mean_absolute_error: 3.4145e-04 - val_loss: 1.0472e-07 - val_mean_absolute_error: 2.1895e-04\n",
            "Epoch 19/100\n",
            "1324/1324 [==============================] - 4s 3ms/step - loss: 4.1272e-06 - mean_absolute_error: 2.8885e-04 - val_loss: 2.3865e-07 - val_mean_absolute_error: 4.6006e-04\n",
            "Epoch 20/100\n",
            "1324/1324 [==============================] - 4s 3ms/step - loss: 2.4310e-05 - mean_absolute_error: 8.6486e-04 - val_loss: 1.4334e-06 - val_mean_absolute_error: 0.0010\n",
            "Epoch 21/100\n",
            "1324/1324 [==============================] - 3s 3ms/step - loss: 2.7113e-06 - mean_absolute_error: 0.0011 - val_loss: 3.0181e-05 - val_mean_absolute_error: 0.0045\n",
            "Epoch 22/100\n",
            "1324/1324 [==============================] - 4s 3ms/step - loss: 1.4829e-05 - mean_absolute_error: 8.9162e-04 - val_loss: 3.3459e-08 - val_mean_absolute_error: 1.0960e-04\n",
            "Epoch 23/100\n",
            "1324/1324 [==============================] - 4s 3ms/step - loss: 4.3365e-06 - mean_absolute_error: 8.5100e-04 - val_loss: 6.7755e-08 - val_mean_absolute_error: 2.1381e-04\n",
            "Epoch 24/100\n",
            "1324/1324 [==============================] - 4s 3ms/step - loss: 4.0499e-06 - mean_absolute_error: 2.4260e-04 - val_loss: 3.7798e-08 - val_mean_absolute_error: 1.3235e-04\n",
            "Epoch 25/100\n",
            "1324/1324 [==============================] - 4s 3ms/step - loss: 3.0210e-06 - mean_absolute_error: 2.4622e-04 - val_loss: 4.2705e-08 - val_mean_absolute_error: 1.3153e-04\n",
            "Epoch 26/100\n",
            "1324/1324 [==============================] - 4s 3ms/step - loss: 6.8491e-07 - mean_absolute_error: 1.5386e-04 - val_loss: 4.4467e-07 - val_mean_absolute_error: 5.2454e-04\n",
            "Epoch 27/100\n",
            "1324/1324 [==============================] - 4s 3ms/step - loss: 1.8611e-05 - mean_absolute_error: 5.0965e-04 - val_loss: 5.8855e-08 - val_mean_absolute_error: 2.0758e-04\n",
            "Epoch 28/100\n",
            "1324/1324 [==============================] - 4s 3ms/step - loss: 2.0624e-05 - mean_absolute_error: 6.2170e-04 - val_loss: 1.6679e-06 - val_mean_absolute_error: 0.0012\n",
            "Epoch 29/100\n",
            "1324/1324 [==============================] - 4s 3ms/step - loss: 1.8193e-05 - mean_absolute_error: 9.9337e-04 - val_loss: 3.7930e-08 - val_mean_absolute_error: 1.5344e-04\n",
            "Epoch 30/100\n",
            "1324/1324 [==============================] - 4s 3ms/step - loss: 1.1416e-05 - mean_absolute_error: 5.9913e-04 - val_loss: 2.9012e-08 - val_mean_absolute_error: 1.1629e-04\n",
            "Epoch 31/100\n",
            "1324/1324 [==============================] - 4s 3ms/step - loss: 2.5625e-06 - mean_absolute_error: 3.3661e-04 - val_loss: 5.0007e-08 - val_mean_absolute_error: 1.6690e-04\n",
            "Epoch 32/100\n",
            "1324/1324 [==============================] - 4s 3ms/step - loss: 5.5360e-06 - mean_absolute_error: 2.4400e-04 - val_loss: 2.2100e-08 - val_mean_absolute_error: 9.8819e-05\n",
            "Epoch 33/100\n",
            "1324/1324 [==============================] - 4s 3ms/step - loss: 1.4106e-05 - mean_absolute_error: 5.1728e-04 - val_loss: 3.1478e-08 - val_mean_absolute_error: 1.2844e-04\n",
            "Epoch 34/100\n",
            "1324/1324 [==============================] - 4s 3ms/step - loss: 7.0261e-06 - mean_absolute_error: 5.6735e-04 - val_loss: 2.1331e-08 - val_mean_absolute_error: 6.9979e-05\n",
            "Epoch 35/100\n",
            "1324/1324 [==============================] - 4s 3ms/step - loss: 4.5528e-06 - mean_absolute_error: 2.1547e-04 - val_loss: 2.2969e-08 - val_mean_absolute_error: 9.9582e-05\n",
            "Epoch 36/100\n",
            "1324/1324 [==============================] - 4s 3ms/step - loss: 1.2812e-06 - mean_absolute_error: 1.3993e-04 - val_loss: 4.8244e-08 - val_mean_absolute_error: 1.4188e-04\n",
            "Epoch 37/100\n",
            "1324/1324 [==============================] - 4s 3ms/step - loss: 5.7467e-06 - mean_absolute_error: 2.3928e-04 - val_loss: 1.2784e-08 - val_mean_absolute_error: 4.0022e-05\n",
            "Epoch 38/100\n",
            "1324/1324 [==============================] - 4s 3ms/step - loss: 4.6190e-06 - mean_absolute_error: 2.7670e-04 - val_loss: 2.5200e-08 - val_mean_absolute_error: 1.0742e-04\n",
            "Epoch 39/100\n",
            "1324/1324 [==============================] - 4s 3ms/step - loss: 5.4898e-06 - mean_absolute_error: 2.2520e-04 - val_loss: 1.5014e-08 - val_mean_absolute_error: 6.0229e-05\n",
            "Epoch 40/100\n",
            "1324/1324 [==============================] - 4s 3ms/step - loss: 6.2363e-06 - mean_absolute_error: 2.3558e-04 - val_loss: 2.8653e-08 - val_mean_absolute_error: 1.0563e-04\n",
            "Epoch 41/100\n",
            "1324/1324 [==============================] - 4s 3ms/step - loss: 7.0420e-06 - mean_absolute_error: 2.9219e-04 - val_loss: 1.3600e-08 - val_mean_absolute_error: 3.8914e-05\n",
            "Epoch 42/100\n",
            "1324/1324 [==============================] - 4s 3ms/step - loss: 1.0611e-05 - mean_absolute_error: 3.4989e-04 - val_loss: 1.2529e-08 - val_mean_absolute_error: 4.5378e-05\n",
            "Epoch 43/100\n",
            "1324/1324 [==============================] - 4s 3ms/step - loss: 6.4035e-06 - mean_absolute_error: 4.2561e-04 - val_loss: 1.5095e-08 - val_mean_absolute_error: 5.6598e-05\n",
            "Epoch 44/100\n",
            "1324/1324 [==============================] - 4s 3ms/step - loss: 2.8192e-06 - mean_absolute_error: 2.0853e-04 - val_loss: 2.8861e-08 - val_mean_absolute_error: 9.0552e-05\n",
            "Epoch 45/100\n",
            "1324/1324 [==============================] - 4s 3ms/step - loss: 9.7612e-06 - mean_absolute_error: 3.2022e-04 - val_loss: 1.2909e-08 - val_mean_absolute_error: 4.3969e-05\n",
            "Epoch 46/100\n",
            "1324/1324 [==============================] - 4s 3ms/step - loss: 1.9576e-05 - mean_absolute_error: 6.4382e-04 - val_loss: 1.1831e-08 - val_mean_absolute_error: 3.9403e-05\n",
            "Epoch 47/100\n",
            "1324/1324 [==============================] - 4s 3ms/step - loss: 1.3611e-05 - mean_absolute_error: 5.1137e-04 - val_loss: 2.5864e-08 - val_mean_absolute_error: 1.2982e-04\n",
            "Epoch 48/100\n",
            "1324/1324 [==============================] - 4s 3ms/step - loss: 2.2007e-07 - mean_absolute_error: 1.8354e-04 - val_loss: 6.3356e-04 - val_mean_absolute_error: 0.0243\n",
            "Epoch 49/100\n",
            "1324/1324 [==============================] - 4s 3ms/step - loss: 2.2998e-05 - mean_absolute_error: 0.0015 - val_loss: 1.2559e-08 - val_mean_absolute_error: 3.5573e-05\n",
            "Epoch 50/100\n",
            "1324/1324 [==============================] - 4s 3ms/step - loss: 3.1466e-06 - mean_absolute_error: 1.7829e-04 - val_loss: 2.1953e-08 - val_mean_absolute_error: 6.9873e-05\n",
            "Epoch 51/100\n",
            "1324/1324 [==============================] - 4s 3ms/step - loss: 2.3610e-06 - mean_absolute_error: 1.4460e-04 - val_loss: 2.8921e-08 - val_mean_absolute_error: 1.0037e-04\n",
            "Epoch 52/100\n",
            "1324/1324 [==============================] - 4s 3ms/step - loss: 1.5239e-06 - mean_absolute_error: 1.2440e-04 - val_loss: 2.7456e-08 - val_mean_absolute_error: 1.0172e-04\n",
            "Epoch 53/100\n",
            "1324/1324 [==============================] - 4s 3ms/step - loss: 1.5970e-06 - mean_absolute_error: 1.3122e-04 - val_loss: 2.1657e-08 - val_mean_absolute_error: 7.9616e-05\n",
            "Epoch 54/100\n",
            "1324/1324 [==============================] - 4s 3ms/step - loss: 3.8629e-06 - mean_absolute_error: 1.6301e-04 - val_loss: 1.2107e-08 - val_mean_absolute_error: 5.5572e-05\n",
            "Epoch 55/100\n",
            "1324/1324 [==============================] - 4s 3ms/step - loss: 2.1948e-05 - mean_absolute_error: 6.1828e-04 - val_loss: 9.7922e-09 - val_mean_absolute_error: 3.7021e-05\n",
            "Epoch 56/100\n",
            "1324/1324 [==============================] - 4s 3ms/step - loss: 1.1567e-05 - mean_absolute_error: 4.7951e-04 - val_loss: 1.6432e-07 - val_mean_absolute_error: 3.7980e-04\n",
            "Epoch 57/100\n",
            "1324/1324 [==============================] - 4s 3ms/step - loss: 3.7886e-06 - mean_absolute_error: 1.8035e-04 - val_loss: 1.3064e-08 - val_mean_absolute_error: 5.0906e-05\n",
            "Epoch 58/100\n",
            "1324/1324 [==============================] - 4s 3ms/step - loss: 1.4865e-05 - mean_absolute_error: 3.9383e-04 - val_loss: 5.4469e-08 - val_mean_absolute_error: 2.2096e-04\n",
            "Epoch 59/100\n",
            "1324/1324 [==============================] - 4s 3ms/step - loss: 1.5849e-06 - mean_absolute_error: 3.0316e-04 - val_loss: 2.0210e-08 - val_mean_absolute_error: 8.2068e-05\n",
            "Epoch 60/100\n",
            "1324/1324 [==============================] - 4s 3ms/step - loss: 1.0041e-05 - mean_absolute_error: 3.1477e-04 - val_loss: 8.8529e-09 - val_mean_absolute_error: 3.1338e-05\n",
            "Epoch 61/100\n",
            "1324/1324 [==============================] - 4s 3ms/step - loss: 1.4864e-05 - mean_absolute_error: 4.3515e-04 - val_loss: 9.1300e-09 - val_mean_absolute_error: 3.5767e-05\n",
            "Epoch 62/100\n",
            "1324/1324 [==============================] - 4s 3ms/step - loss: 2.0705e-05 - mean_absolute_error: 5.8070e-04 - val_loss: 2.3441e-08 - val_mean_absolute_error: 1.1757e-04\n",
            "Epoch 63/100\n",
            "1324/1324 [==============================] - 4s 3ms/step - loss: 3.7298e-06 - mean_absolute_error: 4.1722e-04 - val_loss: 1.1022e-08 - val_mean_absolute_error: 4.2126e-05\n",
            "Epoch 64/100\n",
            "1324/1324 [==============================] - 4s 3ms/step - loss: 4.2847e-06 - mean_absolute_error: 1.5598e-04 - val_loss: 8.8705e-09 - val_mean_absolute_error: 3.2418e-05\n",
            "Epoch 65/100\n",
            "1324/1324 [==============================] - 4s 3ms/step - loss: 2.4262e-05 - mean_absolute_error: 6.1005e-04 - val_loss: 8.0500e-09 - val_mean_absolute_error: 3.3224e-05\n",
            "Epoch 66/100\n",
            "1324/1324 [==============================] - 4s 3ms/step - loss: 1.7845e-05 - mean_absolute_error: 5.7224e-04 - val_loss: 1.0783e-08 - val_mean_absolute_error: 5.4209e-05\n",
            "Epoch 67/100\n",
            "1324/1324 [==============================] - 4s 3ms/step - loss: 1.5151e-05 - mean_absolute_error: 4.4104e-04 - val_loss: 8.2597e-09 - val_mean_absolute_error: 3.1367e-05\n",
            "Epoch 68/100\n",
            "1324/1324 [==============================] - 4s 3ms/step - loss: 2.6745e-06 - mean_absolute_error: 2.9684e-04 - val_loss: 1.2822e-08 - val_mean_absolute_error: 5.1305e-05\n",
            "Epoch 69/100\n",
            "1324/1324 [==============================] - 4s 3ms/step - loss: 1.3219e-05 - mean_absolute_error: 3.0241e-04 - val_loss: 9.4470e-09 - val_mean_absolute_error: 4.0221e-05\n",
            "Epoch 70/100\n",
            "1324/1324 [==============================] - 4s 3ms/step - loss: 1.9791e-06 - mean_absolute_error: 2.0535e-04 - val_loss: 1.7342e-08 - val_mean_absolute_error: 7.5751e-05\n",
            "Epoch 71/100\n",
            "1324/1324 [==============================] - 4s 3ms/step - loss: 2.1781e-06 - mean_absolute_error: 1.0885e-04 - val_loss: 1.0909e-08 - val_mean_absolute_error: 3.2238e-05\n",
            "Epoch 72/100\n",
            "1324/1324 [==============================] - 4s 3ms/step - loss: 4.6309e-06 - mean_absolute_error: 1.7574e-04 - val_loss: 1.0661e-08 - val_mean_absolute_error: 3.5254e-05\n",
            "Epoch 73/100\n",
            "1324/1324 [==============================] - 4s 3ms/step - loss: 3.1126e-06 - mean_absolute_error: 1.4005e-04 - val_loss: 1.2906e-08 - val_mean_absolute_error: 4.2452e-05\n",
            "Epoch 74/100\n",
            "1324/1324 [==============================] - 4s 3ms/step - loss: 2.4582e-06 - mean_absolute_error: 1.2720e-04 - val_loss: 1.2883e-08 - val_mean_absolute_error: 4.7716e-05\n",
            "Epoch 75/100\n",
            "1324/1324 [==============================] - 4s 3ms/step - loss: 6.1722e-06 - mean_absolute_error: 1.8549e-04 - val_loss: 9.1775e-09 - val_mean_absolute_error: 3.2856e-05\n",
            "Epoch 76/100\n",
            "1324/1324 [==============================] - 4s 3ms/step - loss: 5.9402e-06 - mean_absolute_error: 2.1314e-04 - val_loss: 1.2292e-08 - val_mean_absolute_error: 5.3280e-05\n",
            "Epoch 77/100\n",
            "1324/1324 [==============================] - 4s 3ms/step - loss: 1.1785e-06 - mean_absolute_error: 8.5732e-05 - val_loss: 2.0603e-08 - val_mean_absolute_error: 7.4109e-05\n",
            "Epoch 78/100\n",
            "1324/1324 [==============================] - 4s 3ms/step - loss: 4.1105e-06 - mean_absolute_error: 1.4525e-04 - val_loss: 1.2359e-08 - val_mean_absolute_error: 6.6284e-05\n",
            "Epoch 79/100\n",
            "1324/1324 [==============================] - 4s 3ms/step - loss: 5.4499e-06 - mean_absolute_error: 1.9840e-04 - val_loss: 8.7232e-09 - val_mean_absolute_error: 3.5140e-05\n",
            "Epoch 80/100\n",
            "1324/1324 [==============================] - 4s 3ms/step - loss: 1.9558e-05 - mean_absolute_error: 4.2931e-04 - val_loss: 8.4283e-09 - val_mean_absolute_error: 4.0336e-05\n",
            "Epoch 81/100\n",
            "1324/1324 [==============================] - 4s 3ms/step - loss: 3.8921e-06 - mean_absolute_error: 2.7130e-04 - val_loss: 2.3952e-08 - val_mean_absolute_error: 1.2581e-04\n",
            "Epoch 82/100\n",
            "1324/1324 [==============================] - 4s 3ms/step - loss: 1.4897e-05 - mean_absolute_error: 3.6066e-04 - val_loss: 9.9037e-09 - val_mean_absolute_error: 4.6296e-05\n",
            "Epoch 83/100\n",
            "1324/1324 [==============================] - 4s 3ms/step - loss: 1.3728e-05 - mean_absolute_error: 4.3401e-04 - val_loss: 7.7405e-09 - val_mean_absolute_error: 1.7037e-05\n",
            "Epoch 84/100\n",
            "1324/1324 [==============================] - 4s 3ms/step - loss: 1.1580e-05 - mean_absolute_error: 3.2091e-04 - val_loss: 7.4507e-09 - val_mean_absolute_error: 1.7118e-05\n",
            "Epoch 85/100\n",
            "1324/1324 [==============================] - 4s 3ms/step - loss: 1.1778e-06 - mean_absolute_error: 1.4997e-04 - val_loss: 3.3052e-08 - val_mean_absolute_error: 1.0027e-04\n",
            "Epoch 86/100\n",
            "1324/1324 [==============================] - 4s 3ms/step - loss: 1.4933e-07 - mean_absolute_error: 6.4909e-05 - val_loss: 3.3094e-05 - val_mean_absolute_error: 0.0055\n",
            "Epoch 87/100\n",
            "1324/1324 [==============================] - 4s 3ms/step - loss: 4.0349e-06 - mean_absolute_error: 3.7496e-04 - val_loss: 1.0050e-08 - val_mean_absolute_error: 3.8410e-05\n",
            "Epoch 88/100\n",
            "1324/1324 [==============================] - 4s 3ms/step - loss: 1.7143e-06 - mean_absolute_error: 9.3520e-05 - val_loss: 1.8247e-08 - val_mean_absolute_error: 6.7640e-05\n",
            "Epoch 89/100\n",
            "1324/1324 [==============================] - 4s 3ms/step - loss: 1.0298e-05 - mean_absolute_error: 2.5268e-04 - val_loss: 9.8260e-09 - val_mean_absolute_error: 5.8253e-05\n",
            "Epoch 90/100\n",
            "1324/1324 [==============================] - 4s 3ms/step - loss: 6.3396e-07 - mean_absolute_error: 1.1021e-04 - val_loss: 5.2855e-08 - val_mean_absolute_error: 1.6221e-04\n",
            "Epoch 91/100\n",
            "1324/1324 [==============================] - 4s 3ms/step - loss: 8.5843e-06 - mean_absolute_error: 2.4754e-04 - val_loss: 8.6972e-09 - val_mean_absolute_error: 4.0414e-05\n",
            "Epoch 92/100\n",
            "1324/1324 [==============================] - 4s 3ms/step - loss: 3.4326e-07 - mean_absolute_error: 7.7563e-05 - val_loss: 1.3217e-06 - val_mean_absolute_error: 9.6103e-04\n",
            "Epoch 93/100\n",
            "1324/1324 [==============================] - 4s 3ms/step - loss: 2.6870e-06 - mean_absolute_error: 1.6896e-04 - val_loss: 7.3648e-09 - val_mean_absolute_error: 1.9782e-05\n",
            "Epoch 94/100\n",
            "1324/1324 [==============================] - 4s 3ms/step - loss: 8.4642e-06 - mean_absolute_error: 2.1190e-04 - val_loss: 6.5511e-09 - val_mean_absolute_error: 1.8551e-05\n",
            "Epoch 95/100\n",
            "1324/1324 [==============================] - 4s 3ms/step - loss: 1.9316e-05 - mean_absolute_error: 4.5040e-04 - val_loss: 6.5759e-09 - val_mean_absolute_error: 1.8345e-05\n",
            "Epoch 96/100\n",
            "1324/1324 [==============================] - 4s 3ms/step - loss: 4.8574e-06 - mean_absolute_error: 2.1173e-04 - val_loss: 8.3750e-09 - val_mean_absolute_error: 2.5469e-05\n",
            "Epoch 97/100\n",
            "1324/1324 [==============================] - 4s 3ms/step - loss: 9.9248e-06 - mean_absolute_error: 2.2886e-04 - val_loss: 6.5889e-09 - val_mean_absolute_error: 1.4317e-05\n",
            "Epoch 98/100\n",
            "1324/1324 [==============================] - 4s 3ms/step - loss: 9.9572e-06 - mean_absolute_error: 3.1141e-04 - val_loss: 1.0275e-08 - val_mean_absolute_error: 6.2600e-05\n",
            "Epoch 99/100\n",
            "1324/1324 [==============================] - 4s 3ms/step - loss: 2.2048e-06 - mean_absolute_error: 9.5076e-05 - val_loss: 1.4664e-08 - val_mean_absolute_error: 6.5712e-05\n",
            "Epoch 100/100\n",
            "1324/1324 [==============================] - 4s 3ms/step - loss: 9.1676e-06 - mean_absolute_error: 2.1867e-04 - val_loss: 7.2232e-09 - val_mean_absolute_error: 2.3049e-05\n"
          ],
          "name": "stdout"
        }
      ]
    },
    {
      "cell_type": "code",
      "metadata": {
        "colab": {
          "base_uri": "https://localhost:8080/"
        },
        "id": "nDFk8L3rvbTg",
        "outputId": "e72fbb80-3dc3-4014-b077-80092e36449a"
      },
      "source": [
        "print('Tiempo de entrenamiento: ' + str(gpu_time) + ' segundos')\n",
        "print('Tiempo de entrenamiento: ' ,int(gpu_time)/60, ' minutos')"
      ],
      "execution_count": 27,
      "outputs": [
        {
          "output_type": "stream",
          "text": [
            "Tiempo de entrenamiento: 377.85650766 segundos\n",
            "Tiempo de entrenamiento:  6.283333333333333  minutos\n"
          ],
          "name": "stdout"
        }
      ]
    },
    {
      "cell_type": "code",
      "metadata": {
        "id": "bzMfSNdjurse"
      },
      "source": [
        "cols = ['area','ascensor','balcon','banos', 'banoservicio', 'conjuntocerrado',  'cuartoservicio', 'deposito','estrato', 'estudio', 'garajes' , 'gimnasio' ,'habitaciones', 'halldealcobas' ,'parqueaderovisitantes' , 'piscina' ,'piso','porteria', 'remodelado' ,\n",
        "                  'terraza', 'vigilancia' ,'valoradministracion', 'vista_Exterior' , 'vista_Interior', 'tiempodeconstruido_1 a 8 años' , 'tiempodeconstruido_16 a 30 años' , 'tiempodeconstruido_9 a 15 años' , 'tiempodeconstruido_Entre 0 y 5 años' , 'tiempodeconstruido_Entre 10 y 20 años' , 'tiempodeconstruido_Entre 5 y 10 años' , 'tiempodeconstruido_Menos de 1 año' , 'tiempodeconstruido_Más de 20 años' ,'tiempodeconstruido_Más de 30 años', 'tiempodeconstruido_Remodelado' , 'tipoinmueble_Apartamento','tipoinmueble_Casa']\n",
        "X_test = data_test[cols]\n",
        "X_test = min_max_scaler.fit_transform( X_test )\n",
        "prediction = model.predict(X_test)\n",
        "Y_test  = min_max_scaler.fit_transform( Y_test )\n",
        "ypred = min_max_scaler.inverse_transform(prediction)"
      ],
      "execution_count": 28,
      "outputs": []
    },
    {
      "cell_type": "code",
      "metadata": {
        "id": "7frY5QF5u-t9",
        "colab": {
          "base_uri": "https://localhost:8080/",
          "height": 204
        },
        "outputId": "0e7709f1-955c-4aaf-ea0d-59771f8f56ca"
      },
      "source": [
        "prediccion = pd.DataFrame()\n",
        "id_col = data_test['id'].values.tolist()\n",
        "prediccion['id'] = id_col\n",
        "prediccion['y'] = ypred\n",
        "prediccion['valormt2_predicted'] = data_test[['V_REF']] - ypred\n",
        "prediccion[0:5]"
      ],
      "execution_count": 33,
      "outputs": [
        {
          "output_type": "execute_result",
          "data": {
            "text/html": [
              "<div>\n",
              "<style scoped>\n",
              "    .dataframe tbody tr th:only-of-type {\n",
              "        vertical-align: middle;\n",
              "    }\n",
              "\n",
              "    .dataframe tbody tr th {\n",
              "        vertical-align: top;\n",
              "    }\n",
              "\n",
              "    .dataframe thead th {\n",
              "        text-align: right;\n",
              "    }\n",
              "</style>\n",
              "<table border=\"1\" class=\"dataframe\">\n",
              "  <thead>\n",
              "    <tr style=\"text-align: right;\">\n",
              "      <th></th>\n",
              "      <th>id</th>\n",
              "      <th>y</th>\n",
              "      <th>valormt2_predicted</th>\n",
              "    </tr>\n",
              "  </thead>\n",
              "  <tbody>\n",
              "    <tr>\n",
              "      <th>0</th>\n",
              "      <td>320585</td>\n",
              "      <td>0.999314</td>\n",
              "      <td>5.183999e+06</td>\n",
              "    </tr>\n",
              "    <tr>\n",
              "      <th>1</th>\n",
              "      <td>502072</td>\n",
              "      <td>0.999452</td>\n",
              "      <td>4.649990e+05</td>\n",
              "    </tr>\n",
              "    <tr>\n",
              "      <th>2</th>\n",
              "      <td>736991</td>\n",
              "      <td>0.999275</td>\n",
              "      <td>2.019999e+06</td>\n",
              "    </tr>\n",
              "    <tr>\n",
              "      <th>3</th>\n",
              "      <td>332550</td>\n",
              "      <td>0.999334</td>\n",
              "      <td>5.719999e+06</td>\n",
              "    </tr>\n",
              "    <tr>\n",
              "      <th>4</th>\n",
              "      <td>398647</td>\n",
              "      <td>0.999365</td>\n",
              "      <td>3.998972e+06</td>\n",
              "    </tr>\n",
              "  </tbody>\n",
              "</table>\n",
              "</div>"
            ],
            "text/plain": [
              "       id         y  valormt2_predicted\n",
              "0  320585  0.999314        5.183999e+06\n",
              "1  502072  0.999452        4.649990e+05\n",
              "2  736991  0.999275        2.019999e+06\n",
              "3  332550  0.999334        5.719999e+06\n",
              "4  398647  0.999365        3.998972e+06"
            ]
          },
          "metadata": {
            "tags": []
          },
          "execution_count": 33
        }
      ]
    },
    {
      "cell_type": "code",
      "metadata": {
        "id": "uMvao0D-u-yy",
        "colab": {
          "base_uri": "https://localhost:8080/",
          "height": 297
        },
        "outputId": "37b30ab3-5be0-4820-9a09-3f95acc4dcb8"
      },
      "source": [
        "aux = abs((ypred - data_test[['y']])/data_test[['y']])\n",
        "aux.describe()"
      ],
      "execution_count": 34,
      "outputs": [
        {
          "output_type": "execute_result",
          "data": {
            "text/html": [
              "<div>\n",
              "<style scoped>\n",
              "    .dataframe tbody tr th:only-of-type {\n",
              "        vertical-align: middle;\n",
              "    }\n",
              "\n",
              "    .dataframe tbody tr th {\n",
              "        vertical-align: top;\n",
              "    }\n",
              "\n",
              "    .dataframe thead th {\n",
              "        text-align: right;\n",
              "    }\n",
              "</style>\n",
              "<table border=\"1\" class=\"dataframe\">\n",
              "  <thead>\n",
              "    <tr style=\"text-align: right;\">\n",
              "      <th></th>\n",
              "      <th>y</th>\n",
              "    </tr>\n",
              "  </thead>\n",
              "  <tbody>\n",
              "    <tr>\n",
              "      <th>count</th>\n",
              "      <td>51.000000</td>\n",
              "    </tr>\n",
              "    <tr>\n",
              "      <th>mean</th>\n",
              "      <td>1.000000</td>\n",
              "    </tr>\n",
              "    <tr>\n",
              "      <th>std</th>\n",
              "      <td>0.000003</td>\n",
              "    </tr>\n",
              "    <tr>\n",
              "      <th>min</th>\n",
              "      <td>0.999983</td>\n",
              "    </tr>\n",
              "    <tr>\n",
              "      <th>25%</th>\n",
              "      <td>0.999999</td>\n",
              "    </tr>\n",
              "    <tr>\n",
              "      <th>50%</th>\n",
              "      <td>1.000000</td>\n",
              "    </tr>\n",
              "    <tr>\n",
              "      <th>75%</th>\n",
              "      <td>1.000001</td>\n",
              "    </tr>\n",
              "    <tr>\n",
              "      <th>max</th>\n",
              "      <td>1.000008</td>\n",
              "    </tr>\n",
              "  </tbody>\n",
              "</table>\n",
              "</div>"
            ],
            "text/plain": [
              "               y\n",
              "count  51.000000\n",
              "mean    1.000000\n",
              "std     0.000003\n",
              "min     0.999983\n",
              "25%     0.999999\n",
              "50%     1.000000\n",
              "75%     1.000001\n",
              "max     1.000008"
            ]
          },
          "metadata": {
            "tags": []
          },
          "execution_count": 34
        }
      ]
    },
    {
      "cell_type": "code",
      "metadata": {
        "id": "VYMXtxcggRWr"
      },
      "source": [
        "prediccion[['id','valormt2_predicted']].to_csv('/content/gdrive/MyDrive/shp/test_dataV_Kaggle.csv')"
      ],
      "execution_count": 36,
      "outputs": []
    },
    {
      "cell_type": "markdown",
      "metadata": {
        "id": "06GnIv1HWAxn"
      },
      "source": [
        "# Miscelanea"
      ]
    },
    {
      "cell_type": "markdown",
      "metadata": {
        "id": "NfogcRIv2Wcw"
      },
      "source": [
        "## Validación cruzada"
      ]
    },
    {
      "cell_type": "markdown",
      "metadata": {
        "id": "G4Wv_okj4Ylr"
      },
      "source": [
        "El método de validación cruzada es usado para seleccionar el modelo que mejor se ajuste a los datos. Consiste en dividir los datos en $K$ conjuntos de entrenamiento y de prueba: los modelos propuestos serán ajustados a cada subconjunto de entrenamento y se evaluará su calidad de ajuste con el subconjunto de prueba, de acuerdo a una medida de error o función  de perdida se determina qué modelo se desempeña mejor.\n",
        "\n",
        "Nordhausen, K. (2014). An Introduction to Statistical Learning—with Applications in R by Gareth James, Daniela Witten, Trevor Hastie & Robert Tibshirani."
      ]
    },
    {
      "cell_type": "code",
      "metadata": {
        "id": "JVDn36qy2XUv",
        "colab": {
          "base_uri": "https://localhost:8080/"
        },
        "outputId": "dff85ba6-6b0c-4d22-f799-b903114d84e0"
      },
      "source": [
        "# Función para validaciones con parámetros: K (cantidad de grupos),train (porcentaje de entreno)\n",
        "def split(K = 10,train = 0.7):\n",
        "  Ny = int(data_train.shape[0]*train)\n",
        "  c = 1\n",
        "  while c != K:\n",
        "    idx = np.random.randint(0, data_train.shape[0], Ny, dtype = int)\n",
        "    idy = np.arange(0, data_train.shape[0],dtype = int)\n",
        "    idz = np.isin(idy, idx,invert = True)\n",
        "    idw = idy[idz]\n",
        "    c = c + 1\n",
        "    yield idx, idw\n",
        "for train, test in split(10,0.7):\n",
        "    print(\"%s %s\" % (train, test))"
      ],
      "execution_count": null,
      "outputs": [
        {
          "output_type": "stream",
          "text": [
            "[ 26646  57805 188628 ... 147531  53047 177420] [     5      8     10 ... 241914 241915 241918]\n",
            "[111797 101786  25529 ...  83429  62014 157251] [     4      5      6 ... 241915 241917 241919]\n",
            "[238929  95382  76161 ... 177691  43756 200670] [     1      5      6 ... 241914 241915 241918]\n",
            "[227011  54449 240153 ... 191861  90232  80648] [     1      8     12 ... 241913 241918 241919]\n",
            "[194777  33900 173468 ... 225482 144894 220913] [     0      2      4 ... 241915 241916 241918]\n",
            "[ 92193  77594  69781 ...  84699  47263 211410] [     0      2      5 ... 241915 241918 241919]\n",
            "[ 46469 100188 155501 ...  89251   9991 135775] [     0      2      3 ... 241917 241918 241919]\n",
            "[ 26774 129801  37329 ... 119443 237925  28644] [     2      3      4 ... 241914 241915 241918]\n",
            "[220605 134560 142144 ... 224164 191643 168147] [     2      4      6 ... 241914 241918 241919]\n"
          ],
          "name": "stdout"
        }
      ]
    },
    {
      "cell_type": "markdown",
      "metadata": {
        "id": "ToQ3QyJM2goF"
      },
      "source": [
        "## Calibración hiperparámetros"
      ]
    },
    {
      "cell_type": "markdown",
      "metadata": {
        "id": "csyNKeIi431R"
      },
      "source": [
        "Los modelos que vamos a considerar son: Regresión lineal con penalización Lasso, regresor del árbol de decisión (Random Forest), máquina de vectores de soporte de regresión (SVR) y una red Neuronal MLP (Multi Layer Perceptron). Cada uno de ellos tiene hiperparámetros que deben ser encontrados, se usará el método de validación cruzada con ese fin.\n",
        "\n",
        "Para encontrar los hiperparametros óptimos de un modelo, se compara el modelo con diferentes valores de hiperparametros, es decir, se ajustan distintos modelos de la misma clase que serán comparados entre sí, teniendo como criterio la medida de perdida:  error absoluto medio porcentual (MAPE).\n",
        "\n",
        "El calculo funciona de la siguiente manera: se define una grilla de valores que podrian tomar los hiperparametros  y una particion de los datos en conjuntos entrenamiento-validación (definidos anteriormente en  kfold) que por ejemplo podria ser: $C_{train} = [3\\ 4\\ 5\\ 6\\ 7\\ 8\\ 9]$ y $C_{test} = [10\\ 11\\ 12\\ 13]$ .\n",
        "\n",
        "A continuación, con esta grilla de valores se ajusta el modelo para cada hiperparametro propuesto (modelos a comparar) con los datos en  $C_{train}$ para luego encontrar las predicciones de la variable respuesta $\\hat{Y}_{C_{test}}$ sobre el conjunto test y compararlas con las reales $Y_{C_{test}}$ mediante la medida de error. \n",
        "\n",
        "$$\\mathrm{MAE}=\\frac{1}{|C_{test}|} \\sum_{i \\in C_{test}}\\left|\\hat{Y}_{i}-Y_{i}\\right|$$\n",
        "\n",
        "Esta busqueda se realiza mediante la funcion **GridSearchCV** que implementa un método de \"ajuste\" optimizando mediante la búsqueda de cuadrícula validada cruzada sobre una cuadrícula de parámetros dada.\n",
        "\n",
        "Para dar un poco de precisión al procedimiento y optimizarlo se realiza una búsqueda en dos faces. En la primera fase buscamos en el intervalo $[a,b]$ con saltos de mayor tamaño donde encontramos un valor optimo $j_1$, luego en la segunda fase se refina la busqueda al rededor del valor encontrado: en $[a,J_1 + mv*j_1]$."
      ]
    },
    {
      "cell_type": "code",
      "metadata": {
        "id": "Nlc-uPNQ7Lrn"
      },
      "source": [
        "kfold = split(10,0.7)\n",
        "score = ['neg_mean_absolute_error']\n",
        "ScalesFun = {'Function':MinMaxScaler(),'Name':'RobustScaler'}\n",
        "X = data_train[['area', 'ascensor', 'balcon', 'banos', 'banoservicio',\n",
        "       'conjuntocerrado', 'cuartoservicio', 'deposito', 'estrato', 'estudio',\n",
        "       'garajes', 'gimnasio', 'habitaciones', 'halldealcobas',\n",
        "       'parqueaderovisitantes', 'piscina', 'piso', 'porteria', 'remodelado',\n",
        "       'terraza', 'vigilancia', 'valoradministracion']]\n",
        "Y = data_train[['y']]\n",
        "data_base = {}\n",
        "data_base['X'] = {}\n",
        "data_base['X']['scaler'] = ScalesFun['Function']\n",
        "data_base['X']['scaler'].fit(X)\n",
        "data_base['X']['rescaled'] = data_base['X']['scaler'].transform(X)\n",
        "data_base['Y'] = {}\n",
        "data_base['Y']['scaler'] = ScalesFun['Function']\n",
        "data_base['Y']['scaler'].fit(Y)\n",
        "data_base['Y']['rescaled'] = data_base['Y']['scaler'].transform(Y)\n",
        "# , 'latitud', 'longitud'\n",
        " #      ,'vista_Exterior', 'vista_Interior',\n",
        " #      'tiempodeconstruido_1 a 8 años', 'tiempodeconstruido_16 a 30 años',\n",
        " #      'tiempodeconstruido_9 a 15 años', 'tiempodeconstruido_Entre 0 y 5 años',\n",
        " #      'tiempodeconstruido_Entre 10 y 20 años',\n",
        " #      'tiempodeconstruido_Entre 5 y 10 años',\n",
        " #      'tiempodeconstruido_Menos de 1 año',\n",
        " #      'tiempodeconstruido_Más de 20 años',\n",
        " #      'tiempodeconstruido_Más de 30 años', 'tiempodeconstruido_Remodelado',\n",
        " #      'tipoinmueble_Apartamento', 'tipoinmueble_Casa']]\n",
        "\n",
        "grids = {}"
      ],
      "execution_count": null,
      "outputs": []
    },
    {
      "cell_type": "markdown",
      "metadata": {
        "id": "FQmO3-2t3eNY"
      },
      "source": [
        "### Regresión Lasso"
      ]
    },
    {
      "cell_type": "markdown",
      "metadata": {
        "id": "foJOTItb7gvl"
      },
      "source": [
        "Se intenta penalizar la magnitud en valor absoluto de los **p** coeficientes del vector de parámetros, esta penalización se hace sobre la función de costo.\n",
        "$$Lasso(\\pmb{\\beta})=\\underbrace{\\frac{1}{n}\\sum_{i=1}^n(Y_i-\\pmb{X}_i\\pmb{\\beta})^2}_{MSE(\\beta)}+\\color{red}{\\lambda||\\pmb{\\beta}_i||_1}$$\n",
        "Lo que equivale a minimizar:\n",
        "$$Lasso(\\pmb{\\beta})=\\underbrace{\\frac{1}{n}\\sum_{i=1}^n(Y_i-\\pmb{X}_i\\pmb{\\beta})^2}_{MSE(\\beta)}+\\lambda\\sum_{i=1}^p|\\pmb{\\beta}_i|$$ \n",
        "\n",
        "$\\lambda$: coeficiente de penalidad. \n",
        "\n",
        "Si $\\lambda$ es lo suficiente elevado, algunos de los coeficientes pueden llegar a reducirse hasta exactamente 0. Si $\\lambda=0$ se obtiene la solución de minimos cuadrados.\n",
        "\n",
        "\n",
        "*La estimación de $\\hat{\\pmb{\\beta}}_{Lasso}$ no tiene una forma cerrada, para su estimación se requieren métodos númericos*"
      ]
    },
    {
      "cell_type": "code",
      "metadata": {
        "id": "09O_UCR03di8"
      },
      "source": [
        "model=skl.linear_model.Lasso(max_iter = 10000)\n",
        "# Creamos una lista con los parámetros y la grilla de valores a probar\n",
        "params = {'alpha': np.arange(start=1, stop=500, step=10)}\n",
        "# coeficiente de penalidad (Lambda)\n",
        "grid = GridSearchCV(model, params, cv = kfold, scoring = score,refit = False)\n",
        "grid.fit(data_base['X']['rescaled'], data_base['Y']['rescaled'])\n",
        "par_1 = grid.best_params_['alpha']\n",
        "#params['alpha'] = np.arange(start = starMV(par_1 - 0.5), stop = par_1 + 0.5, step = 0.001)\n",
        "#grid = GridSearchCV(model, params, cv=kfold, scoring=score,refit = False)\n",
        "#grid.fit(data_base['X'], data_base['Y'])\n",
        "#grids['Lasso' + score] = grid.best_params_\n",
        "#print (score, grid.best_params_)\n"
      ],
      "execution_count": null,
      "outputs": []
    },
    {
      "cell_type": "markdown",
      "metadata": {
        "id": "bZt4DCKD3h30"
      },
      "source": [
        "### Random Forest"
      ]
    },
    {
      "cell_type": "markdown",
      "metadata": {
        "id": "wf4DaNbK8K6W"
      },
      "source": [
        "Se puede ver en la [guia del usuario](https://scikit-learn.org/stable/modules/tree.html#tree) lo necesario para este modelo, a grandes rasgos se tiene que:\n",
        "\n",
        "Dados los vectores de entrenamiento $x_i \\in \\mathbb{R}^p, i=1,...,n$ y un vector $y \\in \\mathbb{R}^n$, un árbol de decisión divide el espacio de forma recursiva de manera que las muestras con valor similar en $y_i$ se agrupen.\n",
        "Los datos en el nodo $m$ representados por $Q$, para cada candidato $\\theta=(j,t_m)$ que consiste en una caracteristica $j$ y en un umbral $t_m$ que particiona los datos así:\n",
        "\n",
        "$$Q_{left}(\\theta) = {(x, y) | x_j <= t_m}\\\\Q_{right}(\\theta) = Q \\setminus Q_{left}(\\theta)$$\n",
        "\n",
        "La impureza en $m$ se calcula utilizando una función de impureza $H()$\n",
        "\n",
        "$$G(Q, \\theta) = \\frac{n_{left}}{N_m} H(Q_{left}(\\theta))\n",
        "+ \\frac{n_{right}}{N_m} H(Q_{right}(\\theta))$$\n",
        "\n",
        "Que pueden ser \n",
        "\n",
        "Error absoluto medio:\n",
        "$$median(y)_m = \\underset{i \\in N_m}{\\mathrm{median}}(y_i)$$\n",
        "$$H(X_m) = \\frac{1}{N_m} \\sum_{i \\in N_m} |y_i - median(y)_m|$$\n",
        "\n",
        "Seleccione los parámetros que minimizan la impureza.\n",
        "\n",
        "$$\\theta^* = \\operatorname{argmin}_\\theta  G(Q, \\theta)$$\n",
        "\n",
        "Itere para subconjuntos $Q_{left}(\\theta^*)$ y $Q_{right}(\\theta^*)$ hasta alcanzar la profundidad maxima permitida ($\\texttt{max}\\_\\texttt{depht}$)."
      ]
    },
    {
      "cell_type": "code",
      "metadata": {
        "id": "tE6A5DLt3mdQ"
      },
      "source": [
        "params = {'max_depth': np.round(np.arange(start=1, stop=100, step=10),0)} # La profundidad máxima del árbol\n",
        "model_DT = DecisionTreeRegressor(splitter= 'best',min_samples_leaf=2,random_state=7)\n",
        "grid = GridSearchCV(model_DT, params, cv=kfold,  scoring=score,refit = False)\n",
        "grid.fit(data_base['X']['rescaled'], data_base['Y']['rescaled'])\n",
        "grids['DecisionTree' + score] = grid.best_params_\n",
        "print(score, grid.best_params_)"
      ],
      "execution_count": null,
      "outputs": []
    },
    {
      "cell_type": "markdown",
      "metadata": {
        "id": "mzfGKdCp6v49"
      },
      "source": [
        "### Support Vector Regression (SVR)"
      ]
    },
    {
      "cell_type": "markdown",
      "metadata": {
        "id": "Xgz73ayy7ulW"
      },
      "source": [
        "Podemos ir a la [guía de usuario](https://scikit-learn.org/stable/modules/svm.html#svm-regression) para detallar lo necesario del modelo, a grandes rasgos se tiene que:\n",
        "\n",
        "El problema dual es\n",
        "$$\\min_{\\alpha, \\alpha^*} \\frac{1}{2} (\\alpha - \\alpha^*)^T Q (\\alpha - \\alpha^*) + \\varepsilon \\mathbf{1}^T (\\alpha + \\alpha^*) - y^T (\\alpha - \\alpha^*)$$\n",
        "sujeto a $$\\mathbf{1}^T (\\alpha - \\alpha^*) = 0$$\n",
        "$$ 0 \\leq \\alpha_i, \\alpha_i^* \\leq C, i=1, ..., n$$\n",
        " \n",
        "donde $\\mathbf{1}$ es el vector de unos, $Q$ es una matriz semidefinida positiva $n$ por $n$, $Q_{ij}=K(x_i,x_j)=\\phi(x_i)^T\\phi(x_j)$ es el núcleo. Aquí los vectores de entrenamiento se mapean implícitamente en un espacio dimensional más alto por la función $\\phi$.\n",
        "\n",
        "La predicción es:\n",
        "$$\\sum_{i \\in SV}(\\alpha_i - \\alpha_i^*) K(x_i, x) + b$$\n",
        "\n",
        "Se puede acceder a estos parámetros a través de los atributos $\\texttt{dual}\\_\\texttt{coef}\\_$ que contiene la diferencia $\\alpha_i-\\alpha_i^*$, $\\texttt{support}\\_\\texttt{vectors}\\_$ que contiene los vectores de soporte y $\\texttt{intercept}\\_$ que contiene el término independiente $b$."
      ]
    },
    {
      "cell_type": "code",
      "metadata": {
        "id": "otFFmmXl2hHS"
      },
      "source": [
        "params_i={}\n",
        "  iter_max=10000\n",
        "  param = [{'kernel': ['rbf'], #Los hiperparámetros para este kernel son gamma y C\n",
        "            'gamma':np.arange(start=0.0001, stop=10, step=2),\n",
        "            'C':np.arange(start=0.0001, stop=5, step=1),},\n",
        "          {'kernel': ['poly'], #Los hiperparámetros para este kernerl son gammas, coef0 (intercepto), degree (grados polinomio) y C\n",
        "            'gamma': np.arange(start=0.0001, stop=10, step=2),\n",
        "            'coef0': np.arange(start=0.0001, stop=5, step=1), \n",
        "            'degree': (2, 3 , 4),\n",
        "            'C':np.arange(start=0.0001, stop=5, step=1),},\n",
        "          {'kernel': ['sigmoid'], #Los hiperparámetros para este kernel son coef0 (intercepto), C y gamma\n",
        "          'coef0':np.arange(start=0.0001, stop=5, step=1),\n",
        "          'C':np.arange(start=0.0001, stop=5, step=1),\n",
        "          'gamma':np.arange(start=0.0001, stop=10, step=2)}]\n",
        "model_svm = SVR(max_iter = iter_max,epsilon = 0.01)\n",
        "grid_i = GridSearchCV(model_svm, param, cv=kfold, scoring=score)\n",
        "grid_i.fit(data_base['X'], data_base['Y'])\n",
        "par_1 =  grid_i.best_params_['gamma']\n",
        "params_i['gamma'] = np.arange(start=starMV(par_1 - 0.1*10), stop=par_1 + 0.1*10, step=0.1)\n",
        "par_2 =  grid_i.best_params_['C']\n",
        "params_i['C'] = np.arange(start=starMV(par_2 - 0.1*10), stop=par_2 + 0.1*10, step=0.1)\n",
        "model_svm = SVR(max_iter=iter_max,epsilon = 0.01,kernel='rbf')\n",
        "kernel_i = grid_i.best_params_['kernel']\n",
        "if kernel_i == 'sigmoid':\n",
        "  par_3 =  grid_i.best_params_['coef0']\n",
        "  params_i['coef0'] = np.arange(start=starMV(par_3 - 0.1*10), stop=par_3 + 0.1*10, step=0.1)\n",
        "  model_svm = SVR(max_iter=iter_max,epsilon = 0.01,kernel='sigmoid')\n",
        "if kernel_i == 'poly':\n",
        "  par_3 =  grid_i.best_params_['coef0']\n",
        "  params_i['coef0'] = np.arange(start=starMV(par_3 - 0.1*10), stop=par_3 + 0.1*10, step=0.1)\n",
        "  degree_i = grid_i.best_params_['degree']\n",
        "  model_svm = SVR(max_iter=iter_max,epsilon = 0.01,kernel='poly',degree=degree_i)\n",
        "grid_i = GridSearchCV(model_svm, params_i, cv=kfold, scoring=score)\n",
        "grid_i.fit(data_base['X'], data_base['Y'])\n",
        "grids['SVM' + score] = grid_i.best_params_\n",
        "grids['SVM' + score]['kernel'] = kernel_i\n",
        "if kernel_i == 'poly':\n",
        "  grids['SVM' + score]['degree'] = degree_i\n",
        "print (score, grids['SVM' + score])"
      ],
      "execution_count": null,
      "outputs": []
    },
    {
      "cell_type": "markdown",
      "metadata": {
        "id": "HblHxqRv2mFR"
      },
      "source": [
        "### Multi Layer Perceptron (MLP)"
      ]
    },
    {
      "cell_type": "markdown",
      "metadata": {
        "id": "aS-IvKIs8vzs"
      },
      "source": [
        "Las redes neuronales artificiales (ANN) son una clase de\n",
        "modelos utilizados para tareas de clasificación y regresión no\n",
        "lineal que están motivadas por el cálculo neuronal biológico.\n",
        "\n",
        "Cada componente $x_i$ de la entrada se multiplica por un peso correspondiente $w_i$, se añade un sesgo y se aplica una función de activación. Los pesos  y sesgos son la información utilizada por la red neuronal para resolver un problema. Estos parámetros deben aprenderse (ajustarse) en el paso de entrenamiento.\n",
        "\n",
        "Una red **MLP** constituye uno de los modelos más comunes por su condición como aproximador universal de funciones, estas redes utilizan más de una capa \n",
        "oculta de neuronas.\n",
        "\n",
        "De modo que en cada capa j se hará transformaciones lineales del vector de entrada $\\vec{x}=(x_1,...,x_N)^T$, se añade un sesgo  y a partir de la función de activación se obtiene un vector de salida $\\vec{y}$:\n",
        "\\begin{equation*}\n",
        "    \\vec{y}=\\Phi^{(j)} \\left(W^{(j)}\\vec{x}+\\vec{b}^{(j)}\\right)\n",
        "\\end{equation*}\n",
        " Este $\\vec{y}$ será el vector de entrada a la siguiente capa oculta o el resultado en caso de ser la última capa."
      ]
    },
    {
      "cell_type": "code",
      "metadata": {
        "id": "35xUDUKl2mcX"
      },
      "source": [
        "paramMLP = {'solver':['adam'],\n",
        "          'activation':['logistic','tanh','relu'],\n",
        "          'hidden_layer_sizes': [(2),(4),(8),(2,4),(4,3),(4,8),(8,2),(4,3,2)],\n",
        "          'alpha': [0.01,0.001,0.0001,0.00001],\n",
        "          'learning_rate_init':[0.001,0.01,0.0001,0.1],\n",
        "          'beta_1':[0.3,0.6,0.9,0.99,0.999],\n",
        "          'beta_2':[0.3,0.6,0.9,0.99,0.999]}\n",
        " \n",
        "  modelMLP= MLPRegressor(batch_size='auto',verbose=False,shuffle=False,max_iter=1000,random_state=7,validation_fraction=0)\n",
        "  best_params=[]\n",
        "  for score in scoring:\n",
        "    kfold = split(min_n = Nk,n = Ny)\n",
        "    gridMLP = GridSearchCV(modelMLP, paramMLP, cv=kfold, scoring=score,n_jobs=-1)\n",
        "    gridMLP.fit(data_base['X']['rescaled'], data_base['Y']['rescaled'])\n",
        "    best= score, gridMLP.best_params_\n",
        "    best_params.append(best)\n",
        "    grids['MLP' + score] = gridMLP.best_params_\n",
        "    print(score, gridMLP.best_params_)"
      ],
      "execution_count": null,
      "outputs": []
    },
    {
      "cell_type": "code",
      "metadata": {
        "id": "_Ui1MOU52pVc"
      },
      "source": [
        "#Descomentar para guardar nueva grilla\n",
        "saved = joblib.dump(grids, os.path.join('/content/gdrive/MyDrive/shp/Grids Habi.joblib'))\n",
        "#Carga los parámetros elegidos para ahorrar tiempo de ejecución\n",
        "#grids = joblib.load('Grids Habi.joblib')"
      ],
      "execution_count": null,
      "outputs": []
    },
    {
      "cell_type": "markdown",
      "metadata": {
        "id": "NkVMRuc22vV4"
      },
      "source": [
        "## Modelos finales"
      ]
    },
    {
      "cell_type": "code",
      "metadata": {
        "id": "UvlR0ox62wEs"
      },
      "source": [
        " #Función para iniciazar todos los modelos a competir\n",
        "def inicializarModelos(criterio):\n",
        "  modelos = []\n",
        "  grids_i = grids\n",
        "  if grids_i['SVM' + criterio]['kernel'] == 'poly':\n",
        "    modelos.append(('SVM', SVR(max_iter=1000,kernel = 'poly',\n",
        "                               coef0 =  grids_i['SVM' + criterio]['coef0'],\n",
        "                               gamma = grids_i['SVM' + criterio]['gamma'],\n",
        "                               C = grids_i['SVM' + criterio]['C'],\n",
        "                               degree = grids_i['SVM' + criterio]['degree'],\n",
        "                                 epsilon = 0.001)))\n",
        "  if grids_i['SVM' + criterio]['kernel'] =='rbf':\n",
        "    modelos.append(('SVM', SVR(max_iter=1000,kernel = 'rbf',\n",
        "                               gamma = grids_i['SVM' + criterio]['gamma'],\n",
        "                               C = grids_i['SVM' + criterio]['C'],\n",
        "                               epsilon = 0.001)))\n",
        "  if grids_i['SVM' + criterio]['kernel'] =='sigmoid':\n",
        "    modelos.append(('SVM', SVR(max_iter = 1000,kernel = 'sigmoid',\n",
        "                               coef0 = grids_i['SVM' + criterio]['coef0'],\n",
        "                                 gamma = grids_i['SVM' + criterio]['gamma'],\n",
        "                                 C = grids_i['SVM' + criterio]['C'],\n",
        "                                 epsilon = 0.001)))\n",
        "  modelos.append(('MLP',skl.neural_network.MLPRegressor(hidden_layer_sizes = grids_i['MLP' + criterio]['hidden_layer_sizes'],\n",
        "                                                          activation = grids_i['MLP' + criterio]['activation'],\n",
        "                                                          solver = grids_i['MLP' + criterio]['solver'],\n",
        "                                                          alpha = grids_i['MLP' + criterio]['alpha'],\n",
        "                                                          beta_1 = grids_i['MLP' + criterio]['beta_1'],\n",
        "                                                          beta_2 = grids_i['MLP' + criterio]['beta_2'],\n",
        "                                                          learning_rate_init = grids_i['MLP' + criterio]['learning_rate_init'],\n",
        "                                                          verbose = False,random_state = 7,\n",
        "                                                          validation_fraction = 0,shuffle = False,max_iter = 1000)))\n",
        "  return modelos"
      ],
      "execution_count": null,
      "outputs": []
    },
    {
      "cell_type": "code",
      "metadata": {
        "id": "dPoaWSjN2z7_"
      },
      "source": [
        "# Iniciamos los modelos\n",
        "Modelos = {}\n",
        "Modelos[score] = inicializarModelos(criterio = score)\n",
        "Resultados = {} # Lista para guardar predicciones y medidas de ajuste\n",
        "Resultados[score] = {}\n",
        "results_cv = []\n",
        "names_cv = []\n",
        "predictions = {}\n",
        "for name, modelo in Modelos[score]:\n",
        "  # Calculamos las medidas de perdida\n",
        "  kfold = split(min_n = 7,n = 14)\n",
        "  cv = cross_val_score(modelo,data_base['X'], data_base['Y'],\n",
        "                        cv = kfold, scoring = score)\n",
        "  # Ajustamos cada modelo\n",
        "  modelo.fit(data_base['X'][:],\n",
        "            data_base['Y'][:])\n",
        "  # Realizamos las predicciones\n",
        "  predictions[name] = modelo.predict(data_base['ypred'])\n",
        "  results_cv.append(cv)\n",
        "  names_cv.append(np.repeat(name,cv.shape[0]))\n",
        "Resultados[score]['predictions'] = predictions\n",
        "Resultados[score]['cv'] = {}\n",
        "Resultados[score]['cv']['value'] = results_cv\n",
        "Resultados[score]['cv']['names'] = names_cv"
      ],
      "execution_count": null,
      "outputs": []
    },
    {
      "cell_type": "code",
      "metadata": {
        "id": "O4p_-zvl22fG"
      },
      "source": [
        "# Modelos para el promedio\n",
        "Modelos_promedio = ['Lasso','SVM','MLP','DecisionTree']"
      ],
      "execution_count": null,
      "outputs": []
    },
    {
      "cell_type": "code",
      "metadata": {
        "id": "Opw0nlmE25O0"
      },
      "source": [
        "Ny = data_train.shape[0]\n",
        "predictions = Resultados[score]['predictions']\n",
        "dfResModels =  pd.DataFrame({'Lasso':predictions['Lasso'],\n",
        "                          'SVM':predictions['SVM'],\n",
        "                          'MLP':predictions['MLP'],\n",
        "                          'DecisionTree':predictions['DecisionTree']})\n",
        "dfResModels['medias'] = np.nan\n",
        "dfResModels['medias'][Ny:]=dfResModels[Modelos_promedio][Ny:].mean(axis=1)\n",
        "dfResModels['Real']=data_base['Y'].values\n",
        "dfResModels.index = data_base['X'].index\n",
        "Resultados[score]['dataframe'] = dfResModels"
      ],
      "execution_count": null,
      "outputs": []
    },
    {
      "cell_type": "markdown",
      "metadata": {
        "id": "DUMlBG1m28Q_"
      },
      "source": [
        ""
      ]
    },
    {
      "cell_type": "code",
      "metadata": {
        "id": "Wwto5itf3Ax-"
      },
      "source": [
        "sc = score\n",
        "df = pd.DataFrame({'values': np.reshape(np.array(Resultados[sc]['cv']['value']),-1),\n",
        "                   'model': np.reshape(np.array(Resultados[sc]['cv']['names']),-1)})\n",
        "fig = go.Figure()\n",
        "fig.add_trace(go.Box(y = df['values'],x = df['model'],boxpoints = 'all',boxmean=True))\n",
        "fig.update_layout(boxmode='group',template = \"plotly_white\",title_text=\"Cv \" + sc)\n",
        "fig.show()"
      ],
      "execution_count": null,
      "outputs": []
    },
    {
      "cell_type": "markdown",
      "metadata": {
        "id": "RErVwqZe3EmV"
      },
      "source": [
        ""
      ]
    },
    {
      "cell_type": "code",
      "metadata": {
        "id": "bJaYLyzb3E4N"
      },
      "source": [
        "df.groupby('model').mean().sort_values('values',ascending=False).T"
      ],
      "execution_count": null,
      "outputs": []
    },
    {
      "cell_type": "markdown",
      "metadata": {
        "id": "LDsWKpNP3FY_"
      },
      "source": [
        ""
      ]
    },
    {
      "cell_type": "code",
      "metadata": {
        "id": "pJLNDxqW3FuK"
      },
      "source": [
        "models=Resultados[scoring[0]]['dataframe'].columns\n",
        "MSE=[]\n",
        "for i in models[:-2]:\n",
        "  aux=mean_squared_error(data_base['Y']['rescaled'],Resultados[scoring[0]]['predictions'][i][:Ny])\n",
        "  MSE.append(aux)\n",
        "b=pd.DataFrame({'MSE':MSE},index=models[:-2]) \n",
        "b.sort_values('MSE',ascending=True).T"
      ],
      "execution_count": null,
      "outputs": []
    },
    {
      "cell_type": "markdown",
      "metadata": {
        "id": "IHMm0FzIVOqB"
      },
      "source": [
        "## Otros enfoques"
      ]
    },
    {
      "cell_type": "code",
      "metadata": {
        "id": "_hEA_vkyYiLG"
      },
      "source": [
        "X_train = data_train.drop(['y'], 1)\n",
        "X_test = data_test.drop(['y'], 1)\n",
        "\n",
        "y_train = data_train['y']\n",
        "y_test = data_test['y']"
      ],
      "execution_count": null,
      "outputs": []
    },
    {
      "cell_type": "code",
      "metadata": {
        "colab": {
          "base_uri": "https://localhost:8080/"
        },
        "id": "3fq2jedwYB9U",
        "outputId": "10b04dcd-6aac-461d-b2bf-6226c95d1ea3"
      },
      "source": [
        "# Linear model por probar\n",
        "from sklearn.linear_model import LinearRegression, Lasso\n",
        "from sklearn.preprocessing import MinMaxScaler\n",
        "scaler = MinMaxScaler()\n",
        "\n",
        "X_train_scaled = scaler.fit_transform(X_train)\n",
        "X_test_scaled = scaler.transform(X_test)\n",
        "\n",
        "linlasso = Lasso(alpha=2.0, max_iter = 10000).fit(X_train_scaled, y_train) # max_iter es para la advertencia de convergencia\n",
        "\n",
        "print('lasso regression linear model intercept: {}'\n",
        "     .format(linlasso.intercept_))\n",
        "print('lasso regression linear model coeff:\\n{}'\n",
        "     .format(linlasso.coef_))\n",
        "print('Non-zero features: {}'\n",
        "     .format(np.sum(linlasso.coef_ != 0)))\n",
        "print('R-squared score (training): {:.3f}'\n",
        "     .format(linlasso.score(X_train_scaled, y_train)))\n",
        "print('R-squared score (test): {:.3f}\\n'\n",
        "     .format(linlasso.score(X_test_scaled, y_test)))"
      ],
      "execution_count": null,
      "outputs": [
        {
          "output_type": "stream",
          "text": [
            "lasso regression linear model intercept: -5772670316.797512\n",
            "lasso regression linear model coeff:\n",
            "[-1.80544764e+09 -1.36216367e+08 -4.37492450e+08 -9.20477095e+10\n",
            "  3.53969449e+08 -1.65653449e+07 -1.37899925e+09 -6.99724881e+08\n",
            "  7.04568160e+09 -4.66208874e+08  5.82913884e+07  4.67347807e+08\n",
            "  2.95161834e+10 -9.89081151e+07  1.54766373e+09  7.65478503e+07\n",
            "  1.96501663e+09  9.98838618e+07  1.76402570e+08  2.13156242e+08\n",
            " -2.86994899e+05 -5.99430877e+09 -9.99999516e+14  7.18781380e+09\n",
            " -4.64796068e+09 -5.51704651e+08  6.88312916e+07 -0.00000000e+00\n",
            "  1.98712919e+08  1.53418380e+08  4.07593845e+07 -1.04490805e+08\n",
            " -9.96251284e+07 -1.05471918e+08  3.43003386e+08  8.94320991e+07\n",
            "  2.07183920e+08 -4.02094551e+08 -1.64012071e+09  7.59600836e-06]\n",
            "Non-zero features: 39\n",
            "R-squared score (training): 1.000\n",
            "R-squared score (test): -162.736\n",
            "\n"
          ],
          "name": "stdout"
        }
      ]
    },
    {
      "cell_type": "code",
      "metadata": {
        "colab": {
          "background_save": true
        },
        "id": "gF8HfIme3H6t",
        "outputId": "9413ce90-f330-450a-fd8c-51bba1c956fb"
      },
      "source": [
        "from sklearn.metrics import  r2_score, mean_squared_error\n",
        "from sklearn.model_selection import GridSearchCV\n",
        "\n",
        "val = {'alpha': [0.2, 0.5, 1, 2, 3, 5, 10, 15, 20, 15, 30, 45, 50]}\n",
        "\n",
        "linlasso = Lasso( max_iter = 10000)\n",
        "\n",
        "grid= GridSearchCV(linlasso, param_grid = val, scoring= 'r2', n_jobs=4)\n",
        "grid.fit(X_train_scaled, y_train)\n",
        "print('mejor parámetro (max. accuracy): ', grid.best_params_)\n",
        "y_pred= grid.predict(X_test_scaled)\n",
        "\n",
        "# Test data\n",
        "print('error cuadrado medio : ' + str(mean_squared_error(y_test,y_pred)))\n",
        "print('R2: ' + str(r2_score(y_test,y_pred)))\n"
      ],
      "execution_count": null,
      "outputs": [
        {
          "output_type": "stream",
          "text": [
            "mejor parámetro (max. accuracy):  {'alpha': 50}\n",
            "error cuadrado medio : 4.0042142984897413e+18\n",
            "R2: -162.73361394990593\n"
          ],
          "name": "stdout"
        }
      ]
    },
    {
      "cell_type": "code",
      "metadata": {
        "id": "oup6pAwjJG-F"
      },
      "source": [
        "from sklearn.svm import SVR\n",
        "\n",
        "\n",
        "svr = SVR(kernel='rbf')\n",
        "valores = {'gamma': [0.001, 0.01, 0.05, 0.1, 1, 10, 100]}\n",
        "\n",
        "# default metric to optimize over grid parameters: accuracy\n",
        "grid_svr= GridSearchCV(svr, param_grid = valores, verbose=1, n_jobs=-1)\n",
        "grid_svr.fit(X_train, y_train)\n",
        "y_pred= grid_svr.predict(X_test)\n",
        "\n",
        "print('mejor parámetros (max. accuracy): ', grid_svr.best_params_)\n",
        "\n",
        "# Test data\n",
        "print('error cuadrado medio : ' + str(mean_squared_error(y_test,y_pred)))\n",
        "print('R2: ' + str(r2_score(y_test,y_pred)))\n"
      ],
      "execution_count": null,
      "outputs": []
    },
    {
      "cell_type": "code",
      "metadata": {
        "id": "e2PU7l7dLgGg"
      },
      "source": [
        "from sklearn.ensemble import RandomForestRegressor\n",
        " \n",
        " # Puede ser con max_edpth o n_estimator\n",
        "valores  = {'n_estimators': [100, 500, 1000, 5000, 10000]}\n",
        "rf = RandomForestRegressor( random_state = 0)\n",
        "\n",
        "grid_rf= GridSearchCV(rf, param_grid = valores)\n",
        "grid_rf.fit(X_train, y_train)\n",
        "\n",
        "y_pred= grid_rf.predict(X_test)\n",
        "\n",
        "print('mejor parámetros (max. accuracy): ', grid_rf.best_params_)\n",
        "\n",
        "# Test data\n",
        "print('error cuadrado medio : ' + str(mean_squared_error(y_test,y_pred)))\n",
        "print('R2: ' + str(r2_score(y_test,y_pred)))"
      ],
      "execution_count": null,
      "outputs": []
    }
  ]
}